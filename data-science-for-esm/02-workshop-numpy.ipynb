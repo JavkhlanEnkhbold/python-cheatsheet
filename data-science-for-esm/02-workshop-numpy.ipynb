{
  "cells": [
    {
      "cell_type": "markdown",
      "metadata": {
        "id": "m-MHPVN7Qwwq"
      },
      "source": [
        "# Introduction to `numpy` and `matplotlib`"
      ]
    },
    {
      "cell_type": "markdown",
      "metadata": {
        "id": "o7fY7dSXQwwt"
      },
      "source": [
        ":::{note}\n",
        "This material is mostly adapted from the following resources:\n",
        "- https://earth-env-data-science.github.io/lectures/basic_scipy/numpy_and_matplotlib.html\n",
        "- https://www.tomasbeuzen.com/python-programming-for-data-science/chapters/chapter5-numpy.html\n",
        ":::"
      ]
    },
    {
      "cell_type": "markdown",
      "metadata": {
        "tags": [],
        "id": "SdX05x0EQwwt"
      },
      "source": [
        "This lecture will introduce NumPy and Matplotlib.\n",
        "**Numpy** and **Matplotlib** are two of the most fundamental parts of the scientific python ecosystem. Most of everything else is built on top of them.\n",
        "\n",
        "\n",
        "<img src=\"https://numpy.org/images/logo.svg\" width=\"100px\" />\n",
        "\n",
        "**Numpy**: _The fundamental package for scientific computing with Python. NumPy is the standard Python library used for working with arrays (i.e., vectors & matrices), linear algebra, and other numerical computations._\n",
        "\n",
        "- Website: <https://numpy.org/>\n",
        "- GitHub: <https://github.com/numpy/numpy>\n",
        "\n",
        ":::{note}\n",
        "Documentation for this package is available at https://numpy.org/doc/1.23/.\n",
        ":::\n",
        "\n",
        "<img src=\"https://matplotlib.org/_static/logo2_compressed.svg\" width=\"300px\" />\n",
        "\n",
        "**Matlotlib**: _Matplotlib is a comprehensive library for creating static, animated, and interactive visualizations in Python._\n",
        "\n",
        "- Website: <https://matplotlib.org/>\n",
        "- GitHub: <https://github.com/matplotlib/matplotlib>\n",
        "\n",
        ":::{note}\n",
        "Documentation for this package is available at https://matplotlib.org/stable/index.html.\n",
        ":::"
      ]
    },
    {
      "cell_type": "markdown",
      "metadata": {
        "tags": [],
        "id": "RLWCvLYcQwwu"
      },
      "source": [
        "## Importing a Package\n",
        "\n",
        "This will be our first experience with _importing_ a package.\n",
        "\n",
        "Usually we import numpy with the alias np (to avoid having to type out n-u-m-p-y every time we want to use it)."
      ]
    },
    {
      "cell_type": "code",
      "execution_count": 1,
      "metadata": {
        "id": "j5-aMxM1Qwwu"
      },
      "outputs": [],
      "source": [
        "import numpy as np"
      ]
    },
    {
      "cell_type": "markdown",
      "metadata": {
        "tags": [],
        "id": "Hj72yjvjQwwv"
      },
      "source": [
        ":::{note}\n",
        "If you have not yet set up Python on your computer, you can execute this tutorial in your browser via Google Colab. Click on the rocket in the top right corner and launch \"Colab\". If you have not yet set up Python on your computer, you can execute this tutorial in your browser via [Google Colab](https://colab.research.google.com/). Click on the rocket in the top right corner and launch \"Colab\". If that doesn't work download the `.ipynb` file and import it in [Google Colab](https://colab.research.google.com/)\n",
        "\n",
        "Then install `numpy` and `matplotlib` by executing the following command in a Jupyter cell.\n",
        "\n",
        "```sh\n",
        "!pip install matplotlib numpy\n",
        "```\n",
        ":::"
      ]
    },
    {
      "cell_type": "markdown",
      "metadata": {
        "id": "66-vIYYKQwwv"
      },
      "source": [
        "## NDArrays\n",
        "\n",
        "The core class is the numpy ndarray (n-dimensional array).\n",
        "\n",
        "The main differences between a numpy array and a `list` are the following:\n",
        "- Numpy arrays can have N dimensions (while lists only have 1)\n",
        "- Numpy arrays hold values of the same datatype (e.g. `int`, `float`), while lists can contain anything.\n",
        "- Numpy optimizes numerical operations on arrays. Numpy is _fast!_"
      ]
    },
    {
      "cell_type": "code",
      "execution_count": 2,
      "metadata": {
        "id": "F6a4cOqUQwww",
        "outputId": "530e8863-1050-40d2-cb77-b33b61d3e295",
        "colab": {
          "base_uri": "https://localhost:8080/",
          "height": 423
        }
      },
      "outputs": [
        {
          "output_type": "execute_result",
          "data": {
            "text/html": [
              "<img src=\"https://predictivehacks.com/wp-content/uploads/2020/08/numpy_arrays.png\" width=\"720\"/>"
            ],
            "text/plain": [
              "<IPython.core.display.Image object>"
            ]
          },
          "metadata": {},
          "execution_count": 2
        }
      ],
      "source": [
        "from IPython.display import Image\n",
        "Image(url='https://predictivehacks.com/wp-content/uploads/2020/08/numpy_arrays.png',\n",
        "     width=720)"
      ]
    },
    {
      "cell_type": "code",
      "execution_count": 3,
      "metadata": {
        "id": "1L4C35vAQwwx"
      },
      "outputs": [],
      "source": [
        "# create an array from a list\n",
        "a = np.array([9,0,2,1,0])"
      ]
    },
    {
      "cell_type": "markdown",
      "metadata": {
        "id": "NqgujSBxQwwx"
      },
      "source": [
        ":::{note}\n",
        "Remember that if you're in Jupyter, you can use `<shift> + <tab>` to inspect a function.\n",
        ":::"
      ]
    },
    {
      "cell_type": "code",
      "execution_count": 4,
      "metadata": {
        "id": "1u7NwYw-Qwwx",
        "outputId": "cfc02549-9305-402c-a178-eddeed4ecf03",
        "colab": {
          "base_uri": "https://localhost:8080/"
        }
      },
      "outputs": [
        {
          "output_type": "execute_result",
          "data": {
            "text/plain": [
              "dtype('int64')"
            ]
          },
          "metadata": {},
          "execution_count": 4
        }
      ],
      "source": [
        "# find out the datatype\n",
        "a.dtype"
      ]
    },
    {
      "cell_type": "code",
      "execution_count": 5,
      "metadata": {
        "id": "5_SZ3ZqeQwwy",
        "outputId": "3387458e-cd16-420e-89cf-60753c63aa2b",
        "colab": {
          "base_uri": "https://localhost:8080/"
        }
      },
      "outputs": [
        {
          "output_type": "execute_result",
          "data": {
            "text/plain": [
              "(5,)"
            ]
          },
          "metadata": {},
          "execution_count": 5
        }
      ],
      "source": [
        "# find out the shape\n",
        "a.shape"
      ]
    },
    {
      "cell_type": "code",
      "execution_count": 4,
      "metadata": {
        "id": "ihQR01oOQwwy"
      },
      "outputs": [],
      "source": [
        "# another array with a different datatype and shape\n",
        "b = np.array([[5,3,1,9],[9,2,3,0]], dtype=np.float64)"
      ]
    },
    {
      "cell_type": "code",
      "execution_count": 5,
      "metadata": {
        "id": "8pbdpqT9Qwwy",
        "outputId": "57470ba5-267f-4043-b959-a5394ae9ca82",
        "colab": {
          "base_uri": "https://localhost:8080/"
        }
      },
      "outputs": [
        {
          "output_type": "execute_result",
          "data": {
            "text/plain": [
              "dtype('float64')"
            ]
          },
          "metadata": {},
          "execution_count": 5
        }
      ],
      "source": [
        "# check dtype\n",
        "b.dtype"
      ]
    },
    {
      "cell_type": "code",
      "execution_count": 6,
      "metadata": {
        "id": "uhlEGFuoQwwy",
        "outputId": "96e36a46-d303-4f05-c5f2-a4c648d947fc",
        "colab": {
          "base_uri": "https://localhost:8080/"
        }
      },
      "outputs": [
        {
          "output_type": "execute_result",
          "data": {
            "text/plain": [
              "array([[5., 3., 1., 9.],\n",
              "       [9., 2., 3., 0.]])"
            ]
          },
          "metadata": {},
          "execution_count": 6
        }
      ],
      "source": [
        "# check shape\n",
        "b.shape\n",
        "b"
      ]
    },
    {
      "cell_type": "markdown",
      "metadata": {
        "id": "9G74JXVHQwwy"
      },
      "source": [
        "## Array Creation\n",
        "\n",
        "There are lots of ways to create arrays."
      ]
    },
    {
      "cell_type": "code",
      "execution_count": null,
      "metadata": {
        "id": "58ciqbbcQwwz"
      },
      "outputs": [],
      "source": [
        "np.zeros((4,4))"
      ]
    },
    {
      "cell_type": "code",
      "execution_count": 7,
      "metadata": {
        "id": "U2YvAZ_TQwwz",
        "outputId": "0acc7d13-f038-494f-932e-c463b7102167",
        "colab": {
          "base_uri": "https://localhost:8080/"
        }
      },
      "outputs": [
        {
          "output_type": "execute_result",
          "data": {
            "text/plain": [
              "array([[[1., 1., 1.],\n",
              "        [1., 1., 1.]],\n",
              "\n",
              "       [[1., 1., 1.],\n",
              "        [1., 1., 1.]]])"
            ]
          },
          "metadata": {},
          "execution_count": 7
        }
      ],
      "source": [
        "np.ones((2,2,3))"
      ]
    },
    {
      "cell_type": "code",
      "execution_count": 8,
      "metadata": {
        "id": "TXgJgBK7Qwwz",
        "outputId": "04ff861b-d832-4e11-bb7c-d616bbab7133",
        "colab": {
          "base_uri": "https://localhost:8080/"
        }
      },
      "outputs": [
        {
          "output_type": "execute_result",
          "data": {
            "text/plain": [
              "array([[3.14159265, 3.14159265],\n",
              "       [3.14159265, 3.14159265],\n",
              "       [3.14159265, 3.14159265]])"
            ]
          },
          "metadata": {},
          "execution_count": 8
        }
      ],
      "source": [
        "np.full((3,2), np.pi)"
      ]
    },
    {
      "cell_type": "code",
      "execution_count": 9,
      "metadata": {
        "id": "-YO-w-JVQwwz",
        "outputId": "655d9527-c835-488a-adc5-d11f39d483cc",
        "colab": {
          "base_uri": "https://localhost:8080/"
        }
      },
      "outputs": [
        {
          "output_type": "execute_result",
          "data": {
            "text/plain": [
              "array([[0.94334272, 0.52934546],\n",
              "       [0.69276084, 0.25087662],\n",
              "       [0.3782061 , 0.13252178],\n",
              "       [0.1535228 , 0.57172939],\n",
              "       [0.02735977, 0.15058256]])"
            ]
          },
          "metadata": {},
          "execution_count": 9
        }
      ],
      "source": [
        "np.random.rand(5, 2)"
      ]
    },
    {
      "cell_type": "code",
      "execution_count": 10,
      "metadata": {
        "id": "gwKnkZIJQwwz",
        "outputId": "70525c31-ba9b-49e5-d63d-3265d043c4df",
        "colab": {
          "base_uri": "https://localhost:8080/"
        }
      },
      "outputs": [
        {
          "output_type": "execute_result",
          "data": {
            "text/plain": [
              "array([0, 1, 2, 3, 4, 5, 6, 7, 8, 9])"
            ]
          },
          "metadata": {},
          "execution_count": 10
        }
      ],
      "source": [
        "np.arange(10)"
      ]
    },
    {
      "cell_type": "code",
      "execution_count": 11,
      "metadata": {
        "id": "UmTrlg39Qww0",
        "outputId": "3c089b20-9317-4694-ad14-1242f6328a10",
        "colab": {
          "base_uri": "https://localhost:8080/"
        }
      },
      "outputs": [
        {
          "output_type": "execute_result",
          "data": {
            "text/plain": [
              "array([2.  , 2.25, 2.5 , 2.75, 3.  , 3.25, 3.5 , 3.75])"
            ]
          },
          "metadata": {},
          "execution_count": 11
        }
      ],
      "source": [
        "np.arange(2,4,0.25)"
      ]
    },
    {
      "cell_type": "markdown",
      "metadata": {
        "id": "Ae_G9FI7Qww0"
      },
      "source": [
        "A frequent need is to generate an array of N numbers, evenly spaced between two values. That is what `linspace` is for."
      ]
    },
    {
      "cell_type": "code",
      "execution_count": 16,
      "metadata": {
        "id": "WbuO4ug0Qww0",
        "outputId": "4b0ca960-3866-4924-ed93-dea69e934236",
        "colab": {
          "base_uri": "https://localhost:8080/"
        }
      },
      "outputs": [
        {
          "output_type": "execute_result",
          "data": {
            "text/plain": [
              "array([2.        , 2.10526316, 2.21052632, 2.31578947, 2.42105263,\n",
              "       2.52631579, 2.63157895, 2.73684211, 2.84210526, 2.94736842,\n",
              "       3.05263158, 3.15789474, 3.26315789, 3.36842105, 3.47368421,\n",
              "       3.57894737, 3.68421053, 3.78947368, 3.89473684, 4.        ])"
            ]
          },
          "metadata": {},
          "execution_count": 16
        }
      ],
      "source": [
        "np.linspace(2,4,20)"
      ]
    },
    {
      "cell_type": "markdown",
      "metadata": {
        "id": "uXZNQ_TVQww0"
      },
      "source": [
        "Numpy also has some utilities for helping us generate multi-dimensional arrays.\n",
        "`meshgrid` creates 2D arrays out of a combination of 1D arrays."
      ]
    },
    {
      "cell_type": "code",
      "execution_count": 13,
      "metadata": {
        "id": "OqmWK8xSQww0",
        "outputId": "4c55adfb-a5cd-4296-cbb1-558e4e52e5cc",
        "colab": {
          "base_uri": "https://localhost:8080/"
        }
      },
      "outputs": [
        {
          "output_type": "stream",
          "name": "stdout",
          "text": [
            "[-6.28318531 -3.14159265  0.          3.14159265  6.28318531]\n",
            "[-3.14159265 -1.04719755  1.04719755  3.14159265]\n",
            "[[-6.28318531 -3.14159265  0.          3.14159265  6.28318531]\n",
            " [-6.28318531 -3.14159265  0.          3.14159265  6.28318531]\n",
            " [-6.28318531 -3.14159265  0.          3.14159265  6.28318531]\n",
            " [-6.28318531 -3.14159265  0.          3.14159265  6.28318531]]\n"
          ]
        }
      ],
      "source": [
        "x = np.linspace(-2*np.pi, 2*np.pi, 5)\n",
        "y = np.linspace(-np.pi, np.pi, 4)\n",
        "print(x)\n",
        "print(y)\n",
        "xx, yy = np.meshgrid(x, y)\n",
        "xx.shape, yy.shape\n",
        "print(xx)"
      ]
    },
    {
      "cell_type": "code",
      "execution_count": 14,
      "metadata": {
        "id": "QwaNx-4cQww0",
        "outputId": "fc0afe26-9cfd-4ec5-898b-bff44a455ee2",
        "colab": {
          "base_uri": "https://localhost:8080/"
        }
      },
      "outputs": [
        {
          "output_type": "execute_result",
          "data": {
            "text/plain": [
              "array([[-3.14159265, -3.14159265, -3.14159265, -3.14159265, -3.14159265],\n",
              "       [-1.04719755, -1.04719755, -1.04719755, -1.04719755, -1.04719755],\n",
              "       [ 1.04719755,  1.04719755,  1.04719755,  1.04719755,  1.04719755],\n",
              "       [ 3.14159265,  3.14159265,  3.14159265,  3.14159265,  3.14159265]])"
            ]
          },
          "metadata": {},
          "execution_count": 14
        }
      ],
      "source": [
        "yy"
      ]
    },
    {
      "cell_type": "code",
      "execution_count": 15,
      "metadata": {
        "id": "vpArKUgQQww0",
        "outputId": "b7552858-8e6b-489d-f8e3-c6618ef0de5c",
        "colab": {
          "base_uri": "https://localhost:8080/"
        }
      },
      "outputs": [
        {
          "output_type": "execute_result",
          "data": {
            "text/plain": [
              "array([[-6.28318531, -3.14159265,  0.        ,  3.14159265,  6.28318531],\n",
              "       [-6.28318531, -3.14159265,  0.        ,  3.14159265,  6.28318531],\n",
              "       [-6.28318531, -3.14159265,  0.        ,  3.14159265,  6.28318531],\n",
              "       [-6.28318531, -3.14159265,  0.        ,  3.14159265,  6.28318531]])"
            ]
          },
          "metadata": {},
          "execution_count": 15
        }
      ],
      "source": [
        "xx"
      ]
    },
    {
      "cell_type": "markdown",
      "metadata": {
        "id": "sVKSQpSgQww0"
      },
      "source": [
        "## Indexing\n",
        "\n",
        "Basic indexing is similar to lists"
      ]
    },
    {
      "cell_type": "code",
      "execution_count": 16,
      "metadata": {
        "id": "3N8fHZ3DQww1",
        "outputId": "f893c55e-69ed-454f-87ad-92cbd92262c4",
        "colab": {
          "base_uri": "https://localhost:8080/"
        }
      },
      "outputs": [
        {
          "output_type": "execute_result",
          "data": {
            "text/plain": [
              "6.283185307179586"
            ]
          },
          "metadata": {},
          "execution_count": 16
        }
      ],
      "source": [
        "# get some individual elements of xx\n",
        "xx[3,4]"
      ]
    },
    {
      "cell_type": "code",
      "execution_count": 17,
      "metadata": {
        "scrolled": true,
        "id": "SiSc0i27Qww1",
        "outputId": "d01270f0-cb7c-4ece-c442-3b36e785313c",
        "colab": {
          "base_uri": "https://localhost:8080/"
        }
      },
      "outputs": [
        {
          "output_type": "execute_result",
          "data": {
            "text/plain": [
              "array([-6.28318531, -3.14159265,  0.        ,  3.14159265,  6.28318531])"
            ]
          },
          "metadata": {},
          "execution_count": 17
        }
      ],
      "source": [
        "# get some whole rows\n",
        "xx[0]"
      ]
    },
    {
      "cell_type": "code",
      "execution_count": 18,
      "metadata": {
        "scrolled": true,
        "id": "GojdOFP5Qww1",
        "outputId": "d6c6d0f3-2b81-4f09-bdf3-bd0ab1a3e928",
        "colab": {
          "base_uri": "https://localhost:8080/"
        }
      },
      "outputs": [
        {
          "output_type": "execute_result",
          "data": {
            "text/plain": [
              "array([6.28318531, 6.28318531, 6.28318531, 6.28318531])"
            ]
          },
          "metadata": {},
          "execution_count": 18
        }
      ],
      "source": [
        "# get some whole columns\n",
        "xx[:,-1]"
      ]
    },
    {
      "cell_type": "code",
      "execution_count": 19,
      "metadata": {
        "id": "vn7RG2vwQww1",
        "outputId": "7d6316d0-a56a-45e5-d03a-710f3cfc24d0",
        "colab": {
          "base_uri": "https://localhost:8080/"
        }
      },
      "outputs": [
        {
          "output_type": "execute_result",
          "data": {
            "text/plain": [
              "array([[3.14159265, 6.28318531],\n",
              "       [3.14159265, 6.28318531]])"
            ]
          },
          "metadata": {},
          "execution_count": 19
        }
      ],
      "source": [
        "# get some ranges (also called slicing)\n",
        "xx[0:2,3:5]"
      ]
    },
    {
      "cell_type": "markdown",
      "metadata": {
        "tags": [],
        "id": "yw2wmLwUQww1"
      },
      "source": [
        "## Visualizing Arrays with Matplotlib"
      ]
    },
    {
      "cell_type": "markdown",
      "metadata": {
        "jp-MarkdownHeadingCollapsed": true,
        "tags": [],
        "id": "0DbPlVnvQww1"
      },
      "source": [
        "Let's create a slightly bigger array:"
      ]
    },
    {
      "cell_type": "code",
      "execution_count": 20,
      "metadata": {
        "id": "oRhAKjLmQww1",
        "outputId": "f6e1714d-61bd-48d2-c692-5e13c1dcb2a8",
        "colab": {
          "base_uri": "https://localhost:8080/"
        }
      },
      "outputs": [
        {
          "output_type": "execute_result",
          "data": {
            "text/plain": [
              "((50, 100), (50, 100))"
            ]
          },
          "metadata": {},
          "execution_count": 20
        }
      ],
      "source": [
        "x = np.linspace(-2*np.pi, 2*np.pi, 100)\n",
        "y = np.linspace(-np.pi, np.pi, 50)\n",
        "xx, yy = np.meshgrid(x, y)\n",
        "xx.shape, yy.shape"
      ]
    },
    {
      "cell_type": "markdown",
      "metadata": {
        "jp-MarkdownHeadingCollapsed": true,
        "tags": [],
        "id": "67XsFxl7Qww1"
      },
      "source": [
        "It can be hard to work with big arrays without actually seeing anything with our eyes!"
      ]
    },
    {
      "cell_type": "code",
      "execution_count": 21,
      "metadata": {
        "id": "aAHMAlp8Qww1"
      },
      "outputs": [],
      "source": [
        "from matplotlib import pyplot as plt"
      ]
    },
    {
      "cell_type": "markdown",
      "metadata": {
        "id": "tX3quYy4Qww1"
      },
      "source": [
        "For plotting a 1D array as a line, we use the `plot` command."
      ]
    },
    {
      "cell_type": "code",
      "execution_count": 22,
      "metadata": {
        "id": "HVy0ztVBQww1",
        "outputId": "57e15429-3874-40cd-f2d4-33d08c4d6c9f",
        "colab": {
          "base_uri": "https://localhost:8080/",
          "height": 283
        }
      },
      "outputs": [
        {
          "output_type": "execute_result",
          "data": {
            "text/plain": [
              "[<matplotlib.lines.Line2D at 0x7f140b84b690>]"
            ]
          },
          "metadata": {},
          "execution_count": 22
        },
        {
          "output_type": "display_data",
          "data": {
            "text/plain": [
              "<Figure size 432x288 with 1 Axes>"
            ],
            "image/png": "[encoded data removed]"
          },
          "metadata": {
            "needs_background": "light"
          }
        }
      ],
      "source": [
        "plt.plot(x)"
      ]
    },
    {
      "cell_type": "markdown",
      "metadata": {
        "id": "qlQF3RWoQww1"
      },
      "source": [
        "There are many ways to visualize 2D data.\n",
        "He we use `pcolormesh`."
      ]
    },
    {
      "cell_type": "code",
      "execution_count": 23,
      "metadata": {
        "id": "PX3tVt71Qww2",
        "outputId": "8e91cc4d-1b58-4840-8631-2e62869f281e",
        "colab": {
          "base_uri": "https://localhost:8080/",
          "height": 269
        }
      },
      "outputs": [
        {
          "output_type": "display_data",
          "data": {
            "text/plain": [
              "<Figure size 432x288 with 1 Axes>"
            ],
            "image/png": "[encoded data removed]"
          },
          "metadata": {
            "needs_background": "light"
          }
        }
      ],
      "source": [
        "plt.pcolormesh(xx);"
      ]
    },
    {
      "cell_type": "markdown",
      "metadata": {
        "tags": [],
        "id": "KHr5gZjTQww2"
      },
      "source": [
        "## Array Operations ##\n",
        "\n",
        "There are a huge number of operations available on arrays.\n",
        "\n",
        "All the familiar arithemtic operators are applied on an element-by-element basis.\n",
        "\n",
        "### Basic Math"
      ]
    },
    {
      "cell_type": "code",
      "execution_count": 26,
      "metadata": {
        "id": "pjOCKGALQww2"
      },
      "outputs": [],
      "source": [
        "f = np.sin(xx) * np.cos(0.5*yy)"
      ]
    },
    {
      "cell_type": "code",
      "execution_count": 27,
      "metadata": {
        "id": "w2BTTGVXQww2",
        "outputId": "628d97e0-745a-4e58-a687-ffc32434d994",
        "colab": {
          "base_uri": "https://localhost:8080/",
          "height": 287
        }
      },
      "outputs": [
        {
          "output_type": "execute_result",
          "data": {
            "text/plain": [
              "<matplotlib.collections.QuadMesh at 0x7f140428c610>"
            ]
          },
          "metadata": {},
          "execution_count": 27
        },
        {
          "output_type": "display_data",
          "data": {
            "text/plain": [
              "<Figure size 432x288 with 1 Axes>"
            ],
            "image/png": "[encoded data removed]"
          },
          "metadata": {
            "needs_background": "light"
          }
        }
      ],
      "source": [
        "plt.pcolormesh(f)"
      ]
    },
    {
      "cell_type": "code",
      "execution_count": 25,
      "metadata": {
        "id": "ZYV1vaD1Qww2",
        "outputId": "91fb0603-e0ed-4363-b8cd-cb739fa2ce0c",
        "colab": {
          "base_uri": "https://localhost:8080/"
        }
      },
      "outputs": [
        {
          "output_type": "execute_result",
          "data": {
            "text/plain": [
              "array([[False, False, False, ..., False, False, False],\n",
              "       [False, False, False, ..., False, False, False],\n",
              "       [False, False, False, ..., False, False, False],\n",
              "       ...,\n",
              "       [False, False, False, ..., False, False, False],\n",
              "       [False, False, False, ..., False, False, False],\n",
              "       [False, False, False, ..., False, False, False]])"
            ]
          },
          "metadata": {},
          "execution_count": 25
        }
      ],
      "source": [
        "xx == yy"
      ]
    },
    {
      "cell_type": "code",
      "execution_count": 28,
      "metadata": {
        "id": "5JTrwuPWQww2",
        "outputId": "2c79fc4c-1993-420f-f6df-acc27a879e2d",
        "colab": {
          "base_uri": "https://localhost:8080/"
        }
      },
      "outputs": [
        {
          "output_type": "execute_result",
          "data": {
            "text/plain": [
              "False"
            ]
          },
          "metadata": {},
          "execution_count": 28
        }
      ],
      "source": [
        "np.any(xx == yy)"
      ]
    },
    {
      "cell_type": "markdown",
      "metadata": {
        "tags": [],
        "id": "PdDqDeq1Qww2"
      },
      "source": [
        "## Broadcasting\n",
        "\n",
        "\n",
        "Not all the arrays we want to work with will have the same size!\n",
        "\n",
        "_Broadcasting_ is an efficient way to multiply arrays of different sizes\n",
        "\n",
        "The core concept of broadcasting is telling Numpy which dimensions are supposed to line up with each other."
      ]
    },
    {
      "cell_type": "code",
      "execution_count": 29,
      "metadata": {
        "id": "FsZD2iCrQww2",
        "outputId": "9dfad999-ab48-4372-e6ca-5e5c76d9f12c",
        "colab": {
          "base_uri": "https://localhost:8080/",
          "height": 543
        }
      },
      "outputs": [
        {
          "output_type": "execute_result",
          "data": {
            "text/html": [
              "<img src=\"http://scipy-lectures.github.io/_images/numpy_broadcasting.png\" width=\"720\"/>"
            ],
            "text/plain": [
              "<IPython.core.display.Image object>"
            ]
          },
          "metadata": {},
          "execution_count": 29
        }
      ],
      "source": [
        "from IPython.display import Image\n",
        "Image(url='http://scipy-lectures.github.io/_images/numpy_broadcasting.png',\n",
        "     width=720)"
      ]
    },
    {
      "cell_type": "markdown",
      "metadata": {
        "id": "2pSqJ5qKQww2"
      },
      "source": [
        "Dimensions are automatically aligned _starting with the last dimension_.\n",
        "If the last two dimensions have the same length, then the two arrays can be broadcast."
      ]
    },
    {
      "cell_type": "code",
      "execution_count": 30,
      "metadata": {
        "id": "YMpklyiNQww2",
        "outputId": "e871ed15-dced-41a2-8be5-bfcf974c7e59",
        "colab": {
          "base_uri": "https://localhost:8080/"
        }
      },
      "outputs": [
        {
          "output_type": "stream",
          "name": "stdout",
          "text": [
            "(50, 100) (100,)\n"
          ]
        }
      ],
      "source": [
        "print(f.shape, x.shape)"
      ]
    },
    {
      "cell_type": "code",
      "execution_count": 31,
      "metadata": {
        "id": "7IkyE-RRQww2"
      },
      "outputs": [],
      "source": [
        "g = f * x"
      ]
    },
    {
      "cell_type": "code",
      "execution_count": 32,
      "metadata": {
        "id": "hHbiLFyHQww2",
        "outputId": "a04f71b7-5bba-4663-fe47-2e85b725c42c",
        "colab": {
          "base_uri": "https://localhost:8080/"
        }
      },
      "outputs": [
        {
          "output_type": "stream",
          "name": "stdout",
          "text": [
            "(50, 100)\n"
          ]
        }
      ],
      "source": [
        "print(g.shape)"
      ]
    },
    {
      "cell_type": "code",
      "execution_count": 33,
      "metadata": {
        "id": "Wv9yi_nmQww2",
        "outputId": "2e4b5009-9b93-486f-b148-699bc88638b6",
        "colab": {
          "base_uri": "https://localhost:8080/",
          "height": 287
        }
      },
      "outputs": [
        {
          "output_type": "execute_result",
          "data": {
            "text/plain": [
              "<matplotlib.collections.QuadMesh at 0x7f1404268fd0>"
            ]
          },
          "metadata": {},
          "execution_count": 33
        },
        {
          "output_type": "display_data",
          "data": {
            "text/plain": [
              "<Figure size 432x288 with 1 Axes>"
            ],
            "image/png": "[encoded data removed]"
          },
          "metadata": {
            "needs_background": "light"
          }
        }
      ],
      "source": [
        "plt.pcolormesh(g)"
      ]
    },
    {
      "cell_type": "markdown",
      "metadata": {
        "id": "4lHVVls9Qww2"
      },
      "source": [
        "## Reduction Operations\n",
        "\n",
        "In data science, we usually start with a lot of data and want to reduce it down in order to make plots of summary tables.\n",
        "\n",
        "There are many different reduction operations. Here we will look at some of the most common ones."
      ]
    },
    {
      "cell_type": "code",
      "execution_count": 34,
      "metadata": {
        "id": "OpiHVibgQww3",
        "outputId": "2659858d-170b-450b-f739-9504fb00cfe2",
        "colab": {
          "base_uri": "https://localhost:8080/"
        }
      },
      "outputs": [
        {
          "output_type": "execute_result",
          "data": {
            "text/plain": [
              "-3083.038387807155"
            ]
          },
          "metadata": {},
          "execution_count": 34
        }
      ],
      "source": [
        "# sum\n",
        "g.sum()"
      ]
    },
    {
      "cell_type": "code",
      "execution_count": 35,
      "metadata": {
        "id": "vDUDDoFHQww3",
        "outputId": "d034e843-584d-4c97-8b73-3d0c3faa49e4",
        "colab": {
          "base_uri": "https://localhost:8080/"
        }
      },
      "outputs": [
        {
          "output_type": "execute_result",
          "data": {
            "text/plain": [
              "-0.616607677561431"
            ]
          },
          "metadata": {},
          "execution_count": 35
        }
      ],
      "source": [
        "# mean\n",
        "g.mean()"
      ]
    },
    {
      "cell_type": "code",
      "execution_count": 36,
      "metadata": {
        "id": "nivq27ZlQww3",
        "outputId": "c6139c94-01f9-486a-e51c-34a1104f3746",
        "colab": {
          "base_uri": "https://localhost:8080/"
        }
      },
      "outputs": [
        {
          "output_type": "execute_result",
          "data": {
            "text/plain": [
              "1.6402280119141424"
            ]
          },
          "metadata": {},
          "execution_count": 36
        }
      ],
      "source": [
        "# standard deviation\n",
        "g.std()"
      ]
    },
    {
      "cell_type": "markdown",
      "metadata": {
        "id": "lV5ZyU-lQww3"
      },
      "source": [
        "A key property of numpy reductions is the ability to operate on just one axis."
      ]
    },
    {
      "cell_type": "code",
      "execution_count": 37,
      "metadata": {
        "id": "DhBoDB2KQww3"
      },
      "outputs": [],
      "source": [
        "# apply on just one axis\n",
        "g_ymean = g.mean(axis=0)\n",
        "g_xmean = g.mean(axis=1)"
      ]
    },
    {
      "cell_type": "code",
      "execution_count": 38,
      "metadata": {
        "id": "w4UxGDUFQww3",
        "outputId": "7ff77eeb-d8bf-419c-ac5a-5a0d7ffacf15",
        "colab": {
          "base_uri": "https://localhost:8080/",
          "height": 283
        }
      },
      "outputs": [
        {
          "output_type": "execute_result",
          "data": {
            "text/plain": [
              "[<matplotlib.lines.Line2D at 0x7f140420a0d0>]"
            ]
          },
          "metadata": {},
          "execution_count": 38
        },
        {
          "output_type": "display_data",
          "data": {
            "text/plain": [
              "<Figure size 432x288 with 1 Axes>"
            ],
            "image/png": "[encoded data removed]"
          },
          "metadata": {
            "needs_background": "light"
          }
        }
      ],
      "source": [
        "plt.plot(x, g_ymean)"
      ]
    },
    {
      "cell_type": "code",
      "execution_count": 39,
      "metadata": {
        "id": "aYlVyFkrQww3",
        "outputId": "e33717b9-e6b5-4f9d-ebf3-979c92be28cf",
        "colab": {
          "base_uri": "https://localhost:8080/",
          "height": 283
        }
      },
      "outputs": [
        {
          "output_type": "execute_result",
          "data": {
            "text/plain": [
              "[<matplotlib.lines.Line2D at 0x7f14048290d0>]"
            ]
          },
          "metadata": {},
          "execution_count": 39
        },
        {
          "output_type": "display_data",
          "data": {
            "text/plain": [
              "<Figure size 432x288 with 1 Axes>"
            ],
            "image/png": "[encoded data removed]"
          },
          "metadata": {
            "needs_background": "light"
          }
        }
      ],
      "source": [
        "plt.plot(g_xmean, y)"
      ]
    },
    {
      "cell_type": "markdown",
      "metadata": {
        "id": "2OqXSeSeQww3"
      },
      "source": [
        "## Figures and Axes\n",
        "\n",
        "The *figure* is the highest level of organization of matplotlib objects."
      ]
    },
    {
      "cell_type": "code",
      "execution_count": 40,
      "metadata": {
        "id": "EpVyX2IIQww3",
        "outputId": "f5c4217f-ce79-4682-add8-1122704d5f37",
        "colab": {
          "base_uri": "https://localhost:8080/",
          "height": 35
        }
      },
      "outputs": [
        {
          "output_type": "display_data",
          "data": {
            "text/plain": [
              "<Figure size 432x288 with 0 Axes>"
            ]
          },
          "metadata": {}
        }
      ],
      "source": [
        "fig = plt.figure()"
      ]
    },
    {
      "cell_type": "code",
      "execution_count": 41,
      "metadata": {
        "id": "KHiuPGzTQww3",
        "outputId": "1d3b3516-953a-4cf4-edea-95437d858abf",
        "colab": {
          "base_uri": "https://localhost:8080/",
          "height": 35
        }
      },
      "outputs": [
        {
          "output_type": "display_data",
          "data": {
            "text/plain": [
              "<Figure size 936x360 with 0 Axes>"
            ]
          },
          "metadata": {}
        }
      ],
      "source": [
        "fig = plt.figure(figsize=(13, 5))"
      ]
    },
    {
      "cell_type": "code",
      "execution_count": 42,
      "metadata": {
        "id": "ZWVn70VDQww3",
        "outputId": "1f579fb4-7b88-4785-9ddb-57a53a1e93ab",
        "colab": {
          "base_uri": "https://localhost:8080/",
          "height": 340
        }
      },
      "outputs": [
        {
          "output_type": "display_data",
          "data": {
            "text/plain": [
              "<Figure size 432x288 with 1 Axes>"
            ],
            "image/png": "[encoded data removed]"
          },
          "metadata": {
            "needs_background": "light"
          }
        }
      ],
      "source": [
        "fig = plt.figure()\n",
        "ax = fig.add_axes([0, 0, 1, 1])"
      ]
    },
    {
      "cell_type": "markdown",
      "metadata": {
        "id": "cI8tJwFKQww3"
      },
      "source": [
        "### Subplots\n",
        "\n",
        "Subplot syntax is a more convenient way to specify the creation of multiple axes."
      ]
    },
    {
      "cell_type": "code",
      "execution_count": 43,
      "metadata": {
        "id": "3DCmNl83Qww3",
        "outputId": "068f7fbf-0e27-447d-ddfb-e7e17c2c2343",
        "colab": {
          "base_uri": "https://localhost:8080/",
          "height": 269
        }
      },
      "outputs": [
        {
          "output_type": "display_data",
          "data": {
            "text/plain": [
              "<Figure size 432x288 with 1 Axes>"
            ],
            "image/png": "[encoded data removed]"
          },
          "metadata": {
            "needs_background": "light"
          }
        }
      ],
      "source": [
        "fig, ax = plt.subplots()"
      ]
    },
    {
      "cell_type": "code",
      "execution_count": 44,
      "metadata": {
        "id": "s-4wJS4xQww3",
        "outputId": "a651f406-27c2-46e2-985b-bd365fb0db16",
        "colab": {
          "base_uri": "https://localhost:8080/"
        }
      },
      "outputs": [
        {
          "output_type": "execute_result",
          "data": {
            "text/plain": [
              "<matplotlib.axes._subplots.AxesSubplot at 0x7f14041653d0>"
            ]
          },
          "metadata": {},
          "execution_count": 44
        }
      ],
      "source": [
        "ax"
      ]
    },
    {
      "cell_type": "code",
      "execution_count": 45,
      "metadata": {
        "id": "vNw9_eJiQww4",
        "outputId": "f2898282-d8e6-43d4-f15d-5a449bfc02db",
        "colab": {
          "base_uri": "https://localhost:8080/",
          "height": 269
        }
      },
      "outputs": [
        {
          "output_type": "display_data",
          "data": {
            "text/plain": [
              "<Figure size 576x288 with 2 Axes>"
            ],
            "image/png": "[encoded data removed]"
          },
          "metadata": {
            "needs_background": "light"
          }
        }
      ],
      "source": [
        "fig, axes = plt.subplots(ncols=2, figsize=(8, 4), subplot_kw={'facecolor': 'blue'})"
      ]
    },
    {
      "cell_type": "code",
      "execution_count": 46,
      "metadata": {
        "id": "6j_i21x2Qww4",
        "outputId": "35710154-11e8-4612-cbf6-6e2dfbfdb9ca",
        "colab": {
          "base_uri": "https://localhost:8080/"
        }
      },
      "outputs": [
        {
          "output_type": "execute_result",
          "data": {
            "text/plain": [
              "array([<matplotlib.axes._subplots.AxesSubplot object at 0x7f14040cc5d0>,\n",
              "       <matplotlib.axes._subplots.AxesSubplot object at 0x7f14040812d0>],\n",
              "      dtype=object)"
            ]
          },
          "metadata": {},
          "execution_count": 46
        }
      ],
      "source": [
        "axes"
      ]
    },
    {
      "cell_type": "markdown",
      "metadata": {
        "id": "oebVDbCXQww4"
      },
      "source": [
        "## Drawing into Axes\n",
        "\n",
        "All plots are drawn into axes."
      ]
    },
    {
      "cell_type": "code",
      "execution_count": 47,
      "metadata": {
        "id": "ovj_TT0dQww4"
      },
      "outputs": [],
      "source": [
        "# create some data to plot\n",
        "import numpy as np\n",
        "x = np.linspace(-np.pi, np.pi, 100)\n",
        "y = np.cos(x)\n",
        "z = np.sin(6*x)"
      ]
    },
    {
      "cell_type": "code",
      "execution_count": 48,
      "metadata": {
        "id": "Yl3mHPy6Qww4",
        "outputId": "490457b4-9299-43e6-e8cc-6c4f70129a32",
        "colab": {
          "base_uri": "https://localhost:8080/",
          "height": 283
        }
      },
      "outputs": [
        {
          "output_type": "execute_result",
          "data": {
            "text/plain": [
              "[<matplotlib.lines.Line2D at 0x7f1403fb4cd0>]"
            ]
          },
          "metadata": {},
          "execution_count": 48
        },
        {
          "output_type": "display_data",
          "data": {
            "text/plain": [
              "<Figure size 432x288 with 1 Axes>"
            ],
            "image/png": "[encoded data removed]"
          },
          "metadata": {
            "needs_background": "light"
          }
        }
      ],
      "source": [
        "fig, ax = plt.subplots()\n",
        "ax.plot(x, y)"
      ]
    },
    {
      "cell_type": "markdown",
      "metadata": {
        "id": "-4BGY-bJQww4"
      },
      "source": [
        "This does the same thing as"
      ]
    },
    {
      "cell_type": "code",
      "execution_count": 49,
      "metadata": {
        "id": "jS3jEEjBQww4",
        "outputId": "fac7e2e7-0f66-4b59-8d19-2f709bfc1dd4",
        "colab": {
          "base_uri": "https://localhost:8080/",
          "height": 283
        }
      },
      "outputs": [
        {
          "output_type": "execute_result",
          "data": {
            "text/plain": [
              "[<matplotlib.lines.Line2D at 0x7f1403faae50>]"
            ]
          },
          "metadata": {},
          "execution_count": 49
        },
        {
          "output_type": "display_data",
          "data": {
            "text/plain": [
              "<Figure size 432x288 with 1 Axes>"
            ],
            "image/png": "[encoded data removed]"
          },
          "metadata": {
            "needs_background": "light"
          }
        }
      ],
      "source": [
        "plt.plot(x, y)"
      ]
    },
    {
      "cell_type": "markdown",
      "metadata": {
        "id": "Io_29W9PQww4"
      },
      "source": [
        "This starts to matter when we have multiple axes to worry about."
      ]
    },
    {
      "cell_type": "code",
      "execution_count": 50,
      "metadata": {
        "id": "32DuZL2qQww4",
        "outputId": "1dd5f857-bd16-40f1-b46b-f63a67f48e32",
        "colab": {
          "base_uri": "https://localhost:8080/",
          "height": 283
        }
      },
      "outputs": [
        {
          "output_type": "execute_result",
          "data": {
            "text/plain": [
              "[<matplotlib.lines.Line2D at 0x7f1403eec2d0>]"
            ]
          },
          "metadata": {},
          "execution_count": 50
        },
        {
          "output_type": "display_data",
          "data": {
            "text/plain": [
              "<Figure size 576x288 with 2 Axes>"
            ],
            "image/png": "[encoded data removed]"
          },
          "metadata": {
            "needs_background": "light"
          }
        }
      ],
      "source": [
        "fig, axes = plt.subplots(figsize=(8, 4), ncols=2)\n",
        "ax0, ax1 = axes\n",
        "ax0.plot(x, y)\n",
        "ax1.plot(x, z)"
      ]
    },
    {
      "cell_type": "markdown",
      "metadata": {
        "id": "KG9FNqubQww4"
      },
      "source": [
        "## Labeling Plots"
      ]
    },
    {
      "cell_type": "code",
      "execution_count": 51,
      "metadata": {
        "id": "orMgWCxYQww4",
        "outputId": "083cab21-508c-42d0-e2ab-9d6137850234",
        "colab": {
          "base_uri": "https://localhost:8080/",
          "height": 297
        }
      },
      "outputs": [
        {
          "output_type": "display_data",
          "data": {
            "text/plain": [
              "<Figure size 288x288 with 1 Axes>"
            ],
            "image/png": "[encoded data removed]"
          },
          "metadata": {
            "needs_background": "light"
          }
        }
      ],
      "source": [
        "fig, ax = plt.subplots(figsize=(4,4))\n",
        "\n",
        "ax.plot(x, y)\n",
        "ax.set_xlabel('x')\n",
        "ax.set_ylabel('y')\n",
        "ax.set_title('x vs. y')\n",
        "\n",
        "# squeeze everything in\n",
        "plt.tight_layout()"
      ]
    },
    {
      "cell_type": "markdown",
      "metadata": {
        "id": "dPCn15Z1Qww4"
      },
      "source": [
        "## Customizing Plots"
      ]
    },
    {
      "cell_type": "code",
      "execution_count": 52,
      "metadata": {
        "id": "R7KuME2UQww4",
        "outputId": "5767fb4e-d1ae-497f-99f1-61e302f19b97",
        "colab": {
          "base_uri": "https://localhost:8080/",
          "height": 301
        }
      },
      "outputs": [
        {
          "output_type": "execute_result",
          "data": {
            "text/plain": [
              "[<matplotlib.lines.Line2D at 0x7f14040500d0>,\n",
              " <matplotlib.lines.Line2D at 0x7f1404065b90>]"
            ]
          },
          "metadata": {},
          "execution_count": 52
        },
        {
          "output_type": "display_data",
          "data": {
            "text/plain": [
              "<Figure size 432x288 with 1 Axes>"
            ],
            "image/png": "[encoded data removed]"
          },
          "metadata": {
            "needs_background": "light"
          }
        }
      ],
      "source": [
        "fig, ax = plt.subplots()\n",
        "ax.plot(x, y, x, z)"
      ]
    },
    {
      "cell_type": "markdown",
      "metadata": {
        "id": "kZ3GM4GgQww4"
      },
      "source": [
        "It's simple to switch axes"
      ]
    },
    {
      "cell_type": "code",
      "execution_count": 53,
      "metadata": {
        "id": "g9IqB-VZQww4",
        "outputId": "3e3fb5a2-36dc-46ad-ad5e-19ec7135550e",
        "colab": {
          "base_uri": "https://localhost:8080/",
          "height": 301
        }
      },
      "outputs": [
        {
          "output_type": "execute_result",
          "data": {
            "text/plain": [
              "[<matplotlib.lines.Line2D at 0x7f1404165f90>,\n",
              " <matplotlib.lines.Line2D at 0x7f1404335550>]"
            ]
          },
          "metadata": {},
          "execution_count": 53
        },
        {
          "output_type": "display_data",
          "data": {
            "text/plain": [
              "<Figure size 432x288 with 1 Axes>"
            ],
            "image/png": "[encoded data removed]"
          },
          "metadata": {
            "needs_background": "light"
          }
        }
      ],
      "source": [
        "fig, ax = plt.subplots()\n",
        "ax.plot(y, x, z, x)"
      ]
    },
    {
      "cell_type": "markdown",
      "metadata": {
        "tags": [],
        "id": "WmpOT4y1Qww5"
      },
      "source": [
        "### Line Styles"
      ]
    },
    {
      "cell_type": "code",
      "execution_count": 54,
      "metadata": {
        "id": "s-CHqzKzQww5",
        "outputId": "65664b7b-07d3-4da9-b54f-0445470ea15c",
        "colab": {
          "base_uri": "https://localhost:8080/",
          "height": 283
        }
      },
      "outputs": [
        {
          "output_type": "execute_result",
          "data": {
            "text/plain": [
              "[<matplotlib.lines.Line2D at 0x7f1401c42d10>]"
            ]
          },
          "metadata": {},
          "execution_count": 54
        },
        {
          "output_type": "display_data",
          "data": {
            "text/plain": [
              "<Figure size 432x288 with 1 Axes>"
            ],
            "image/png": "[encoded data removed]"
          },
          "metadata": {
            "needs_background": "light"
          }
        }
      ],
      "source": [
        "fig, ax = plt.subplots()\n",
        "ax.plot(x, y, linestyle='--')\n",
        "ax.plot(x, z, linestyle=':')"
      ]
    },
    {
      "cell_type": "markdown",
      "metadata": {
        "id": "gLA8dd2oQww5"
      },
      "source": [
        "### Colors\n",
        "\n",
        "As described in the [colors documentation](https://matplotlib.org/2.0.2/api/colors_api.html), there are some special codes for commonly used colors."
      ]
    },
    {
      "cell_type": "code",
      "execution_count": 55,
      "metadata": {
        "id": "sz06sR_WQww5",
        "outputId": "fd5715ae-e871-4ff1-ac89-243d695a444c",
        "colab": {
          "base_uri": "https://localhost:8080/",
          "height": 283
        }
      },
      "outputs": [
        {
          "output_type": "execute_result",
          "data": {
            "text/plain": [
              "[<matplotlib.lines.Line2D at 0x7f1401bc3690>]"
            ]
          },
          "metadata": {},
          "execution_count": 55
        },
        {
          "output_type": "display_data",
          "data": {
            "text/plain": [
              "<Figure size 432x288 with 1 Axes>"
            ],
            "image/png": "[encoded data removed]"
          },
          "metadata": {
            "needs_background": "light"
          }
        }
      ],
      "source": [
        "fig, ax = plt.subplots()\n",
        "ax.plot(x, y, color='black')\n",
        "ax.plot(x, z, color='red')"
      ]
    },
    {
      "cell_type": "markdown",
      "metadata": {
        "id": "xHR6EMXhQww5"
      },
      "source": [
        "### Markers\n",
        "\n",
        "There are [lots of different markers](https://matplotlib.org/api/markers_api.html) availabile in matplotlib!"
      ]
    },
    {
      "cell_type": "code",
      "execution_count": 56,
      "metadata": {
        "id": "-zXc-GnFQww5",
        "outputId": "c20bb3be-1b88-4904-ae5f-541ad96e6d1a",
        "colab": {
          "base_uri": "https://localhost:8080/",
          "height": 283
        }
      },
      "outputs": [
        {
          "output_type": "execute_result",
          "data": {
            "text/plain": [
              "[<matplotlib.lines.Line2D at 0x7f1401b41510>]"
            ]
          },
          "metadata": {},
          "execution_count": 56
        },
        {
          "output_type": "display_data",
          "data": {
            "text/plain": [
              "<Figure size 432x288 with 1 Axes>"
            ],
            "image/png": "[encoded data removed]"
          },
          "metadata": {
            "needs_background": "light"
          }
        }
      ],
      "source": [
        "fig, ax = plt.subplots()\n",
        "ax.plot(x[:20], y[:20], marker='o', markerfacecolor='red', markeredgecolor='black')\n",
        "ax.plot(x[:20], z[:20], marker='^', markersize=10)"
      ]
    },
    {
      "cell_type": "markdown",
      "metadata": {
        "id": "OdRiv6crQww5"
      },
      "source": [
        "### Axis Limits"
      ]
    },
    {
      "cell_type": "code",
      "execution_count": 57,
      "metadata": {
        "id": "_QdJ5AzRQww5",
        "outputId": "432f4049-b577-4f96-9852-877cc2a350e0",
        "colab": {
          "base_uri": "https://localhost:8080/",
          "height": 287
        }
      },
      "outputs": [
        {
          "output_type": "execute_result",
          "data": {
            "text/plain": [
              "(-3.0, 3.0)"
            ]
          },
          "metadata": {},
          "execution_count": 57
        },
        {
          "output_type": "display_data",
          "data": {
            "text/plain": [
              "<Figure size 432x288 with 1 Axes>"
            ],
            "image/png": "[encoded data removed]"
          },
          "metadata": {
            "needs_background": "light"
          }
        }
      ],
      "source": [
        "fig, ax = plt.subplots()\n",
        "ax.plot(x, y, x, z)\n",
        "ax.set_xlim(-5, 5)\n",
        "ax.set_ylim(-3, 3)"
      ]
    },
    {
      "cell_type": "markdown",
      "metadata": {
        "id": "kT8V8GDkQww5"
      },
      "source": [
        "## Scatter Plots"
      ]
    },
    {
      "cell_type": "code",
      "execution_count": 58,
      "metadata": {
        "id": "DpmiHsduQww5",
        "outputId": "152dc223-f280-4161-af24-e3e5dd741427",
        "colab": {
          "base_uri": "https://localhost:8080/",
          "height": 283
        }
      },
      "outputs": [
        {
          "output_type": "execute_result",
          "data": {
            "text/plain": [
              "<matplotlib.colorbar.Colorbar at 0x7f1401a62490>"
            ]
          },
          "metadata": {},
          "execution_count": 58
        },
        {
          "output_type": "display_data",
          "data": {
            "text/plain": [
              "<Figure size 432x288 with 2 Axes>"
            ],
            "image/png": "[encoded data removed]"
          },
          "metadata": {
            "needs_background": "light"
          }
        }
      ],
      "source": [
        "fig, ax = plt.subplots()\n",
        "\n",
        "splot = ax.scatter(y, z, c=x, s=(100*z**2 + 5), cmap='viridis')\n",
        "fig.colorbar(splot)"
      ]
    },
    {
      "cell_type": "markdown",
      "metadata": {
        "id": "8ttnMW7lQww5"
      },
      "source": [
        "There are many different colormaps available in matplotlib: https://matplotlib.org/stable/tutorials/colors/colormaps.html"
      ]
    },
    {
      "cell_type": "markdown",
      "metadata": {
        "id": "CCdjMxNsQww5"
      },
      "source": [
        "## Bar Plots"
      ]
    },
    {
      "cell_type": "code",
      "execution_count": 59,
      "metadata": {
        "id": "Q_L3ou00Qww5",
        "outputId": "9cf17a20-03fe-4fbf-eb61-946495e4be71",
        "colab": {
          "base_uri": "https://localhost:8080/",
          "height": 369
        }
      },
      "outputs": [
        {
          "output_type": "display_data",
          "data": {
            "text/plain": [
              "<Figure size 360x360 with 1 Axes>"
            ],
            "image/png": "[encoded data removed]"
          },
          "metadata": {
            "needs_background": "light"
          }
        }
      ],
      "source": [
        "labels = ['Reuter West', 'Mitte', 'Lichterfelde']\n",
        "values = [600, 400, 450]\n",
        "\n",
        "fig, ax = plt.subplots(figsize=(5, 5))\n",
        "ax.bar(labels, values)\n",
        "\n",
        "ax.set_ylabel(\"MW\")\n",
        "\n",
        "plt.tight_layout()"
      ]
    },
    {
      "cell_type": "markdown",
      "metadata": {
        "id": "9DFCwyybQww5"
      },
      "source": [
        "## Exercises"
      ]
    },
    {
      "cell_type": "markdown",
      "metadata": {
        "id": "YH17DV_bQww5"
      },
      "source": [
        "Import numpy under the alias `np`."
      ]
    },
    {
      "cell_type": "code",
      "execution_count": 60,
      "metadata": {
        "id": "9Qhxz3caQww5"
      },
      "outputs": [],
      "source": [
        "import numpy as np"
      ]
    },
    {
      "cell_type": "markdown",
      "metadata": {
        "id": "CABEy67lQww6"
      },
      "source": [
        "Create the following arrays:\n",
        "\n",
        "1. Create an array of 5 zeros.\n",
        "2. Create an array of 10 ones.\n",
        "3. Create an array of 5 $\\pi$ values.\n",
        "4. Create an array of the integers 1 to 20.\n",
        "5. Create a 5 x 5 matrix of ones with a dtype `int`."
      ]
    },
    {
      "cell_type": "code",
      "execution_count": 61,
      "metadata": {
        "id": "EYu6IQKBQww6",
        "outputId": "5f499c01-6438-4df2-8505-999592bc0e1b",
        "colab": {
          "base_uri": "https://localhost:8080/"
        }
      },
      "outputs": [
        {
          "output_type": "execute_result",
          "data": {
            "text/plain": [
              "array([0., 0., 0., 0., 0.])"
            ]
          },
          "metadata": {},
          "execution_count": 61
        }
      ],
      "source": [
        "np.zeros(5)"
      ]
    },
    {
      "cell_type": "code",
      "execution_count": 62,
      "metadata": {
        "id": "tMkJBSAmQww6",
        "outputId": "f958a6fa-d674-4e29-b31b-52afe69d1791",
        "colab": {
          "base_uri": "https://localhost:8080/"
        }
      },
      "outputs": [
        {
          "output_type": "execute_result",
          "data": {
            "text/plain": [
              "array([1., 1., 1., 1., 1., 1., 1., 1., 1., 1.])"
            ]
          },
          "metadata": {},
          "execution_count": 62
        }
      ],
      "source": [
        "np.ones(10)"
      ]
    },
    {
      "cell_type": "code",
      "execution_count": 63,
      "metadata": {
        "id": "3PQhR9UvQww6",
        "outputId": "6dd5d3e0-dba3-4781-ef04-a4a3fc4c64f1",
        "colab": {
          "base_uri": "https://localhost:8080/"
        }
      },
      "outputs": [
        {
          "output_type": "execute_result",
          "data": {
            "text/plain": [
              "array([3.14159265, 3.14159265, 3.14159265, 3.14159265, 3.14159265])"
            ]
          },
          "metadata": {},
          "execution_count": 63
        }
      ],
      "source": [
        "np.full(5, np.pi)"
      ]
    },
    {
      "cell_type": "code",
      "execution_count": 64,
      "metadata": {
        "id": "xHo5rcP_Qww6",
        "outputId": "4fe9217e-1c00-4287-f221-96faeb3696cb",
        "colab": {
          "base_uri": "https://localhost:8080/"
        }
      },
      "outputs": [
        {
          "output_type": "execute_result",
          "data": {
            "text/plain": [
              "array([ 1,  2,  3,  4,  5,  6,  7,  8,  9, 10, 11, 12, 13, 14, 15, 16, 17,\n",
              "       18, 19, 20])"
            ]
          },
          "metadata": {},
          "execution_count": 64
        }
      ],
      "source": [
        "np.arange(1,21)"
      ]
    },
    {
      "cell_type": "code",
      "execution_count": 65,
      "metadata": {
        "id": "JNLegUkQQww6",
        "outputId": "2cc543ad-2a09-4100-8473-5e8eb7727c25",
        "colab": {
          "base_uri": "https://localhost:8080/"
        }
      },
      "outputs": [
        {
          "output_type": "execute_result",
          "data": {
            "text/plain": [
              "array([[1, 1, 1, 1, 1],\n",
              "       [1, 1, 1, 1, 1],\n",
              "       [1, 1, 1, 1, 1],\n",
              "       [1, 1, 1, 1, 1],\n",
              "       [1, 1, 1, 1, 1]], dtype=int8)"
            ]
          },
          "metadata": {},
          "execution_count": 65
        }
      ],
      "source": [
        "np.ones((5,5), dtype=np.int8)"
      ]
    },
    {
      "cell_type": "markdown",
      "metadata": {
        "id": "Pmb81vuVQww6"
      },
      "source": [
        "Create a 3D matrix of 3 x 3 x 3 full of random numbers drawn from a standard normal distribution (hint: `np.random.randn()`)"
      ]
    },
    {
      "cell_type": "code",
      "execution_count": 66,
      "metadata": {
        "id": "BVqYUL2YQww6",
        "outputId": "2e019927-5c00-4743-c7b4-185b74a2709e",
        "colab": {
          "base_uri": "https://localhost:8080/"
        }
      },
      "outputs": [
        {
          "output_type": "execute_result",
          "data": {
            "text/plain": [
              "array([[[-0.12488272,  0.44364793,  0.82760023],\n",
              "        [-0.44926247, -1.50329813, -1.11300922],\n",
              "        [-0.71703641, -0.88703454,  1.45947336]],\n",
              "\n",
              "       [[ 1.1722833 , -0.08141631, -0.30632235],\n",
              "        [ 0.89036318, -0.23301342, -1.32018168],\n",
              "        [ 2.00662618,  0.2604759 , -0.1767428 ]],\n",
              "\n",
              "       [[ 0.43003352,  0.17408273, -1.29650614],\n",
              "        [-0.75662387, -1.05447593,  0.8232341 ],\n",
              "        [ 0.82184793,  0.56964734, -0.33208223]]])"
            ]
          },
          "metadata": {},
          "execution_count": 66
        }
      ],
      "source": [
        "np.random.randn(3,3,3)"
      ]
    },
    {
      "cell_type": "markdown",
      "metadata": {
        "id": "_t_Ln-6jQww6"
      },
      "source": [
        "Create an array of 20 linearly spaced numbers between 1 and 10."
      ]
    },
    {
      "cell_type": "code",
      "execution_count": 67,
      "metadata": {
        "id": "21EaGXL6Qww6",
        "outputId": "07f96a60-428f-4805-dce2-717640689854",
        "colab": {
          "base_uri": "https://localhost:8080/"
        }
      },
      "outputs": [
        {
          "output_type": "execute_result",
          "data": {
            "text/plain": [
              "array([ 1.        ,  1.47368421,  1.94736842,  2.42105263,  2.89473684,\n",
              "        3.36842105,  3.84210526,  4.31578947,  4.78947368,  5.26315789,\n",
              "        5.73684211,  6.21052632,  6.68421053,  7.15789474,  7.63157895,\n",
              "        8.10526316,  8.57894737,  9.05263158,  9.52631579, 10.        ])"
            ]
          },
          "metadata": {},
          "execution_count": 67
        }
      ],
      "source": [
        "np.linspace(1,10, 20)"
      ]
    },
    {
      "cell_type": "markdown",
      "metadata": {
        "id": "jKlS5II8Qww6"
      },
      "source": [
        "Below I've defined an array of shape 4 x 4. Use indexing to procude the given outputs."
      ]
    },
    {
      "cell_type": "code",
      "execution_count": 68,
      "metadata": {
        "id": "_hpJ0ii7Qww6",
        "outputId": "1197308a-bdc6-4ca5-a8da-d7b836ebb878",
        "colab": {
          "base_uri": "https://localhost:8080/"
        }
      },
      "outputs": [
        {
          "output_type": "execute_result",
          "data": {
            "text/plain": [
              "array([[ 1,  2,  3,  4,  5],\n",
              "       [ 6,  7,  8,  9, 10],\n",
              "       [11, 12, 13, 14, 15],\n",
              "       [16, 17, 18, 19, 20],\n",
              "       [21, 22, 23, 24, 25]])"
            ]
          },
          "metadata": {},
          "execution_count": 68
        }
      ],
      "source": [
        "a = np.arange(1, 26).reshape(5, -1)\n",
        "a"
      ]
    },
    {
      "cell_type": "code",
      "execution_count": 69,
      "metadata": {
        "id": "Df4Mm1ftQww6",
        "outputId": "98d618b0-6a33-42f4-d098-494f26481f01",
        "colab": {
          "base_uri": "https://localhost:8080/"
        }
      },
      "outputs": [
        {
          "output_type": "execute_result",
          "data": {
            "text/plain": [
              "array([[ 9, 10],\n",
              "       [14, 15],\n",
              "       [19, 20],\n",
              "       [24, 25]])"
            ]
          },
          "metadata": {},
          "execution_count": 69
        }
      ],
      "source": [
        "a[1:,3:]"
      ]
    },
    {
      "cell_type": "markdown",
      "metadata": {
        "id": "KbeYNNa1Qww6"
      },
      "source": [
        "```python\n",
        "array([[ 9, 10],\n",
        "       [14, 15],\n",
        "       [19, 20],\n",
        "       [24, 25]])\n",
        "```"
      ]
    },
    {
      "cell_type": "code",
      "execution_count": null,
      "metadata": {
        "id": "HimY6d3lQww6",
        "outputId": "928d6a7b-2da3-4247-da13-56c99f7ed295"
      },
      "outputs": [
        {
          "data": {
            "text/plain": [
              "array([ 6,  7,  8,  9, 10])"
            ]
          },
          "execution_count": 19,
          "metadata": {},
          "output_type": "execute_result"
        }
      ],
      "source": [
        "a[1]"
      ]
    },
    {
      "cell_type": "markdown",
      "metadata": {
        "id": "64rapTviQww6"
      },
      "source": [
        "```python\n",
        "array([ 6,  7,  8,  9, 10])\n",
        "```"
      ]
    },
    {
      "cell_type": "code",
      "execution_count": null,
      "metadata": {
        "id": "zTTgvTBIQww7",
        "outputId": "33bd45c5-d961-428c-9571-0e7303cbe26d"
      },
      "outputs": [
        {
          "data": {
            "text/plain": [
              "array([[11, 12, 13, 14, 15],\n",
              "       [16, 17, 18, 19, 20]])"
            ]
          },
          "execution_count": 21,
          "metadata": {},
          "output_type": "execute_result"
        }
      ],
      "source": [
        "a[2:4]"
      ]
    },
    {
      "cell_type": "markdown",
      "metadata": {
        "id": "Pqjl4IEKQww7"
      },
      "source": [
        "```python\n",
        "array([[11, 12, 13, 14, 15],\n",
        "       [16, 17, 18, 19, 20]])\n",
        "```"
      ]
    },
    {
      "cell_type": "code",
      "execution_count": null,
      "metadata": {
        "id": "SguqfhWtQww7",
        "outputId": "a3c596ee-644e-429f-82cf-bb5ce60a4257"
      },
      "outputs": [
        {
          "data": {
            "text/plain": [
              "array([[ 8,  9],\n",
              "       [13, 14]])"
            ]
          },
          "execution_count": 24,
          "metadata": {},
          "output_type": "execute_result"
        }
      ],
      "source": [
        "a[1:3, 2:4]"
      ]
    },
    {
      "cell_type": "markdown",
      "metadata": {
        "id": "9omM-GVWQww7"
      },
      "source": [
        "```python\n",
        "array([[ 8,  9],\n",
        "       [13, 14]])\n",
        "```"
      ]
    },
    {
      "cell_type": "markdown",
      "metadata": {
        "id": "OOewI76hQww7"
      },
      "source": [
        "Calculate the sum of all the numbers in `a`."
      ]
    },
    {
      "cell_type": "code",
      "execution_count": 70,
      "metadata": {
        "id": "EGG88LV1Qww7",
        "outputId": "4b2aa5c6-5f7a-405d-fbb9-34c6f9414d9b",
        "colab": {
          "base_uri": "https://localhost:8080/"
        }
      },
      "outputs": [
        {
          "output_type": "execute_result",
          "data": {
            "text/plain": [
              "325"
            ]
          },
          "metadata": {},
          "execution_count": 70
        }
      ],
      "source": [
        "a.sum()"
      ]
    },
    {
      "cell_type": "markdown",
      "metadata": {
        "id": "1DE_XFFsQww7"
      },
      "source": [
        "Calculate the sum of each row in `a`."
      ]
    },
    {
      "cell_type": "code",
      "execution_count": 71,
      "metadata": {
        "id": "V9ZHw5RKQww7",
        "outputId": "2a02c4b5-7c25-47e3-e2f1-e1fca3655546",
        "colab": {
          "base_uri": "https://localhost:8080/"
        }
      },
      "outputs": [
        {
          "output_type": "execute_result",
          "data": {
            "text/plain": [
              "array([ 15,  40,  65,  90, 115])"
            ]
          },
          "metadata": {},
          "execution_count": 71
        }
      ],
      "source": [
        "a.sum(axis=1)"
      ]
    },
    {
      "cell_type": "code",
      "execution_count": 72,
      "metadata": {
        "id": "XV3ua9faQww7",
        "outputId": "b1214e08-2a28-4de0-dd3d-5b6de803086e",
        "colab": {
          "base_uri": "https://localhost:8080/"
        }
      },
      "outputs": [
        {
          "output_type": "execute_result",
          "data": {
            "text/plain": [
              "array([55, 60, 65, 70, 75])"
            ]
          },
          "metadata": {},
          "execution_count": 72
        }
      ],
      "source": [
        "a.sum(axis=0)"
      ]
    },
    {
      "cell_type": "markdown",
      "metadata": {
        "id": "zuhkf6DXQww7"
      },
      "source": [
        "Extract all values of `a` greater than the mean of `a` (hint: use a boolean mask)."
      ]
    },
    {
      "cell_type": "code",
      "execution_count": 73,
      "metadata": {
        "id": "APhqtLFcQww7",
        "outputId": "eb54bd7c-fb28-4744-b1c6-288e98bc2579",
        "colab": {
          "base_uri": "https://localhost:8080/"
        }
      },
      "outputs": [
        {
          "output_type": "execute_result",
          "data": {
            "text/plain": [
              "array([14, 15, 16, 17, 18, 19, 20, 21, 22, 23, 24, 25])"
            ]
          },
          "metadata": {},
          "execution_count": 73
        }
      ],
      "source": [
        "mask = a > a.mean()\n",
        "\n",
        "a[mask]"
      ]
    },
    {
      "cell_type": "code",
      "execution_count": null,
      "metadata": {
        "id": "KraIAnwmQww7"
      },
      "outputs": [],
      "source": []
    }
  ],
  "metadata": {
    "kernelspec": {
      "display_name": "Python 3 (ipykernel)",
      "language": "python",
      "name": "python3"
    },
    "language_info": {
      "codemirror_mode": {
        "name": "ipython",
        "version": 3
      },
      "file_extension": ".py",
      "mimetype": "text/x-python",
      "name": "python",
      "nbconvert_exporter": "python",
      "pygments_lexer": "ipython3",
      "version": "3.9.13"
    },
    "vscode": {
      "interpreter": {
        "hash": "3dbeba6011cecc2c49b5c018fffe2544bd8d2e61881820091494f4a582a08f2d"
      }
    },
    "colab": {
      "provenance": []
    }
  },
  "nbformat": 4,
  "nbformat_minor": 0
}