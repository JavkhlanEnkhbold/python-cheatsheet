{
  "cells": [
    {
      "cell_type": "markdown",
      "metadata": {
        "id": "view-in-github",
        "colab_type": "text"
      },
      "source": [
        "<a href=\"https://colab.research.google.com/github/JavkhlanEnkhbold/python-cheatsheet/blob/main/data-science-for-esm/01-workshop-python.ipynb\" target=\"_parent\"><img src=\"https://colab.research.google.com/assets/colab-badge.svg\" alt=\"Open In Colab\"/></a>"
      ]
    },
    {
      "cell_type": "markdown",
      "metadata": {
        "id": "SEHQ5TCRMPis"
      },
      "source": [
        "# Introduction to `Python`"
      ]
    },
    {
      "cell_type": "markdown",
      "metadata": {
        "id": "tHBgi68kMPiu"
      },
      "source": [
        ":::{note}\n",
        "This material is mostly adapted from the following resources:\n",
        "- https://earth-env-data-science.github.io/lectures/core_python/python_fundamentals.html\n",
        "- https://earth-env-data-science.github.io/lectures/core_python/functions_classes.html\n",
        "- https://www.tomasbeuzen.com/python-programming-for-data-science/chapters/chapter1-basics.html\n",
        "\n",
        "Further excellent introductions to Python can be found at\n",
        "- https://www.learnpython.org\n",
        "- https://www.pythontutorial.net\n",
        "- https://python-course.eu\n",
        ":::"
      ]
    },
    {
      "cell_type": "markdown",
      "metadata": {
        "tags": [],
        "id": "T3u71LKJMPiu"
      },
      "source": [
        "## Running Python ##\n",
        "\n",
        "There are three main ways to use Python.\n",
        "\n",
        "1. By running a Python file, e.g. `python myscript.py`\n",
        "1. Through an interactive console (Python interpreter or iPython shell)\n",
        "1. In an interactive notebook (e.g. Jupyter)\n",
        "\n",
        "In this course, we will mostly be interacting with Python via Jupyter notebooks."
      ]
    },
    {
      "cell_type": "markdown",
      "metadata": {
        "tags": [],
        "id": "_N0zkh5kMPiu"
      },
      "source": [
        ":::{note}\n",
        "If you have not yet set up Python on your computer, you can execute this tutorial in your browser via [Google Colab](https://colab.research.google.com/). Click on the rocket in the top right corner and launch \"Colab\". If that doesn't work download the `.ipynb` file and import it in [Google Colab](https://colab.research.google.com/)\n",
        ":::"
      ]
    },
    {
      "cell_type": "markdown",
      "metadata": {
        "tags": [],
        "id": "ORgQjonUMPiv"
      },
      "source": [
        "## Basic Variables: Numbers and String ##"
      ]
    },
    {
      "cell_type": "code",
      "execution_count": 1,
      "metadata": {
        "id": "FOGen6PKMPiv"
      },
      "outputs": [],
      "source": [
        "# comments are anything that comes after the \"#\" symbol\n",
        "a = 1       # assign integer 1 to variable a\n",
        "b = \"hello\" # assign string \"hello\" to variable b"
      ]
    },
    {
      "cell_type": "markdown",
      "metadata": {
        "id": "4NI8iTlNMPiv"
      },
      "source": [
        "The following identifiers are used as reserved words and should not be used as identifiers:\n",
        "\n",
        "    False      class      finally    is         return\n",
        "    None       continue   for        lambda     try\n",
        "    True       def        from       nonlocal   while\n",
        "    and        del        global     not        with\n",
        "    as         elif       if         or         yield\n",
        "    assert     else       import     pass\n",
        "    break      except     in         raise\n",
        "    \n",
        "Additionally, the following a built-in functions are always available:\n",
        "\n",
        "    abs() dict() help() min() setattr() all() dir() hex() next() slice() any()\n",
        "    divmod() id() object() sorted() ascii() enumerate() input() oct() staticmethod()\n",
        "    bin() eval() int() open() str() bool() exec() isinstance() ord() sum() bytearray()\n",
        "    filter() issubclass() pow() super() bytes() float() iter() print() tuple()\n",
        "    callable() format() len() property() type() chr() frozenset() list() range()\n",
        "    vars() classmethod() getattr() locals() repr() zip() compile() globals() map()\n",
        "    reversed() __import__() complex() hasattr() max() round() delattr() hash()\n",
        "    memoryview() set()"
      ]
    },
    {
      "cell_type": "code",
      "execution_count": 2,
      "metadata": {
        "id": "a-37ChM-MPiw",
        "outputId": "4f3adcf4-f6a3-4d60-c974-4ef68fcedb46",
        "colab": {
          "base_uri": "https://localhost:8080/"
        }
      },
      "outputs": [
        {
          "output_type": "stream",
          "name": "stdout",
          "text": [
            "1\n",
            "hello\n",
            "1 hello\n"
          ]
        }
      ],
      "source": [
        "# how to we see our variables?\n",
        "print(a)\n",
        "print(b)\n",
        "print(a,b)"
      ]
    },
    {
      "cell_type": "markdown",
      "metadata": {
        "id": "QaRnbBTxMPix"
      },
      "source": [
        "All variables are objects. Every object has a type (class). To find out what type your variables are"
      ]
    },
    {
      "cell_type": "code",
      "execution_count": 3,
      "metadata": {
        "id": "4Xq7anooMPix",
        "outputId": "b387082d-e7d7-4ef5-86f7-2d9b7634e848",
        "colab": {
          "base_uri": "https://localhost:8080/"
        }
      },
      "outputs": [
        {
          "output_type": "stream",
          "name": "stdout",
          "text": [
            "<class 'int'>\n",
            "<class 'str'>\n"
          ]
        }
      ],
      "source": [
        "print(type(a))\n",
        "print(type(b))"
      ]
    },
    {
      "cell_type": "code",
      "execution_count": 4,
      "metadata": {
        "id": "oZhcTVEDMPix",
        "outputId": "7cf9884b-54e4-4e51-91aa-5c7a5b816bef",
        "colab": {
          "base_uri": "https://localhost:8080/"
        }
      },
      "outputs": [
        {
          "output_type": "execute_result",
          "data": {
            "text/plain": [
              "str"
            ]
          },
          "metadata": {},
          "execution_count": 4
        }
      ],
      "source": [
        "# as a shortcut, iPython notebooks will automatically print whatever is on the last line\n",
        "type(b)"
      ]
    },
    {
      "cell_type": "code",
      "execution_count": 5,
      "metadata": {
        "id": "vFLUkhrnMPix",
        "outputId": "71b1be3a-0b85-4478-ada0-42c6c1c251a8",
        "colab": {
          "base_uri": "https://localhost:8080/"
        }
      },
      "outputs": [
        {
          "output_type": "stream",
          "name": "stdout",
          "text": [
            "True\n",
            "False\n"
          ]
        }
      ],
      "source": [
        "# we can check for the type of an object\n",
        "print(type(a) is int)\n",
        "print(type(a) is str)"
      ]
    },
    {
      "cell_type": "markdown",
      "metadata": {
        "id": "Bfoyim6PMPiy"
      },
      "source": [
        "`NoneType` is its own type in Python. It only has one possible value, `None` - it represents an object with no value. "
      ]
    },
    {
      "cell_type": "code",
      "execution_count": 6,
      "metadata": {
        "id": "VRv1JB9jMPiy"
      },
      "outputs": [],
      "source": [
        "n = None"
      ]
    },
    {
      "cell_type": "code",
      "execution_count": 7,
      "metadata": {
        "id": "md79kPvgMPiy",
        "outputId": "2b878efb-da2b-4285-a44b-ea3b13e91644",
        "colab": {
          "base_uri": "https://localhost:8080/"
        }
      },
      "outputs": [
        {
          "output_type": "stream",
          "name": "stdout",
          "text": [
            "None\n"
          ]
        }
      ],
      "source": [
        "print(n)"
      ]
    },
    {
      "cell_type": "code",
      "execution_count": 8,
      "metadata": {
        "id": "KHOt84TxMPiy",
        "outputId": "26ffe1b4-bea3-4194-d360-23e9602180c5",
        "colab": {
          "base_uri": "https://localhost:8080/"
        }
      },
      "outputs": [
        {
          "output_type": "execute_result",
          "data": {
            "text/plain": [
              "NoneType"
            ]
          },
          "metadata": {},
          "execution_count": 8
        }
      ],
      "source": [
        "type(n)"
      ]
    },
    {
      "cell_type": "markdown",
      "metadata": {
        "id": "qUUyntNkMPiy"
      },
      "source": [
        "Objects can have **attributes** and **methods**, which can be accessed via ``variable.method``\n",
        "\n",
        "IPython will autocomplete if you press ``<tab>`` to show you the methods available."
      ]
    },
    {
      "cell_type": "code",
      "execution_count": 9,
      "metadata": {
        "id": "elPZXV5wMPiy",
        "outputId": "fa759bc7-a49f-4147-cb9a-0584746b9efb",
        "colab": {
          "base_uri": "https://localhost:8080/"
        }
      },
      "outputs": [
        {
          "output_type": "execute_result",
          "data": {
            "text/plain": [
              "<function str.capitalize()>"
            ]
          },
          "metadata": {},
          "execution_count": 9
        }
      ],
      "source": [
        "# this returns the method itself\n",
        "b.capitalize"
      ]
    },
    {
      "cell_type": "code",
      "execution_count": 10,
      "metadata": {
        "id": "CYxqHtk2MPiy",
        "outputId": "3dafa1e6-0b44-4610-acb6-32b823f494ff",
        "colab": {
          "base_uri": "https://localhost:8080/",
          "height": 35
        }
      },
      "outputs": [
        {
          "output_type": "execute_result",
          "data": {
            "text/plain": [
              "'Hello'"
            ],
            "application/vnd.google.colaboratory.intrinsic+json": {
              "type": "string"
            }
          },
          "metadata": {},
          "execution_count": 10
        }
      ],
      "source": [
        "# this calls the method\n",
        "b.capitalize()"
      ]
    },
    {
      "cell_type": "markdown",
      "metadata": {
        "tags": [],
        "id": "OReaBhAJMPiz"
      },
      "source": [
        "## String Operators ##\n",
        "\n",
        "Basic operations to modify strings."
      ]
    },
    {
      "cell_type": "code",
      "execution_count": 11,
      "metadata": {
        "id": "q08zUgXmMPiz"
      },
      "outputs": [],
      "source": [
        "s = \"HOW ARE YOU TODAY?\""
      ]
    },
    {
      "cell_type": "code",
      "execution_count": 12,
      "metadata": {
        "id": "5tUrkaD7MPiz"
      },
      "outputs": [],
      "source": [
        "split = s.split(\" \")"
      ]
    },
    {
      "cell_type": "code",
      "execution_count": 13,
      "metadata": {
        "id": "iz3YQKDyMPiz",
        "outputId": "1bf9e766-21bb-49a1-ff6e-82e551e41d55",
        "colab": {
          "base_uri": "https://localhost:8080/"
        }
      },
      "outputs": [
        {
          "output_type": "execute_result",
          "data": {
            "text/plain": [
              "['HOW', 'ARE', 'YOU', 'TODAY?']"
            ]
          },
          "metadata": {},
          "execution_count": 13
        }
      ],
      "source": [
        "split"
      ]
    },
    {
      "cell_type": "code",
      "execution_count": 14,
      "metadata": {
        "id": "VYmq6oj_MPiz",
        "outputId": "8e2b0ea4-dc62-4ff2-949c-563954b19a8e",
        "colab": {
          "base_uri": "https://localhost:8080/",
          "height": 35
        }
      },
      "outputs": [
        {
          "output_type": "execute_result",
          "data": {
            "text/plain": [
              "'HOW-ARE-YOU-TODAY?'"
            ],
            "application/vnd.google.colaboratory.intrinsic+json": {
              "type": "string"
            }
          },
          "metadata": {},
          "execution_count": 14
        }
      ],
      "source": [
        "\"-\".join(split)"
      ]
    },
    {
      "cell_type": "markdown",
      "metadata": {
        "id": "gntXOHYcMPiz"
      },
      "source": [
        "Python has ways of creating strings by \"filling in the blanks\" and formatting them nicely.\n",
        "\n",
        "This is helpful for when you want to print statements that include variables or statements."
      ]
    },
    {
      "cell_type": "code",
      "execution_count": 15,
      "metadata": {
        "id": "TSw-h56_MPiz",
        "outputId": "3c1819eb-6258-423c-d148-585264ebcbdd",
        "colab": {
          "base_uri": "https://localhost:8080/",
          "height": 35
        }
      },
      "outputs": [
        {
          "output_type": "execute_result",
          "data": {
            "text/plain": [
              "'Hello, my name is Newborn Baby. I am 0.33 years old. I was born 10/06/2020.'"
            ],
            "application/vnd.google.colaboratory.intrinsic+json": {
              "type": "string"
            }
          },
          "metadata": {},
          "execution_count": 15
        }
      ],
      "source": [
        "name = \"Newborn Baby\"\n",
        "age = 4 / 12\n",
        "day = 10\n",
        "month = 6\n",
        "year = 2020\n",
        "template_new = f\"Hello, my name is {name}. I am {age:.2f} years old. I was born {day}/{month:02}/{year}.\"\n",
        "template_new"
      ]
    },
    {
      "cell_type": "markdown",
      "metadata": {
        "tags": [],
        "id": "b0Uf1Sw5MPiz"
      },
      "source": [
        "## Math ##\n",
        "\n",
        "Basic arithmetic and boolean logic is part of the core Python library."
      ]
    },
    {
      "cell_type": "code",
      "execution_count": null,
      "metadata": {
        "id": "7MnVGhHpMPiz",
        "outputId": "3805e696-ed6b-4a96-cfd0-7549a4cb6121"
      },
      "outputs": [
        {
          "data": {
            "text/plain": [
              "-3"
            ]
          },
          "execution_count": 216,
          "metadata": {},
          "output_type": "execute_result"
        }
      ],
      "source": [
        "# addition / subtraction\n",
        "1 + 1 - 5"
      ]
    },
    {
      "cell_type": "code",
      "execution_count": null,
      "metadata": {
        "id": "bbzIcybvMPiz",
        "outputId": "f0754e11-55fd-4b91-d522-9073599fb159"
      },
      "outputs": [
        {
          "data": {
            "text/plain": [
              "50"
            ]
          },
          "execution_count": 217,
          "metadata": {},
          "output_type": "execute_result"
        }
      ],
      "source": [
        "# multiplication\n",
        "5 * 10"
      ]
    },
    {
      "cell_type": "code",
      "execution_count": null,
      "metadata": {
        "id": "isk8kbvhMPi0",
        "outputId": "e2e8ed54-449d-4743-b082-b43e20eb5031"
      },
      "outputs": [
        {
          "data": {
            "text/plain": [
              "0.5"
            ]
          },
          "execution_count": 218,
          "metadata": {},
          "output_type": "execute_result"
        }
      ],
      "source": [
        "# division\n",
        "1/2"
      ]
    },
    {
      "cell_type": "code",
      "execution_count": null,
      "metadata": {
        "id": "tkNG51iWMPi0",
        "outputId": "19d43844-238d-4705-9b37-8f8e2e75673e"
      },
      "outputs": [
        {
          "data": {
            "text/plain": [
              "float"
            ]
          },
          "execution_count": 219,
          "metadata": {},
          "output_type": "execute_result"
        }
      ],
      "source": [
        "# that was automatically converted to a float\n",
        "type(1/2)"
      ]
    },
    {
      "cell_type": "code",
      "execution_count": null,
      "metadata": {
        "id": "P1-TK_ErMPi0",
        "outputId": "54dc3791-5abf-40a0-aa7a-a8c6f854be42"
      },
      "outputs": [
        {
          "data": {
            "text/plain": [
              "16"
            ]
          },
          "execution_count": 220,
          "metadata": {},
          "output_type": "execute_result"
        }
      ],
      "source": [
        "# exponentiation\n",
        "2**4"
      ]
    },
    {
      "cell_type": "code",
      "execution_count": null,
      "metadata": {
        "id": "KQ4UCC8xMPi0",
        "outputId": "2216ac28-711e-41fb-cf11-10b0f963ba8f"
      },
      "outputs": [
        {
          "data": {
            "text/plain": [
              "1"
            ]
          },
          "execution_count": 221,
          "metadata": {},
          "output_type": "execute_result"
        }
      ],
      "source": [
        "# rounding\n",
        "round(9/10)"
      ]
    },
    {
      "cell_type": "code",
      "execution_count": null,
      "metadata": {
        "id": "P-lYKzKJMPi0",
        "outputId": "0b7c85b6-9ca6-4c8c-89e6-cf423d9a0afe"
      },
      "outputs": [
        {
          "data": {
            "text/plain": [
              "50"
            ]
          },
          "execution_count": 222,
          "metadata": {},
          "output_type": "execute_result"
        }
      ],
      "source": [
        "# floor division\n",
        "101 // 2"
      ]
    },
    {
      "cell_type": "code",
      "execution_count": null,
      "metadata": {
        "id": "NLechrynMPi0",
        "outputId": "3e1ea9e4-b23a-4fba-813a-ffa5447e2463"
      },
      "outputs": [
        {
          "data": {
            "text/plain": [
              "1"
            ]
          },
          "execution_count": 223,
          "metadata": {},
          "output_type": "execute_result"
        }
      ],
      "source": [
        "# modulo\n",
        "101 % 2"
      ]
    },
    {
      "cell_type": "markdown",
      "metadata": {
        "tags": [],
        "id": "qSCEI_W1MPi0"
      },
      "source": [
        "## Comparison Operators\n",
        "\n",
        "We can compare objects using comparison operators, and we'll get back a Boolean result:\n",
        "\n",
        "| Operator  | Description                          |\n",
        "| :-------- | :----------------------------------- |\n",
        "| `x == y ` | is `x` equal to `y`?                 |\n",
        "| `x != y`  | is `x` not equal to `y`?             |\n",
        "| `x > y`   | is `x` greater than `y`?             |\n",
        "| `x >= y`  | is `x` greater than or equal to `y`? |\n",
        "| `x < y`   | is `x` less than `y`?                |\n",
        "| `x <= y`  | is `x` less than or equal to `y`?    |\n",
        "| `x is y`  | is `x` the same object as `y`?       |"
      ]
    },
    {
      "cell_type": "code",
      "execution_count": null,
      "metadata": {
        "id": "xNOOG7T3MPi0",
        "outputId": "387ce0c2-72fc-458e-bf20-d00adc7621a7"
      },
      "outputs": [
        {
          "data": {
            "text/plain": [
              "True"
            ]
          },
          "execution_count": 224,
          "metadata": {},
          "output_type": "execute_result"
        }
      ],
      "source": [
        "2 < 3"
      ]
    },
    {
      "cell_type": "code",
      "execution_count": null,
      "metadata": {
        "id": "OOE4C4FYMPi0",
        "outputId": "bb2ff86d-37df-4f07-961e-2a278a739065"
      },
      "outputs": [
        {
          "data": {
            "text/plain": [
              "False"
            ]
          },
          "execution_count": 225,
          "metadata": {},
          "output_type": "execute_result"
        }
      ],
      "source": [
        "\"energy\" == \"power\""
      ]
    },
    {
      "cell_type": "code",
      "execution_count": null,
      "metadata": {
        "id": "VYIycNn_MPi0",
        "outputId": "09e4f510-8f34-4849-df65-2ee8fad69a67"
      },
      "outputs": [
        {
          "data": {
            "text/plain": [
              "True"
            ]
          },
          "execution_count": 226,
          "metadata": {},
          "output_type": "execute_result"
        }
      ],
      "source": [
        "2 != \"2\""
      ]
    },
    {
      "cell_type": "code",
      "execution_count": null,
      "metadata": {
        "id": "tdl8t5FsMPi0",
        "outputId": "846e3361-3313-4956-eb8d-03668db4ab61"
      },
      "outputs": [
        {
          "data": {
            "text/plain": [
              "True"
            ]
          },
          "execution_count": 227,
          "metadata": {},
          "output_type": "execute_result"
        }
      ],
      "source": [
        "2 == 2.0"
      ]
    },
    {
      "cell_type": "markdown",
      "metadata": {
        "tags": [],
        "id": "7wwed7tpMPi0"
      },
      "source": [
        "## Boolean Operators\n",
        "\n",
        "We also have so-called \"boolean operators\" which also evaluates to either `True` or `False`:\n",
        "\n",
        "| Operator | Description |\n",
        "| :---: | :--- |\n",
        "|`x and y`| are `x` and `y` both True? |\n",
        "|`x or y` | is at least one of `x` and `y` True? |\n",
        "| `not x` | is `x` False? | "
      ]
    },
    {
      "cell_type": "code",
      "execution_count": null,
      "metadata": {
        "id": "FDWTily3MPi0",
        "outputId": "27556cfc-5ade-429a-e672-bda8a02a9f42"
      },
      "outputs": [
        {
          "data": {
            "text/plain": [
              "True"
            ]
          },
          "execution_count": 228,
          "metadata": {},
          "output_type": "execute_result"
        }
      ],
      "source": [
        "# logic\n",
        "True and True"
      ]
    },
    {
      "cell_type": "code",
      "execution_count": null,
      "metadata": {
        "id": "CwzvUc2FMPi0",
        "outputId": "b1c608a9-a944-4f58-93b0-3eb1bb4037ee"
      },
      "outputs": [
        {
          "data": {
            "text/plain": [
              "False"
            ]
          },
          "execution_count": 229,
          "metadata": {},
          "output_type": "execute_result"
        }
      ],
      "source": [
        "True and False"
      ]
    },
    {
      "cell_type": "code",
      "execution_count": null,
      "metadata": {
        "id": "UJubelEfMPi1",
        "outputId": "8219488a-0bf0-4dc8-facc-dec21542f7c1"
      },
      "outputs": [
        {
          "data": {
            "text/plain": [
              "True"
            ]
          },
          "execution_count": 230,
          "metadata": {},
          "output_type": "execute_result"
        }
      ],
      "source": [
        "True or True"
      ]
    },
    {
      "cell_type": "code",
      "execution_count": null,
      "metadata": {
        "id": "y-_bB4AUMPi1",
        "outputId": "4f61dab0-468f-46d7-d356-33cb75f4ff5b"
      },
      "outputs": [
        {
          "data": {
            "text/plain": [
              "True"
            ]
          },
          "execution_count": 231,
          "metadata": {},
          "output_type": "execute_result"
        }
      ],
      "source": [
        "(not True) or (not False)"
      ]
    },
    {
      "cell_type": "markdown",
      "metadata": {
        "id": "LRYzhUd_MPi1"
      },
      "source": [
        "## Conditionals ##\n",
        "\n",
        "The first step to programming. Plus an intro to Python syntax."
      ]
    },
    {
      "cell_type": "code",
      "execution_count": 16,
      "metadata": {
        "id": "Y5dWL_dVMPi1",
        "outputId": "d701fcb1-b05e-4a82-8591-05d95f35bf5c",
        "colab": {
          "base_uri": "https://localhost:8080/"
        }
      },
      "outputs": [
        {
          "output_type": "stream",
          "name": "stdout",
          "text": [
            "Positive Number\n"
          ]
        }
      ],
      "source": [
        "x = 100\n",
        "if x > 0:\n",
        "    print('Positive Number')\n",
        "elif x < 0:\n",
        "    print('Negative Number')\n",
        "else:\n",
        "    print ('Zero!')"
      ]
    },
    {
      "cell_type": "code",
      "execution_count": 17,
      "metadata": {
        "id": "DvVQG0q-MPi1",
        "outputId": "cdef9a29-12f9-4b2f-98e9-ea826ff5b258",
        "colab": {
          "base_uri": "https://localhost:8080/"
        }
      },
      "outputs": [
        {
          "output_type": "stream",
          "name": "stdout",
          "text": [
            "Positive Number\n",
            "Huge number!\n"
          ]
        }
      ],
      "source": [
        "# indentation is MANDATORY\n",
        "# blocks are closed by indentation level\n",
        "if x > 0:\n",
        "    print('Positive Number')\n",
        "    if x >= 100:\n",
        "        print('Huge number!')"
      ]
    },
    {
      "cell_type": "markdown",
      "metadata": {
        "id": "ypfzXVWVMPi1"
      },
      "source": [
        "There is also a way to write `if` statements \"inline\", i.e., in a single line, for simplicity."
      ]
    },
    {
      "cell_type": "code",
      "execution_count": 18,
      "metadata": {
        "id": "--RNRnZiMPi1",
        "outputId": "7803439b-7ab3-423e-9c04-c8d62b6508c7",
        "colab": {
          "base_uri": "https://localhost:8080/",
          "height": 35
        }
      },
      "outputs": [
        {
          "output_type": "execute_result",
          "data": {
            "text/plain": [
              "'short list'"
            ],
            "application/vnd.google.colaboratory.intrinsic+json": {
              "type": "string"
            }
          },
          "metadata": {},
          "execution_count": 18
        }
      ],
      "source": [
        "words = [\"the\", \"list\", \"of\", \"words\"]\n",
        "\n",
        "x = \"long list\" if len(words) > 10 else \"short list\"\n",
        "x"
      ]
    },
    {
      "cell_type": "markdown",
      "metadata": {
        "id": "pmGUhm6EMPi1"
      },
      "source": [
        "## More Flow Control ##"
      ]
    },
    {
      "cell_type": "code",
      "execution_count": 19,
      "metadata": {
        "id": "ELAmsQpRMPi1",
        "outputId": "404ce24c-81f0-4ae5-eaf4-809798b42724",
        "colab": {
          "base_uri": "https://localhost:8080/"
        }
      },
      "outputs": [
        {
          "output_type": "stream",
          "name": "stdout",
          "text": [
            "10\n"
          ]
        }
      ],
      "source": [
        "# make a loop \n",
        "count = 0\n",
        "while count < 10:\n",
        "    # bad way\n",
        "    # count = count + 1\n",
        "    # better way\n",
        "    count += 1\n",
        "print(count)"
      ]
    },
    {
      "cell_type": "code",
      "execution_count": 20,
      "metadata": {
        "id": "JBrF2mSZMPi1",
        "outputId": "bb314d25-466f-48c0-f75e-00a5fa9d7c04",
        "colab": {
          "base_uri": "https://localhost:8080/"
        }
      },
      "outputs": [
        {
          "output_type": "stream",
          "name": "stdout",
          "text": [
            "0\n",
            "1\n",
            "2\n",
            "3\n",
            "4\n"
          ]
        }
      ],
      "source": [
        "# use range\n",
        "for i in range(5):\n",
        "    print(i)"
      ]
    },
    {
      "cell_type": "markdown",
      "metadata": {
        "id": "k-QQ8uiVMPi1"
      },
      "source": [
        "__Important point__: in Python, we always count from 0!"
      ]
    },
    {
      "cell_type": "code",
      "execution_count": 21,
      "metadata": {
        "id": "KLae0c5KMPi1",
        "outputId": "d91f0619-1e24-4a67-ce53-1b52d36d6fc9",
        "colab": {
          "base_uri": "https://localhost:8080/"
        }
      },
      "outputs": [
        {
          "output_type": "execute_result",
          "data": {
            "text/plain": [
              "type"
            ]
          },
          "metadata": {},
          "execution_count": 21
        }
      ],
      "source": [
        "# what is range?\n",
        "type(range)"
      ]
    },
    {
      "cell_type": "code",
      "execution_count": 22,
      "metadata": {
        "id": "chQblbVLMPi1"
      },
      "outputs": [],
      "source": [
        "range?"
      ]
    },
    {
      "cell_type": "code",
      "execution_count": 23,
      "metadata": {
        "id": "yegKSCZ3MPi1",
        "outputId": "7c78f6dc-02ea-4f21-f99a-81836f2e0785",
        "colab": {
          "base_uri": "https://localhost:8080/"
        }
      },
      "outputs": [
        {
          "output_type": "stream",
          "name": "stdout",
          "text": [
            "electricity 11\n",
            "hydrogen 8\n",
            "methane 7\n"
          ]
        }
      ],
      "source": [
        "# iterate over a list we make up\n",
        "for pet in ['electricity', 'hydrogen', 'methane']:\n",
        "    print(pet, len(pet))"
      ]
    },
    {
      "cell_type": "code",
      "execution_count": 24,
      "metadata": {
        "id": "Wp5H9PzyMPi1",
        "outputId": "a000a1fa-9b10-4703-a872-1d4ea20a4834",
        "colab": {
          "base_uri": "https://localhost:8080/"
        }
      },
      "outputs": [
        {
          "output_type": "stream",
          "name": "stdout",
          "text": [
            "0 electricity 11\n",
            "1 hydrogen 8\n",
            "2 methane 7\n"
          ]
        }
      ],
      "source": [
        "# iterate over a list and count indices\n",
        "for i, pet in enumerate(['electricity', 'hydrogen', 'methane']):\n",
        "    print(i, pet, len(pet))"
      ]
    },
    {
      "cell_type": "markdown",
      "metadata": {
        "id": "zhGqgpEvMPi1"
      },
      "source": [
        "What is the thing in brackets? __A list!__ Lists are one of the core Python data structures.\n",
        "\n",
        "## Lists ##"
      ]
    },
    {
      "cell_type": "code",
      "execution_count": 25,
      "metadata": {
        "id": "L587r7KZMPi2",
        "outputId": "7ffb9b6e-f1c6-4262-a226-a8d3b4559ebf",
        "colab": {
          "base_uri": "https://localhost:8080/"
        }
      },
      "outputs": [
        {
          "output_type": "execute_result",
          "data": {
            "text/plain": [
              "list"
            ]
          },
          "metadata": {},
          "execution_count": 25
        }
      ],
      "source": [
        "l = ['electricity', 'hydrogen', 'methane']\n",
        "type(l)"
      ]
    },
    {
      "cell_type": "code",
      "execution_count": 26,
      "metadata": {
        "id": "9Lc5kSMiMPi2",
        "outputId": "30ae8333-93c4-4efa-f688-247ac7dd42ef",
        "colab": {
          "base_uri": "https://localhost:8080/"
        }
      },
      "outputs": [
        {
          "output_type": "execute_result",
          "data": {
            "text/plain": [
              "['electricity', 'hydrogen', 'methane']"
            ]
          },
          "metadata": {},
          "execution_count": 26
        }
      ],
      "source": [
        "# list have lots of methods\n",
        "l.sort()\n",
        "l"
      ]
    },
    {
      "cell_type": "code",
      "execution_count": 27,
      "metadata": {
        "id": "BLmCzrHvMPi2",
        "outputId": "c96c8967-109a-493c-b72c-8b2afa78ca31",
        "colab": {
          "base_uri": "https://localhost:8080/"
        }
      },
      "outputs": [
        {
          "output_type": "execute_result",
          "data": {
            "text/plain": [
              "[0, 1, 2, 3, 4]"
            ]
          },
          "metadata": {},
          "execution_count": 27
        }
      ],
      "source": [
        "# we can convert a range to a list\n",
        "r = list(range(5))\n",
        "r"
      ]
    },
    {
      "cell_type": "markdown",
      "metadata": {
        "id": "7wuU6aD-MPi2"
      },
      "source": [
        "There are many different ways to interact with lists. For instance:\n",
        "\n",
        "__list.append(x)__ Add an item to the end of the list.\n",
        "\n",
        "__list.extend(L)__ \n",
        "Extend the list by appending all the items in the given list.\n",
        "\n",
        "__list.insert(i, x)__ Insert an item at a given position.\n",
        "\n",
        "__list.remove(x)__ Remove the first item from the list whose value is x.\n",
        "\n",
        "__list.pop([i])__ Remove the item at the given position in the list, and return it.\n",
        "\n",
        "__list.index(x)__ Return the index in the list of the first item whose value is x.\n",
        "\n",
        "__list.count(x)__ Return the number of times x appears in the list.\n",
        "\n",
        "__list.sort()__ Sort the items of the list in place.\n",
        "\n",
        "__list.reverse()__ Reverse the elements of the list in place."
      ]
    },
    {
      "cell_type": "code",
      "execution_count": 28,
      "metadata": {
        "id": "aqvgWlYXMPi2",
        "outputId": "6bd454b3-9d3b-4770-abeb-5cc349b0b430",
        "colab": {
          "base_uri": "https://localhost:8080/"
        }
      },
      "outputs": [
        {
          "output_type": "execute_result",
          "data": {
            "text/plain": [
              "[0, 1, 2, 3, 4, 10, 11, 12, 13, 14]"
            ]
          },
          "metadata": {},
          "execution_count": 28
        }
      ],
      "source": [
        "# \"add\" two lists\n",
        "x = list(range(5))\n",
        "y = list(range(10,15))\n",
        "z = x + y\n",
        "z"
      ]
    },
    {
      "cell_type": "code",
      "execution_count": 29,
      "metadata": {
        "id": "A8EYYqd0MPi2",
        "outputId": "1a18a2a1-2c0b-47f7-ac2e-1b17fa199024",
        "colab": {
          "base_uri": "https://localhost:8080/"
        }
      },
      "outputs": [
        {
          "output_type": "stream",
          "name": "stdout",
          "text": [
            "first 0\n",
            "last 14\n",
            "first 3 [0, 1, 2]\n",
            "last 3 [12, 13, 14]\n"
          ]
        }
      ],
      "source": [
        "# access items from a list\n",
        "print('first', z[0])\n",
        "print('last', z[-1])\n",
        "print('first 3', z[:3])\n",
        "print('last 3', z[-3:])"
      ]
    },
    {
      "cell_type": "code",
      "execution_count": 30,
      "metadata": {
        "id": "a0B1xVLMMPi2",
        "outputId": "b2beab9a-7b5c-4afd-f200-d6b93cf9ab81",
        "colab": {
          "base_uri": "https://localhost:8080/"
        }
      },
      "outputs": [
        {
          "output_type": "stream",
          "name": "stdout",
          "text": [
            "Power\n"
          ]
        }
      ],
      "source": [
        "# this index notation also applies to strings\n",
        "name = 'Power Plant Reuter-West'\n",
        "print(name[:5])"
      ]
    },
    {
      "cell_type": "code",
      "execution_count": 31,
      "metadata": {
        "id": "UoMg7vVzMPi2",
        "outputId": "812b554b-7f67-4317-aaaf-bd9cdb17af6b",
        "colab": {
          "base_uri": "https://localhost:8080/"
        }
      },
      "outputs": [
        {
          "output_type": "execute_result",
          "data": {
            "text/plain": [
              "False"
            ]
          },
          "metadata": {},
          "execution_count": 31
        }
      ],
      "source": [
        "# you can also test for the presence of items in a list\n",
        "5 in z"
      ]
    },
    {
      "cell_type": "markdown",
      "metadata": {
        "id": "5sFAg2tQMPi2"
      },
      "source": [
        "Python is full of tricks for iterating and working with lists"
      ]
    },
    {
      "cell_type": "code",
      "execution_count": 32,
      "metadata": {
        "id": "Gw74JLMsMPi2",
        "outputId": "aff94226-50d5-410e-ba7d-e50727dad64c",
        "colab": {
          "base_uri": "https://localhost:8080/"
        }
      },
      "outputs": [
        {
          "output_type": "execute_result",
          "data": {
            "text/plain": [
              "[0, 1, 4, 9, 16]"
            ]
          },
          "metadata": {},
          "execution_count": 32
        }
      ],
      "source": [
        "# a cool Python trick: list comprehension\n",
        "squares = [n**2 for n in range(5)]\n",
        "squares"
      ]
    },
    {
      "cell_type": "code",
      "execution_count": 33,
      "metadata": {
        "id": "E5difMNcMPi2",
        "outputId": "6e6ceaea-748c-42f3-fe0c-c2e28aeb2a54",
        "colab": {
          "base_uri": "https://localhost:8080/"
        }
      },
      "outputs": [
        {
          "output_type": "stream",
          "name": "stdout",
          "text": [
            "first: 0 second: 10\n",
            "first: 1 second: 11\n",
            "first: 2 second: 12\n",
            "first: 3 second: 13\n",
            "first: 4 second: 14\n"
          ]
        }
      ],
      "source": [
        "# iterate over two lists together uzing zip\n",
        "for item1, item2 in zip(x,y):\n",
        "    print('first:', item1, 'second:', item2)"
      ]
    },
    {
      "cell_type": "markdown",
      "metadata": {
        "id": "t_Jvl1pwMPi2"
      },
      "source": [
        "We are almost there. We have the building blocks we need to do basic programming. But Python has some other data structures we need to learn about.\n",
        "\n",
        "## Dictionaries ##\n",
        "\n",
        "This is an extremely useful data structure. It maps __keys__ to __values__.\n",
        "\n",
        "Dictionaries are unordered!"
      ]
    },
    {
      "cell_type": "code",
      "execution_count": 34,
      "metadata": {
        "id": "pZe9JZCiMPi2",
        "outputId": "6d79bd90-6053-486e-d2ec-13e5cffd8901",
        "colab": {
          "base_uri": "https://localhost:8080/"
        }
      },
      "outputs": [
        {
          "output_type": "execute_result",
          "data": {
            "text/plain": [
              "{'name': 'Reuter West', 'capacity': 564, 'fuel': 'hard coal'}"
            ]
          },
          "metadata": {},
          "execution_count": 34
        }
      ],
      "source": [
        "# different ways to create dictionaries\n",
        "d = {\n",
        "    'name': 'Reuter West',\n",
        "    'capacity': 564,\n",
        "    'fuel': 'hard coal',\n",
        "}\n",
        "e = dict(name='Reuter West', capacity=564, fuel=\"hard coal\")\n",
        "e"
      ]
    },
    {
      "cell_type": "code",
      "execution_count": 35,
      "metadata": {
        "id": "001U6Jc-MPi2",
        "outputId": "3c8814c8-c871-4641-a8d1-301136ea886c",
        "colab": {
          "base_uri": "https://localhost:8080/"
        }
      },
      "outputs": [
        {
          "output_type": "execute_result",
          "data": {
            "text/plain": [
              "564"
            ]
          },
          "metadata": {},
          "execution_count": 35
        }
      ],
      "source": [
        "# access a value\n",
        "d['capacity']"
      ]
    },
    {
      "cell_type": "markdown",
      "metadata": {
        "id": "4j8FddvZMPi2"
      },
      "source": [
        "Square brackets ``[...]`` are Python for \"get item\" in many different contexts."
      ]
    },
    {
      "cell_type": "code",
      "execution_count": 36,
      "metadata": {
        "id": "xAcI4sKAMPi2",
        "outputId": "41a2eff7-f928-4f6b-9cb1-c959684a9aad",
        "colab": {
          "base_uri": "https://localhost:8080/"
        }
      },
      "outputs": [
        {
          "output_type": "stream",
          "name": "stdout",
          "text": [
            "True\n"
          ]
        }
      ],
      "source": [
        "# test for the presence of a key\n",
        "print('fuel' in d)"
      ]
    },
    {
      "cell_type": "code",
      "execution_count": 37,
      "metadata": {
        "id": "1HeKCMccMPi2",
        "outputId": "5f8834fe-b144-4678-e567-c51d7b3c858c",
        "colab": {
          "base_uri": "https://localhost:8080/",
          "height": 184
        }
      },
      "outputs": [
        {
          "output_type": "error",
          "ename": "KeyError",
          "evalue": "ignored",
          "traceback": [
            "\u001b[0;31m---------------------------------------------------------------------------\u001b[0m",
            "\u001b[0;31mKeyError\u001b[0m                                  Traceback (most recent call last)",
            "\u001b[0;32m<ipython-input-37-c600d97d0601>\u001b[0m in \u001b[0;36m<module>\u001b[0;34m\u001b[0m\n\u001b[1;32m      1\u001b[0m \u001b[0;31m# try to access a non-existant key\u001b[0m\u001b[0;34m\u001b[0m\u001b[0;34m\u001b[0m\u001b[0;34m\u001b[0m\u001b[0m\n\u001b[0;32m----> 2\u001b[0;31m \u001b[0md\u001b[0m\u001b[0;34m[\u001b[0m\u001b[0;34m'technology'\u001b[0m\u001b[0;34m]\u001b[0m\u001b[0;34m\u001b[0m\u001b[0;34m\u001b[0m\u001b[0m\n\u001b[0m",
            "\u001b[0;31mKeyError\u001b[0m: 'technology'"
          ]
        }
      ],
      "source": [
        "# try to access a non-existant key\n",
        "d['technology']"
      ]
    },
    {
      "cell_type": "code",
      "execution_count": 38,
      "metadata": {
        "id": "RwnzDXeOMPi3",
        "outputId": "3db14494-63f2-4c8d-dfa5-e9f3c19d2c69",
        "colab": {
          "base_uri": "https://localhost:8080/",
          "height": 35
        }
      },
      "outputs": [
        {
          "output_type": "execute_result",
          "data": {
            "text/plain": [
              "'OCGT'"
            ],
            "application/vnd.google.colaboratory.intrinsic+json": {
              "type": "string"
            }
          },
          "metadata": {},
          "execution_count": 38
        }
      ],
      "source": [
        "# a way around missing keys -> defaults\n",
        "d.get('technology', 'OCGT')"
      ]
    },
    {
      "cell_type": "code",
      "execution_count": 39,
      "metadata": {
        "id": "wGqYLoxNMPi3",
        "outputId": "dd3dc558-47ee-4926-93b4-83e25f030529",
        "colab": {
          "base_uri": "https://localhost:8080/"
        }
      },
      "outputs": [
        {
          "output_type": "execute_result",
          "data": {
            "text/plain": [
              "{'name': 'Reuter West',\n",
              " 'capacity': 564,\n",
              " 'fuel': 'hard coal',\n",
              " 'technology': 'CHP'}"
            ]
          },
          "metadata": {},
          "execution_count": 39
        }
      ],
      "source": [
        "# add a new key\n",
        "d['technology'] = 'CHP'\n",
        "d"
      ]
    },
    {
      "cell_type": "code",
      "execution_count": 40,
      "metadata": {
        "id": "d9-WLr8TMPi3",
        "outputId": "c8ea8cbd-adbf-4339-8cf0-d054e25fe63d",
        "colab": {
          "base_uri": "https://localhost:8080/"
        }
      },
      "outputs": [
        {
          "output_type": "stream",
          "name": "stdout",
          "text": [
            "name Reuter West\n",
            "capacity 564\n",
            "fuel hard coal\n",
            "technology CHP\n"
          ]
        }
      ],
      "source": [
        "# iterate over keys\n",
        "for k in d:\n",
        "    print(k, d[k])"
      ]
    },
    {
      "cell_type": "code",
      "execution_count": 41,
      "metadata": {
        "id": "s0v7iqR7MPi3",
        "outputId": "c9ac9a04-d000-48d7-b179-96c737a856e4",
        "colab": {
          "base_uri": "https://localhost:8080/"
        }
      },
      "outputs": [
        {
          "output_type": "stream",
          "name": "stdout",
          "text": [
            "name Reuter West\n",
            "capacity 564\n",
            "fuel hard coal\n",
            "technology CHP\n"
          ]
        }
      ],
      "source": [
        "# better way\n",
        "for k, v in d.items():\n",
        "    print(k, v)"
      ]
    },
    {
      "cell_type": "markdown",
      "metadata": {
        "id": "9psrCImLMPi3"
      },
      "source": [
        "## Functions ##\n",
        "\n",
        "For longer and more complex tasks, it is important to organize your code into reuseable elements.\n",
        "\n",
        "Cutting and pasting the same or similar lines of code is tedious and opens you up to errors.\n",
        "\n",
        "**DRY** principle: \"don't repeat yourself\".\n",
        "\n",
        "Functions are a central part of advanced python programming.\n",
        "\n",
        "Functions take some inputs (\"arguments\") and do something in response.\n",
        "\n",
        "Usually functions return something, but not always."
      ]
    },
    {
      "cell_type": "code",
      "execution_count": 42,
      "metadata": {
        "id": "29MtipzJMPi3"
      },
      "outputs": [],
      "source": [
        "# define a function\n",
        "def say_hello():\n",
        "    \"\"\"Return the word hello.\"\"\"\n",
        "    return 'Hello'"
      ]
    },
    {
      "cell_type": "code",
      "execution_count": 43,
      "metadata": {
        "id": "vSzzL3UfMPi3",
        "outputId": "ad5c9213-127a-4384-99fa-0a7d0f6cc8c3",
        "colab": {
          "base_uri": "https://localhost:8080/"
        }
      },
      "outputs": [
        {
          "output_type": "execute_result",
          "data": {
            "text/plain": [
              "function"
            ]
          },
          "metadata": {},
          "execution_count": 43
        }
      ],
      "source": [
        "# functions are also objects\n",
        "type(say_hello)"
      ]
    },
    {
      "cell_type": "code",
      "execution_count": 44,
      "metadata": {
        "id": "LOOweq9dMPi3"
      },
      "outputs": [],
      "source": [
        "# this doesnt call\n",
        "say_hello?"
      ]
    },
    {
      "cell_type": "code",
      "execution_count": 45,
      "metadata": {
        "id": "4_rK5iVvMPi3",
        "outputId": "9c5e379b-d68f-482b-b281-b54389f40cd7",
        "colab": {
          "base_uri": "https://localhost:8080/",
          "height": 35
        }
      },
      "outputs": [
        {
          "output_type": "execute_result",
          "data": {
            "text/plain": [
              "'Hello'"
            ],
            "application/vnd.google.colaboratory.intrinsic+json": {
              "type": "string"
            }
          },
          "metadata": {},
          "execution_count": 45
        }
      ],
      "source": [
        "# this does\n",
        "say_hello()"
      ]
    },
    {
      "cell_type": "code",
      "execution_count": null,
      "metadata": {
        "id": "h3qKK2yFMPi3"
      },
      "outputs": [],
      "source": [
        "# assign the result to something\n",
        "res = say_hello()\n",
        "res"
      ]
    },
    {
      "cell_type": "code",
      "execution_count": 46,
      "metadata": {
        "tags": [],
        "id": "Qlt7c-qIMPi3"
      },
      "outputs": [],
      "source": [
        "# take some arguments\n",
        "def say_hello_to(name):\n",
        "    \"\"\"Return a greeting to `name`\"\"\"\n",
        "    return 'Hello ' + name"
      ]
    },
    {
      "cell_type": "code",
      "execution_count": 47,
      "metadata": {
        "id": "SSg4x3R8MPi3",
        "outputId": "0fd240d8-e069-4a6b-de6c-b832f09d3544",
        "colab": {
          "base_uri": "https://localhost:8080/",
          "height": 35
        }
      },
      "outputs": [
        {
          "output_type": "execute_result",
          "data": {
            "text/plain": [
              "'Hello World'"
            ],
            "application/vnd.google.colaboratory.intrinsic+json": {
              "type": "string"
            }
          },
          "metadata": {},
          "execution_count": 47
        }
      ],
      "source": [
        "# intended usage\n",
        "say_hello_to('World')"
      ]
    },
    {
      "cell_type": "code",
      "execution_count": 48,
      "metadata": {
        "id": "0iDOQERrMPi3"
      },
      "outputs": [],
      "source": [
        "# take an optional keyword argument\n",
        "def say_hello(name, german=False):\n",
        "    \"\"\"Say hello in multiple languages.\"\"\"\n",
        "    if german:\n",
        "        greeting = 'Guten Tag '\n",
        "    else:\n",
        "        greeting = 'Hello '\n",
        "    return greeting + name"
      ]
    },
    {
      "cell_type": "code",
      "execution_count": null,
      "metadata": {
        "id": "lsi-Cf2WMPi3"
      },
      "outputs": [],
      "source": [
        "print(say_hello('Mary'))\n",
        "print(say_hello('Max', german=True))"
      ]
    },
    {
      "cell_type": "markdown",
      "metadata": {
        "id": "qY7le2HEMPi3"
      },
      "source": [
        "### Anonymous Functions"
      ]
    },
    {
      "cell_type": "code",
      "execution_count": 49,
      "metadata": {
        "id": "5T2Pzt-UMPi3"
      },
      "outputs": [],
      "source": [
        "def square(n):\n",
        "    return n**2"
      ]
    },
    {
      "cell_type": "code",
      "execution_count": 50,
      "metadata": {
        "id": "UKUKMkurMPi3",
        "outputId": "a7dae4eb-288d-44c9-ae6d-0ecab32c854f",
        "colab": {
          "base_uri": "https://localhost:8080/"
        }
      },
      "outputs": [
        {
          "output_type": "execute_result",
          "data": {
            "text/plain": [
              "9"
            ]
          },
          "metadata": {},
          "execution_count": 50
        }
      ],
      "source": [
        "square(3)"
      ]
    },
    {
      "cell_type": "code",
      "execution_count": 51,
      "metadata": {
        "id": "yhVwoMs_MPi3"
      },
      "outputs": [],
      "source": [
        "square = lambda n: n**2"
      ]
    },
    {
      "cell_type": "code",
      "execution_count": 52,
      "metadata": {
        "id": "-8ZqzXXuMPi3",
        "outputId": "8543a000-1c85-4874-f370-605c2cd39a91",
        "colab": {
          "base_uri": "https://localhost:8080/"
        }
      },
      "outputs": [
        {
          "output_type": "execute_result",
          "data": {
            "text/plain": [
              "4"
            ]
          },
          "metadata": {},
          "execution_count": 52
        }
      ],
      "source": [
        "square(2)"
      ]
    },
    {
      "cell_type": "markdown",
      "metadata": {
        "id": "_RUQFyaTMPi3"
      },
      "source": [
        "The one with `lambda` is called an anonymous function. Anonymous functions can only take up one line of code, so they aren’t appropriate in most cases, but can be useful for smaller things."
      ]
    },
    {
      "cell_type": "markdown",
      "metadata": {
        "id": "_2LWWYK3MPi3"
      },
      "source": [
        "### Pure vs. Impure Functions\n",
        "\n",
        "Functions that don't modify their arguments or produce any other side-effects are called [_pure_](https://en.wikipedia.org/wiki/Pure_function). \n",
        "\n",
        "Functions that modify their arguments or cause other actions to occur are called _impure_.\n",
        "\n",
        "Below is an impure function."
      ]
    },
    {
      "cell_type": "code",
      "execution_count": null,
      "metadata": {
        "id": "Usm7eoFMMPi4"
      },
      "outputs": [],
      "source": [
        "def remove_last_from_list(input_list):\n",
        "    input_list.pop()"
      ]
    },
    {
      "cell_type": "code",
      "execution_count": null,
      "metadata": {
        "id": "I9LVBJ7UMPi4"
      },
      "outputs": [],
      "source": [
        "names = ['Max', 'Martha', 'Marie']"
      ]
    },
    {
      "cell_type": "code",
      "execution_count": null,
      "metadata": {
        "id": "YJZkZXAMMPi4"
      },
      "outputs": [],
      "source": [
        "remove_last_from_list(names)"
      ]
    },
    {
      "cell_type": "code",
      "execution_count": null,
      "metadata": {
        "id": "I2_jNqVQMPi4"
      },
      "outputs": [],
      "source": [
        "names"
      ]
    },
    {
      "cell_type": "code",
      "execution_count": null,
      "metadata": {
        "id": "YRFVi7bAMPi4"
      },
      "outputs": [],
      "source": [
        "remove_last_from_list(names)"
      ]
    },
    {
      "cell_type": "code",
      "execution_count": null,
      "metadata": {
        "id": "RaUIHo_6MPi4"
      },
      "outputs": [],
      "source": [
        "names"
      ]
    },
    {
      "cell_type": "markdown",
      "metadata": {
        "id": "qh2WPllHMPi4"
      },
      "source": [
        "We can do something similar with a pure function.\n",
        "\n",
        "In general, pure functions are safer and more reliable."
      ]
    },
    {
      "cell_type": "code",
      "execution_count": null,
      "metadata": {
        "id": "Y7wUUcmKMPi4"
      },
      "outputs": [],
      "source": [
        "def remove_last_from_list_pure(input_list):\n",
        "    new_list = input_list.copy()\n",
        "    new_list.pop()\n",
        "    return new_list"
      ]
    },
    {
      "cell_type": "code",
      "execution_count": null,
      "metadata": {
        "id": "IqnYtrmcMPi4"
      },
      "outputs": [],
      "source": [
        "names = ['Max', 'Martha', 'Marie']"
      ]
    },
    {
      "cell_type": "code",
      "execution_count": null,
      "metadata": {
        "id": "creoed_0MPi4"
      },
      "outputs": [],
      "source": [
        "new_names = remove_last_from_list_pure(names)"
      ]
    },
    {
      "cell_type": "code",
      "execution_count": null,
      "metadata": {
        "id": "xir_FtL0MPi4"
      },
      "outputs": [],
      "source": [
        "names"
      ]
    },
    {
      "cell_type": "code",
      "execution_count": null,
      "metadata": {
        "id": "pij-vupFMPi4"
      },
      "outputs": [],
      "source": [
        "new_names"
      ]
    },
    {
      "cell_type": "markdown",
      "metadata": {
        "id": "AJfE7jgwMPi4"
      },
      "source": [
        "### Namespaces\n",
        "\n",
        "In python, a [namespace](https://docs.python.org/3/tutorial/classes.html#python-scopes-and-namespaces) is a mapping between variable names and python object. You can think of it like a dictionary.\n",
        "\n",
        "The namespace can change depending on where you are in your program. Functions can \"see\" the variables in the parent namespace, but they can also redefine them in a private scope."
      ]
    },
    {
      "cell_type": "code",
      "execution_count": 53,
      "metadata": {
        "id": "EeIWX_1MMPi4",
        "outputId": "17429116-1188-46f9-fa57-45430b9a2238",
        "colab": {
          "base_uri": "https://localhost:8080/"
        }
      },
      "outputs": [
        {
          "output_type": "stream",
          "name": "stdout",
          "text": [
            "Max\n",
            "Martha\n",
            "Max\n"
          ]
        }
      ],
      "source": [
        "name = 'Max'\n",
        "\n",
        "def print_name():\n",
        "    print(name)\n",
        "\n",
        "def print_name_v2():\n",
        "    name = 'Martha'\n",
        "    print(name)\n",
        "    \n",
        "print_name()\n",
        "print_name_v2()\n",
        "print(name)"
      ]
    },
    {
      "cell_type": "code",
      "execution_count": null,
      "metadata": {
        "id": "37cG1TllMPi4"
      },
      "outputs": [],
      "source": []
    },
    {
      "cell_type": "markdown",
      "metadata": {
        "tags": [],
        "id": "BmT5aq4OMPi4"
      },
      "source": [
        "## Exercises"
      ]
    },
    {
      "cell_type": "markdown",
      "metadata": {
        "id": "_614fMvaMPi4"
      },
      "source": [
        "**Task 1:** What is 5 to the power of 5?"
      ]
    },
    {
      "cell_type": "code",
      "execution_count": 54,
      "metadata": {
        "id": "stxYeG38MPi4",
        "outputId": "067d2d8c-ffc6-4d42-9bd1-f671ce8ed6ad",
        "colab": {
          "base_uri": "https://localhost:8080/"
        }
      },
      "outputs": [
        {
          "output_type": "execute_result",
          "data": {
            "text/plain": [
              "3125"
            ]
          },
          "metadata": {},
          "execution_count": 54
        }
      ],
      "source": [
        "5 ** 5"
      ]
    },
    {
      "cell_type": "markdown",
      "metadata": {
        "id": "C_t_K1eqMPi4"
      },
      "source": [
        "**Task 2:** Split the following string into a list by splitting on the space character:"
      ]
    },
    {
      "cell_type": "code",
      "execution_count": 55,
      "metadata": {
        "id": "Yzo84EaZMPi4"
      },
      "outputs": [],
      "source": [
        "s = \"Data Science for Energy System Modelling\""
      ]
    },
    {
      "cell_type": "code",
      "execution_count": 56,
      "metadata": {
        "id": "7qwpcfruMPi4",
        "outputId": "ddfe9da9-8e9d-4101-bd53-fb5d6149908b",
        "colab": {
          "base_uri": "https://localhost:8080/"
        }
      },
      "outputs": [
        {
          "output_type": "execute_result",
          "data": {
            "text/plain": [
              "['Data', 'Science', 'for', 'Energy', 'System', 'Modelling']"
            ]
          },
          "metadata": {},
          "execution_count": 56
        }
      ],
      "source": [
        "s.split(\" \")"
      ]
    },
    {
      "cell_type": "markdown",
      "metadata": {
        "id": "5uNUCrYCMPi4"
      },
      "source": [
        "**Task 3:** Create a list with the names of every planet in the solar system (in order)"
      ]
    },
    {
      "cell_type": "code",
      "execution_count": 57,
      "metadata": {
        "id": "68BN6qdMMPi4"
      },
      "outputs": [],
      "source": [
        "planets = [\"Mercury\", \"Venus\", \"Earth\", \"Mars\", \"Jupyter\", \"Saturn\", \"Uranus\", \"Neptune\"]"
      ]
    },
    {
      "cell_type": "markdown",
      "metadata": {
        "id": "Ug2l5oXCMPi4"
      },
      "source": [
        "**Task 4:** Have Python tell you how many planets there are by examining your list"
      ]
    },
    {
      "cell_type": "code",
      "execution_count": 58,
      "metadata": {
        "id": "prl5iGtVMPi4",
        "outputId": "d0f5a1bd-287a-4744-ba95-2a122da33da6",
        "colab": {
          "base_uri": "https://localhost:8080/"
        }
      },
      "outputs": [
        {
          "output_type": "execute_result",
          "data": {
            "text/plain": [
              "8"
            ]
          },
          "metadata": {},
          "execution_count": 58
        }
      ],
      "source": [
        "len(planets)"
      ]
    },
    {
      "cell_type": "markdown",
      "metadata": {
        "id": "1UzQLRs8MPi5"
      },
      "source": [
        "**Task 5:** Use slicing to display the first four planets (the rocky planets)"
      ]
    },
    {
      "cell_type": "code",
      "execution_count": 59,
      "metadata": {
        "id": "bqeLKWrUMPi5",
        "outputId": "08c01b1c-24ad-4e0d-e354-dcb036f26b18",
        "colab": {
          "base_uri": "https://localhost:8080/"
        }
      },
      "outputs": [
        {
          "output_type": "execute_result",
          "data": {
            "text/plain": [
              "['Mercury', 'Venus', 'Earth', 'Mars']"
            ]
          },
          "metadata": {},
          "execution_count": 59
        }
      ],
      "source": [
        "planets[:4]"
      ]
    },
    {
      "cell_type": "markdown",
      "metadata": {
        "id": "cAG0DGQFMPi5"
      },
      "source": [
        "**Task 6:** Iterate through your planets and print the planet name only if it has an \"s\" at the end"
      ]
    },
    {
      "cell_type": "code",
      "execution_count": null,
      "metadata": {
        "id": "9OJIK7FcMPi5",
        "outputId": "bf7f22b4-cc20-45bc-dad9-e29d8f225822"
      },
      "outputs": [
        {
          "name": "stdout",
          "output_type": "stream",
          "text": [
            "Venus\n",
            "Mars\n",
            "Uranus\n"
          ]
        }
      ],
      "source": [
        "for p in planets:\n",
        "    if p.endswith(\"s\"):\n",
        "        print(p)"
      ]
    },
    {
      "cell_type": "code",
      "source": [
        "for planet in planets:\n",
        "  if planet.endswith(\"y\"):\n",
        "    print(planet)"
      ],
      "metadata": {
        "id": "ElB13j8IPhJd",
        "outputId": "f57e5388-bf27-4bac-a08d-9cfb5642eb74",
        "colab": {
          "base_uri": "https://localhost:8080/"
        }
      },
      "execution_count": 60,
      "outputs": [
        {
          "output_type": "stream",
          "name": "stdout",
          "text": [
            "Mercury\n"
          ]
        }
      ]
    },
    {
      "cell_type": "markdown",
      "metadata": {
        "id": "Hq7YyT_FMPi5"
      },
      "source": [
        "**Task 7:** Create a dictionary that contains the main facts about the Reuter West power plant.\n",
        "\n",
        "> https://powerplants.vattenfall.com/reuter-west/"
      ]
    },
    {
      "cell_type": "code",
      "execution_count": 61,
      "metadata": {
        "id": "hxfrEQOaMPi5"
      },
      "outputs": [],
      "source": [
        "rw = {\n",
        "    \"Country\": \"Germany\",\n",
        "    \"Electricity Capacity\": 564,\n",
        "    \"Heat Capacity\": 878,\n",
        "    \"Technology\": \"Combined heat and power (CHP)\",\n",
        "    \"Main Fuel\": \"Hard coal\",\n",
        "    \"Vattenfall ownership share\": \"100%\",\n",
        "    \"Status\": \"In Operation\",\n",
        "}"
      ]
    },
    {
      "cell_type": "markdown",
      "metadata": {
        "id": "OrHm8rcGMPi5"
      },
      "source": [
        "**Task 8:** Use this dictionary to access the main fuel type."
      ]
    },
    {
      "cell_type": "code",
      "execution_count": 62,
      "metadata": {
        "id": "vejzzlrOMPi5",
        "outputId": "97b305ef-804d-4466-924f-8c8bef2ce648",
        "colab": {
          "base_uri": "https://localhost:8080/",
          "height": 35
        }
      },
      "outputs": [
        {
          "output_type": "execute_result",
          "data": {
            "text/plain": [
              "'Hard coal'"
            ],
            "application/vnd.google.colaboratory.intrinsic+json": {
              "type": "string"
            }
          },
          "metadata": {},
          "execution_count": 62
        }
      ],
      "source": [
        "rw[\"Main Fuel\"]"
      ]
    },
    {
      "cell_type": "markdown",
      "metadata": {
        "id": "nuKOkZSzMPi5"
      },
      "source": [
        "**Task 9:** Add the power plant's approximate latitude and longitude to the dictionary."
      ]
    },
    {
      "cell_type": "code",
      "execution_count": 63,
      "metadata": {
        "id": "EQHrWpTdMPi5"
      },
      "outputs": [],
      "source": [
        "rw[\"x\"] = 13.24\n",
        "rw[\"y\"] = 52.53"
      ]
    },
    {
      "cell_type": "markdown",
      "metadata": {
        "id": "UChuZyAWMPi5"
      },
      "source": [
        "**Task 10:** Write a function that converts units of energy from 'ktoe' to 'GWh'\n",
        "\n",
        "> https://www.iea.org/data-and-statistics/data-tools/unit-converter"
      ]
    },
    {
      "cell_type": "code",
      "execution_count": 64,
      "metadata": {
        "id": "_Y_8N3GQMPi5"
      },
      "outputs": [],
      "source": [
        "def ktoe_to_gwh(x):\n",
        "    return 11.63 * x"
      ]
    },
    {
      "cell_type": "markdown",
      "metadata": {
        "id": "BNsvuwT_MPi5"
      },
      "source": [
        "**Task 11:** Write a more general unit conversion function that converts between all units of energy listed under the link below. The function should take arguments: for the original value, the original unit and the target unit. Implement the function in a way that the default target unit is \"Wh\".\n",
        "\n",
        "> https://www.iea.org/data-and-statistics/data-tools/unit-converter\n",
        "\n",
        "> You can also just pick three units to convert between if you don't feel like going through all combinations."
      ]
    },
    {
      "cell_type": "code",
      "execution_count": 65,
      "metadata": {
        "id": "Ek0IV3RiMPi5"
      },
      "outputs": [],
      "source": [
        "def to_joule(value, from_unit):\n",
        "    if from_unit.endswith('cal'):\n",
        "        return value / 0.2390\n",
        "    elif from_unit.endswith('Btu'):\n",
        "        return value / 0.0009478\n",
        "    elif from_unit.endswith('Wh'):\n",
        "        return value / 0.0002778\n",
        "    elif from_unit.endswith('toe'):\n",
        "        return value * 2.388e11\n",
        "    elif from_unit.endswith('tce'):\n",
        "        return value * 3.412e11\n",
        "    else:\n",
        "        raise NotImplementedError()"
      ]
    },
    {
      "cell_type": "code",
      "execution_count": 66,
      "metadata": {
        "id": "rgBWSUGXMPi5"
      },
      "outputs": [],
      "source": [
        "def convert_unit(value, from_unit, to_unit=\"Wh\"):\n",
        "    x = to_joule(value, from_unit)\n",
        "    if to_unit.endswith('cal'):\n",
        "        x *= 0.2390\n",
        "    elif to_unit.endswith('Btu'):\n",
        "        x *= 0.0009478\n",
        "    elif to_unit.endswith('Wh'):\n",
        "        x *= 0.0002778\n",
        "    elif to_unit.endswith('toe'):\n",
        "        x /= 2.388e11\n",
        "    elif to_unit.endswith('tce'):\n",
        "        x /= 3.412e11\n",
        "    else:\n",
        "        raise NotImplementedError()\n",
        "        \n",
        "    return x"
      ]
    },
    {
      "cell_type": "code",
      "execution_count": 67,
      "metadata": {
        "id": "3v_FC_XLMPi5",
        "outputId": "721f8870-9836-465f-f320-5ad10e42232c",
        "colab": {
          "base_uri": "https://localhost:8080/"
        }
      },
      "outputs": [
        {
          "output_type": "execute_result",
          "data": {
            "text/plain": [
              "13267727999.999998"
            ]
          },
          "metadata": {},
          "execution_count": 67
        }
      ],
      "source": [
        "convert_unit(200, \"toe\")"
      ]
    },
    {
      "cell_type": "markdown",
      "metadata": {
        "id": "pC8Ylm6gMPi5"
      },
      "source": [
        "**Task 12:** Verify the function above by looping through all combinations of unit conversions and assert that applying the function back and forth results in the same value."
      ]
    },
    {
      "cell_type": "code",
      "execution_count": 68,
      "metadata": {
        "id": "KdO4sChpMPi5"
      },
      "outputs": [],
      "source": [
        "from itertools import product"
      ]
    },
    {
      "cell_type": "code",
      "execution_count": 69,
      "metadata": {
        "id": "rPjxElimMPi5"
      },
      "outputs": [],
      "source": [
        "units = [\"cal\", \"Btu\", \"Wh\", \"toe\", \"tce\"]"
      ]
    },
    {
      "cell_type": "code",
      "execution_count": 70,
      "metadata": {
        "id": "_S9kMXA6MPi5",
        "outputId": "35684639-5dd0-4d06-a0a3-f4766da5129e",
        "colab": {
          "base_uri": "https://localhost:8080/"
        }
      },
      "outputs": [
        {
          "output_type": "stream",
          "name": "stdout",
          "text": [
            "100.0\n",
            "100.0\n",
            "100.0\n",
            "100.0\n",
            "100.0\n",
            "100.0\n",
            "100.0\n",
            "100.0\n",
            "100.0\n",
            "100.0\n",
            "100.0\n",
            "100.0\n",
            "100.0\n",
            "100.0\n",
            "100.0\n",
            "100.0\n",
            "100.0\n",
            "100.0\n",
            "100.0\n",
            "100.00000000000001\n",
            "100.0\n",
            "100.0\n",
            "100.00000000000001\n",
            "100.0\n",
            "100.0\n"
          ]
        }
      ],
      "source": [
        "for i, j in product(units, units):\n",
        "    x = convert_unit(convert_unit(100, i, j), j, i)\n",
        "    print(x)"
      ]
    },
    {
      "cell_type": "code",
      "execution_count": null,
      "metadata": {
        "id": "6_M_M65uMPi6"
      },
      "outputs": [],
      "source": []
    }
  ],
  "metadata": {
    "kernelspec": {
      "display_name": "Python 3 (ipykernel)",
      "language": "python",
      "name": "python3"
    },
    "language_info": {
      "codemirror_mode": {
        "name": "ipython",
        "version": 3
      },
      "file_extension": ".py",
      "mimetype": "text/x-python",
      "name": "python",
      "nbconvert_exporter": "python",
      "pygments_lexer": "ipython3",
      "version": "3.9.13"
    },
    "vscode": {
      "interpreter": {
        "hash": "3dbeba6011cecc2c49b5c018fffe2544bd8d2e61881820091494f4a582a08f2d"
      }
    },
    "colab": {
      "provenance": [],
      "include_colab_link": true
    }
  },
  "nbformat": 4,
  "nbformat_minor": 0
}