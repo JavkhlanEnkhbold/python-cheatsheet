{
  "cells": [
    {
      "cell_type": "markdown",
      "metadata": {
        "id": "LJn2HZc9QBTa"
      },
      "source": [
        "# Introduction to `pandas`"
      ]
    },
    {
      "cell_type": "markdown",
      "metadata": {
        "id": "ORj13zocQBTc"
      },
      "source": [
        ":::{note}\n",
        "This material is mostly adapted from the following resources:\n",
        "- https://earth-env-data-science.github.io/lectures/pandas/pandas_intro.html\n",
        "- https://www.tomasbeuzen.com/python-programming-for-data-science/chapters/chapter7-pandas.html\n",
        ":::"
      ]
    },
    {
      "cell_type": "markdown",
      "metadata": {
        "id": "MP8g4hMcQBTc"
      },
      "source": [
        "<img src=\"https://pandas.pydata.org/static/img/pandas.svg\" width=\"300px\" />\n",
        "\n",
        "[Pandas](http://pandas.pydata.org/) is a an open source library providing high-performance, easy-to-use data structures and data analysis tools. Pandas is particularly suited to the analysis of _tabular_ data, i.e. data that can can go into a table. In other words, if you can imagine the data in an Excel spreadsheet, then Pandas is the tool for the job.\n",
        "\n",
        "- A fast and efficient DataFrame object for data manipulation with indexing;\n",
        "- Tools for reading and writing data: CSV and text files, Excel, SQL;\n",
        "- Intelligent data alignment and integrated handling of missing data;\n",
        "- Flexible reshaping and pivoting of data sets;\n",
        "- Intelligent label-based slicing, indexing, and subsetting of large data sets;\n",
        "- High performance aggregating, merging, joining or transforming data;\n",
        "- Hierarchical indexing provides an intuitive way of working with high-dimensional data;\n",
        "- Time series-functionality: date-based indexing, frequency conversion, moving windows, date shifting and lagging;"
      ]
    },
    {
      "cell_type": "code",
      "execution_count": 1,
      "metadata": {
        "id": "Caw3XzSYQBTd",
        "outputId": "fab1f38e-951f-4ea2-df12-e92a2b54074f",
        "colab": {
          "base_uri": "https://localhost:8080/",
          "height": 321
        }
      },
      "outputs": [
        {
          "output_type": "execute_result",
          "data": {
            "text/html": [
              "<img src=\"https://media.geeksforgeeks.org/wp-content/cdn-uploads/creating_dataframe1.png\" width=\"720\"/>"
            ],
            "text/plain": [
              "<IPython.core.display.Image object>"
            ]
          },
          "metadata": {},
          "execution_count": 1
        }
      ],
      "source": [
        "from IPython.display import Image\n",
        "Image(url='https://media.geeksforgeeks.org/wp-content/cdn-uploads/creating_dataframe1.png',\n",
        "     width=720)"
      ]
    },
    {
      "cell_type": "markdown",
      "metadata": {
        "id": "i4k31w5mQBTe"
      },
      "source": [
        ":::{note}\n",
        "Documentation for this package is available at https://pandas.pydata.org/docs/.\n",
        ":::"
      ]
    },
    {
      "cell_type": "code",
      "execution_count": 2,
      "metadata": {
        "id": "KpjE9DokQBTe"
      },
      "outputs": [],
      "source": [
        "import pandas as pd\n",
        "import numpy as np\n",
        "import matplotlib.pyplot as plt"
      ]
    },
    {
      "cell_type": "markdown",
      "metadata": {
        "tags": [],
        "id": "-qbfNQf6QBTe"
      },
      "source": [
        "## Pandas Data Structures: Series\n",
        "\n",
        "A Series represents a one-dimensional array of data. The main difference between a Series and numpy array is that a Series has an **index**. The index contains the labels that we use to access the data.\n",
        "\n",
        "There are many ways to [create a Series](https://pandas.pydata.org/pandas-docs/stable/dsintro.html#series). We will just show a few. The core constructor is `pd.Series()`.\n",
        "\n",
        "(Data are from Wikipedia's [List of power stations in Germany](https://en.wikipedia.org/wiki/List_of_power_stations_in_Germany#Nuclear).)"
      ]
    },
    {
      "cell_type": "code",
      "execution_count": null,
      "metadata": {
        "id": "62hm0ekMQBTf",
        "outputId": "6c478736-b96a-4fd1-a55f-e1b2cb3940f7"
      },
      "outputs": [
        {
          "data": {
            "text/plain": [
              "Neckarwestheim    1269\n",
              "Essenbach         1365\n",
              "Emsland           1290\n",
              "dtype: int64"
            ]
          },
          "execution_count": 3,
          "metadata": {},
          "output_type": "execute_result"
        }
      ],
      "source": [
        "names = ['Neckarwestheim', 'Essenbach', 'Emsland']\n",
        "values = [1269, 1365, 1290]\n",
        "s = pd.Series(values, index=names)\n",
        "s"
      ]
    },
    {
      "cell_type": "code",
      "execution_count": 4,
      "metadata": {
        "id": "Z38wYPS5QBTf",
        "outputId": "747793ac-ef0b-4ac6-d447-f60480944a90",
        "colab": {
          "base_uri": "https://localhost:8080/"
        }
      },
      "outputs": [
        {
          "output_type": "execute_result",
          "data": {
            "text/plain": [
              "Neckarwestheim    1269\n",
              "Essenbach         1365\n",
              "Emsland           1290\n",
              "dtype: int64"
            ]
          },
          "metadata": {},
          "execution_count": 4
        }
      ],
      "source": [
        "dictionary = {\n",
        "    'Neckarwestheim': 1269,\n",
        "    'Essenbach': 1365,\n",
        "    'Emsland': 1290,\n",
        "}\n",
        "s = pd.Series(dictionary)\n",
        "s"
      ]
    },
    {
      "cell_type": "markdown",
      "metadata": {
        "id": "dalWBsHuQBTf"
      },
      "source": [
        "Arithmetic operations and most `numpy` functions can be applied to `pd.Series`.\n",
        "An important point is that the Series keep their index during such operations."
      ]
    },
    {
      "cell_type": "code",
      "execution_count": 5,
      "metadata": {
        "id": "kZfLbN4MQBTf",
        "outputId": "e62842ca-ec58-467e-d86a-a2261e6d8609",
        "colab": {
          "base_uri": "https://localhost:8080/"
        }
      },
      "outputs": [
        {
          "output_type": "execute_result",
          "data": {
            "text/plain": [
              "Neckarwestheim    0.200600\n",
              "Essenbach         0.195391\n",
              "Emsland           0.199418\n",
              "dtype: float64"
            ]
          },
          "metadata": {},
          "execution_count": 5
        }
      ],
      "source": [
        "np.log(s) / s**0.5"
      ]
    },
    {
      "cell_type": "markdown",
      "metadata": {
        "id": "blvkIvgiQBTg"
      },
      "source": [
        "We can access the underlying index object if we need to:"
      ]
    },
    {
      "cell_type": "code",
      "execution_count": 6,
      "metadata": {
        "id": "Zoq5y8pcQBTg",
        "outputId": "c902b90f-d951-410c-8c39-48fdc9acb66d",
        "colab": {
          "base_uri": "https://localhost:8080/"
        }
      },
      "outputs": [
        {
          "output_type": "execute_result",
          "data": {
            "text/plain": [
              "Index(['Neckarwestheim', 'Essenbach', 'Emsland'], dtype='object')"
            ]
          },
          "metadata": {},
          "execution_count": 6
        }
      ],
      "source": [
        "s.index"
      ]
    },
    {
      "cell_type": "markdown",
      "metadata": {
        "id": "DSP6TP80QBTg"
      },
      "source": [
        "We can get values back out using the index via the `.loc` attribute"
      ]
    },
    {
      "cell_type": "code",
      "execution_count": 7,
      "metadata": {
        "id": "YIHDXuizQBTg",
        "outputId": "59aadf2b-dc07-4a9b-984c-df3031c954e1",
        "colab": {
          "base_uri": "https://localhost:8080/"
        }
      },
      "outputs": [
        {
          "output_type": "execute_result",
          "data": {
            "text/plain": [
              "1290"
            ]
          },
          "metadata": {},
          "execution_count": 7
        }
      ],
      "source": [
        "s.loc['Emsland']"
      ]
    },
    {
      "cell_type": "markdown",
      "metadata": {
        "id": "SdIVIQaDQBTg"
      },
      "source": [
        "Or by raw position using `.iloc`"
      ]
    },
    {
      "cell_type": "code",
      "execution_count": 8,
      "metadata": {
        "id": "4-DmXN-zQBTg",
        "outputId": "327518f0-036a-4a8f-9084-9d6d182f4898",
        "colab": {
          "base_uri": "https://localhost:8080/"
        }
      },
      "outputs": [
        {
          "output_type": "execute_result",
          "data": {
            "text/plain": [
              "1290"
            ]
          },
          "metadata": {},
          "execution_count": 8
        }
      ],
      "source": [
        "s.iloc[2]"
      ]
    },
    {
      "cell_type": "markdown",
      "metadata": {
        "id": "x4iDXLvcQBTh"
      },
      "source": [
        "We can pass a list or array to loc to get multiple rows back:"
      ]
    },
    {
      "cell_type": "code",
      "execution_count": 9,
      "metadata": {
        "id": "KyUuYmpIQBTh",
        "outputId": "e5338482-534b-4b43-b4da-d3637e9e768b",
        "colab": {
          "base_uri": "https://localhost:8080/"
        }
      },
      "outputs": [
        {
          "output_type": "execute_result",
          "data": {
            "text/plain": [
              "Neckarwestheim    1269\n",
              "Emsland           1290\n",
              "dtype: int64"
            ]
          },
          "metadata": {},
          "execution_count": 9
        }
      ],
      "source": [
        "s.loc[['Neckarwestheim', 'Emsland']]"
      ]
    },
    {
      "cell_type": "markdown",
      "metadata": {
        "id": "BH8nJlO8QBTh"
      },
      "source": [
        "And we can even use slice notation"
      ]
    },
    {
      "cell_type": "code",
      "execution_count": 10,
      "metadata": {
        "id": "gIEkdRmiQBTh",
        "outputId": "e536f687-6225-4d0a-dab2-e5aa9b962bd8",
        "colab": {
          "base_uri": "https://localhost:8080/"
        }
      },
      "outputs": [
        {
          "output_type": "execute_result",
          "data": {
            "text/plain": [
              "Neckarwestheim    1269\n",
              "Essenbach         1365\n",
              "Emsland           1290\n",
              "dtype: int64"
            ]
          },
          "metadata": {},
          "execution_count": 10
        }
      ],
      "source": [
        "s.loc['Neckarwestheim':'Emsland']"
      ]
    },
    {
      "cell_type": "code",
      "execution_count": 11,
      "metadata": {
        "id": "GWoCTEnwQBTh",
        "outputId": "05ee5fd5-5b04-466d-f0aa-f1578ba95b13",
        "colab": {
          "base_uri": "https://localhost:8080/"
        }
      },
      "outputs": [
        {
          "output_type": "execute_result",
          "data": {
            "text/plain": [
              "Neckarwestheim    1269\n",
              "Essenbach         1365\n",
              "dtype: int64"
            ]
          },
          "metadata": {},
          "execution_count": 11
        }
      ],
      "source": [
        "s.iloc[:2]"
      ]
    },
    {
      "cell_type": "markdown",
      "metadata": {
        "id": "-2zcIWgJQBTh"
      },
      "source": [
        "If we need to, we can always get the raw data back out as well"
      ]
    },
    {
      "cell_type": "code",
      "execution_count": 12,
      "metadata": {
        "id": "l-T6Q1v2QBTh",
        "outputId": "14a7e8c3-90c4-4b70-bfeb-67b5e5931c39",
        "colab": {
          "base_uri": "https://localhost:8080/"
        }
      },
      "outputs": [
        {
          "output_type": "execute_result",
          "data": {
            "text/plain": [
              "array([1269, 1365, 1290])"
            ]
          },
          "metadata": {},
          "execution_count": 12
        }
      ],
      "source": [
        "s.values # a numpy array"
      ]
    },
    {
      "cell_type": "markdown",
      "metadata": {
        "id": "XofqQKA4QBTh"
      },
      "source": [
        "## Pandas Data Structures: DataFrame\n",
        "\n",
        "There is a lot more to Series, but they are limit to a single **column**. A more useful Pandas data structure is the **DataFrame**. A DataFrame is basically a bunch of series that share the same index. It's a lot like a table in a spreadsheet.\n",
        "\n",
        "The core constructor is `pd.DataFrame()`\n",
        "\n",
        "Below we create a DataFrame."
      ]
    },
    {
      "cell_type": "code",
      "execution_count": 13,
      "metadata": {
        "id": "FIP1_GRsQBTh",
        "outputId": "15d1c5c3-9b31-42c3-d062-82f5c096c35a",
        "colab": {
          "base_uri": "https://localhost:8080/",
          "height": 143
        }
      },
      "outputs": [
        {
          "output_type": "execute_result",
          "data": {
            "text/plain": [
              "                capacity type  start_year  end_year\n",
              "Neckarwestheim      1269  PWR        1989       NaN\n",
              "Essenbach           1365  PWR        1988       NaN\n",
              "Emsland             1290  PWR        1988       NaN"
            ],
            "text/html": [
              "\n",
              "  <div id=\"df-025a3fe0-35f1-4be3-8ef2-b6f96d0896b0\">\n",
              "    <div class=\"colab-df-container\">\n",
              "      <div>\n",
              "<style scoped>\n",
              "    .dataframe tbody tr th:only-of-type {\n",
              "        vertical-align: middle;\n",
              "    }\n",
              "\n",
              "    .dataframe tbody tr th {\n",
              "        vertical-align: top;\n",
              "    }\n",
              "\n",
              "    .dataframe thead th {\n",
              "        text-align: right;\n",
              "    }\n",
              "</style>\n",
              "<table border=\"1\" class=\"dataframe\">\n",
              "  <thead>\n",
              "    <tr style=\"text-align: right;\">\n",
              "      <th></th>\n",
              "      <th>capacity</th>\n",
              "      <th>type</th>\n",
              "      <th>start_year</th>\n",
              "      <th>end_year</th>\n",
              "    </tr>\n",
              "  </thead>\n",
              "  <tbody>\n",
              "    <tr>\n",
              "      <th>Neckarwestheim</th>\n",
              "      <td>1269</td>\n",
              "      <td>PWR</td>\n",
              "      <td>1989</td>\n",
              "      <td>NaN</td>\n",
              "    </tr>\n",
              "    <tr>\n",
              "      <th>Essenbach</th>\n",
              "      <td>1365</td>\n",
              "      <td>PWR</td>\n",
              "      <td>1988</td>\n",
              "      <td>NaN</td>\n",
              "    </tr>\n",
              "    <tr>\n",
              "      <th>Emsland</th>\n",
              "      <td>1290</td>\n",
              "      <td>PWR</td>\n",
              "      <td>1988</td>\n",
              "      <td>NaN</td>\n",
              "    </tr>\n",
              "  </tbody>\n",
              "</table>\n",
              "</div>\n",
              "      <button class=\"colab-df-convert\" onclick=\"convertToInteractive('df-025a3fe0-35f1-4be3-8ef2-b6f96d0896b0')\"\n",
              "              title=\"Convert this dataframe to an interactive table.\"\n",
              "              style=\"display:none;\">\n",
              "        \n",
              "  <svg xmlns=\"http://www.w3.org/2000/svg\" height=\"24px\"viewBox=\"0 0 24 24\"\n",
              "       width=\"24px\">\n",
              "    <path d=\"M0 0h24v24H0V0z\" fill=\"none\"/>\n",
              "    <path d=\"M18.56 5.44l.94 2.06.94-2.06 2.06-.94-2.06-.94-.94-2.06-.94 2.06-2.06.94zm-11 1L8.5 8.5l.94-2.06 2.06-.94-2.06-.94L8.5 2.5l-.94 2.06-2.06.94zm10 10l.94 2.06.94-2.06 2.06-.94-2.06-.94-.94-2.06-.94 2.06-2.06.94z\"/><path d=\"M17.41 7.96l-1.37-1.37c-.4-.4-.92-.59-1.43-.59-.52 0-1.04.2-1.43.59L10.3 9.45l-7.72 7.72c-.78.78-.78 2.05 0 2.83L4 21.41c.39.39.9.59 1.41.59.51 0 1.02-.2 1.41-.59l7.78-7.78 2.81-2.81c.8-.78.8-2.07 0-2.86zM5.41 20L4 18.59l7.72-7.72 1.47 1.35L5.41 20z\"/>\n",
              "  </svg>\n",
              "      </button>\n",
              "      \n",
              "  <style>\n",
              "    .colab-df-container {\n",
              "      display:flex;\n",
              "      flex-wrap:wrap;\n",
              "      gap: 12px;\n",
              "    }\n",
              "\n",
              "    .colab-df-convert {\n",
              "      background-color: #E8F0FE;\n",
              "      border: none;\n",
              "      border-radius: 50%;\n",
              "      cursor: pointer;\n",
              "      display: none;\n",
              "      fill: #1967D2;\n",
              "      height: 32px;\n",
              "      padding: 0 0 0 0;\n",
              "      width: 32px;\n",
              "    }\n",
              "\n",
              "    .colab-df-convert:hover {\n",
              "      background-color: #E2EBFA;\n",
              "      box-shadow: 0px 1px 2px rgba(60, 64, 67, 0.3), 0px 1px 3px 1px rgba(60, 64, 67, 0.15);\n",
              "      fill: #174EA6;\n",
              "    }\n",
              "\n",
              "    [theme=dark] .colab-df-convert {\n",
              "      background-color: #3B4455;\n",
              "      fill: #D2E3FC;\n",
              "    }\n",
              "\n",
              "    [theme=dark] .colab-df-convert:hover {\n",
              "      background-color: #434B5C;\n",
              "      box-shadow: 0px 1px 3px 1px rgba(0, 0, 0, 0.15);\n",
              "      filter: drop-shadow(0px 1px 2px rgba(0, 0, 0, 0.3));\n",
              "      fill: #FFFFFF;\n",
              "    }\n",
              "  </style>\n",
              "\n",
              "      <script>\n",
              "        const buttonEl =\n",
              "          document.querySelector('#df-025a3fe0-35f1-4be3-8ef2-b6f96d0896b0 button.colab-df-convert');\n",
              "        buttonEl.style.display =\n",
              "          google.colab.kernel.accessAllowed ? 'block' : 'none';\n",
              "\n",
              "        async function convertToInteractive(key) {\n",
              "          const element = document.querySelector('#df-025a3fe0-35f1-4be3-8ef2-b6f96d0896b0');\n",
              "          const dataTable =\n",
              "            await google.colab.kernel.invokeFunction('convertToInteractive',\n",
              "                                                     [key], {});\n",
              "          if (!dataTable) return;\n",
              "\n",
              "          const docLinkHtml = 'Like what you see? Visit the ' +\n",
              "            '<a target=\"_blank\" href=https://colab.research.google.com/notebooks/data_table.ipynb>data table notebook</a>'\n",
              "            + ' to learn more about interactive tables.';\n",
              "          element.innerHTML = '';\n",
              "          dataTable['output_type'] = 'display_data';\n",
              "          await google.colab.output.renderOutput(dataTable, element);\n",
              "          const docLink = document.createElement('div');\n",
              "          docLink.innerHTML = docLinkHtml;\n",
              "          element.appendChild(docLink);\n",
              "        }\n",
              "      </script>\n",
              "    </div>\n",
              "  </div>\n",
              "  "
            ]
          },
          "metadata": {},
          "execution_count": 13
        }
      ],
      "source": [
        "# first we create a dictionary\n",
        "data = {'capacity': [1269, 1365, 1290], # MW\n",
        "        'type': [\"PWR\", \"PWR\", \"PWR\"],\n",
        "        'start_year': [1989, 1988, 1988],\n",
        "        'end_year': [np.nan, np.nan, np.nan]\n",
        "       }\n",
        "df = pd.DataFrame(data, index=['Neckarwestheim', 'Essenbach', 'Emsland'])\n",
        "df"
      ]
    },
    {
      "cell_type": "markdown",
      "metadata": {
        "id": "nKIjiPRYQBTh"
      },
      "source": [
        "We can also switch columns and rows very easily."
      ]
    },
    {
      "cell_type": "code",
      "execution_count": 14,
      "metadata": {
        "id": "NfJvU9tEQBTi",
        "outputId": "cb56812f-512e-4bf1-83d5-7156ff1f85f2",
        "colab": {
          "base_uri": "https://localhost:8080/",
          "height": 175
        }
      },
      "outputs": [
        {
          "output_type": "execute_result",
          "data": {
            "text/plain": [
              "           Neckarwestheim Essenbach Emsland\n",
              "capacity             1269      1365    1290\n",
              "type                  PWR       PWR     PWR\n",
              "start_year           1989      1988    1988\n",
              "end_year              NaN       NaN     NaN"
            ],
            "text/html": [
              "\n",
              "  <div id=\"df-744e7c09-dfa5-4ed5-bc00-35547a049d69\">\n",
              "    <div class=\"colab-df-container\">\n",
              "      <div>\n",
              "<style scoped>\n",
              "    .dataframe tbody tr th:only-of-type {\n",
              "        vertical-align: middle;\n",
              "    }\n",
              "\n",
              "    .dataframe tbody tr th {\n",
              "        vertical-align: top;\n",
              "    }\n",
              "\n",
              "    .dataframe thead th {\n",
              "        text-align: right;\n",
              "    }\n",
              "</style>\n",
              "<table border=\"1\" class=\"dataframe\">\n",
              "  <thead>\n",
              "    <tr style=\"text-align: right;\">\n",
              "      <th></th>\n",
              "      <th>Neckarwestheim</th>\n",
              "      <th>Essenbach</th>\n",
              "      <th>Emsland</th>\n",
              "    </tr>\n",
              "  </thead>\n",
              "  <tbody>\n",
              "    <tr>\n",
              "      <th>capacity</th>\n",
              "      <td>1269</td>\n",
              "      <td>1365</td>\n",
              "      <td>1290</td>\n",
              "    </tr>\n",
              "    <tr>\n",
              "      <th>type</th>\n",
              "      <td>PWR</td>\n",
              "      <td>PWR</td>\n",
              "      <td>PWR</td>\n",
              "    </tr>\n",
              "    <tr>\n",
              "      <th>start_year</th>\n",
              "      <td>1989</td>\n",
              "      <td>1988</td>\n",
              "      <td>1988</td>\n",
              "    </tr>\n",
              "    <tr>\n",
              "      <th>end_year</th>\n",
              "      <td>NaN</td>\n",
              "      <td>NaN</td>\n",
              "      <td>NaN</td>\n",
              "    </tr>\n",
              "  </tbody>\n",
              "</table>\n",
              "</div>\n",
              "      <button class=\"colab-df-convert\" onclick=\"convertToInteractive('df-744e7c09-dfa5-4ed5-bc00-35547a049d69')\"\n",
              "              title=\"Convert this dataframe to an interactive table.\"\n",
              "              style=\"display:none;\">\n",
              "        \n",
              "  <svg xmlns=\"http://www.w3.org/2000/svg\" height=\"24px\"viewBox=\"0 0 24 24\"\n",
              "       width=\"24px\">\n",
              "    <path d=\"M0 0h24v24H0V0z\" fill=\"none\"/>\n",
              "    <path d=\"M18.56 5.44l.94 2.06.94-2.06 2.06-.94-2.06-.94-.94-2.06-.94 2.06-2.06.94zm-11 1L8.5 8.5l.94-2.06 2.06-.94-2.06-.94L8.5 2.5l-.94 2.06-2.06.94zm10 10l.94 2.06.94-2.06 2.06-.94-2.06-.94-.94-2.06-.94 2.06-2.06.94z\"/><path d=\"M17.41 7.96l-1.37-1.37c-.4-.4-.92-.59-1.43-.59-.52 0-1.04.2-1.43.59L10.3 9.45l-7.72 7.72c-.78.78-.78 2.05 0 2.83L4 21.41c.39.39.9.59 1.41.59.51 0 1.02-.2 1.41-.59l7.78-7.78 2.81-2.81c.8-.78.8-2.07 0-2.86zM5.41 20L4 18.59l7.72-7.72 1.47 1.35L5.41 20z\"/>\n",
              "  </svg>\n",
              "      </button>\n",
              "      \n",
              "  <style>\n",
              "    .colab-df-container {\n",
              "      display:flex;\n",
              "      flex-wrap:wrap;\n",
              "      gap: 12px;\n",
              "    }\n",
              "\n",
              "    .colab-df-convert {\n",
              "      background-color: #E8F0FE;\n",
              "      border: none;\n",
              "      border-radius: 50%;\n",
              "      cursor: pointer;\n",
              "      display: none;\n",
              "      fill: #1967D2;\n",
              "      height: 32px;\n",
              "      padding: 0 0 0 0;\n",
              "      width: 32px;\n",
              "    }\n",
              "\n",
              "    .colab-df-convert:hover {\n",
              "      background-color: #E2EBFA;\n",
              "      box-shadow: 0px 1px 2px rgba(60, 64, 67, 0.3), 0px 1px 3px 1px rgba(60, 64, 67, 0.15);\n",
              "      fill: #174EA6;\n",
              "    }\n",
              "\n",
              "    [theme=dark] .colab-df-convert {\n",
              "      background-color: #3B4455;\n",
              "      fill: #D2E3FC;\n",
              "    }\n",
              "\n",
              "    [theme=dark] .colab-df-convert:hover {\n",
              "      background-color: #434B5C;\n",
              "      box-shadow: 0px 1px 3px 1px rgba(0, 0, 0, 0.15);\n",
              "      filter: drop-shadow(0px 1px 2px rgba(0, 0, 0, 0.3));\n",
              "      fill: #FFFFFF;\n",
              "    }\n",
              "  </style>\n",
              "\n",
              "      <script>\n",
              "        const buttonEl =\n",
              "          document.querySelector('#df-744e7c09-dfa5-4ed5-bc00-35547a049d69 button.colab-df-convert');\n",
              "        buttonEl.style.display =\n",
              "          google.colab.kernel.accessAllowed ? 'block' : 'none';\n",
              "\n",
              "        async function convertToInteractive(key) {\n",
              "          const element = document.querySelector('#df-744e7c09-dfa5-4ed5-bc00-35547a049d69');\n",
              "          const dataTable =\n",
              "            await google.colab.kernel.invokeFunction('convertToInteractive',\n",
              "                                                     [key], {});\n",
              "          if (!dataTable) return;\n",
              "\n",
              "          const docLinkHtml = 'Like what you see? Visit the ' +\n",
              "            '<a target=\"_blank\" href=https://colab.research.google.com/notebooks/data_table.ipynb>data table notebook</a>'\n",
              "            + ' to learn more about interactive tables.';\n",
              "          element.innerHTML = '';\n",
              "          dataTable['output_type'] = 'display_data';\n",
              "          await google.colab.output.renderOutput(dataTable, element);\n",
              "          const docLink = document.createElement('div');\n",
              "          docLink.innerHTML = docLinkHtml;\n",
              "          element.appendChild(docLink);\n",
              "        }\n",
              "      </script>\n",
              "    </div>\n",
              "  </div>\n",
              "  "
            ]
          },
          "metadata": {},
          "execution_count": 14
        }
      ],
      "source": [
        "df.T"
      ]
    },
    {
      "cell_type": "markdown",
      "metadata": {
        "id": "zdSAosSZQBTi"
      },
      "source": [
        "A wide range of statistical functions are available on both Series and DataFrames."
      ]
    },
    {
      "cell_type": "code",
      "execution_count": 17,
      "metadata": {
        "id": "zNbERZxhQBTi",
        "outputId": "1b3f5e48-53d2-460e-f830-df5ec8e88dc6",
        "colab": {
          "base_uri": "https://localhost:8080/"
        }
      },
      "outputs": [
        {
          "output_type": "execute_result",
          "data": {
            "text/plain": [
              "capacity      1269\n",
              "type           PWR\n",
              "start_year    1988\n",
              "end_year       NaN\n",
              "dtype: object"
            ]
          },
          "metadata": {},
          "execution_count": 17
        }
      ],
      "source": [
        "df.min()"
      ]
    },
    {
      "cell_type": "code",
      "execution_count": 18,
      "metadata": {
        "id": "r3q8gWvbQBTi",
        "outputId": "aa4a3555-12c0-4f92-f543-dee7cb9ebd82",
        "colab": {
          "base_uri": "https://localhost:8080/"
        }
      },
      "outputs": [
        {
          "output_type": "execute_result",
          "data": {
            "text/plain": [
              "capacity      1308.000000\n",
              "start_year    1988.333333\n",
              "end_year              NaN\n",
              "dtype: float64"
            ]
          },
          "metadata": {},
          "execution_count": 18
        }
      ],
      "source": [
        "df.mean(numeric_only=True)"
      ]
    },
    {
      "cell_type": "code",
      "execution_count": 19,
      "metadata": {
        "id": "J0--Hzv2QBTi",
        "outputId": "7002c5a8-d55c-441f-8e2c-8b2bf5950831",
        "colab": {
          "base_uri": "https://localhost:8080/"
        }
      },
      "outputs": [
        {
          "output_type": "execute_result",
          "data": {
            "text/plain": [
              "capacity      50.467812\n",
              "start_year     0.577350\n",
              "end_year            NaN\n",
              "dtype: float64"
            ]
          },
          "metadata": {},
          "execution_count": 19
        }
      ],
      "source": [
        "df.std(numeric_only=True)"
      ]
    },
    {
      "cell_type": "code",
      "execution_count": 20,
      "metadata": {
        "id": "hCw7KS7iQBTi",
        "outputId": "911c0bb6-bad4-4d0c-b7d7-3a60bb05955b",
        "colab": {
          "base_uri": "https://localhost:8080/",
          "height": 300
        }
      },
      "outputs": [
        {
          "output_type": "execute_result",
          "data": {
            "text/plain": [
              "          capacity   start_year  end_year\n",
              "count     3.000000     3.000000       0.0\n",
              "mean   1308.000000  1988.333333       NaN\n",
              "std      50.467812     0.577350       NaN\n",
              "min    1269.000000  1988.000000       NaN\n",
              "25%    1279.500000  1988.000000       NaN\n",
              "50%    1290.000000  1988.000000       NaN\n",
              "75%    1327.500000  1988.500000       NaN\n",
              "max    1365.000000  1989.000000       NaN"
            ],
            "text/html": [
              "\n",
              "  <div id=\"df-1e1a7bde-173a-490b-b540-6ca37834cb99\">\n",
              "    <div class=\"colab-df-container\">\n",
              "      <div>\n",
              "<style scoped>\n",
              "    .dataframe tbody tr th:only-of-type {\n",
              "        vertical-align: middle;\n",
              "    }\n",
              "\n",
              "    .dataframe tbody tr th {\n",
              "        vertical-align: top;\n",
              "    }\n",
              "\n",
              "    .dataframe thead th {\n",
              "        text-align: right;\n",
              "    }\n",
              "</style>\n",
              "<table border=\"1\" class=\"dataframe\">\n",
              "  <thead>\n",
              "    <tr style=\"text-align: right;\">\n",
              "      <th></th>\n",
              "      <th>capacity</th>\n",
              "      <th>start_year</th>\n",
              "      <th>end_year</th>\n",
              "    </tr>\n",
              "  </thead>\n",
              "  <tbody>\n",
              "    <tr>\n",
              "      <th>count</th>\n",
              "      <td>3.000000</td>\n",
              "      <td>3.000000</td>\n",
              "      <td>0.0</td>\n",
              "    </tr>\n",
              "    <tr>\n",
              "      <th>mean</th>\n",
              "      <td>1308.000000</td>\n",
              "      <td>1988.333333</td>\n",
              "      <td>NaN</td>\n",
              "    </tr>\n",
              "    <tr>\n",
              "      <th>std</th>\n",
              "      <td>50.467812</td>\n",
              "      <td>0.577350</td>\n",
              "      <td>NaN</td>\n",
              "    </tr>\n",
              "    <tr>\n",
              "      <th>min</th>\n",
              "      <td>1269.000000</td>\n",
              "      <td>1988.000000</td>\n",
              "      <td>NaN</td>\n",
              "    </tr>\n",
              "    <tr>\n",
              "      <th>25%</th>\n",
              "      <td>1279.500000</td>\n",
              "      <td>1988.000000</td>\n",
              "      <td>NaN</td>\n",
              "    </tr>\n",
              "    <tr>\n",
              "      <th>50%</th>\n",
              "      <td>1290.000000</td>\n",
              "      <td>1988.000000</td>\n",
              "      <td>NaN</td>\n",
              "    </tr>\n",
              "    <tr>\n",
              "      <th>75%</th>\n",
              "      <td>1327.500000</td>\n",
              "      <td>1988.500000</td>\n",
              "      <td>NaN</td>\n",
              "    </tr>\n",
              "    <tr>\n",
              "      <th>max</th>\n",
              "      <td>1365.000000</td>\n",
              "      <td>1989.000000</td>\n",
              "      <td>NaN</td>\n",
              "    </tr>\n",
              "  </tbody>\n",
              "</table>\n",
              "</div>\n",
              "      <button class=\"colab-df-convert\" onclick=\"convertToInteractive('df-1e1a7bde-173a-490b-b540-6ca37834cb99')\"\n",
              "              title=\"Convert this dataframe to an interactive table.\"\n",
              "              style=\"display:none;\">\n",
              "        \n",
              "  <svg xmlns=\"http://www.w3.org/2000/svg\" height=\"24px\"viewBox=\"0 0 24 24\"\n",
              "       width=\"24px\">\n",
              "    <path d=\"M0 0h24v24H0V0z\" fill=\"none\"/>\n",
              "    <path d=\"M18.56 5.44l.94 2.06.94-2.06 2.06-.94-2.06-.94-.94-2.06-.94 2.06-2.06.94zm-11 1L8.5 8.5l.94-2.06 2.06-.94-2.06-.94L8.5 2.5l-.94 2.06-2.06.94zm10 10l.94 2.06.94-2.06 2.06-.94-2.06-.94-.94-2.06-.94 2.06-2.06.94z\"/><path d=\"M17.41 7.96l-1.37-1.37c-.4-.4-.92-.59-1.43-.59-.52 0-1.04.2-1.43.59L10.3 9.45l-7.72 7.72c-.78.78-.78 2.05 0 2.83L4 21.41c.39.39.9.59 1.41.59.51 0 1.02-.2 1.41-.59l7.78-7.78 2.81-2.81c.8-.78.8-2.07 0-2.86zM5.41 20L4 18.59l7.72-7.72 1.47 1.35L5.41 20z\"/>\n",
              "  </svg>\n",
              "      </button>\n",
              "      \n",
              "  <style>\n",
              "    .colab-df-container {\n",
              "      display:flex;\n",
              "      flex-wrap:wrap;\n",
              "      gap: 12px;\n",
              "    }\n",
              "\n",
              "    .colab-df-convert {\n",
              "      background-color: #E8F0FE;\n",
              "      border: none;\n",
              "      border-radius: 50%;\n",
              "      cursor: pointer;\n",
              "      display: none;\n",
              "      fill: #1967D2;\n",
              "      height: 32px;\n",
              "      padding: 0 0 0 0;\n",
              "      width: 32px;\n",
              "    }\n",
              "\n",
              "    .colab-df-convert:hover {\n",
              "      background-color: #E2EBFA;\n",
              "      box-shadow: 0px 1px 2px rgba(60, 64, 67, 0.3), 0px 1px 3px 1px rgba(60, 64, 67, 0.15);\n",
              "      fill: #174EA6;\n",
              "    }\n",
              "\n",
              "    [theme=dark] .colab-df-convert {\n",
              "      background-color: #3B4455;\n",
              "      fill: #D2E3FC;\n",
              "    }\n",
              "\n",
              "    [theme=dark] .colab-df-convert:hover {\n",
              "      background-color: #434B5C;\n",
              "      box-shadow: 0px 1px 3px 1px rgba(0, 0, 0, 0.15);\n",
              "      filter: drop-shadow(0px 1px 2px rgba(0, 0, 0, 0.3));\n",
              "      fill: #FFFFFF;\n",
              "    }\n",
              "  </style>\n",
              "\n",
              "      <script>\n",
              "        const buttonEl =\n",
              "          document.querySelector('#df-1e1a7bde-173a-490b-b540-6ca37834cb99 button.colab-df-convert');\n",
              "        buttonEl.style.display =\n",
              "          google.colab.kernel.accessAllowed ? 'block' : 'none';\n",
              "\n",
              "        async function convertToInteractive(key) {\n",
              "          const element = document.querySelector('#df-1e1a7bde-173a-490b-b540-6ca37834cb99');\n",
              "          const dataTable =\n",
              "            await google.colab.kernel.invokeFunction('convertToInteractive',\n",
              "                                                     [key], {});\n",
              "          if (!dataTable) return;\n",
              "\n",
              "          const docLinkHtml = 'Like what you see? Visit the ' +\n",
              "            '<a target=\"_blank\" href=https://colab.research.google.com/notebooks/data_table.ipynb>data table notebook</a>'\n",
              "            + ' to learn more about interactive tables.';\n",
              "          element.innerHTML = '';\n",
              "          dataTable['output_type'] = 'display_data';\n",
              "          await google.colab.output.renderOutput(dataTable, element);\n",
              "          const docLink = document.createElement('div');\n",
              "          docLink.innerHTML = docLinkHtml;\n",
              "          element.appendChild(docLink);\n",
              "        }\n",
              "      </script>\n",
              "    </div>\n",
              "  </div>\n",
              "  "
            ]
          },
          "metadata": {},
          "execution_count": 20
        }
      ],
      "source": [
        "df.describe()"
      ]
    },
    {
      "cell_type": "markdown",
      "metadata": {
        "id": "WFMMe7UpQBTi"
      },
      "source": [
        "We can get a single column as a Series using python's getitem syntax on the DataFrame object."
      ]
    },
    {
      "cell_type": "code",
      "execution_count": 21,
      "metadata": {
        "id": "VD8aaK3VQBTi",
        "outputId": "434a0765-fd38-45c2-8cd6-928d5525a9b8",
        "colab": {
          "base_uri": "https://localhost:8080/"
        }
      },
      "outputs": [
        {
          "output_type": "execute_result",
          "data": {
            "text/plain": [
              "Neckarwestheim    1269\n",
              "Essenbach         1365\n",
              "Emsland           1290\n",
              "Name: capacity, dtype: int64"
            ]
          },
          "metadata": {},
          "execution_count": 21
        }
      ],
      "source": [
        "df['capacity']"
      ]
    },
    {
      "cell_type": "markdown",
      "metadata": {
        "id": "Uieg8JBdQBTi"
      },
      "source": [
        "...or using attribute syntax."
      ]
    },
    {
      "cell_type": "code",
      "execution_count": 22,
      "metadata": {
        "id": "xPnT0-arQBTi",
        "outputId": "0a895d8b-26a8-46ba-a0ed-ba0dc60a6e79",
        "colab": {
          "base_uri": "https://localhost:8080/"
        }
      },
      "outputs": [
        {
          "output_type": "execute_result",
          "data": {
            "text/plain": [
              "Neckarwestheim    1269\n",
              "Essenbach         1365\n",
              "Emsland           1290\n",
              "Name: capacity, dtype: int64"
            ]
          },
          "metadata": {},
          "execution_count": 22
        }
      ],
      "source": [
        "df.capacity"
      ]
    },
    {
      "cell_type": "markdown",
      "metadata": {
        "id": "mzZKlBXCQBTi"
      },
      "source": [
        "Indexing works very similar to series"
      ]
    },
    {
      "cell_type": "code",
      "execution_count": 23,
      "metadata": {
        "id": "qLlR42sOQBTi",
        "outputId": "cb872dba-9867-48f6-cbe9-37e1996a2ded",
        "colab": {
          "base_uri": "https://localhost:8080/"
        }
      },
      "outputs": [
        {
          "output_type": "execute_result",
          "data": {
            "text/plain": [
              "capacity      1290\n",
              "type           PWR\n",
              "start_year    1988\n",
              "end_year       NaN\n",
              "Name: Emsland, dtype: object"
            ]
          },
          "metadata": {},
          "execution_count": 23
        }
      ],
      "source": [
        "df.loc['Emsland']"
      ]
    },
    {
      "cell_type": "code",
      "execution_count": 24,
      "metadata": {
        "id": "0CupW5dZQBTi",
        "outputId": "712887c2-b636-44da-c290-adbc0a0eb7af",
        "colab": {
          "base_uri": "https://localhost:8080/"
        }
      },
      "outputs": [
        {
          "output_type": "execute_result",
          "data": {
            "text/plain": [
              "capacity      1290\n",
              "type           PWR\n",
              "start_year    1988\n",
              "end_year       NaN\n",
              "Name: Emsland, dtype: object"
            ]
          },
          "metadata": {},
          "execution_count": 24
        }
      ],
      "source": [
        "df.iloc[2]"
      ]
    },
    {
      "cell_type": "markdown",
      "metadata": {
        "id": "hz6lc51jQBTi"
      },
      "source": [
        "But we can also specify the column(s) and row(s) we want to access"
      ]
    },
    {
      "cell_type": "code",
      "execution_count": 25,
      "metadata": {
        "id": "n3srgL9sQBTi",
        "outputId": "4335b629-03a7-482d-842f-27004d892165",
        "colab": {
          "base_uri": "https://localhost:8080/"
        }
      },
      "outputs": [
        {
          "output_type": "execute_result",
          "data": {
            "text/plain": [
              "1988"
            ]
          },
          "metadata": {},
          "execution_count": 25
        }
      ],
      "source": [
        "df.loc['Emsland', 'start_year']"
      ]
    },
    {
      "cell_type": "code",
      "execution_count": 26,
      "metadata": {
        "id": "paJ-8G6TQBTi",
        "outputId": "d6b97ea3-4254-49bb-8740-a4bcfbbcdef5",
        "colab": {
          "base_uri": "https://localhost:8080/",
          "height": 112
        }
      },
      "outputs": [
        {
          "output_type": "execute_result",
          "data": {
            "text/plain": [
              "                start_year  end_year\n",
              "Emsland               1988       NaN\n",
              "Neckarwestheim        1989       NaN"
            ],
            "text/html": [
              "\n",
              "  <div id=\"df-11a29ce2-1a68-4ce0-b501-dc9541e817b7\">\n",
              "    <div class=\"colab-df-container\">\n",
              "      <div>\n",
              "<style scoped>\n",
              "    .dataframe tbody tr th:only-of-type {\n",
              "        vertical-align: middle;\n",
              "    }\n",
              "\n",
              "    .dataframe tbody tr th {\n",
              "        vertical-align: top;\n",
              "    }\n",
              "\n",
              "    .dataframe thead th {\n",
              "        text-align: right;\n",
              "    }\n",
              "</style>\n",
              "<table border=\"1\" class=\"dataframe\">\n",
              "  <thead>\n",
              "    <tr style=\"text-align: right;\">\n",
              "      <th></th>\n",
              "      <th>start_year</th>\n",
              "      <th>end_year</th>\n",
              "    </tr>\n",
              "  </thead>\n",
              "  <tbody>\n",
              "    <tr>\n",
              "      <th>Emsland</th>\n",
              "      <td>1988</td>\n",
              "      <td>NaN</td>\n",
              "    </tr>\n",
              "    <tr>\n",
              "      <th>Neckarwestheim</th>\n",
              "      <td>1989</td>\n",
              "      <td>NaN</td>\n",
              "    </tr>\n",
              "  </tbody>\n",
              "</table>\n",
              "</div>\n",
              "      <button class=\"colab-df-convert\" onclick=\"convertToInteractive('df-11a29ce2-1a68-4ce0-b501-dc9541e817b7')\"\n",
              "              title=\"Convert this dataframe to an interactive table.\"\n",
              "              style=\"display:none;\">\n",
              "        \n",
              "  <svg xmlns=\"http://www.w3.org/2000/svg\" height=\"24px\"viewBox=\"0 0 24 24\"\n",
              "       width=\"24px\">\n",
              "    <path d=\"M0 0h24v24H0V0z\" fill=\"none\"/>\n",
              "    <path d=\"M18.56 5.44l.94 2.06.94-2.06 2.06-.94-2.06-.94-.94-2.06-.94 2.06-2.06.94zm-11 1L8.5 8.5l.94-2.06 2.06-.94-2.06-.94L8.5 2.5l-.94 2.06-2.06.94zm10 10l.94 2.06.94-2.06 2.06-.94-2.06-.94-.94-2.06-.94 2.06-2.06.94z\"/><path d=\"M17.41 7.96l-1.37-1.37c-.4-.4-.92-.59-1.43-.59-.52 0-1.04.2-1.43.59L10.3 9.45l-7.72 7.72c-.78.78-.78 2.05 0 2.83L4 21.41c.39.39.9.59 1.41.59.51 0 1.02-.2 1.41-.59l7.78-7.78 2.81-2.81c.8-.78.8-2.07 0-2.86zM5.41 20L4 18.59l7.72-7.72 1.47 1.35L5.41 20z\"/>\n",
              "  </svg>\n",
              "      </button>\n",
              "      \n",
              "  <style>\n",
              "    .colab-df-container {\n",
              "      display:flex;\n",
              "      flex-wrap:wrap;\n",
              "      gap: 12px;\n",
              "    }\n",
              "\n",
              "    .colab-df-convert {\n",
              "      background-color: #E8F0FE;\n",
              "      border: none;\n",
              "      border-radius: 50%;\n",
              "      cursor: pointer;\n",
              "      display: none;\n",
              "      fill: #1967D2;\n",
              "      height: 32px;\n",
              "      padding: 0 0 0 0;\n",
              "      width: 32px;\n",
              "    }\n",
              "\n",
              "    .colab-df-convert:hover {\n",
              "      background-color: #E2EBFA;\n",
              "      box-shadow: 0px 1px 2px rgba(60, 64, 67, 0.3), 0px 1px 3px 1px rgba(60, 64, 67, 0.15);\n",
              "      fill: #174EA6;\n",
              "    }\n",
              "\n",
              "    [theme=dark] .colab-df-convert {\n",
              "      background-color: #3B4455;\n",
              "      fill: #D2E3FC;\n",
              "    }\n",
              "\n",
              "    [theme=dark] .colab-df-convert:hover {\n",
              "      background-color: #434B5C;\n",
              "      box-shadow: 0px 1px 3px 1px rgba(0, 0, 0, 0.15);\n",
              "      filter: drop-shadow(0px 1px 2px rgba(0, 0, 0, 0.3));\n",
              "      fill: #FFFFFF;\n",
              "    }\n",
              "  </style>\n",
              "\n",
              "      <script>\n",
              "        const buttonEl =\n",
              "          document.querySelector('#df-11a29ce2-1a68-4ce0-b501-dc9541e817b7 button.colab-df-convert');\n",
              "        buttonEl.style.display =\n",
              "          google.colab.kernel.accessAllowed ? 'block' : 'none';\n",
              "\n",
              "        async function convertToInteractive(key) {\n",
              "          const element = document.querySelector('#df-11a29ce2-1a68-4ce0-b501-dc9541e817b7');\n",
              "          const dataTable =\n",
              "            await google.colab.kernel.invokeFunction('convertToInteractive',\n",
              "                                                     [key], {});\n",
              "          if (!dataTable) return;\n",
              "\n",
              "          const docLinkHtml = 'Like what you see? Visit the ' +\n",
              "            '<a target=\"_blank\" href=https://colab.research.google.com/notebooks/data_table.ipynb>data table notebook</a>'\n",
              "            + ' to learn more about interactive tables.';\n",
              "          element.innerHTML = '';\n",
              "          dataTable['output_type'] = 'display_data';\n",
              "          await google.colab.output.renderOutput(dataTable, element);\n",
              "          const docLink = document.createElement('div');\n",
              "          docLink.innerHTML = docLinkHtml;\n",
              "          element.appendChild(docLink);\n",
              "        }\n",
              "      </script>\n",
              "    </div>\n",
              "  </div>\n",
              "  "
            ]
          },
          "metadata": {},
          "execution_count": 26
        }
      ],
      "source": [
        "df.loc[['Emsland', \"Neckarwestheim\"], ['start_year', \"end_year\"]]"
      ]
    },
    {
      "cell_type": "code",
      "execution_count": 27,
      "metadata": {
        "id": "mfjeGKhxQBTj",
        "outputId": "293194fc-d904-4265-de8c-685bbdfaa2ed",
        "colab": {
          "base_uri": "https://localhost:8080/"
        }
      },
      "outputs": [
        {
          "output_type": "execute_result",
          "data": {
            "text/plain": [
              "Neckarwestheim    1015.2\n",
              "Essenbach         1092.0\n",
              "Emsland           1032.0\n",
              "Name: capacity, dtype: float64"
            ]
          },
          "metadata": {},
          "execution_count": 27
        }
      ],
      "source": [
        "df.capacity * 0.8"
      ]
    },
    {
      "cell_type": "markdown",
      "metadata": {
        "id": "f-Tdg3H5QBTj"
      },
      "source": [
        "Which we can easily add as another column to the DataFrame:"
      ]
    },
    {
      "cell_type": "code",
      "execution_count": 28,
      "metadata": {
        "id": "sPFa4aINQBTj",
        "outputId": "0c196050-7a3d-46c9-fdba-971520d3295a",
        "colab": {
          "base_uri": "https://localhost:8080/",
          "height": 143
        }
      },
      "outputs": [
        {
          "output_type": "execute_result",
          "data": {
            "text/plain": [
              "                capacity type  start_year  end_year  reduced_capacity\n",
              "Neckarwestheim      1269  PWR        1989       NaN            1015.2\n",
              "Essenbach           1365  PWR        1988       NaN            1092.0\n",
              "Emsland             1290  PWR        1988       NaN            1032.0"
            ],
            "text/html": [
              "\n",
              "  <div id=\"df-611958ea-586f-4594-8e59-8a1022157e89\">\n",
              "    <div class=\"colab-df-container\">\n",
              "      <div>\n",
              "<style scoped>\n",
              "    .dataframe tbody tr th:only-of-type {\n",
              "        vertical-align: middle;\n",
              "    }\n",
              "\n",
              "    .dataframe tbody tr th {\n",
              "        vertical-align: top;\n",
              "    }\n",
              "\n",
              "    .dataframe thead th {\n",
              "        text-align: right;\n",
              "    }\n",
              "</style>\n",
              "<table border=\"1\" class=\"dataframe\">\n",
              "  <thead>\n",
              "    <tr style=\"text-align: right;\">\n",
              "      <th></th>\n",
              "      <th>capacity</th>\n",
              "      <th>type</th>\n",
              "      <th>start_year</th>\n",
              "      <th>end_year</th>\n",
              "      <th>reduced_capacity</th>\n",
              "    </tr>\n",
              "  </thead>\n",
              "  <tbody>\n",
              "    <tr>\n",
              "      <th>Neckarwestheim</th>\n",
              "      <td>1269</td>\n",
              "      <td>PWR</td>\n",
              "      <td>1989</td>\n",
              "      <td>NaN</td>\n",
              "      <td>1015.2</td>\n",
              "    </tr>\n",
              "    <tr>\n",
              "      <th>Essenbach</th>\n",
              "      <td>1365</td>\n",
              "      <td>PWR</td>\n",
              "      <td>1988</td>\n",
              "      <td>NaN</td>\n",
              "      <td>1092.0</td>\n",
              "    </tr>\n",
              "    <tr>\n",
              "      <th>Emsland</th>\n",
              "      <td>1290</td>\n",
              "      <td>PWR</td>\n",
              "      <td>1988</td>\n",
              "      <td>NaN</td>\n",
              "      <td>1032.0</td>\n",
              "    </tr>\n",
              "  </tbody>\n",
              "</table>\n",
              "</div>\n",
              "      <button class=\"colab-df-convert\" onclick=\"convertToInteractive('df-611958ea-586f-4594-8e59-8a1022157e89')\"\n",
              "              title=\"Convert this dataframe to an interactive table.\"\n",
              "              style=\"display:none;\">\n",
              "        \n",
              "  <svg xmlns=\"http://www.w3.org/2000/svg\" height=\"24px\"viewBox=\"0 0 24 24\"\n",
              "       width=\"24px\">\n",
              "    <path d=\"M0 0h24v24H0V0z\" fill=\"none\"/>\n",
              "    <path d=\"M18.56 5.44l.94 2.06.94-2.06 2.06-.94-2.06-.94-.94-2.06-.94 2.06-2.06.94zm-11 1L8.5 8.5l.94-2.06 2.06-.94-2.06-.94L8.5 2.5l-.94 2.06-2.06.94zm10 10l.94 2.06.94-2.06 2.06-.94-2.06-.94-.94-2.06-.94 2.06-2.06.94z\"/><path d=\"M17.41 7.96l-1.37-1.37c-.4-.4-.92-.59-1.43-.59-.52 0-1.04.2-1.43.59L10.3 9.45l-7.72 7.72c-.78.78-.78 2.05 0 2.83L4 21.41c.39.39.9.59 1.41.59.51 0 1.02-.2 1.41-.59l7.78-7.78 2.81-2.81c.8-.78.8-2.07 0-2.86zM5.41 20L4 18.59l7.72-7.72 1.47 1.35L5.41 20z\"/>\n",
              "  </svg>\n",
              "      </button>\n",
              "      \n",
              "  <style>\n",
              "    .colab-df-container {\n",
              "      display:flex;\n",
              "      flex-wrap:wrap;\n",
              "      gap: 12px;\n",
              "    }\n",
              "\n",
              "    .colab-df-convert {\n",
              "      background-color: #E8F0FE;\n",
              "      border: none;\n",
              "      border-radius: 50%;\n",
              "      cursor: pointer;\n",
              "      display: none;\n",
              "      fill: #1967D2;\n",
              "      height: 32px;\n",
              "      padding: 0 0 0 0;\n",
              "      width: 32px;\n",
              "    }\n",
              "\n",
              "    .colab-df-convert:hover {\n",
              "      background-color: #E2EBFA;\n",
              "      box-shadow: 0px 1px 2px rgba(60, 64, 67, 0.3), 0px 1px 3px 1px rgba(60, 64, 67, 0.15);\n",
              "      fill: #174EA6;\n",
              "    }\n",
              "\n",
              "    [theme=dark] .colab-df-convert {\n",
              "      background-color: #3B4455;\n",
              "      fill: #D2E3FC;\n",
              "    }\n",
              "\n",
              "    [theme=dark] .colab-df-convert:hover {\n",
              "      background-color: #434B5C;\n",
              "      box-shadow: 0px 1px 3px 1px rgba(0, 0, 0, 0.15);\n",
              "      filter: drop-shadow(0px 1px 2px rgba(0, 0, 0, 0.3));\n",
              "      fill: #FFFFFF;\n",
              "    }\n",
              "  </style>\n",
              "\n",
              "      <script>\n",
              "        const buttonEl =\n",
              "          document.querySelector('#df-611958ea-586f-4594-8e59-8a1022157e89 button.colab-df-convert');\n",
              "        buttonEl.style.display =\n",
              "          google.colab.kernel.accessAllowed ? 'block' : 'none';\n",
              "\n",
              "        async function convertToInteractive(key) {\n",
              "          const element = document.querySelector('#df-611958ea-586f-4594-8e59-8a1022157e89');\n",
              "          const dataTable =\n",
              "            await google.colab.kernel.invokeFunction('convertToInteractive',\n",
              "                                                     [key], {});\n",
              "          if (!dataTable) return;\n",
              "\n",
              "          const docLinkHtml = 'Like what you see? Visit the ' +\n",
              "            '<a target=\"_blank\" href=https://colab.research.google.com/notebooks/data_table.ipynb>data table notebook</a>'\n",
              "            + ' to learn more about interactive tables.';\n",
              "          element.innerHTML = '';\n",
              "          dataTable['output_type'] = 'display_data';\n",
              "          await google.colab.output.renderOutput(dataTable, element);\n",
              "          const docLink = document.createElement('div');\n",
              "          docLink.innerHTML = docLinkHtml;\n",
              "          element.appendChild(docLink);\n",
              "        }\n",
              "      </script>\n",
              "    </div>\n",
              "  </div>\n",
              "  "
            ]
          },
          "metadata": {},
          "execution_count": 28
        }
      ],
      "source": [
        "df['reduced_capacity'] = df.capacity * 0.8\n",
        "df"
      ]
    },
    {
      "cell_type": "markdown",
      "metadata": {
        "id": "7iGTKe76QBTj"
      },
      "source": [
        "We can also remove columns or rows from a DataFrame:"
      ]
    },
    {
      "cell_type": "code",
      "execution_count": 29,
      "metadata": {
        "id": "MqOgYiBmQBTj",
        "outputId": "24309a0f-b655-4087-8874-195a53d89f77",
        "colab": {
          "base_uri": "https://localhost:8080/",
          "height": 143
        }
      },
      "outputs": [
        {
          "output_type": "execute_result",
          "data": {
            "text/plain": [
              "                capacity type  start_year  end_year\n",
              "Neckarwestheim      1269  PWR        1989       NaN\n",
              "Essenbach           1365  PWR        1988       NaN\n",
              "Emsland             1290  PWR        1988       NaN"
            ],
            "text/html": [
              "\n",
              "  <div id=\"df-05c40a1d-9bb2-4095-bb85-ebe3dd5c075b\">\n",
              "    <div class=\"colab-df-container\">\n",
              "      <div>\n",
              "<style scoped>\n",
              "    .dataframe tbody tr th:only-of-type {\n",
              "        vertical-align: middle;\n",
              "    }\n",
              "\n",
              "    .dataframe tbody tr th {\n",
              "        vertical-align: top;\n",
              "    }\n",
              "\n",
              "    .dataframe thead th {\n",
              "        text-align: right;\n",
              "    }\n",
              "</style>\n",
              "<table border=\"1\" class=\"dataframe\">\n",
              "  <thead>\n",
              "    <tr style=\"text-align: right;\">\n",
              "      <th></th>\n",
              "      <th>capacity</th>\n",
              "      <th>type</th>\n",
              "      <th>start_year</th>\n",
              "      <th>end_year</th>\n",
              "    </tr>\n",
              "  </thead>\n",
              "  <tbody>\n",
              "    <tr>\n",
              "      <th>Neckarwestheim</th>\n",
              "      <td>1269</td>\n",
              "      <td>PWR</td>\n",
              "      <td>1989</td>\n",
              "      <td>NaN</td>\n",
              "    </tr>\n",
              "    <tr>\n",
              "      <th>Essenbach</th>\n",
              "      <td>1365</td>\n",
              "      <td>PWR</td>\n",
              "      <td>1988</td>\n",
              "      <td>NaN</td>\n",
              "    </tr>\n",
              "    <tr>\n",
              "      <th>Emsland</th>\n",
              "      <td>1290</td>\n",
              "      <td>PWR</td>\n",
              "      <td>1988</td>\n",
              "      <td>NaN</td>\n",
              "    </tr>\n",
              "  </tbody>\n",
              "</table>\n",
              "</div>\n",
              "      <button class=\"colab-df-convert\" onclick=\"convertToInteractive('df-05c40a1d-9bb2-4095-bb85-ebe3dd5c075b')\"\n",
              "              title=\"Convert this dataframe to an interactive table.\"\n",
              "              style=\"display:none;\">\n",
              "        \n",
              "  <svg xmlns=\"http://www.w3.org/2000/svg\" height=\"24px\"viewBox=\"0 0 24 24\"\n",
              "       width=\"24px\">\n",
              "    <path d=\"M0 0h24v24H0V0z\" fill=\"none\"/>\n",
              "    <path d=\"M18.56 5.44l.94 2.06.94-2.06 2.06-.94-2.06-.94-.94-2.06-.94 2.06-2.06.94zm-11 1L8.5 8.5l.94-2.06 2.06-.94-2.06-.94L8.5 2.5l-.94 2.06-2.06.94zm10 10l.94 2.06.94-2.06 2.06-.94-2.06-.94-.94-2.06-.94 2.06-2.06.94z\"/><path d=\"M17.41 7.96l-1.37-1.37c-.4-.4-.92-.59-1.43-.59-.52 0-1.04.2-1.43.59L10.3 9.45l-7.72 7.72c-.78.78-.78 2.05 0 2.83L4 21.41c.39.39.9.59 1.41.59.51 0 1.02-.2 1.41-.59l7.78-7.78 2.81-2.81c.8-.78.8-2.07 0-2.86zM5.41 20L4 18.59l7.72-7.72 1.47 1.35L5.41 20z\"/>\n",
              "  </svg>\n",
              "      </button>\n",
              "      \n",
              "  <style>\n",
              "    .colab-df-container {\n",
              "      display:flex;\n",
              "      flex-wrap:wrap;\n",
              "      gap: 12px;\n",
              "    }\n",
              "\n",
              "    .colab-df-convert {\n",
              "      background-color: #E8F0FE;\n",
              "      border: none;\n",
              "      border-radius: 50%;\n",
              "      cursor: pointer;\n",
              "      display: none;\n",
              "      fill: #1967D2;\n",
              "      height: 32px;\n",
              "      padding: 0 0 0 0;\n",
              "      width: 32px;\n",
              "    }\n",
              "\n",
              "    .colab-df-convert:hover {\n",
              "      background-color: #E2EBFA;\n",
              "      box-shadow: 0px 1px 2px rgba(60, 64, 67, 0.3), 0px 1px 3px 1px rgba(60, 64, 67, 0.15);\n",
              "      fill: #174EA6;\n",
              "    }\n",
              "\n",
              "    [theme=dark] .colab-df-convert {\n",
              "      background-color: #3B4455;\n",
              "      fill: #D2E3FC;\n",
              "    }\n",
              "\n",
              "    [theme=dark] .colab-df-convert:hover {\n",
              "      background-color: #434B5C;\n",
              "      box-shadow: 0px 1px 3px 1px rgba(0, 0, 0, 0.15);\n",
              "      filter: drop-shadow(0px 1px 2px rgba(0, 0, 0, 0.3));\n",
              "      fill: #FFFFFF;\n",
              "    }\n",
              "  </style>\n",
              "\n",
              "      <script>\n",
              "        const buttonEl =\n",
              "          document.querySelector('#df-05c40a1d-9bb2-4095-bb85-ebe3dd5c075b button.colab-df-convert');\n",
              "        buttonEl.style.display =\n",
              "          google.colab.kernel.accessAllowed ? 'block' : 'none';\n",
              "\n",
              "        async function convertToInteractive(key) {\n",
              "          const element = document.querySelector('#df-05c40a1d-9bb2-4095-bb85-ebe3dd5c075b');\n",
              "          const dataTable =\n",
              "            await google.colab.kernel.invokeFunction('convertToInteractive',\n",
              "                                                     [key], {});\n",
              "          if (!dataTable) return;\n",
              "\n",
              "          const docLinkHtml = 'Like what you see? Visit the ' +\n",
              "            '<a target=\"_blank\" href=https://colab.research.google.com/notebooks/data_table.ipynb>data table notebook</a>'\n",
              "            + ' to learn more about interactive tables.';\n",
              "          element.innerHTML = '';\n",
              "          dataTable['output_type'] = 'display_data';\n",
              "          await google.colab.output.renderOutput(dataTable, element);\n",
              "          const docLink = document.createElement('div');\n",
              "          docLink.innerHTML = docLinkHtml;\n",
              "          element.appendChild(docLink);\n",
              "        }\n",
              "      </script>\n",
              "    </div>\n",
              "  </div>\n",
              "  "
            ]
          },
          "metadata": {},
          "execution_count": 29
        }
      ],
      "source": [
        "df.drop(\"reduced_capacity\", axis='columns')"
      ]
    },
    {
      "cell_type": "markdown",
      "metadata": {
        "id": "zOElOTnmQBTj"
      },
      "source": [
        "We can update the variable `df` by either overwriting `df` or passing an `inplace` keyword:"
      ]
    },
    {
      "cell_type": "code",
      "execution_count": 30,
      "metadata": {
        "id": "SbcEGAd3QBTj"
      },
      "outputs": [],
      "source": [
        "df.drop(\"reduced_capacity\", axis='columns', inplace=True)"
      ]
    },
    {
      "cell_type": "raw",
      "metadata": {
        "id": "y5P5rfcCQBTj"
      },
      "source": [
        "df = df.drop(\"reduced_capacity\", axis='columns')"
      ]
    },
    {
      "cell_type": "markdown",
      "metadata": {
        "id": "_qQwoAm0QBTj"
      },
      "source": [
        "We can also drop columns with only NaN values"
      ]
    },
    {
      "cell_type": "code",
      "execution_count": 31,
      "metadata": {
        "id": "eeFUjHTBQBTj",
        "outputId": "b93ead74-64cf-47a3-9137-83d812ed112b",
        "colab": {
          "base_uri": "https://localhost:8080/",
          "height": 143
        }
      },
      "outputs": [
        {
          "output_type": "execute_result",
          "data": {
            "text/plain": [
              "                capacity type  start_year\n",
              "Neckarwestheim      1269  PWR        1989\n",
              "Essenbach           1365  PWR        1988\n",
              "Emsland             1290  PWR        1988"
            ],
            "text/html": [
              "\n",
              "  <div id=\"df-6e5a9d93-fb16-454a-a84e-c75f4f7ead93\">\n",
              "    <div class=\"colab-df-container\">\n",
              "      <div>\n",
              "<style scoped>\n",
              "    .dataframe tbody tr th:only-of-type {\n",
              "        vertical-align: middle;\n",
              "    }\n",
              "\n",
              "    .dataframe tbody tr th {\n",
              "        vertical-align: top;\n",
              "    }\n",
              "\n",
              "    .dataframe thead th {\n",
              "        text-align: right;\n",
              "    }\n",
              "</style>\n",
              "<table border=\"1\" class=\"dataframe\">\n",
              "  <thead>\n",
              "    <tr style=\"text-align: right;\">\n",
              "      <th></th>\n",
              "      <th>capacity</th>\n",
              "      <th>type</th>\n",
              "      <th>start_year</th>\n",
              "    </tr>\n",
              "  </thead>\n",
              "  <tbody>\n",
              "    <tr>\n",
              "      <th>Neckarwestheim</th>\n",
              "      <td>1269</td>\n",
              "      <td>PWR</td>\n",
              "      <td>1989</td>\n",
              "    </tr>\n",
              "    <tr>\n",
              "      <th>Essenbach</th>\n",
              "      <td>1365</td>\n",
              "      <td>PWR</td>\n",
              "      <td>1988</td>\n",
              "    </tr>\n",
              "    <tr>\n",
              "      <th>Emsland</th>\n",
              "      <td>1290</td>\n",
              "      <td>PWR</td>\n",
              "      <td>1988</td>\n",
              "    </tr>\n",
              "  </tbody>\n",
              "</table>\n",
              "</div>\n",
              "      <button class=\"colab-df-convert\" onclick=\"convertToInteractive('df-6e5a9d93-fb16-454a-a84e-c75f4f7ead93')\"\n",
              "              title=\"Convert this dataframe to an interactive table.\"\n",
              "              style=\"display:none;\">\n",
              "        \n",
              "  <svg xmlns=\"http://www.w3.org/2000/svg\" height=\"24px\"viewBox=\"0 0 24 24\"\n",
              "       width=\"24px\">\n",
              "    <path d=\"M0 0h24v24H0V0z\" fill=\"none\"/>\n",
              "    <path d=\"M18.56 5.44l.94 2.06.94-2.06 2.06-.94-2.06-.94-.94-2.06-.94 2.06-2.06.94zm-11 1L8.5 8.5l.94-2.06 2.06-.94-2.06-.94L8.5 2.5l-.94 2.06-2.06.94zm10 10l.94 2.06.94-2.06 2.06-.94-2.06-.94-.94-2.06-.94 2.06-2.06.94z\"/><path d=\"M17.41 7.96l-1.37-1.37c-.4-.4-.92-.59-1.43-.59-.52 0-1.04.2-1.43.59L10.3 9.45l-7.72 7.72c-.78.78-.78 2.05 0 2.83L4 21.41c.39.39.9.59 1.41.59.51 0 1.02-.2 1.41-.59l7.78-7.78 2.81-2.81c.8-.78.8-2.07 0-2.86zM5.41 20L4 18.59l7.72-7.72 1.47 1.35L5.41 20z\"/>\n",
              "  </svg>\n",
              "      </button>\n",
              "      \n",
              "  <style>\n",
              "    .colab-df-container {\n",
              "      display:flex;\n",
              "      flex-wrap:wrap;\n",
              "      gap: 12px;\n",
              "    }\n",
              "\n",
              "    .colab-df-convert {\n",
              "      background-color: #E8F0FE;\n",
              "      border: none;\n",
              "      border-radius: 50%;\n",
              "      cursor: pointer;\n",
              "      display: none;\n",
              "      fill: #1967D2;\n",
              "      height: 32px;\n",
              "      padding: 0 0 0 0;\n",
              "      width: 32px;\n",
              "    }\n",
              "\n",
              "    .colab-df-convert:hover {\n",
              "      background-color: #E2EBFA;\n",
              "      box-shadow: 0px 1px 2px rgba(60, 64, 67, 0.3), 0px 1px 3px 1px rgba(60, 64, 67, 0.15);\n",
              "      fill: #174EA6;\n",
              "    }\n",
              "\n",
              "    [theme=dark] .colab-df-convert {\n",
              "      background-color: #3B4455;\n",
              "      fill: #D2E3FC;\n",
              "    }\n",
              "\n",
              "    [theme=dark] .colab-df-convert:hover {\n",
              "      background-color: #434B5C;\n",
              "      box-shadow: 0px 1px 3px 1px rgba(0, 0, 0, 0.15);\n",
              "      filter: drop-shadow(0px 1px 2px rgba(0, 0, 0, 0.3));\n",
              "      fill: #FFFFFF;\n",
              "    }\n",
              "  </style>\n",
              "\n",
              "      <script>\n",
              "        const buttonEl =\n",
              "          document.querySelector('#df-6e5a9d93-fb16-454a-a84e-c75f4f7ead93 button.colab-df-convert');\n",
              "        buttonEl.style.display =\n",
              "          google.colab.kernel.accessAllowed ? 'block' : 'none';\n",
              "\n",
              "        async function convertToInteractive(key) {\n",
              "          const element = document.querySelector('#df-6e5a9d93-fb16-454a-a84e-c75f4f7ead93');\n",
              "          const dataTable =\n",
              "            await google.colab.kernel.invokeFunction('convertToInteractive',\n",
              "                                                     [key], {});\n",
              "          if (!dataTable) return;\n",
              "\n",
              "          const docLinkHtml = 'Like what you see? Visit the ' +\n",
              "            '<a target=\"_blank\" href=https://colab.research.google.com/notebooks/data_table.ipynb>data table notebook</a>'\n",
              "            + ' to learn more about interactive tables.';\n",
              "          element.innerHTML = '';\n",
              "          dataTable['output_type'] = 'display_data';\n",
              "          await google.colab.output.renderOutput(dataTable, element);\n",
              "          const docLink = document.createElement('div');\n",
              "          docLink.innerHTML = docLinkHtml;\n",
              "          element.appendChild(docLink);\n",
              "        }\n",
              "      </script>\n",
              "    </div>\n",
              "  </div>\n",
              "  "
            ]
          },
          "metadata": {},
          "execution_count": 31
        }
      ],
      "source": [
        "df.dropna(axis=1)"
      ]
    },
    {
      "cell_type": "markdown",
      "metadata": {
        "id": "LMMhP40FQBTj"
      },
      "source": [
        "Or fill it up with default \"fallback\" data:"
      ]
    },
    {
      "cell_type": "code",
      "execution_count": 32,
      "metadata": {
        "id": "cvC6gXt8QBTj",
        "outputId": "f3a8f015-00e7-4f66-ebd4-07b22a36ef6e",
        "colab": {
          "base_uri": "https://localhost:8080/",
          "height": 143
        }
      },
      "outputs": [
        {
          "output_type": "execute_result",
          "data": {
            "text/plain": [
              "                capacity type  start_year  end_year\n",
              "Neckarwestheim      1269  PWR        1989    2023.0\n",
              "Essenbach           1365  PWR        1988    2023.0\n",
              "Emsland             1290  PWR        1988    2023.0"
            ],
            "text/html": [
              "\n",
              "  <div id=\"df-5c9c1a00-f7fa-44dd-84b3-bc1ce861d98d\">\n",
              "    <div class=\"colab-df-container\">\n",
              "      <div>\n",
              "<style scoped>\n",
              "    .dataframe tbody tr th:only-of-type {\n",
              "        vertical-align: middle;\n",
              "    }\n",
              "\n",
              "    .dataframe tbody tr th {\n",
              "        vertical-align: top;\n",
              "    }\n",
              "\n",
              "    .dataframe thead th {\n",
              "        text-align: right;\n",
              "    }\n",
              "</style>\n",
              "<table border=\"1\" class=\"dataframe\">\n",
              "  <thead>\n",
              "    <tr style=\"text-align: right;\">\n",
              "      <th></th>\n",
              "      <th>capacity</th>\n",
              "      <th>type</th>\n",
              "      <th>start_year</th>\n",
              "      <th>end_year</th>\n",
              "    </tr>\n",
              "  </thead>\n",
              "  <tbody>\n",
              "    <tr>\n",
              "      <th>Neckarwestheim</th>\n",
              "      <td>1269</td>\n",
              "      <td>PWR</td>\n",
              "      <td>1989</td>\n",
              "      <td>2023.0</td>\n",
              "    </tr>\n",
              "    <tr>\n",
              "      <th>Essenbach</th>\n",
              "      <td>1365</td>\n",
              "      <td>PWR</td>\n",
              "      <td>1988</td>\n",
              "      <td>2023.0</td>\n",
              "    </tr>\n",
              "    <tr>\n",
              "      <th>Emsland</th>\n",
              "      <td>1290</td>\n",
              "      <td>PWR</td>\n",
              "      <td>1988</td>\n",
              "      <td>2023.0</td>\n",
              "    </tr>\n",
              "  </tbody>\n",
              "</table>\n",
              "</div>\n",
              "      <button class=\"colab-df-convert\" onclick=\"convertToInteractive('df-5c9c1a00-f7fa-44dd-84b3-bc1ce861d98d')\"\n",
              "              title=\"Convert this dataframe to an interactive table.\"\n",
              "              style=\"display:none;\">\n",
              "        \n",
              "  <svg xmlns=\"http://www.w3.org/2000/svg\" height=\"24px\"viewBox=\"0 0 24 24\"\n",
              "       width=\"24px\">\n",
              "    <path d=\"M0 0h24v24H0V0z\" fill=\"none\"/>\n",
              "    <path d=\"M18.56 5.44l.94 2.06.94-2.06 2.06-.94-2.06-.94-.94-2.06-.94 2.06-2.06.94zm-11 1L8.5 8.5l.94-2.06 2.06-.94-2.06-.94L8.5 2.5l-.94 2.06-2.06.94zm10 10l.94 2.06.94-2.06 2.06-.94-2.06-.94-.94-2.06-.94 2.06-2.06.94z\"/><path d=\"M17.41 7.96l-1.37-1.37c-.4-.4-.92-.59-1.43-.59-.52 0-1.04.2-1.43.59L10.3 9.45l-7.72 7.72c-.78.78-.78 2.05 0 2.83L4 21.41c.39.39.9.59 1.41.59.51 0 1.02-.2 1.41-.59l7.78-7.78 2.81-2.81c.8-.78.8-2.07 0-2.86zM5.41 20L4 18.59l7.72-7.72 1.47 1.35L5.41 20z\"/>\n",
              "  </svg>\n",
              "      </button>\n",
              "      \n",
              "  <style>\n",
              "    .colab-df-container {\n",
              "      display:flex;\n",
              "      flex-wrap:wrap;\n",
              "      gap: 12px;\n",
              "    }\n",
              "\n",
              "    .colab-df-convert {\n",
              "      background-color: #E8F0FE;\n",
              "      border: none;\n",
              "      border-radius: 50%;\n",
              "      cursor: pointer;\n",
              "      display: none;\n",
              "      fill: #1967D2;\n",
              "      height: 32px;\n",
              "      padding: 0 0 0 0;\n",
              "      width: 32px;\n",
              "    }\n",
              "\n",
              "    .colab-df-convert:hover {\n",
              "      background-color: #E2EBFA;\n",
              "      box-shadow: 0px 1px 2px rgba(60, 64, 67, 0.3), 0px 1px 3px 1px rgba(60, 64, 67, 0.15);\n",
              "      fill: #174EA6;\n",
              "    }\n",
              "\n",
              "    [theme=dark] .colab-df-convert {\n",
              "      background-color: #3B4455;\n",
              "      fill: #D2E3FC;\n",
              "    }\n",
              "\n",
              "    [theme=dark] .colab-df-convert:hover {\n",
              "      background-color: #434B5C;\n",
              "      box-shadow: 0px 1px 3px 1px rgba(0, 0, 0, 0.15);\n",
              "      filter: drop-shadow(0px 1px 2px rgba(0, 0, 0, 0.3));\n",
              "      fill: #FFFFFF;\n",
              "    }\n",
              "  </style>\n",
              "\n",
              "      <script>\n",
              "        const buttonEl =\n",
              "          document.querySelector('#df-5c9c1a00-f7fa-44dd-84b3-bc1ce861d98d button.colab-df-convert');\n",
              "        buttonEl.style.display =\n",
              "          google.colab.kernel.accessAllowed ? 'block' : 'none';\n",
              "\n",
              "        async function convertToInteractive(key) {\n",
              "          const element = document.querySelector('#df-5c9c1a00-f7fa-44dd-84b3-bc1ce861d98d');\n",
              "          const dataTable =\n",
              "            await google.colab.kernel.invokeFunction('convertToInteractive',\n",
              "                                                     [key], {});\n",
              "          if (!dataTable) return;\n",
              "\n",
              "          const docLinkHtml = 'Like what you see? Visit the ' +\n",
              "            '<a target=\"_blank\" href=https://colab.research.google.com/notebooks/data_table.ipynb>data table notebook</a>'\n",
              "            + ' to learn more about interactive tables.';\n",
              "          element.innerHTML = '';\n",
              "          dataTable['output_type'] = 'display_data';\n",
              "          await google.colab.output.renderOutput(dataTable, element);\n",
              "          const docLink = document.createElement('div');\n",
              "          docLink.innerHTML = docLinkHtml;\n",
              "          element.appendChild(docLink);\n",
              "        }\n",
              "      </script>\n",
              "    </div>\n",
              "  </div>\n",
              "  "
            ]
          },
          "metadata": {},
          "execution_count": 32
        }
      ],
      "source": [
        "df.fillna(2023)"
      ]
    },
    {
      "cell_type": "markdown",
      "metadata": {
        "id": "XTfQTIlHQBTj"
      },
      "source": [
        "Say, we already have one value for `end_year` and want to fill up the missing data:"
      ]
    },
    {
      "cell_type": "code",
      "execution_count": 33,
      "metadata": {
        "id": "5Pqae4-tQBTj"
      },
      "outputs": [],
      "source": [
        "df.loc[\"Emsland\", \"end_year\"] = 2023"
      ]
    },
    {
      "cell_type": "code",
      "execution_count": 34,
      "metadata": {
        "id": "VN22QV9gQBTj",
        "outputId": "f46e68ca-0176-49ef-cded-a3889ee276ad",
        "colab": {
          "base_uri": "https://localhost:8080/",
          "height": 143
        }
      },
      "outputs": [
        {
          "output_type": "execute_result",
          "data": {
            "text/plain": [
              "                capacity type  start_year  end_year\n",
              "Neckarwestheim      1269  PWR        1989    2023.0\n",
              "Essenbach           1365  PWR        1988    2023.0\n",
              "Emsland             1290  PWR        1988    2023.0"
            ],
            "text/html": [
              "\n",
              "  <div id=\"df-44d1fa97-e7df-45f6-8cd1-c719071c5125\">\n",
              "    <div class=\"colab-df-container\">\n",
              "      <div>\n",
              "<style scoped>\n",
              "    .dataframe tbody tr th:only-of-type {\n",
              "        vertical-align: middle;\n",
              "    }\n",
              "\n",
              "    .dataframe tbody tr th {\n",
              "        vertical-align: top;\n",
              "    }\n",
              "\n",
              "    .dataframe thead th {\n",
              "        text-align: right;\n",
              "    }\n",
              "</style>\n",
              "<table border=\"1\" class=\"dataframe\">\n",
              "  <thead>\n",
              "    <tr style=\"text-align: right;\">\n",
              "      <th></th>\n",
              "      <th>capacity</th>\n",
              "      <th>type</th>\n",
              "      <th>start_year</th>\n",
              "      <th>end_year</th>\n",
              "    </tr>\n",
              "  </thead>\n",
              "  <tbody>\n",
              "    <tr>\n",
              "      <th>Neckarwestheim</th>\n",
              "      <td>1269</td>\n",
              "      <td>PWR</td>\n",
              "      <td>1989</td>\n",
              "      <td>2023.0</td>\n",
              "    </tr>\n",
              "    <tr>\n",
              "      <th>Essenbach</th>\n",
              "      <td>1365</td>\n",
              "      <td>PWR</td>\n",
              "      <td>1988</td>\n",
              "      <td>2023.0</td>\n",
              "    </tr>\n",
              "    <tr>\n",
              "      <th>Emsland</th>\n",
              "      <td>1290</td>\n",
              "      <td>PWR</td>\n",
              "      <td>1988</td>\n",
              "      <td>2023.0</td>\n",
              "    </tr>\n",
              "  </tbody>\n",
              "</table>\n",
              "</div>\n",
              "      <button class=\"colab-df-convert\" onclick=\"convertToInteractive('df-44d1fa97-e7df-45f6-8cd1-c719071c5125')\"\n",
              "              title=\"Convert this dataframe to an interactive table.\"\n",
              "              style=\"display:none;\">\n",
              "        \n",
              "  <svg xmlns=\"http://www.w3.org/2000/svg\" height=\"24px\"viewBox=\"0 0 24 24\"\n",
              "       width=\"24px\">\n",
              "    <path d=\"M0 0h24v24H0V0z\" fill=\"none\"/>\n",
              "    <path d=\"M18.56 5.44l.94 2.06.94-2.06 2.06-.94-2.06-.94-.94-2.06-.94 2.06-2.06.94zm-11 1L8.5 8.5l.94-2.06 2.06-.94-2.06-.94L8.5 2.5l-.94 2.06-2.06.94zm10 10l.94 2.06.94-2.06 2.06-.94-2.06-.94-.94-2.06-.94 2.06-2.06.94z\"/><path d=\"M17.41 7.96l-1.37-1.37c-.4-.4-.92-.59-1.43-.59-.52 0-1.04.2-1.43.59L10.3 9.45l-7.72 7.72c-.78.78-.78 2.05 0 2.83L4 21.41c.39.39.9.59 1.41.59.51 0 1.02-.2 1.41-.59l7.78-7.78 2.81-2.81c.8-.78.8-2.07 0-2.86zM5.41 20L4 18.59l7.72-7.72 1.47 1.35L5.41 20z\"/>\n",
              "  </svg>\n",
              "      </button>\n",
              "      \n",
              "  <style>\n",
              "    .colab-df-container {\n",
              "      display:flex;\n",
              "      flex-wrap:wrap;\n",
              "      gap: 12px;\n",
              "    }\n",
              "\n",
              "    .colab-df-convert {\n",
              "      background-color: #E8F0FE;\n",
              "      border: none;\n",
              "      border-radius: 50%;\n",
              "      cursor: pointer;\n",
              "      display: none;\n",
              "      fill: #1967D2;\n",
              "      height: 32px;\n",
              "      padding: 0 0 0 0;\n",
              "      width: 32px;\n",
              "    }\n",
              "\n",
              "    .colab-df-convert:hover {\n",
              "      background-color: #E2EBFA;\n",
              "      box-shadow: 0px 1px 2px rgba(60, 64, 67, 0.3), 0px 1px 3px 1px rgba(60, 64, 67, 0.15);\n",
              "      fill: #174EA6;\n",
              "    }\n",
              "\n",
              "    [theme=dark] .colab-df-convert {\n",
              "      background-color: #3B4455;\n",
              "      fill: #D2E3FC;\n",
              "    }\n",
              "\n",
              "    [theme=dark] .colab-df-convert:hover {\n",
              "      background-color: #434B5C;\n",
              "      box-shadow: 0px 1px 3px 1px rgba(0, 0, 0, 0.15);\n",
              "      filter: drop-shadow(0px 1px 2px rgba(0, 0, 0, 0.3));\n",
              "      fill: #FFFFFF;\n",
              "    }\n",
              "  </style>\n",
              "\n",
              "      <script>\n",
              "        const buttonEl =\n",
              "          document.querySelector('#df-44d1fa97-e7df-45f6-8cd1-c719071c5125 button.colab-df-convert');\n",
              "        buttonEl.style.display =\n",
              "          google.colab.kernel.accessAllowed ? 'block' : 'none';\n",
              "\n",
              "        async function convertToInteractive(key) {\n",
              "          const element = document.querySelector('#df-44d1fa97-e7df-45f6-8cd1-c719071c5125');\n",
              "          const dataTable =\n",
              "            await google.colab.kernel.invokeFunction('convertToInteractive',\n",
              "                                                     [key], {});\n",
              "          if (!dataTable) return;\n",
              "\n",
              "          const docLinkHtml = 'Like what you see? Visit the ' +\n",
              "            '<a target=\"_blank\" href=https://colab.research.google.com/notebooks/data_table.ipynb>data table notebook</a>'\n",
              "            + ' to learn more about interactive tables.';\n",
              "          element.innerHTML = '';\n",
              "          dataTable['output_type'] = 'display_data';\n",
              "          await google.colab.output.renderOutput(dataTable, element);\n",
              "          const docLink = document.createElement('div');\n",
              "          docLink.innerHTML = docLinkHtml;\n",
              "          element.appendChild(docLink);\n",
              "        }\n",
              "      </script>\n",
              "    </div>\n",
              "  </div>\n",
              "  "
            ]
          },
          "metadata": {},
          "execution_count": 34
        }
      ],
      "source": [
        "# backward (upwards) fill from non-nan values\n",
        "df.fillna(method='bfill')"
      ]
    },
    {
      "cell_type": "markdown",
      "metadata": {
        "id": "FR3HJmqWQBTj"
      },
      "source": [
        "## Sorting Data"
      ]
    },
    {
      "cell_type": "markdown",
      "metadata": {
        "id": "msJ3VsAzQBTj"
      },
      "source": [
        "We can also sort the entries in dataframes, e.g. alphabetically by index or numerically by column values"
      ]
    },
    {
      "cell_type": "code",
      "execution_count": 35,
      "metadata": {
        "id": "K5Z1yarnQBTj",
        "outputId": "4f04f26a-b283-424c-a917-26c3ff3925ad",
        "colab": {
          "base_uri": "https://localhost:8080/",
          "height": 143
        }
      },
      "outputs": [
        {
          "output_type": "execute_result",
          "data": {
            "text/plain": [
              "                capacity type  start_year  end_year\n",
              "Emsland             1290  PWR        1988    2023.0\n",
              "Essenbach           1365  PWR        1988       NaN\n",
              "Neckarwestheim      1269  PWR        1989       NaN"
            ],
            "text/html": [
              "\n",
              "  <div id=\"df-b11f6ed3-97d7-41bd-9a65-059a316422ed\">\n",
              "    <div class=\"colab-df-container\">\n",
              "      <div>\n",
              "<style scoped>\n",
              "    .dataframe tbody tr th:only-of-type {\n",
              "        vertical-align: middle;\n",
              "    }\n",
              "\n",
              "    .dataframe tbody tr th {\n",
              "        vertical-align: top;\n",
              "    }\n",
              "\n",
              "    .dataframe thead th {\n",
              "        text-align: right;\n",
              "    }\n",
              "</style>\n",
              "<table border=\"1\" class=\"dataframe\">\n",
              "  <thead>\n",
              "    <tr style=\"text-align: right;\">\n",
              "      <th></th>\n",
              "      <th>capacity</th>\n",
              "      <th>type</th>\n",
              "      <th>start_year</th>\n",
              "      <th>end_year</th>\n",
              "    </tr>\n",
              "  </thead>\n",
              "  <tbody>\n",
              "    <tr>\n",
              "      <th>Emsland</th>\n",
              "      <td>1290</td>\n",
              "      <td>PWR</td>\n",
              "      <td>1988</td>\n",
              "      <td>2023.0</td>\n",
              "    </tr>\n",
              "    <tr>\n",
              "      <th>Essenbach</th>\n",
              "      <td>1365</td>\n",
              "      <td>PWR</td>\n",
              "      <td>1988</td>\n",
              "      <td>NaN</td>\n",
              "    </tr>\n",
              "    <tr>\n",
              "      <th>Neckarwestheim</th>\n",
              "      <td>1269</td>\n",
              "      <td>PWR</td>\n",
              "      <td>1989</td>\n",
              "      <td>NaN</td>\n",
              "    </tr>\n",
              "  </tbody>\n",
              "</table>\n",
              "</div>\n",
              "      <button class=\"colab-df-convert\" onclick=\"convertToInteractive('df-b11f6ed3-97d7-41bd-9a65-059a316422ed')\"\n",
              "              title=\"Convert this dataframe to an interactive table.\"\n",
              "              style=\"display:none;\">\n",
              "        \n",
              "  <svg xmlns=\"http://www.w3.org/2000/svg\" height=\"24px\"viewBox=\"0 0 24 24\"\n",
              "       width=\"24px\">\n",
              "    <path d=\"M0 0h24v24H0V0z\" fill=\"none\"/>\n",
              "    <path d=\"M18.56 5.44l.94 2.06.94-2.06 2.06-.94-2.06-.94-.94-2.06-.94 2.06-2.06.94zm-11 1L8.5 8.5l.94-2.06 2.06-.94-2.06-.94L8.5 2.5l-.94 2.06-2.06.94zm10 10l.94 2.06.94-2.06 2.06-.94-2.06-.94-.94-2.06-.94 2.06-2.06.94z\"/><path d=\"M17.41 7.96l-1.37-1.37c-.4-.4-.92-.59-1.43-.59-.52 0-1.04.2-1.43.59L10.3 9.45l-7.72 7.72c-.78.78-.78 2.05 0 2.83L4 21.41c.39.39.9.59 1.41.59.51 0 1.02-.2 1.41-.59l7.78-7.78 2.81-2.81c.8-.78.8-2.07 0-2.86zM5.41 20L4 18.59l7.72-7.72 1.47 1.35L5.41 20z\"/>\n",
              "  </svg>\n",
              "      </button>\n",
              "      \n",
              "  <style>\n",
              "    .colab-df-container {\n",
              "      display:flex;\n",
              "      flex-wrap:wrap;\n",
              "      gap: 12px;\n",
              "    }\n",
              "\n",
              "    .colab-df-convert {\n",
              "      background-color: #E8F0FE;\n",
              "      border: none;\n",
              "      border-radius: 50%;\n",
              "      cursor: pointer;\n",
              "      display: none;\n",
              "      fill: #1967D2;\n",
              "      height: 32px;\n",
              "      padding: 0 0 0 0;\n",
              "      width: 32px;\n",
              "    }\n",
              "\n",
              "    .colab-df-convert:hover {\n",
              "      background-color: #E2EBFA;\n",
              "      box-shadow: 0px 1px 2px rgba(60, 64, 67, 0.3), 0px 1px 3px 1px rgba(60, 64, 67, 0.15);\n",
              "      fill: #174EA6;\n",
              "    }\n",
              "\n",
              "    [theme=dark] .colab-df-convert {\n",
              "      background-color: #3B4455;\n",
              "      fill: #D2E3FC;\n",
              "    }\n",
              "\n",
              "    [theme=dark] .colab-df-convert:hover {\n",
              "      background-color: #434B5C;\n",
              "      box-shadow: 0px 1px 3px 1px rgba(0, 0, 0, 0.15);\n",
              "      filter: drop-shadow(0px 1px 2px rgba(0, 0, 0, 0.3));\n",
              "      fill: #FFFFFF;\n",
              "    }\n",
              "  </style>\n",
              "\n",
              "      <script>\n",
              "        const buttonEl =\n",
              "          document.querySelector('#df-b11f6ed3-97d7-41bd-9a65-059a316422ed button.colab-df-convert');\n",
              "        buttonEl.style.display =\n",
              "          google.colab.kernel.accessAllowed ? 'block' : 'none';\n",
              "\n",
              "        async function convertToInteractive(key) {\n",
              "          const element = document.querySelector('#df-b11f6ed3-97d7-41bd-9a65-059a316422ed');\n",
              "          const dataTable =\n",
              "            await google.colab.kernel.invokeFunction('convertToInteractive',\n",
              "                                                     [key], {});\n",
              "          if (!dataTable) return;\n",
              "\n",
              "          const docLinkHtml = 'Like what you see? Visit the ' +\n",
              "            '<a target=\"_blank\" href=https://colab.research.google.com/notebooks/data_table.ipynb>data table notebook</a>'\n",
              "            + ' to learn more about interactive tables.';\n",
              "          element.innerHTML = '';\n",
              "          dataTable['output_type'] = 'display_data';\n",
              "          await google.colab.output.renderOutput(dataTable, element);\n",
              "          const docLink = document.createElement('div');\n",
              "          docLink.innerHTML = docLinkHtml;\n",
              "          element.appendChild(docLink);\n",
              "        }\n",
              "      </script>\n",
              "    </div>\n",
              "  </div>\n",
              "  "
            ]
          },
          "metadata": {},
          "execution_count": 35
        }
      ],
      "source": [
        "df.sort_index()"
      ]
    },
    {
      "cell_type": "code",
      "execution_count": 36,
      "metadata": {
        "id": "Ey0FvW_MQBTk",
        "outputId": "5f8ef641-eea9-4bee-a7ad-fb32526f8e66",
        "colab": {
          "base_uri": "https://localhost:8080/",
          "height": 143
        }
      },
      "outputs": [
        {
          "output_type": "execute_result",
          "data": {
            "text/plain": [
              "                capacity type  start_year  end_year\n",
              "Essenbach           1365  PWR        1988       NaN\n",
              "Emsland             1290  PWR        1988    2023.0\n",
              "Neckarwestheim      1269  PWR        1989       NaN"
            ],
            "text/html": [
              "\n",
              "  <div id=\"df-6f1445a8-9ea3-4096-82f4-20e6dd05989e\">\n",
              "    <div class=\"colab-df-container\">\n",
              "      <div>\n",
              "<style scoped>\n",
              "    .dataframe tbody tr th:only-of-type {\n",
              "        vertical-align: middle;\n",
              "    }\n",
              "\n",
              "    .dataframe tbody tr th {\n",
              "        vertical-align: top;\n",
              "    }\n",
              "\n",
              "    .dataframe thead th {\n",
              "        text-align: right;\n",
              "    }\n",
              "</style>\n",
              "<table border=\"1\" class=\"dataframe\">\n",
              "  <thead>\n",
              "    <tr style=\"text-align: right;\">\n",
              "      <th></th>\n",
              "      <th>capacity</th>\n",
              "      <th>type</th>\n",
              "      <th>start_year</th>\n",
              "      <th>end_year</th>\n",
              "    </tr>\n",
              "  </thead>\n",
              "  <tbody>\n",
              "    <tr>\n",
              "      <th>Essenbach</th>\n",
              "      <td>1365</td>\n",
              "      <td>PWR</td>\n",
              "      <td>1988</td>\n",
              "      <td>NaN</td>\n",
              "    </tr>\n",
              "    <tr>\n",
              "      <th>Emsland</th>\n",
              "      <td>1290</td>\n",
              "      <td>PWR</td>\n",
              "      <td>1988</td>\n",
              "      <td>2023.0</td>\n",
              "    </tr>\n",
              "    <tr>\n",
              "      <th>Neckarwestheim</th>\n",
              "      <td>1269</td>\n",
              "      <td>PWR</td>\n",
              "      <td>1989</td>\n",
              "      <td>NaN</td>\n",
              "    </tr>\n",
              "  </tbody>\n",
              "</table>\n",
              "</div>\n",
              "      <button class=\"colab-df-convert\" onclick=\"convertToInteractive('df-6f1445a8-9ea3-4096-82f4-20e6dd05989e')\"\n",
              "              title=\"Convert this dataframe to an interactive table.\"\n",
              "              style=\"display:none;\">\n",
              "        \n",
              "  <svg xmlns=\"http://www.w3.org/2000/svg\" height=\"24px\"viewBox=\"0 0 24 24\"\n",
              "       width=\"24px\">\n",
              "    <path d=\"M0 0h24v24H0V0z\" fill=\"none\"/>\n",
              "    <path d=\"M18.56 5.44l.94 2.06.94-2.06 2.06-.94-2.06-.94-.94-2.06-.94 2.06-2.06.94zm-11 1L8.5 8.5l.94-2.06 2.06-.94-2.06-.94L8.5 2.5l-.94 2.06-2.06.94zm10 10l.94 2.06.94-2.06 2.06-.94-2.06-.94-.94-2.06-.94 2.06-2.06.94z\"/><path d=\"M17.41 7.96l-1.37-1.37c-.4-.4-.92-.59-1.43-.59-.52 0-1.04.2-1.43.59L10.3 9.45l-7.72 7.72c-.78.78-.78 2.05 0 2.83L4 21.41c.39.39.9.59 1.41.59.51 0 1.02-.2 1.41-.59l7.78-7.78 2.81-2.81c.8-.78.8-2.07 0-2.86zM5.41 20L4 18.59l7.72-7.72 1.47 1.35L5.41 20z\"/>\n",
              "  </svg>\n",
              "      </button>\n",
              "      \n",
              "  <style>\n",
              "    .colab-df-container {\n",
              "      display:flex;\n",
              "      flex-wrap:wrap;\n",
              "      gap: 12px;\n",
              "    }\n",
              "\n",
              "    .colab-df-convert {\n",
              "      background-color: #E8F0FE;\n",
              "      border: none;\n",
              "      border-radius: 50%;\n",
              "      cursor: pointer;\n",
              "      display: none;\n",
              "      fill: #1967D2;\n",
              "      height: 32px;\n",
              "      padding: 0 0 0 0;\n",
              "      width: 32px;\n",
              "    }\n",
              "\n",
              "    .colab-df-convert:hover {\n",
              "      background-color: #E2EBFA;\n",
              "      box-shadow: 0px 1px 2px rgba(60, 64, 67, 0.3), 0px 1px 3px 1px rgba(60, 64, 67, 0.15);\n",
              "      fill: #174EA6;\n",
              "    }\n",
              "\n",
              "    [theme=dark] .colab-df-convert {\n",
              "      background-color: #3B4455;\n",
              "      fill: #D2E3FC;\n",
              "    }\n",
              "\n",
              "    [theme=dark] .colab-df-convert:hover {\n",
              "      background-color: #434B5C;\n",
              "      box-shadow: 0px 1px 3px 1px rgba(0, 0, 0, 0.15);\n",
              "      filter: drop-shadow(0px 1px 2px rgba(0, 0, 0, 0.3));\n",
              "      fill: #FFFFFF;\n",
              "    }\n",
              "  </style>\n",
              "\n",
              "      <script>\n",
              "        const buttonEl =\n",
              "          document.querySelector('#df-6f1445a8-9ea3-4096-82f4-20e6dd05989e button.colab-df-convert');\n",
              "        buttonEl.style.display =\n",
              "          google.colab.kernel.accessAllowed ? 'block' : 'none';\n",
              "\n",
              "        async function convertToInteractive(key) {\n",
              "          const element = document.querySelector('#df-6f1445a8-9ea3-4096-82f4-20e6dd05989e');\n",
              "          const dataTable =\n",
              "            await google.colab.kernel.invokeFunction('convertToInteractive',\n",
              "                                                     [key], {});\n",
              "          if (!dataTable) return;\n",
              "\n",
              "          const docLinkHtml = 'Like what you see? Visit the ' +\n",
              "            '<a target=\"_blank\" href=https://colab.research.google.com/notebooks/data_table.ipynb>data table notebook</a>'\n",
              "            + ' to learn more about interactive tables.';\n",
              "          element.innerHTML = '';\n",
              "          dataTable['output_type'] = 'display_data';\n",
              "          await google.colab.output.renderOutput(dataTable, element);\n",
              "          const docLink = document.createElement('div');\n",
              "          docLink.innerHTML = docLinkHtml;\n",
              "          element.appendChild(docLink);\n",
              "        }\n",
              "      </script>\n",
              "    </div>\n",
              "  </div>\n",
              "  "
            ]
          },
          "metadata": {},
          "execution_count": 36
        }
      ],
      "source": [
        "df.sort_values(by='capacity', ascending=False)"
      ]
    },
    {
      "cell_type": "markdown",
      "metadata": {
        "id": "hzDBZShTQBTk"
      },
      "source": [
        "If we make a calculation using columns from the DataFrame, it will keep the same index:"
      ]
    },
    {
      "cell_type": "markdown",
      "metadata": {
        "id": "M6mKQaPKQBTk"
      },
      "source": [
        "## Merging Data\n",
        "\n",
        "Pandas supports a wide range of methods for merging different datasets. These are described extensively in the [documentation](https://pandas.pydata.org/pandas-docs/stable/merging.html). Here we just give a few examples."
      ]
    },
    {
      "cell_type": "code",
      "execution_count": 37,
      "metadata": {
        "id": "dwjOSll0QBTk",
        "outputId": "e0a6d0ec-7fe5-414e-ec0d-b5b46a324905",
        "colab": {
          "base_uri": "https://localhost:8080/",
          "height": 143
        }
      },
      "outputs": [
        {
          "output_type": "execute_result",
          "data": {
            "text/plain": [
              "               capacity type  start_year  end_year      x      y\n",
              "Gundremmingen      1288  BWR        1985      2021  10.40  48.51\n",
              "Grohnde            1360  PWR        1985      2021   9.41  52.03\n",
              "Brokdorf           1326  PWR        1986      2021   9.35  53.85"
            ],
            "text/html": [
              "\n",
              "  <div id=\"df-6a23a113-37e8-44d4-b49b-03ead50dd711\">\n",
              "    <div class=\"colab-df-container\">\n",
              "      <div>\n",
              "<style scoped>\n",
              "    .dataframe tbody tr th:only-of-type {\n",
              "        vertical-align: middle;\n",
              "    }\n",
              "\n",
              "    .dataframe tbody tr th {\n",
              "        vertical-align: top;\n",
              "    }\n",
              "\n",
              "    .dataframe thead th {\n",
              "        text-align: right;\n",
              "    }\n",
              "</style>\n",
              "<table border=\"1\" class=\"dataframe\">\n",
              "  <thead>\n",
              "    <tr style=\"text-align: right;\">\n",
              "      <th></th>\n",
              "      <th>capacity</th>\n",
              "      <th>type</th>\n",
              "      <th>start_year</th>\n",
              "      <th>end_year</th>\n",
              "      <th>x</th>\n",
              "      <th>y</th>\n",
              "    </tr>\n",
              "  </thead>\n",
              "  <tbody>\n",
              "    <tr>\n",
              "      <th>Gundremmingen</th>\n",
              "      <td>1288</td>\n",
              "      <td>BWR</td>\n",
              "      <td>1985</td>\n",
              "      <td>2021</td>\n",
              "      <td>10.40</td>\n",
              "      <td>48.51</td>\n",
              "    </tr>\n",
              "    <tr>\n",
              "      <th>Grohnde</th>\n",
              "      <td>1360</td>\n",
              "      <td>PWR</td>\n",
              "      <td>1985</td>\n",
              "      <td>2021</td>\n",
              "      <td>9.41</td>\n",
              "      <td>52.03</td>\n",
              "    </tr>\n",
              "    <tr>\n",
              "      <th>Brokdorf</th>\n",
              "      <td>1326</td>\n",
              "      <td>PWR</td>\n",
              "      <td>1986</td>\n",
              "      <td>2021</td>\n",
              "      <td>9.35</td>\n",
              "      <td>53.85</td>\n",
              "    </tr>\n",
              "  </tbody>\n",
              "</table>\n",
              "</div>\n",
              "      <button class=\"colab-df-convert\" onclick=\"convertToInteractive('df-6a23a113-37e8-44d4-b49b-03ead50dd711')\"\n",
              "              title=\"Convert this dataframe to an interactive table.\"\n",
              "              style=\"display:none;\">\n",
              "        \n",
              "  <svg xmlns=\"http://www.w3.org/2000/svg\" height=\"24px\"viewBox=\"0 0 24 24\"\n",
              "       width=\"24px\">\n",
              "    <path d=\"M0 0h24v24H0V0z\" fill=\"none\"/>\n",
              "    <path d=\"M18.56 5.44l.94 2.06.94-2.06 2.06-.94-2.06-.94-.94-2.06-.94 2.06-2.06.94zm-11 1L8.5 8.5l.94-2.06 2.06-.94-2.06-.94L8.5 2.5l-.94 2.06-2.06.94zm10 10l.94 2.06.94-2.06 2.06-.94-2.06-.94-.94-2.06-.94 2.06-2.06.94z\"/><path d=\"M17.41 7.96l-1.37-1.37c-.4-.4-.92-.59-1.43-.59-.52 0-1.04.2-1.43.59L10.3 9.45l-7.72 7.72c-.78.78-.78 2.05 0 2.83L4 21.41c.39.39.9.59 1.41.59.51 0 1.02-.2 1.41-.59l7.78-7.78 2.81-2.81c.8-.78.8-2.07 0-2.86zM5.41 20L4 18.59l7.72-7.72 1.47 1.35L5.41 20z\"/>\n",
              "  </svg>\n",
              "      </button>\n",
              "      \n",
              "  <style>\n",
              "    .colab-df-container {\n",
              "      display:flex;\n",
              "      flex-wrap:wrap;\n",
              "      gap: 12px;\n",
              "    }\n",
              "\n",
              "    .colab-df-convert {\n",
              "      background-color: #E8F0FE;\n",
              "      border: none;\n",
              "      border-radius: 50%;\n",
              "      cursor: pointer;\n",
              "      display: none;\n",
              "      fill: #1967D2;\n",
              "      height: 32px;\n",
              "      padding: 0 0 0 0;\n",
              "      width: 32px;\n",
              "    }\n",
              "\n",
              "    .colab-df-convert:hover {\n",
              "      background-color: #E2EBFA;\n",
              "      box-shadow: 0px 1px 2px rgba(60, 64, 67, 0.3), 0px 1px 3px 1px rgba(60, 64, 67, 0.15);\n",
              "      fill: #174EA6;\n",
              "    }\n",
              "\n",
              "    [theme=dark] .colab-df-convert {\n",
              "      background-color: #3B4455;\n",
              "      fill: #D2E3FC;\n",
              "    }\n",
              "\n",
              "    [theme=dark] .colab-df-convert:hover {\n",
              "      background-color: #434B5C;\n",
              "      box-shadow: 0px 1px 3px 1px rgba(0, 0, 0, 0.15);\n",
              "      filter: drop-shadow(0px 1px 2px rgba(0, 0, 0, 0.3));\n",
              "      fill: #FFFFFF;\n",
              "    }\n",
              "  </style>\n",
              "\n",
              "      <script>\n",
              "        const buttonEl =\n",
              "          document.querySelector('#df-6a23a113-37e8-44d4-b49b-03ead50dd711 button.colab-df-convert');\n",
              "        buttonEl.style.display =\n",
              "          google.colab.kernel.accessAllowed ? 'block' : 'none';\n",
              "\n",
              "        async function convertToInteractive(key) {\n",
              "          const element = document.querySelector('#df-6a23a113-37e8-44d4-b49b-03ead50dd711');\n",
              "          const dataTable =\n",
              "            await google.colab.kernel.invokeFunction('convertToInteractive',\n",
              "                                                     [key], {});\n",
              "          if (!dataTable) return;\n",
              "\n",
              "          const docLinkHtml = 'Like what you see? Visit the ' +\n",
              "            '<a target=\"_blank\" href=https://colab.research.google.com/notebooks/data_table.ipynb>data table notebook</a>'\n",
              "            + ' to learn more about interactive tables.';\n",
              "          element.innerHTML = '';\n",
              "          dataTable['output_type'] = 'display_data';\n",
              "          await google.colab.output.renderOutput(dataTable, element);\n",
              "          const docLink = document.createElement('div');\n",
              "          docLink.innerHTML = docLinkHtml;\n",
              "          element.appendChild(docLink);\n",
              "        }\n",
              "      </script>\n",
              "    </div>\n",
              "  </div>\n",
              "  "
            ]
          },
          "metadata": {},
          "execution_count": 37
        }
      ],
      "source": [
        "data = {'capacity': [1288, 1360, 1326], # MW\n",
        "        'type': [\"BWR\", \"PWR\", \"PWR\"],\n",
        "        'start_year': [1985, 1985, 1986],\n",
        "        'end_year': [2021, 2021, 2021],\n",
        "        'x': [10.40, 9.41, 9.35],\n",
        "        'y': [48.51, 52.03, 53.85]\n",
        "       }\n",
        "df2 = pd.DataFrame(data, index=['Gundremmingen', 'Grohnde', 'Brokdorf'])\n",
        "df2"
      ]
    },
    {
      "cell_type": "markdown",
      "metadata": {
        "id": "L-0uPTGwQBTk"
      },
      "source": [
        "We can now add this additional data to the `df` object"
      ]
    },
    {
      "cell_type": "code",
      "execution_count": 38,
      "metadata": {
        "id": "L6oAqYA4QBTk"
      },
      "outputs": [],
      "source": [
        "df = pd.concat([df, df2])"
      ]
    },
    {
      "cell_type": "markdown",
      "metadata": {
        "id": "WKf84ElJQBTk"
      },
      "source": [
        "We can also index using a boolean series obtained from a condition. This is very useful"
      ]
    },
    {
      "cell_type": "markdown",
      "metadata": {
        "tags": [],
        "id": "5cSg1r80QBTk"
      },
      "source": [
        "## Filtering Data"
      ]
    },
    {
      "cell_type": "code",
      "execution_count": 39,
      "metadata": {
        "id": "T17-o8z4QBTk",
        "outputId": "a4db9345-6510-40f8-881d-6eee8db5a3bc",
        "colab": {
          "base_uri": "https://localhost:8080/"
        }
      },
      "outputs": [
        {
          "output_type": "execute_result",
          "data": {
            "text/plain": [
              "Neckarwestheim    False\n",
              "Essenbach          True\n",
              "Emsland           False\n",
              "Gundremmingen     False\n",
              "Grohnde            True\n",
              "Brokdorf           True\n",
              "Name: capacity, dtype: bool"
            ]
          },
          "metadata": {},
          "execution_count": 39
        }
      ],
      "source": [
        "df.capacity > 1300"
      ]
    },
    {
      "cell_type": "code",
      "execution_count": 40,
      "metadata": {
        "id": "6b38A168QBTk",
        "outputId": "666efb51-852b-402e-96fd-b04d474a97fc",
        "colab": {
          "base_uri": "https://localhost:8080/",
          "height": 143
        }
      },
      "outputs": [
        {
          "output_type": "execute_result",
          "data": {
            "text/plain": [
              "           capacity type  start_year  end_year     x      y\n",
              "Essenbach      1365  PWR        1988       NaN   NaN    NaN\n",
              "Grohnde        1360  PWR        1985    2021.0  9.41  52.03\n",
              "Brokdorf       1326  PWR        1986    2021.0  9.35  53.85"
            ],
            "text/html": [
              "\n",
              "  <div id=\"df-538b0ac4-d8d8-4090-8773-73551b815690\">\n",
              "    <div class=\"colab-df-container\">\n",
              "      <div>\n",
              "<style scoped>\n",
              "    .dataframe tbody tr th:only-of-type {\n",
              "        vertical-align: middle;\n",
              "    }\n",
              "\n",
              "    .dataframe tbody tr th {\n",
              "        vertical-align: top;\n",
              "    }\n",
              "\n",
              "    .dataframe thead th {\n",
              "        text-align: right;\n",
              "    }\n",
              "</style>\n",
              "<table border=\"1\" class=\"dataframe\">\n",
              "  <thead>\n",
              "    <tr style=\"text-align: right;\">\n",
              "      <th></th>\n",
              "      <th>capacity</th>\n",
              "      <th>type</th>\n",
              "      <th>start_year</th>\n",
              "      <th>end_year</th>\n",
              "      <th>x</th>\n",
              "      <th>y</th>\n",
              "    </tr>\n",
              "  </thead>\n",
              "  <tbody>\n",
              "    <tr>\n",
              "      <th>Essenbach</th>\n",
              "      <td>1365</td>\n",
              "      <td>PWR</td>\n",
              "      <td>1988</td>\n",
              "      <td>NaN</td>\n",
              "      <td>NaN</td>\n",
              "      <td>NaN</td>\n",
              "    </tr>\n",
              "    <tr>\n",
              "      <th>Grohnde</th>\n",
              "      <td>1360</td>\n",
              "      <td>PWR</td>\n",
              "      <td>1985</td>\n",
              "      <td>2021.0</td>\n",
              "      <td>9.41</td>\n",
              "      <td>52.03</td>\n",
              "    </tr>\n",
              "    <tr>\n",
              "      <th>Brokdorf</th>\n",
              "      <td>1326</td>\n",
              "      <td>PWR</td>\n",
              "      <td>1986</td>\n",
              "      <td>2021.0</td>\n",
              "      <td>9.35</td>\n",
              "      <td>53.85</td>\n",
              "    </tr>\n",
              "  </tbody>\n",
              "</table>\n",
              "</div>\n",
              "      <button class=\"colab-df-convert\" onclick=\"convertToInteractive('df-538b0ac4-d8d8-4090-8773-73551b815690')\"\n",
              "              title=\"Convert this dataframe to an interactive table.\"\n",
              "              style=\"display:none;\">\n",
              "        \n",
              "  <svg xmlns=\"http://www.w3.org/2000/svg\" height=\"24px\"viewBox=\"0 0 24 24\"\n",
              "       width=\"24px\">\n",
              "    <path d=\"M0 0h24v24H0V0z\" fill=\"none\"/>\n",
              "    <path d=\"M18.56 5.44l.94 2.06.94-2.06 2.06-.94-2.06-.94-.94-2.06-.94 2.06-2.06.94zm-11 1L8.5 8.5l.94-2.06 2.06-.94-2.06-.94L8.5 2.5l-.94 2.06-2.06.94zm10 10l.94 2.06.94-2.06 2.06-.94-2.06-.94-.94-2.06-.94 2.06-2.06.94z\"/><path d=\"M17.41 7.96l-1.37-1.37c-.4-.4-.92-.59-1.43-.59-.52 0-1.04.2-1.43.59L10.3 9.45l-7.72 7.72c-.78.78-.78 2.05 0 2.83L4 21.41c.39.39.9.59 1.41.59.51 0 1.02-.2 1.41-.59l7.78-7.78 2.81-2.81c.8-.78.8-2.07 0-2.86zM5.41 20L4 18.59l7.72-7.72 1.47 1.35L5.41 20z\"/>\n",
              "  </svg>\n",
              "      </button>\n",
              "      \n",
              "  <style>\n",
              "    .colab-df-container {\n",
              "      display:flex;\n",
              "      flex-wrap:wrap;\n",
              "      gap: 12px;\n",
              "    }\n",
              "\n",
              "    .colab-df-convert {\n",
              "      background-color: #E8F0FE;\n",
              "      border: none;\n",
              "      border-radius: 50%;\n",
              "      cursor: pointer;\n",
              "      display: none;\n",
              "      fill: #1967D2;\n",
              "      height: 32px;\n",
              "      padding: 0 0 0 0;\n",
              "      width: 32px;\n",
              "    }\n",
              "\n",
              "    .colab-df-convert:hover {\n",
              "      background-color: #E2EBFA;\n",
              "      box-shadow: 0px 1px 2px rgba(60, 64, 67, 0.3), 0px 1px 3px 1px rgba(60, 64, 67, 0.15);\n",
              "      fill: #174EA6;\n",
              "    }\n",
              "\n",
              "    [theme=dark] .colab-df-convert {\n",
              "      background-color: #3B4455;\n",
              "      fill: #D2E3FC;\n",
              "    }\n",
              "\n",
              "    [theme=dark] .colab-df-convert:hover {\n",
              "      background-color: #434B5C;\n",
              "      box-shadow: 0px 1px 3px 1px rgba(0, 0, 0, 0.15);\n",
              "      filter: drop-shadow(0px 1px 2px rgba(0, 0, 0, 0.3));\n",
              "      fill: #FFFFFF;\n",
              "    }\n",
              "  </style>\n",
              "\n",
              "      <script>\n",
              "        const buttonEl =\n",
              "          document.querySelector('#df-538b0ac4-d8d8-4090-8773-73551b815690 button.colab-df-convert');\n",
              "        buttonEl.style.display =\n",
              "          google.colab.kernel.accessAllowed ? 'block' : 'none';\n",
              "\n",
              "        async function convertToInteractive(key) {\n",
              "          const element = document.querySelector('#df-538b0ac4-d8d8-4090-8773-73551b815690');\n",
              "          const dataTable =\n",
              "            await google.colab.kernel.invokeFunction('convertToInteractive',\n",
              "                                                     [key], {});\n",
              "          if (!dataTable) return;\n",
              "\n",
              "          const docLinkHtml = 'Like what you see? Visit the ' +\n",
              "            '<a target=\"_blank\" href=https://colab.research.google.com/notebooks/data_table.ipynb>data table notebook</a>'\n",
              "            + ' to learn more about interactive tables.';\n",
              "          element.innerHTML = '';\n",
              "          dataTable['output_type'] = 'display_data';\n",
              "          await google.colab.output.renderOutput(dataTable, element);\n",
              "          const docLink = document.createElement('div');\n",
              "          docLink.innerHTML = docLinkHtml;\n",
              "          element.appendChild(docLink);\n",
              "        }\n",
              "      </script>\n",
              "    </div>\n",
              "  </div>\n",
              "  "
            ]
          },
          "metadata": {},
          "execution_count": 40
        }
      ],
      "source": [
        "df[df.capacity > 1300]"
      ]
    },
    {
      "cell_type": "markdown",
      "metadata": {
        "id": "gzSSyrGxQBTk"
      },
      "source": [
        "We can also combine multiple conditions, but need to take care of brackets!"
      ]
    },
    {
      "cell_type": "code",
      "execution_count": 41,
      "metadata": {
        "id": "zwkWeze4QBTk",
        "outputId": "518daceb-27fe-4aed-ceb4-92fbdb5dd287",
        "colab": {
          "base_uri": "https://localhost:8080/",
          "height": 81
        }
      },
      "outputs": [
        {
          "output_type": "execute_result",
          "data": {
            "text/plain": [
              "           capacity type  start_year  end_year   x   y\n",
              "Essenbach      1365  PWR        1988       NaN NaN NaN"
            ],
            "text/html": [
              "\n",
              "  <div id=\"df-def73514-cd68-4705-874f-5246aa918fcc\">\n",
              "    <div class=\"colab-df-container\">\n",
              "      <div>\n",
              "<style scoped>\n",
              "    .dataframe tbody tr th:only-of-type {\n",
              "        vertical-align: middle;\n",
              "    }\n",
              "\n",
              "    .dataframe tbody tr th {\n",
              "        vertical-align: top;\n",
              "    }\n",
              "\n",
              "    .dataframe thead th {\n",
              "        text-align: right;\n",
              "    }\n",
              "</style>\n",
              "<table border=\"1\" class=\"dataframe\">\n",
              "  <thead>\n",
              "    <tr style=\"text-align: right;\">\n",
              "      <th></th>\n",
              "      <th>capacity</th>\n",
              "      <th>type</th>\n",
              "      <th>start_year</th>\n",
              "      <th>end_year</th>\n",
              "      <th>x</th>\n",
              "      <th>y</th>\n",
              "    </tr>\n",
              "  </thead>\n",
              "  <tbody>\n",
              "    <tr>\n",
              "      <th>Essenbach</th>\n",
              "      <td>1365</td>\n",
              "      <td>PWR</td>\n",
              "      <td>1988</td>\n",
              "      <td>NaN</td>\n",
              "      <td>NaN</td>\n",
              "      <td>NaN</td>\n",
              "    </tr>\n",
              "  </tbody>\n",
              "</table>\n",
              "</div>\n",
              "      <button class=\"colab-df-convert\" onclick=\"convertToInteractive('df-def73514-cd68-4705-874f-5246aa918fcc')\"\n",
              "              title=\"Convert this dataframe to an interactive table.\"\n",
              "              style=\"display:none;\">\n",
              "        \n",
              "  <svg xmlns=\"http://www.w3.org/2000/svg\" height=\"24px\"viewBox=\"0 0 24 24\"\n",
              "       width=\"24px\">\n",
              "    <path d=\"M0 0h24v24H0V0z\" fill=\"none\"/>\n",
              "    <path d=\"M18.56 5.44l.94 2.06.94-2.06 2.06-.94-2.06-.94-.94-2.06-.94 2.06-2.06.94zm-11 1L8.5 8.5l.94-2.06 2.06-.94-2.06-.94L8.5 2.5l-.94 2.06-2.06.94zm10 10l.94 2.06.94-2.06 2.06-.94-2.06-.94-.94-2.06-.94 2.06-2.06.94z\"/><path d=\"M17.41 7.96l-1.37-1.37c-.4-.4-.92-.59-1.43-.59-.52 0-1.04.2-1.43.59L10.3 9.45l-7.72 7.72c-.78.78-.78 2.05 0 2.83L4 21.41c.39.39.9.59 1.41.59.51 0 1.02-.2 1.41-.59l7.78-7.78 2.81-2.81c.8-.78.8-2.07 0-2.86zM5.41 20L4 18.59l7.72-7.72 1.47 1.35L5.41 20z\"/>\n",
              "  </svg>\n",
              "      </button>\n",
              "      \n",
              "  <style>\n",
              "    .colab-df-container {\n",
              "      display:flex;\n",
              "      flex-wrap:wrap;\n",
              "      gap: 12px;\n",
              "    }\n",
              "\n",
              "    .colab-df-convert {\n",
              "      background-color: #E8F0FE;\n",
              "      border: none;\n",
              "      border-radius: 50%;\n",
              "      cursor: pointer;\n",
              "      display: none;\n",
              "      fill: #1967D2;\n",
              "      height: 32px;\n",
              "      padding: 0 0 0 0;\n",
              "      width: 32px;\n",
              "    }\n",
              "\n",
              "    .colab-df-convert:hover {\n",
              "      background-color: #E2EBFA;\n",
              "      box-shadow: 0px 1px 2px rgba(60, 64, 67, 0.3), 0px 1px 3px 1px rgba(60, 64, 67, 0.15);\n",
              "      fill: #174EA6;\n",
              "    }\n",
              "\n",
              "    [theme=dark] .colab-df-convert {\n",
              "      background-color: #3B4455;\n",
              "      fill: #D2E3FC;\n",
              "    }\n",
              "\n",
              "    [theme=dark] .colab-df-convert:hover {\n",
              "      background-color: #434B5C;\n",
              "      box-shadow: 0px 1px 3px 1px rgba(0, 0, 0, 0.15);\n",
              "      filter: drop-shadow(0px 1px 2px rgba(0, 0, 0, 0.3));\n",
              "      fill: #FFFFFF;\n",
              "    }\n",
              "  </style>\n",
              "\n",
              "      <script>\n",
              "        const buttonEl =\n",
              "          document.querySelector('#df-def73514-cd68-4705-874f-5246aa918fcc button.colab-df-convert');\n",
              "        buttonEl.style.display =\n",
              "          google.colab.kernel.accessAllowed ? 'block' : 'none';\n",
              "\n",
              "        async function convertToInteractive(key) {\n",
              "          const element = document.querySelector('#df-def73514-cd68-4705-874f-5246aa918fcc');\n",
              "          const dataTable =\n",
              "            await google.colab.kernel.invokeFunction('convertToInteractive',\n",
              "                                                     [key], {});\n",
              "          if (!dataTable) return;\n",
              "\n",
              "          const docLinkHtml = 'Like what you see? Visit the ' +\n",
              "            '<a target=\"_blank\" href=https://colab.research.google.com/notebooks/data_table.ipynb>data table notebook</a>'\n",
              "            + ' to learn more about interactive tables.';\n",
              "          element.innerHTML = '';\n",
              "          dataTable['output_type'] = 'display_data';\n",
              "          await google.colab.output.renderOutput(dataTable, element);\n",
              "          const docLink = document.createElement('div');\n",
              "          docLink.innerHTML = docLinkHtml;\n",
              "          element.appendChild(docLink);\n",
              "        }\n",
              "      </script>\n",
              "    </div>\n",
              "  </div>\n",
              "  "
            ]
          },
          "metadata": {},
          "execution_count": 41
        }
      ],
      "source": [
        "df[(df.capacity > 1300) & (df.start_year >= 1988)]"
      ]
    },
    {
      "cell_type": "markdown",
      "metadata": {
        "id": "m-NYfQVVQBTk"
      },
      "source": [
        "Or we make [SQL-like](https://en.wikipedia.org/wiki/SQL) queries:"
      ]
    },
    {
      "cell_type": "code",
      "execution_count": 42,
      "metadata": {
        "id": "WP63GdxRQBTk",
        "outputId": "b31a07ef-b16c-40cb-f251-96827b08ee70",
        "colab": {
          "base_uri": "https://localhost:8080/",
          "height": 112
        }
      },
      "outputs": [
        {
          "output_type": "execute_result",
          "data": {
            "text/plain": [
              "           capacity type  start_year  end_year   x   y\n",
              "Essenbach      1365  PWR        1988       NaN NaN NaN\n",
              "Emsland        1290  PWR        1988    2023.0 NaN NaN"
            ],
            "text/html": [
              "\n",
              "  <div id=\"df-3f40258f-c995-4895-b192-b6b266627e3a\">\n",
              "    <div class=\"colab-df-container\">\n",
              "      <div>\n",
              "<style scoped>\n",
              "    .dataframe tbody tr th:only-of-type {\n",
              "        vertical-align: middle;\n",
              "    }\n",
              "\n",
              "    .dataframe tbody tr th {\n",
              "        vertical-align: top;\n",
              "    }\n",
              "\n",
              "    .dataframe thead th {\n",
              "        text-align: right;\n",
              "    }\n",
              "</style>\n",
              "<table border=\"1\" class=\"dataframe\">\n",
              "  <thead>\n",
              "    <tr style=\"text-align: right;\">\n",
              "      <th></th>\n",
              "      <th>capacity</th>\n",
              "      <th>type</th>\n",
              "      <th>start_year</th>\n",
              "      <th>end_year</th>\n",
              "      <th>x</th>\n",
              "      <th>y</th>\n",
              "    </tr>\n",
              "  </thead>\n",
              "  <tbody>\n",
              "    <tr>\n",
              "      <th>Essenbach</th>\n",
              "      <td>1365</td>\n",
              "      <td>PWR</td>\n",
              "      <td>1988</td>\n",
              "      <td>NaN</td>\n",
              "      <td>NaN</td>\n",
              "      <td>NaN</td>\n",
              "    </tr>\n",
              "    <tr>\n",
              "      <th>Emsland</th>\n",
              "      <td>1290</td>\n",
              "      <td>PWR</td>\n",
              "      <td>1988</td>\n",
              "      <td>2023.0</td>\n",
              "      <td>NaN</td>\n",
              "      <td>NaN</td>\n",
              "    </tr>\n",
              "  </tbody>\n",
              "</table>\n",
              "</div>\n",
              "      <button class=\"colab-df-convert\" onclick=\"convertToInteractive('df-3f40258f-c995-4895-b192-b6b266627e3a')\"\n",
              "              title=\"Convert this dataframe to an interactive table.\"\n",
              "              style=\"display:none;\">\n",
              "        \n",
              "  <svg xmlns=\"http://www.w3.org/2000/svg\" height=\"24px\"viewBox=\"0 0 24 24\"\n",
              "       width=\"24px\">\n",
              "    <path d=\"M0 0h24v24H0V0z\" fill=\"none\"/>\n",
              "    <path d=\"M18.56 5.44l.94 2.06.94-2.06 2.06-.94-2.06-.94-.94-2.06-.94 2.06-2.06.94zm-11 1L8.5 8.5l.94-2.06 2.06-.94-2.06-.94L8.5 2.5l-.94 2.06-2.06.94zm10 10l.94 2.06.94-2.06 2.06-.94-2.06-.94-.94-2.06-.94 2.06-2.06.94z\"/><path d=\"M17.41 7.96l-1.37-1.37c-.4-.4-.92-.59-1.43-.59-.52 0-1.04.2-1.43.59L10.3 9.45l-7.72 7.72c-.78.78-.78 2.05 0 2.83L4 21.41c.39.39.9.59 1.41.59.51 0 1.02-.2 1.41-.59l7.78-7.78 2.81-2.81c.8-.78.8-2.07 0-2.86zM5.41 20L4 18.59l7.72-7.72 1.47 1.35L5.41 20z\"/>\n",
              "  </svg>\n",
              "      </button>\n",
              "      \n",
              "  <style>\n",
              "    .colab-df-container {\n",
              "      display:flex;\n",
              "      flex-wrap:wrap;\n",
              "      gap: 12px;\n",
              "    }\n",
              "\n",
              "    .colab-df-convert {\n",
              "      background-color: #E8F0FE;\n",
              "      border: none;\n",
              "      border-radius: 50%;\n",
              "      cursor: pointer;\n",
              "      display: none;\n",
              "      fill: #1967D2;\n",
              "      height: 32px;\n",
              "      padding: 0 0 0 0;\n",
              "      width: 32px;\n",
              "    }\n",
              "\n",
              "    .colab-df-convert:hover {\n",
              "      background-color: #E2EBFA;\n",
              "      box-shadow: 0px 1px 2px rgba(60, 64, 67, 0.3), 0px 1px 3px 1px rgba(60, 64, 67, 0.15);\n",
              "      fill: #174EA6;\n",
              "    }\n",
              "\n",
              "    [theme=dark] .colab-df-convert {\n",
              "      background-color: #3B4455;\n",
              "      fill: #D2E3FC;\n",
              "    }\n",
              "\n",
              "    [theme=dark] .colab-df-convert:hover {\n",
              "      background-color: #434B5C;\n",
              "      box-shadow: 0px 1px 3px 1px rgba(0, 0, 0, 0.15);\n",
              "      filter: drop-shadow(0px 1px 2px rgba(0, 0, 0, 0.3));\n",
              "      fill: #FFFFFF;\n",
              "    }\n",
              "  </style>\n",
              "\n",
              "      <script>\n",
              "        const buttonEl =\n",
              "          document.querySelector('#df-3f40258f-c995-4895-b192-b6b266627e3a button.colab-df-convert');\n",
              "        buttonEl.style.display =\n",
              "          google.colab.kernel.accessAllowed ? 'block' : 'none';\n",
              "\n",
              "        async function convertToInteractive(key) {\n",
              "          const element = document.querySelector('#df-3f40258f-c995-4895-b192-b6b266627e3a');\n",
              "          const dataTable =\n",
              "            await google.colab.kernel.invokeFunction('convertToInteractive',\n",
              "                                                     [key], {});\n",
              "          if (!dataTable) return;\n",
              "\n",
              "          const docLinkHtml = 'Like what you see? Visit the ' +\n",
              "            '<a target=\"_blank\" href=https://colab.research.google.com/notebooks/data_table.ipynb>data table notebook</a>'\n",
              "            + ' to learn more about interactive tables.';\n",
              "          element.innerHTML = '';\n",
              "          dataTable['output_type'] = 'display_data';\n",
              "          await google.colab.output.renderOutput(dataTable, element);\n",
              "          const docLink = document.createElement('div');\n",
              "          docLink.innerHTML = docLinkHtml;\n",
              "          element.appendChild(docLink);\n",
              "        }\n",
              "      </script>\n",
              "    </div>\n",
              "  </div>\n",
              "  "
            ]
          },
          "metadata": {},
          "execution_count": 42
        }
      ],
      "source": [
        "df.query(\"start_year == 1988\")"
      ]
    },
    {
      "cell_type": "code",
      "execution_count": 43,
      "metadata": {
        "id": "WP4oI0NKQBTk",
        "outputId": "b809e6a6-8c72-4ba5-a6c8-b3c76c1c8d4d",
        "colab": {
          "base_uri": "https://localhost:8080/",
          "height": 81
        }
      },
      "outputs": [
        {
          "output_type": "execute_result",
          "data": {
            "text/plain": [
              "           capacity type  start_year  end_year   x   y\n",
              "Essenbach      1365  PWR        1988       NaN NaN NaN"
            ],
            "text/html": [
              "\n",
              "  <div id=\"df-1d6c3bc5-3b59-40e7-9682-9487b8f055d5\">\n",
              "    <div class=\"colab-df-container\">\n",
              "      <div>\n",
              "<style scoped>\n",
              "    .dataframe tbody tr th:only-of-type {\n",
              "        vertical-align: middle;\n",
              "    }\n",
              "\n",
              "    .dataframe tbody tr th {\n",
              "        vertical-align: top;\n",
              "    }\n",
              "\n",
              "    .dataframe thead th {\n",
              "        text-align: right;\n",
              "    }\n",
              "</style>\n",
              "<table border=\"1\" class=\"dataframe\">\n",
              "  <thead>\n",
              "    <tr style=\"text-align: right;\">\n",
              "      <th></th>\n",
              "      <th>capacity</th>\n",
              "      <th>type</th>\n",
              "      <th>start_year</th>\n",
              "      <th>end_year</th>\n",
              "      <th>x</th>\n",
              "      <th>y</th>\n",
              "    </tr>\n",
              "  </thead>\n",
              "  <tbody>\n",
              "    <tr>\n",
              "      <th>Essenbach</th>\n",
              "      <td>1365</td>\n",
              "      <td>PWR</td>\n",
              "      <td>1988</td>\n",
              "      <td>NaN</td>\n",
              "      <td>NaN</td>\n",
              "      <td>NaN</td>\n",
              "    </tr>\n",
              "  </tbody>\n",
              "</table>\n",
              "</div>\n",
              "      <button class=\"colab-df-convert\" onclick=\"convertToInteractive('df-1d6c3bc5-3b59-40e7-9682-9487b8f055d5')\"\n",
              "              title=\"Convert this dataframe to an interactive table.\"\n",
              "              style=\"display:none;\">\n",
              "        \n",
              "  <svg xmlns=\"http://www.w3.org/2000/svg\" height=\"24px\"viewBox=\"0 0 24 24\"\n",
              "       width=\"24px\">\n",
              "    <path d=\"M0 0h24v24H0V0z\" fill=\"none\"/>\n",
              "    <path d=\"M18.56 5.44l.94 2.06.94-2.06 2.06-.94-2.06-.94-.94-2.06-.94 2.06-2.06.94zm-11 1L8.5 8.5l.94-2.06 2.06-.94-2.06-.94L8.5 2.5l-.94 2.06-2.06.94zm10 10l.94 2.06.94-2.06 2.06-.94-2.06-.94-.94-2.06-.94 2.06-2.06.94z\"/><path d=\"M17.41 7.96l-1.37-1.37c-.4-.4-.92-.59-1.43-.59-.52 0-1.04.2-1.43.59L10.3 9.45l-7.72 7.72c-.78.78-.78 2.05 0 2.83L4 21.41c.39.39.9.59 1.41.59.51 0 1.02-.2 1.41-.59l7.78-7.78 2.81-2.81c.8-.78.8-2.07 0-2.86zM5.41 20L4 18.59l7.72-7.72 1.47 1.35L5.41 20z\"/>\n",
              "  </svg>\n",
              "      </button>\n",
              "      \n",
              "  <style>\n",
              "    .colab-df-container {\n",
              "      display:flex;\n",
              "      flex-wrap:wrap;\n",
              "      gap: 12px;\n",
              "    }\n",
              "\n",
              "    .colab-df-convert {\n",
              "      background-color: #E8F0FE;\n",
              "      border: none;\n",
              "      border-radius: 50%;\n",
              "      cursor: pointer;\n",
              "      display: none;\n",
              "      fill: #1967D2;\n",
              "      height: 32px;\n",
              "      padding: 0 0 0 0;\n",
              "      width: 32px;\n",
              "    }\n",
              "\n",
              "    .colab-df-convert:hover {\n",
              "      background-color: #E2EBFA;\n",
              "      box-shadow: 0px 1px 2px rgba(60, 64, 67, 0.3), 0px 1px 3px 1px rgba(60, 64, 67, 0.15);\n",
              "      fill: #174EA6;\n",
              "    }\n",
              "\n",
              "    [theme=dark] .colab-df-convert {\n",
              "      background-color: #3B4455;\n",
              "      fill: #D2E3FC;\n",
              "    }\n",
              "\n",
              "    [theme=dark] .colab-df-convert:hover {\n",
              "      background-color: #434B5C;\n",
              "      box-shadow: 0px 1px 3px 1px rgba(0, 0, 0, 0.15);\n",
              "      filter: drop-shadow(0px 1px 2px rgba(0, 0, 0, 0.3));\n",
              "      fill: #FFFFFF;\n",
              "    }\n",
              "  </style>\n",
              "\n",
              "      <script>\n",
              "        const buttonEl =\n",
              "          document.querySelector('#df-1d6c3bc5-3b59-40e7-9682-9487b8f055d5 button.colab-df-convert');\n",
              "        buttonEl.style.display =\n",
              "          google.colab.kernel.accessAllowed ? 'block' : 'none';\n",
              "\n",
              "        async function convertToInteractive(key) {\n",
              "          const element = document.querySelector('#df-1d6c3bc5-3b59-40e7-9682-9487b8f055d5');\n",
              "          const dataTable =\n",
              "            await google.colab.kernel.invokeFunction('convertToInteractive',\n",
              "                                                     [key], {});\n",
              "          if (!dataTable) return;\n",
              "\n",
              "          const docLinkHtml = 'Like what you see? Visit the ' +\n",
              "            '<a target=\"_blank\" href=https://colab.research.google.com/notebooks/data_table.ipynb>data table notebook</a>'\n",
              "            + ' to learn more about interactive tables.';\n",
              "          element.innerHTML = '';\n",
              "          dataTable['output_type'] = 'display_data';\n",
              "          await google.colab.output.renderOutput(dataTable, element);\n",
              "          const docLink = document.createElement('div');\n",
              "          docLink.innerHTML = docLinkHtml;\n",
              "          element.appendChild(docLink);\n",
              "        }\n",
              "      </script>\n",
              "    </div>\n",
              "  </div>\n",
              "  "
            ]
          },
          "metadata": {},
          "execution_count": 43
        }
      ],
      "source": [
        "threshold = 1300\n",
        "df.query(\"start_year == 1988 and capacity > @threshold\")"
      ]
    },
    {
      "cell_type": "markdown",
      "metadata": {
        "id": "p5VCUlf3QBTk"
      },
      "source": [
        "## Modifying Values\n",
        "\n",
        "We often want to modify values in a dataframe based on some rule. To modify values, we need to use `.loc` or `.iloc`"
      ]
    },
    {
      "cell_type": "code",
      "execution_count": 45,
      "metadata": {
        "id": "9P5or8dEQBTk",
        "outputId": "5f4c9a7d-60d1-4ab8-c520-9bfdad2edbae",
        "colab": {
          "base_uri": "https://localhost:8080/",
          "height": 238
        }
      },
      "outputs": [
        {
          "output_type": "execute_result",
          "data": {
            "text/plain": [
              "                capacity type  start_year  end_year      x      y\n",
              "Neckarwestheim      1269  PWR        1989       NaN    NaN    NaN\n",
              "Essenbach           1365  PWR        1988       NaN  12.29    NaN\n",
              "Emsland             1290  PWR        1988    2023.0    NaN    NaN\n",
              "Gundremmingen       1288  BWR        1985    2021.0  10.40  48.51\n",
              "Grohnde             1362  PWR        1985    2021.0   9.41  52.03\n",
              "Brokdorf            1326  PWR        1986    2021.0   9.35  53.85"
            ],
            "text/html": [
              "\n",
              "  <div id=\"df-e22548d4-9cb6-43b0-897d-a2e9fb81c4a3\">\n",
              "    <div class=\"colab-df-container\">\n",
              "      <div>\n",
              "<style scoped>\n",
              "    .dataframe tbody tr th:only-of-type {\n",
              "        vertical-align: middle;\n",
              "    }\n",
              "\n",
              "    .dataframe tbody tr th {\n",
              "        vertical-align: top;\n",
              "    }\n",
              "\n",
              "    .dataframe thead th {\n",
              "        text-align: right;\n",
              "    }\n",
              "</style>\n",
              "<table border=\"1\" class=\"dataframe\">\n",
              "  <thead>\n",
              "    <tr style=\"text-align: right;\">\n",
              "      <th></th>\n",
              "      <th>capacity</th>\n",
              "      <th>type</th>\n",
              "      <th>start_year</th>\n",
              "      <th>end_year</th>\n",
              "      <th>x</th>\n",
              "      <th>y</th>\n",
              "    </tr>\n",
              "  </thead>\n",
              "  <tbody>\n",
              "    <tr>\n",
              "      <th>Neckarwestheim</th>\n",
              "      <td>1269</td>\n",
              "      <td>PWR</td>\n",
              "      <td>1989</td>\n",
              "      <td>NaN</td>\n",
              "      <td>NaN</td>\n",
              "      <td>NaN</td>\n",
              "    </tr>\n",
              "    <tr>\n",
              "      <th>Essenbach</th>\n",
              "      <td>1365</td>\n",
              "      <td>PWR</td>\n",
              "      <td>1988</td>\n",
              "      <td>NaN</td>\n",
              "      <td>12.29</td>\n",
              "      <td>NaN</td>\n",
              "    </tr>\n",
              "    <tr>\n",
              "      <th>Emsland</th>\n",
              "      <td>1290</td>\n",
              "      <td>PWR</td>\n",
              "      <td>1988</td>\n",
              "      <td>2023.0</td>\n",
              "      <td>NaN</td>\n",
              "      <td>NaN</td>\n",
              "    </tr>\n",
              "    <tr>\n",
              "      <th>Gundremmingen</th>\n",
              "      <td>1288</td>\n",
              "      <td>BWR</td>\n",
              "      <td>1985</td>\n",
              "      <td>2021.0</td>\n",
              "      <td>10.40</td>\n",
              "      <td>48.51</td>\n",
              "    </tr>\n",
              "    <tr>\n",
              "      <th>Grohnde</th>\n",
              "      <td>1362</td>\n",
              "      <td>PWR</td>\n",
              "      <td>1985</td>\n",
              "      <td>2021.0</td>\n",
              "      <td>9.41</td>\n",
              "      <td>52.03</td>\n",
              "    </tr>\n",
              "    <tr>\n",
              "      <th>Brokdorf</th>\n",
              "      <td>1326</td>\n",
              "      <td>PWR</td>\n",
              "      <td>1986</td>\n",
              "      <td>2021.0</td>\n",
              "      <td>9.35</td>\n",
              "      <td>53.85</td>\n",
              "    </tr>\n",
              "  </tbody>\n",
              "</table>\n",
              "</div>\n",
              "      <button class=\"colab-df-convert\" onclick=\"convertToInteractive('df-e22548d4-9cb6-43b0-897d-a2e9fb81c4a3')\"\n",
              "              title=\"Convert this dataframe to an interactive table.\"\n",
              "              style=\"display:none;\">\n",
              "        \n",
              "  <svg xmlns=\"http://www.w3.org/2000/svg\" height=\"24px\"viewBox=\"0 0 24 24\"\n",
              "       width=\"24px\">\n",
              "    <path d=\"M0 0h24v24H0V0z\" fill=\"none\"/>\n",
              "    <path d=\"M18.56 5.44l.94 2.06.94-2.06 2.06-.94-2.06-.94-.94-2.06-.94 2.06-2.06.94zm-11 1L8.5 8.5l.94-2.06 2.06-.94-2.06-.94L8.5 2.5l-.94 2.06-2.06.94zm10 10l.94 2.06.94-2.06 2.06-.94-2.06-.94-.94-2.06-.94 2.06-2.06.94z\"/><path d=\"M17.41 7.96l-1.37-1.37c-.4-.4-.92-.59-1.43-.59-.52 0-1.04.2-1.43.59L10.3 9.45l-7.72 7.72c-.78.78-.78 2.05 0 2.83L4 21.41c.39.39.9.59 1.41.59.51 0 1.02-.2 1.41-.59l7.78-7.78 2.81-2.81c.8-.78.8-2.07 0-2.86zM5.41 20L4 18.59l7.72-7.72 1.47 1.35L5.41 20z\"/>\n",
              "  </svg>\n",
              "      </button>\n",
              "      \n",
              "  <style>\n",
              "    .colab-df-container {\n",
              "      display:flex;\n",
              "      flex-wrap:wrap;\n",
              "      gap: 12px;\n",
              "    }\n",
              "\n",
              "    .colab-df-convert {\n",
              "      background-color: #E8F0FE;\n",
              "      border: none;\n",
              "      border-radius: 50%;\n",
              "      cursor: pointer;\n",
              "      display: none;\n",
              "      fill: #1967D2;\n",
              "      height: 32px;\n",
              "      padding: 0 0 0 0;\n",
              "      width: 32px;\n",
              "    }\n",
              "\n",
              "    .colab-df-convert:hover {\n",
              "      background-color: #E2EBFA;\n",
              "      box-shadow: 0px 1px 2px rgba(60, 64, 67, 0.3), 0px 1px 3px 1px rgba(60, 64, 67, 0.15);\n",
              "      fill: #174EA6;\n",
              "    }\n",
              "\n",
              "    [theme=dark] .colab-df-convert {\n",
              "      background-color: #3B4455;\n",
              "      fill: #D2E3FC;\n",
              "    }\n",
              "\n",
              "    [theme=dark] .colab-df-convert:hover {\n",
              "      background-color: #434B5C;\n",
              "      box-shadow: 0px 1px 3px 1px rgba(0, 0, 0, 0.15);\n",
              "      filter: drop-shadow(0px 1px 2px rgba(0, 0, 0, 0.3));\n",
              "      fill: #FFFFFF;\n",
              "    }\n",
              "  </style>\n",
              "\n",
              "      <script>\n",
              "        const buttonEl =\n",
              "          document.querySelector('#df-e22548d4-9cb6-43b0-897d-a2e9fb81c4a3 button.colab-df-convert');\n",
              "        buttonEl.style.display =\n",
              "          google.colab.kernel.accessAllowed ? 'block' : 'none';\n",
              "\n",
              "        async function convertToInteractive(key) {\n",
              "          const element = document.querySelector('#df-e22548d4-9cb6-43b0-897d-a2e9fb81c4a3');\n",
              "          const dataTable =\n",
              "            await google.colab.kernel.invokeFunction('convertToInteractive',\n",
              "                                                     [key], {});\n",
              "          if (!dataTable) return;\n",
              "\n",
              "          const docLinkHtml = 'Like what you see? Visit the ' +\n",
              "            '<a target=\"_blank\" href=https://colab.research.google.com/notebooks/data_table.ipynb>data table notebook</a>'\n",
              "            + ' to learn more about interactive tables.';\n",
              "          element.innerHTML = '';\n",
              "          dataTable['output_type'] = 'display_data';\n",
              "          await google.colab.output.renderOutput(dataTable, element);\n",
              "          const docLink = document.createElement('div');\n",
              "          docLink.innerHTML = docLinkHtml;\n",
              "          element.appendChild(docLink);\n",
              "        }\n",
              "      </script>\n",
              "    </div>\n",
              "  </div>\n",
              "  "
            ]
          },
          "metadata": {},
          "execution_count": 45
        }
      ],
      "source": [
        "df.loc['Essenbach', 'x'] = 12.29\n",
        "df.loc['Grohnde', 'capacity'] += 1\n",
        "df"
      ]
    },
    {
      "cell_type": "code",
      "execution_count": 46,
      "metadata": {
        "id": "8Sz2dNskQBTk",
        "outputId": "5502d7d0-b682-4925-fccc-7c40f1abac4e",
        "colab": {
          "base_uri": "https://localhost:8080/",
          "height": 238
        }
      },
      "outputs": [
        {
          "output_type": "execute_result",
          "data": {
            "text/plain": [
              "                capacity type  start_year  end_year      x      y\n",
              "Neckarwestheim      1269  PWR        1989       NaN    NaN  49.04\n",
              "Essenbach           1365  PWR        1988       NaN  12.29  48.61\n",
              "Emsland             1290  PWR        1988    2023.0    NaN  52.47\n",
              "Gundremmingen       1288  BWR        1985    2021.0  10.40  48.51\n",
              "Grohnde             1362  PWR        1985    2021.0   9.41  52.03\n",
              "Brokdorf            1326  PWR        1986    2021.0   9.35  53.85"
            ],
            "text/html": [
              "\n",
              "  <div id=\"df-a375a4fe-740a-4f84-beb6-6fe2f653005d\">\n",
              "    <div class=\"colab-df-container\">\n",
              "      <div>\n",
              "<style scoped>\n",
              "    .dataframe tbody tr th:only-of-type {\n",
              "        vertical-align: middle;\n",
              "    }\n",
              "\n",
              "    .dataframe tbody tr th {\n",
              "        vertical-align: top;\n",
              "    }\n",
              "\n",
              "    .dataframe thead th {\n",
              "        text-align: right;\n",
              "    }\n",
              "</style>\n",
              "<table border=\"1\" class=\"dataframe\">\n",
              "  <thead>\n",
              "    <tr style=\"text-align: right;\">\n",
              "      <th></th>\n",
              "      <th>capacity</th>\n",
              "      <th>type</th>\n",
              "      <th>start_year</th>\n",
              "      <th>end_year</th>\n",
              "      <th>x</th>\n",
              "      <th>y</th>\n",
              "    </tr>\n",
              "  </thead>\n",
              "  <tbody>\n",
              "    <tr>\n",
              "      <th>Neckarwestheim</th>\n",
              "      <td>1269</td>\n",
              "      <td>PWR</td>\n",
              "      <td>1989</td>\n",
              "      <td>NaN</td>\n",
              "      <td>NaN</td>\n",
              "      <td>49.04</td>\n",
              "    </tr>\n",
              "    <tr>\n",
              "      <th>Essenbach</th>\n",
              "      <td>1365</td>\n",
              "      <td>PWR</td>\n",
              "      <td>1988</td>\n",
              "      <td>NaN</td>\n",
              "      <td>12.29</td>\n",
              "      <td>48.61</td>\n",
              "    </tr>\n",
              "    <tr>\n",
              "      <th>Emsland</th>\n",
              "      <td>1290</td>\n",
              "      <td>PWR</td>\n",
              "      <td>1988</td>\n",
              "      <td>2023.0</td>\n",
              "      <td>NaN</td>\n",
              "      <td>52.47</td>\n",
              "    </tr>\n",
              "    <tr>\n",
              "      <th>Gundremmingen</th>\n",
              "      <td>1288</td>\n",
              "      <td>BWR</td>\n",
              "      <td>1985</td>\n",
              "      <td>2021.0</td>\n",
              "      <td>10.40</td>\n",
              "      <td>48.51</td>\n",
              "    </tr>\n",
              "    <tr>\n",
              "      <th>Grohnde</th>\n",
              "      <td>1362</td>\n",
              "      <td>PWR</td>\n",
              "      <td>1985</td>\n",
              "      <td>2021.0</td>\n",
              "      <td>9.41</td>\n",
              "      <td>52.03</td>\n",
              "    </tr>\n",
              "    <tr>\n",
              "      <th>Brokdorf</th>\n",
              "      <td>1326</td>\n",
              "      <td>PWR</td>\n",
              "      <td>1986</td>\n",
              "      <td>2021.0</td>\n",
              "      <td>9.35</td>\n",
              "      <td>53.85</td>\n",
              "    </tr>\n",
              "  </tbody>\n",
              "</table>\n",
              "</div>\n",
              "      <button class=\"colab-df-convert\" onclick=\"convertToInteractive('df-a375a4fe-740a-4f84-beb6-6fe2f653005d')\"\n",
              "              title=\"Convert this dataframe to an interactive table.\"\n",
              "              style=\"display:none;\">\n",
              "        \n",
              "  <svg xmlns=\"http://www.w3.org/2000/svg\" height=\"24px\"viewBox=\"0 0 24 24\"\n",
              "       width=\"24px\">\n",
              "    <path d=\"M0 0h24v24H0V0z\" fill=\"none\"/>\n",
              "    <path d=\"M18.56 5.44l.94 2.06.94-2.06 2.06-.94-2.06-.94-.94-2.06-.94 2.06-2.06.94zm-11 1L8.5 8.5l.94-2.06 2.06-.94-2.06-.94L8.5 2.5l-.94 2.06-2.06.94zm10 10l.94 2.06.94-2.06 2.06-.94-2.06-.94-.94-2.06-.94 2.06-2.06.94z\"/><path d=\"M17.41 7.96l-1.37-1.37c-.4-.4-.92-.59-1.43-.59-.52 0-1.04.2-1.43.59L10.3 9.45l-7.72 7.72c-.78.78-.78 2.05 0 2.83L4 21.41c.39.39.9.59 1.41.59.51 0 1.02-.2 1.41-.59l7.78-7.78 2.81-2.81c.8-.78.8-2.07 0-2.86zM5.41 20L4 18.59l7.72-7.72 1.47 1.35L5.41 20z\"/>\n",
              "  </svg>\n",
              "      </button>\n",
              "      \n",
              "  <style>\n",
              "    .colab-df-container {\n",
              "      display:flex;\n",
              "      flex-wrap:wrap;\n",
              "      gap: 12px;\n",
              "    }\n",
              "\n",
              "    .colab-df-convert {\n",
              "      background-color: #E8F0FE;\n",
              "      border: none;\n",
              "      border-radius: 50%;\n",
              "      cursor: pointer;\n",
              "      display: none;\n",
              "      fill: #1967D2;\n",
              "      height: 32px;\n",
              "      padding: 0 0 0 0;\n",
              "      width: 32px;\n",
              "    }\n",
              "\n",
              "    .colab-df-convert:hover {\n",
              "      background-color: #E2EBFA;\n",
              "      box-shadow: 0px 1px 2px rgba(60, 64, 67, 0.3), 0px 1px 3px 1px rgba(60, 64, 67, 0.15);\n",
              "      fill: #174EA6;\n",
              "    }\n",
              "\n",
              "    [theme=dark] .colab-df-convert {\n",
              "      background-color: #3B4455;\n",
              "      fill: #D2E3FC;\n",
              "    }\n",
              "\n",
              "    [theme=dark] .colab-df-convert:hover {\n",
              "      background-color: #434B5C;\n",
              "      box-shadow: 0px 1px 3px 1px rgba(0, 0, 0, 0.15);\n",
              "      filter: drop-shadow(0px 1px 2px rgba(0, 0, 0, 0.3));\n",
              "      fill: #FFFFFF;\n",
              "    }\n",
              "  </style>\n",
              "\n",
              "      <script>\n",
              "        const buttonEl =\n",
              "          document.querySelector('#df-a375a4fe-740a-4f84-beb6-6fe2f653005d button.colab-df-convert');\n",
              "        buttonEl.style.display =\n",
              "          google.colab.kernel.accessAllowed ? 'block' : 'none';\n",
              "\n",
              "        async function convertToInteractive(key) {\n",
              "          const element = document.querySelector('#df-a375a4fe-740a-4f84-beb6-6fe2f653005d');\n",
              "          const dataTable =\n",
              "            await google.colab.kernel.invokeFunction('convertToInteractive',\n",
              "                                                     [key], {});\n",
              "          if (!dataTable) return;\n",
              "\n",
              "          const docLinkHtml = 'Like what you see? Visit the ' +\n",
              "            '<a target=\"_blank\" href=https://colab.research.google.com/notebooks/data_table.ipynb>data table notebook</a>'\n",
              "            + ' to learn more about interactive tables.';\n",
              "          element.innerHTML = '';\n",
              "          dataTable['output_type'] = 'display_data';\n",
              "          await google.colab.output.renderOutput(dataTable, element);\n",
              "          const docLink = document.createElement('div');\n",
              "          docLink.innerHTML = docLinkHtml;\n",
              "          element.appendChild(docLink);\n",
              "        }\n",
              "      </script>\n",
              "    </div>\n",
              "  </div>\n",
              "  "
            ]
          },
          "metadata": {},
          "execution_count": 46
        }
      ],
      "source": [
        "operational = ['Neckarwestheim', 'Essenbach', 'Emsland']\n",
        "df.loc[operational, 'y'] = [49.04, 48.61, 52.47]\n",
        "df"
      ]
    },
    {
      "cell_type": "markdown",
      "metadata": {
        "tags": [],
        "id": "77D5juq_QBTk"
      },
      "source": [
        "## Applying Functions"
      ]
    },
    {
      "cell_type": "markdown",
      "metadata": {
        "id": "UMR4UkSVQBTk"
      },
      "source": [
        "Sometimes it can be useful apply a function to all values of a column/row. For instance, we might be interested in normalised capacities relative to the largest nuclear power plant:"
      ]
    },
    {
      "cell_type": "code",
      "execution_count": 47,
      "metadata": {
        "id": "Ae7XZ1I7QBTl",
        "outputId": "072d6008-fca1-46f0-b303-59f9dcfa202c",
        "colab": {
          "base_uri": "https://localhost:8080/"
        }
      },
      "outputs": [
        {
          "output_type": "execute_result",
          "data": {
            "text/plain": [
              "Neckarwestheim    0.929670\n",
              "Essenbach         1.000000\n",
              "Emsland           0.945055\n",
              "Gundremmingen     0.943590\n",
              "Grohnde           0.997802\n",
              "Brokdorf          0.971429\n",
              "Name: capacity, dtype: float64"
            ]
          },
          "metadata": {},
          "execution_count": 47
        }
      ],
      "source": [
        "df.capacity.apply(lambda x: x / df.capacity.max())"
      ]
    },
    {
      "cell_type": "code",
      "execution_count": 48,
      "metadata": {
        "id": "0wWKvHRXQBTl",
        "outputId": "c4375b1e-1e5f-4233-806c-d0fe57a90443",
        "colab": {
          "base_uri": "https://localhost:8080/"
        }
      },
      "outputs": [
        {
          "output_type": "execute_result",
          "data": {
            "text/plain": [
              "Neckarwestheim    0.929670\n",
              "Essenbach         1.000000\n",
              "Emsland           0.945055\n",
              "Gundremmingen     0.943590\n",
              "Grohnde           0.997802\n",
              "Brokdorf          0.971429\n",
              "Name: capacity, dtype: float64"
            ]
          },
          "metadata": {},
          "execution_count": 48
        }
      ],
      "source": [
        "df.capacity.map(lambda x: x / df.capacity.max())"
      ]
    },
    {
      "cell_type": "markdown",
      "metadata": {
        "id": "k8BLkfOuQBTl"
      },
      "source": [
        "For simple functions, there's often an easier alternative:"
      ]
    },
    {
      "cell_type": "code",
      "execution_count": 49,
      "metadata": {
        "id": "ucslpNojQBTl",
        "outputId": "53fa8ba7-3e4d-459a-8e35-b199c31bd82b",
        "colab": {
          "base_uri": "https://localhost:8080/"
        }
      },
      "outputs": [
        {
          "output_type": "execute_result",
          "data": {
            "text/plain": [
              "Neckarwestheim    0.929670\n",
              "Essenbach         1.000000\n",
              "Emsland           0.945055\n",
              "Gundremmingen     0.943590\n",
              "Grohnde           0.997802\n",
              "Brokdorf          0.971429\n",
              "Name: capacity, dtype: float64"
            ]
          },
          "metadata": {},
          "execution_count": 49
        }
      ],
      "source": [
        "df.capacity / df.capacity.max()"
      ]
    },
    {
      "cell_type": "markdown",
      "metadata": {
        "id": "XeGsv-DPQBTl"
      },
      "source": [
        "But `.apply()` and `.map()` often give you more flexibility."
      ]
    },
    {
      "cell_type": "markdown",
      "metadata": {
        "id": "V4XS61TUQBTl"
      },
      "source": [
        "## Renaming Indices / Columns"
      ]
    },
    {
      "cell_type": "markdown",
      "metadata": {
        "id": "ACXoe5QMQBTl"
      },
      "source": [
        "Sometimes it can be useful to rename columns:"
      ]
    },
    {
      "cell_type": "code",
      "execution_count": 50,
      "metadata": {
        "id": "V1wCGDEiQBTl",
        "outputId": "e79df1be-b4f5-49b4-f8f5-b18ae37a5a6b",
        "colab": {
          "base_uri": "https://localhost:8080/",
          "height": 238
        }
      },
      "outputs": [
        {
          "output_type": "execute_result",
          "data": {
            "text/plain": [
              "                capacity type  start_year  end_year    lat    lon\n",
              "Neckarwestheim      1269  PWR        1989       NaN    NaN  49.04\n",
              "Essenbach           1365  PWR        1988       NaN  12.29  48.61\n",
              "Emsland             1290  PWR        1988    2023.0    NaN  52.47\n",
              "Gundremmingen       1288  BWR        1985    2021.0  10.40  48.51\n",
              "Grohnde             1362  PWR        1985    2021.0   9.41  52.03\n",
              "Brokdorf            1326  PWR        1986    2021.0   9.35  53.85"
            ],
            "text/html": [
              "\n",
              "  <div id=\"df-88e8de4b-9062-4ed3-b199-ccbe8b585c8a\">\n",
              "    <div class=\"colab-df-container\">\n",
              "      <div>\n",
              "<style scoped>\n",
              "    .dataframe tbody tr th:only-of-type {\n",
              "        vertical-align: middle;\n",
              "    }\n",
              "\n",
              "    .dataframe tbody tr th {\n",
              "        vertical-align: top;\n",
              "    }\n",
              "\n",
              "    .dataframe thead th {\n",
              "        text-align: right;\n",
              "    }\n",
              "</style>\n",
              "<table border=\"1\" class=\"dataframe\">\n",
              "  <thead>\n",
              "    <tr style=\"text-align: right;\">\n",
              "      <th></th>\n",
              "      <th>capacity</th>\n",
              "      <th>type</th>\n",
              "      <th>start_year</th>\n",
              "      <th>end_year</th>\n",
              "      <th>lat</th>\n",
              "      <th>lon</th>\n",
              "    </tr>\n",
              "  </thead>\n",
              "  <tbody>\n",
              "    <tr>\n",
              "      <th>Neckarwestheim</th>\n",
              "      <td>1269</td>\n",
              "      <td>PWR</td>\n",
              "      <td>1989</td>\n",
              "      <td>NaN</td>\n",
              "      <td>NaN</td>\n",
              "      <td>49.04</td>\n",
              "    </tr>\n",
              "    <tr>\n",
              "      <th>Essenbach</th>\n",
              "      <td>1365</td>\n",
              "      <td>PWR</td>\n",
              "      <td>1988</td>\n",
              "      <td>NaN</td>\n",
              "      <td>12.29</td>\n",
              "      <td>48.61</td>\n",
              "    </tr>\n",
              "    <tr>\n",
              "      <th>Emsland</th>\n",
              "      <td>1290</td>\n",
              "      <td>PWR</td>\n",
              "      <td>1988</td>\n",
              "      <td>2023.0</td>\n",
              "      <td>NaN</td>\n",
              "      <td>52.47</td>\n",
              "    </tr>\n",
              "    <tr>\n",
              "      <th>Gundremmingen</th>\n",
              "      <td>1288</td>\n",
              "      <td>BWR</td>\n",
              "      <td>1985</td>\n",
              "      <td>2021.0</td>\n",
              "      <td>10.40</td>\n",
              "      <td>48.51</td>\n",
              "    </tr>\n",
              "    <tr>\n",
              "      <th>Grohnde</th>\n",
              "      <td>1362</td>\n",
              "      <td>PWR</td>\n",
              "      <td>1985</td>\n",
              "      <td>2021.0</td>\n",
              "      <td>9.41</td>\n",
              "      <td>52.03</td>\n",
              "    </tr>\n",
              "    <tr>\n",
              "      <th>Brokdorf</th>\n",
              "      <td>1326</td>\n",
              "      <td>PWR</td>\n",
              "      <td>1986</td>\n",
              "      <td>2021.0</td>\n",
              "      <td>9.35</td>\n",
              "      <td>53.85</td>\n",
              "    </tr>\n",
              "  </tbody>\n",
              "</table>\n",
              "</div>\n",
              "      <button class=\"colab-df-convert\" onclick=\"convertToInteractive('df-88e8de4b-9062-4ed3-b199-ccbe8b585c8a')\"\n",
              "              title=\"Convert this dataframe to an interactive table.\"\n",
              "              style=\"display:none;\">\n",
              "        \n",
              "  <svg xmlns=\"http://www.w3.org/2000/svg\" height=\"24px\"viewBox=\"0 0 24 24\"\n",
              "       width=\"24px\">\n",
              "    <path d=\"M0 0h24v24H0V0z\" fill=\"none\"/>\n",
              "    <path d=\"M18.56 5.44l.94 2.06.94-2.06 2.06-.94-2.06-.94-.94-2.06-.94 2.06-2.06.94zm-11 1L8.5 8.5l.94-2.06 2.06-.94-2.06-.94L8.5 2.5l-.94 2.06-2.06.94zm10 10l.94 2.06.94-2.06 2.06-.94-2.06-.94-.94-2.06-.94 2.06-2.06.94z\"/><path d=\"M17.41 7.96l-1.37-1.37c-.4-.4-.92-.59-1.43-.59-.52 0-1.04.2-1.43.59L10.3 9.45l-7.72 7.72c-.78.78-.78 2.05 0 2.83L4 21.41c.39.39.9.59 1.41.59.51 0 1.02-.2 1.41-.59l7.78-7.78 2.81-2.81c.8-.78.8-2.07 0-2.86zM5.41 20L4 18.59l7.72-7.72 1.47 1.35L5.41 20z\"/>\n",
              "  </svg>\n",
              "      </button>\n",
              "      \n",
              "  <style>\n",
              "    .colab-df-container {\n",
              "      display:flex;\n",
              "      flex-wrap:wrap;\n",
              "      gap: 12px;\n",
              "    }\n",
              "\n",
              "    .colab-df-convert {\n",
              "      background-color: #E8F0FE;\n",
              "      border: none;\n",
              "      border-radius: 50%;\n",
              "      cursor: pointer;\n",
              "      display: none;\n",
              "      fill: #1967D2;\n",
              "      height: 32px;\n",
              "      padding: 0 0 0 0;\n",
              "      width: 32px;\n",
              "    }\n",
              "\n",
              "    .colab-df-convert:hover {\n",
              "      background-color: #E2EBFA;\n",
              "      box-shadow: 0px 1px 2px rgba(60, 64, 67, 0.3), 0px 1px 3px 1px rgba(60, 64, 67, 0.15);\n",
              "      fill: #174EA6;\n",
              "    }\n",
              "\n",
              "    [theme=dark] .colab-df-convert {\n",
              "      background-color: #3B4455;\n",
              "      fill: #D2E3FC;\n",
              "    }\n",
              "\n",
              "    [theme=dark] .colab-df-convert:hover {\n",
              "      background-color: #434B5C;\n",
              "      box-shadow: 0px 1px 3px 1px rgba(0, 0, 0, 0.15);\n",
              "      filter: drop-shadow(0px 1px 2px rgba(0, 0, 0, 0.3));\n",
              "      fill: #FFFFFF;\n",
              "    }\n",
              "  </style>\n",
              "\n",
              "      <script>\n",
              "        const buttonEl =\n",
              "          document.querySelector('#df-88e8de4b-9062-4ed3-b199-ccbe8b585c8a button.colab-df-convert');\n",
              "        buttonEl.style.display =\n",
              "          google.colab.kernel.accessAllowed ? 'block' : 'none';\n",
              "\n",
              "        async function convertToInteractive(key) {\n",
              "          const element = document.querySelector('#df-88e8de4b-9062-4ed3-b199-ccbe8b585c8a');\n",
              "          const dataTable =\n",
              "            await google.colab.kernel.invokeFunction('convertToInteractive',\n",
              "                                                     [key], {});\n",
              "          if (!dataTable) return;\n",
              "\n",
              "          const docLinkHtml = 'Like what you see? Visit the ' +\n",
              "            '<a target=\"_blank\" href=https://colab.research.google.com/notebooks/data_table.ipynb>data table notebook</a>'\n",
              "            + ' to learn more about interactive tables.';\n",
              "          element.innerHTML = '';\n",
              "          dataTable['output_type'] = 'display_data';\n",
              "          await google.colab.output.renderOutput(dataTable, element);\n",
              "          const docLink = document.createElement('div');\n",
              "          docLink.innerHTML = docLinkHtml;\n",
              "          element.appendChild(docLink);\n",
              "        }\n",
              "      </script>\n",
              "    </div>\n",
              "  </div>\n",
              "  "
            ]
          },
          "metadata": {},
          "execution_count": 50
        }
      ],
      "source": [
        "df.rename(columns=dict(x='lat', y='lon'))"
      ]
    },
    {
      "cell_type": "markdown",
      "metadata": {
        "id": "kQ9kJ9VmQBTl"
      },
      "source": [
        "## Replacing Values"
      ]
    },
    {
      "cell_type": "markdown",
      "metadata": {
        "id": "2usPSCqHQBTl"
      },
      "source": [
        "Sometimes it can be useful to replace values:"
      ]
    },
    {
      "cell_type": "code",
      "execution_count": 51,
      "metadata": {
        "id": "wSrm8nhRQBTl",
        "outputId": "71ebbb66-8316-4174-b03d-3c5fcc315c4f",
        "colab": {
          "base_uri": "https://localhost:8080/",
          "height": 238
        }
      },
      "outputs": [
        {
          "output_type": "execute_result",
          "data": {
            "text/plain": [
              "                capacity                       type  start_year  end_year  \\\n",
              "Neckarwestheim      1269  Pressurized water reactor        1989       NaN   \n",
              "Essenbach           1365  Pressurized water reactor        1988       NaN   \n",
              "Emsland             1290  Pressurized water reactor        1988    2023.0   \n",
              "Gundremmingen       1288                        BWR        1985    2021.0   \n",
              "Grohnde             1362  Pressurized water reactor        1985    2021.0   \n",
              "Brokdorf            1326  Pressurized water reactor        1986    2021.0   \n",
              "\n",
              "                    x      y  \n",
              "Neckarwestheim    NaN  49.04  \n",
              "Essenbach       12.29  48.61  \n",
              "Emsland           NaN  52.47  \n",
              "Gundremmingen   10.40  48.51  \n",
              "Grohnde          9.41  52.03  \n",
              "Brokdorf         9.35  53.85  "
            ],
            "text/html": [
              "\n",
              "  <div id=\"df-5fa14066-6c65-4357-81bb-19e3c1b8e22d\">\n",
              "    <div class=\"colab-df-container\">\n",
              "      <div>\n",
              "<style scoped>\n",
              "    .dataframe tbody tr th:only-of-type {\n",
              "        vertical-align: middle;\n",
              "    }\n",
              "\n",
              "    .dataframe tbody tr th {\n",
              "        vertical-align: top;\n",
              "    }\n",
              "\n",
              "    .dataframe thead th {\n",
              "        text-align: right;\n",
              "    }\n",
              "</style>\n",
              "<table border=\"1\" class=\"dataframe\">\n",
              "  <thead>\n",
              "    <tr style=\"text-align: right;\">\n",
              "      <th></th>\n",
              "      <th>capacity</th>\n",
              "      <th>type</th>\n",
              "      <th>start_year</th>\n",
              "      <th>end_year</th>\n",
              "      <th>x</th>\n",
              "      <th>y</th>\n",
              "    </tr>\n",
              "  </thead>\n",
              "  <tbody>\n",
              "    <tr>\n",
              "      <th>Neckarwestheim</th>\n",
              "      <td>1269</td>\n",
              "      <td>Pressurized water reactor</td>\n",
              "      <td>1989</td>\n",
              "      <td>NaN</td>\n",
              "      <td>NaN</td>\n",
              "      <td>49.04</td>\n",
              "    </tr>\n",
              "    <tr>\n",
              "      <th>Essenbach</th>\n",
              "      <td>1365</td>\n",
              "      <td>Pressurized water reactor</td>\n",
              "      <td>1988</td>\n",
              "      <td>NaN</td>\n",
              "      <td>12.29</td>\n",
              "      <td>48.61</td>\n",
              "    </tr>\n",
              "    <tr>\n",
              "      <th>Emsland</th>\n",
              "      <td>1290</td>\n",
              "      <td>Pressurized water reactor</td>\n",
              "      <td>1988</td>\n",
              "      <td>2023.0</td>\n",
              "      <td>NaN</td>\n",
              "      <td>52.47</td>\n",
              "    </tr>\n",
              "    <tr>\n",
              "      <th>Gundremmingen</th>\n",
              "      <td>1288</td>\n",
              "      <td>BWR</td>\n",
              "      <td>1985</td>\n",
              "      <td>2021.0</td>\n",
              "      <td>10.40</td>\n",
              "      <td>48.51</td>\n",
              "    </tr>\n",
              "    <tr>\n",
              "      <th>Grohnde</th>\n",
              "      <td>1362</td>\n",
              "      <td>Pressurized water reactor</td>\n",
              "      <td>1985</td>\n",
              "      <td>2021.0</td>\n",
              "      <td>9.41</td>\n",
              "      <td>52.03</td>\n",
              "    </tr>\n",
              "    <tr>\n",
              "      <th>Brokdorf</th>\n",
              "      <td>1326</td>\n",
              "      <td>Pressurized water reactor</td>\n",
              "      <td>1986</td>\n",
              "      <td>2021.0</td>\n",
              "      <td>9.35</td>\n",
              "      <td>53.85</td>\n",
              "    </tr>\n",
              "  </tbody>\n",
              "</table>\n",
              "</div>\n",
              "      <button class=\"colab-df-convert\" onclick=\"convertToInteractive('df-5fa14066-6c65-4357-81bb-19e3c1b8e22d')\"\n",
              "              title=\"Convert this dataframe to an interactive table.\"\n",
              "              style=\"display:none;\">\n",
              "        \n",
              "  <svg xmlns=\"http://www.w3.org/2000/svg\" height=\"24px\"viewBox=\"0 0 24 24\"\n",
              "       width=\"24px\">\n",
              "    <path d=\"M0 0h24v24H0V0z\" fill=\"none\"/>\n",
              "    <path d=\"M18.56 5.44l.94 2.06.94-2.06 2.06-.94-2.06-.94-.94-2.06-.94 2.06-2.06.94zm-11 1L8.5 8.5l.94-2.06 2.06-.94-2.06-.94L8.5 2.5l-.94 2.06-2.06.94zm10 10l.94 2.06.94-2.06 2.06-.94-2.06-.94-.94-2.06-.94 2.06-2.06.94z\"/><path d=\"M17.41 7.96l-1.37-1.37c-.4-.4-.92-.59-1.43-.59-.52 0-1.04.2-1.43.59L10.3 9.45l-7.72 7.72c-.78.78-.78 2.05 0 2.83L4 21.41c.39.39.9.59 1.41.59.51 0 1.02-.2 1.41-.59l7.78-7.78 2.81-2.81c.8-.78.8-2.07 0-2.86zM5.41 20L4 18.59l7.72-7.72 1.47 1.35L5.41 20z\"/>\n",
              "  </svg>\n",
              "      </button>\n",
              "      \n",
              "  <style>\n",
              "    .colab-df-container {\n",
              "      display:flex;\n",
              "      flex-wrap:wrap;\n",
              "      gap: 12px;\n",
              "    }\n",
              "\n",
              "    .colab-df-convert {\n",
              "      background-color: #E8F0FE;\n",
              "      border: none;\n",
              "      border-radius: 50%;\n",
              "      cursor: pointer;\n",
              "      display: none;\n",
              "      fill: #1967D2;\n",
              "      height: 32px;\n",
              "      padding: 0 0 0 0;\n",
              "      width: 32px;\n",
              "    }\n",
              "\n",
              "    .colab-df-convert:hover {\n",
              "      background-color: #E2EBFA;\n",
              "      box-shadow: 0px 1px 2px rgba(60, 64, 67, 0.3), 0px 1px 3px 1px rgba(60, 64, 67, 0.15);\n",
              "      fill: #174EA6;\n",
              "    }\n",
              "\n",
              "    [theme=dark] .colab-df-convert {\n",
              "      background-color: #3B4455;\n",
              "      fill: #D2E3FC;\n",
              "    }\n",
              "\n",
              "    [theme=dark] .colab-df-convert:hover {\n",
              "      background-color: #434B5C;\n",
              "      box-shadow: 0px 1px 3px 1px rgba(0, 0, 0, 0.15);\n",
              "      filter: drop-shadow(0px 1px 2px rgba(0, 0, 0, 0.3));\n",
              "      fill: #FFFFFF;\n",
              "    }\n",
              "  </style>\n",
              "\n",
              "      <script>\n",
              "        const buttonEl =\n",
              "          document.querySelector('#df-5fa14066-6c65-4357-81bb-19e3c1b8e22d button.colab-df-convert');\n",
              "        buttonEl.style.display =\n",
              "          google.colab.kernel.accessAllowed ? 'block' : 'none';\n",
              "\n",
              "        async function convertToInteractive(key) {\n",
              "          const element = document.querySelector('#df-5fa14066-6c65-4357-81bb-19e3c1b8e22d');\n",
              "          const dataTable =\n",
              "            await google.colab.kernel.invokeFunction('convertToInteractive',\n",
              "                                                     [key], {});\n",
              "          if (!dataTable) return;\n",
              "\n",
              "          const docLinkHtml = 'Like what you see? Visit the ' +\n",
              "            '<a target=\"_blank\" href=https://colab.research.google.com/notebooks/data_table.ipynb>data table notebook</a>'\n",
              "            + ' to learn more about interactive tables.';\n",
              "          element.innerHTML = '';\n",
              "          dataTable['output_type'] = 'display_data';\n",
              "          await google.colab.output.renderOutput(dataTable, element);\n",
              "          const docLink = document.createElement('div');\n",
              "          docLink.innerHTML = docLinkHtml;\n",
              "          element.appendChild(docLink);\n",
              "        }\n",
              "      </script>\n",
              "    </div>\n",
              "  </div>\n",
              "  "
            ]
          },
          "metadata": {},
          "execution_count": 51
        }
      ],
      "source": [
        "df.replace({'PWR': \"Pressurized water reactor\"})"
      ]
    },
    {
      "cell_type": "markdown",
      "metadata": {
        "id": "qZQ-87NRQBTl"
      },
      "source": [
        "## Plotting\n",
        "\n",
        "DataFrames have all kinds of [useful plotting](https://pandas.pydata.org/pandas-docs/stable/visualization.html) built in."
      ]
    },
    {
      "cell_type": "code",
      "execution_count": 52,
      "metadata": {
        "id": "trgbDpxZQBTl",
        "outputId": "1e8b9b85-1db4-4a63-c781-04c1e01159b3",
        "colab": {
          "base_uri": "https://localhost:8080/",
          "height": 298
        }
      },
      "outputs": [
        {
          "output_type": "execute_result",
          "data": {
            "text/plain": [
              "<matplotlib.axes._subplots.AxesSubplot at 0x7f503bc2ac50>"
            ]
          },
          "metadata": {},
          "execution_count": 52
        },
        {
          "output_type": "display_data",
          "data": {
            "text/plain": [
              "<Figure size 432x288 with 1 Axes>"
            ],
            "image/png": "[encoded data removed]"
          },
          "metadata": {
            "needs_background": "light"
          }
        }
      ],
      "source": [
        "df.plot(kind='scatter', x='start_year', y='capacity')"
      ]
    },
    {
      "cell_type": "code",
      "execution_count": 53,
      "metadata": {
        "id": "N40SD3D3QBTl",
        "outputId": "2f8dee48-9a8d-407b-9fe9-33719693b824",
        "colab": {
          "base_uri": "https://localhost:8080/",
          "height": 283
        }
      },
      "outputs": [
        {
          "output_type": "execute_result",
          "data": {
            "text/plain": [
              "<matplotlib.axes._subplots.AxesSubplot at 0x7f503bb07910>"
            ]
          },
          "metadata": {},
          "execution_count": 53
        },
        {
          "output_type": "display_data",
          "data": {
            "text/plain": [
              "<Figure size 432x288 with 1 Axes>"
            ],
            "image/png": "[encoded data removed]"
          },
          "metadata": {
            "needs_background": "light"
          }
        }
      ],
      "source": [
        "df.capacity.plot.barh(color='orange')"
      ]
    },
    {
      "cell_type": "markdown",
      "metadata": {
        "id": "avq7XmjmQBTl"
      },
      "source": [
        "## Time Indexes\n",
        "\n",
        "Indexes are very powerful. They are a big part of why Pandas is so useful. There are different indices for different types of data. Time Indexes are especially great!"
      ]
    },
    {
      "cell_type": "code",
      "execution_count": 54,
      "metadata": {
        "id": "vWRO88i8QBTl",
        "outputId": "c973c55b-061c-4e94-a0ce-0f4eeaaa05bd",
        "colab": {
          "base_uri": "https://localhost:8080/",
          "height": 295
        }
      },
      "outputs": [
        {
          "output_type": "execute_result",
          "data": {
            "text/plain": [
              "<matplotlib.axes._subplots.AxesSubplot at 0x7f503b6785d0>"
            ]
          },
          "metadata": {},
          "execution_count": 54
        },
        {
          "output_type": "display_data",
          "data": {
            "text/plain": [
              "<Figure size 432x288 with 1 Axes>"
            ],
            "image/png": "[encoded data removed]"
          },
          "metadata": {
            "needs_background": "light"
          }
        }
      ],
      "source": [
        "time = pd.date_range(start='2021-01-01', end='2023-01-01', freq='D')\n",
        "values = np.sin(2 * np.pi * time.dayofyear / 365)\n",
        "ts = pd.Series(values, index=time)\n",
        "ts.plot()"
      ]
    },
    {
      "cell_type": "markdown",
      "metadata": {
        "id": "ob0oPkiBQBTl"
      },
      "source": [
        "We can use python's slicing notation inside `.loc` to select a date range."
      ]
    },
    {
      "cell_type": "code",
      "execution_count": 55,
      "metadata": {
        "id": "Gxof_jxmQBTl",
        "outputId": "8b49a412-e20e-496d-f025-f65587fb8474",
        "colab": {
          "base_uri": "https://localhost:8080/",
          "height": 295
        }
      },
      "outputs": [
        {
          "output_type": "execute_result",
          "data": {
            "text/plain": [
              "<matplotlib.axes._subplots.AxesSubplot at 0x7f503b528190>"
            ]
          },
          "metadata": {},
          "execution_count": 55
        },
        {
          "output_type": "display_data",
          "data": {
            "text/plain": [
              "<Figure size 432x288 with 1 Axes>"
            ],
            "image/png": "[encoded data removed]"
          },
          "metadata": {
            "needs_background": "light"
          }
        }
      ],
      "source": [
        "ts.loc['2021-01-01':'2021-07-01'].plot()"
      ]
    },
    {
      "cell_type": "code",
      "execution_count": 56,
      "metadata": {
        "id": "cyqIoO_0QBTl",
        "outputId": "a80341f9-3f92-49b6-899f-f4bd1245daaa",
        "colab": {
          "base_uri": "https://localhost:8080/",
          "height": 318
        }
      },
      "outputs": [
        {
          "output_type": "execute_result",
          "data": {
            "text/plain": [
              "<matplotlib.axes._subplots.AxesSubplot at 0x7f503b4db950>"
            ]
          },
          "metadata": {},
          "execution_count": 56
        },
        {
          "output_type": "display_data",
          "data": {
            "text/plain": [
              "<Figure size 432x288 with 1 Axes>"
            ],
            "image/png": "[encoded data removed]"
          },
          "metadata": {
            "needs_background": "light"
          }
        }
      ],
      "source": [
        "ts.loc['2021-05'].plot()"
      ]
    },
    {
      "cell_type": "markdown",
      "metadata": {
        "id": "8Oxk1o24QBTl"
      },
      "source": [
        "The TimeIndex object has lots of useful attributes"
      ]
    },
    {
      "cell_type": "code",
      "execution_count": 57,
      "metadata": {
        "id": "1JHdP-XuQBTm",
        "outputId": "07669ebe-3954-45f7-99c4-e50cd4a045e5",
        "colab": {
          "base_uri": "https://localhost:8080/"
        }
      },
      "outputs": [
        {
          "output_type": "execute_result",
          "data": {
            "text/plain": [
              "Int64Index([ 1,  1,  1,  1,  1,  1,  1,  1,  1,  1,\n",
              "            ...\n",
              "            12, 12, 12, 12, 12, 12, 12, 12, 12,  1],\n",
              "           dtype='int64', length=731)"
            ]
          },
          "metadata": {},
          "execution_count": 57
        }
      ],
      "source": [
        "ts.index.month"
      ]
    },
    {
      "cell_type": "code",
      "execution_count": 58,
      "metadata": {
        "id": "JhqnQ32mQBTm",
        "outputId": "6f36e580-5e39-4d64-f388-5c4ac4a29b6f",
        "colab": {
          "base_uri": "https://localhost:8080/"
        }
      },
      "outputs": [
        {
          "output_type": "execute_result",
          "data": {
            "text/plain": [
              "Int64Index([ 1,  2,  3,  4,  5,  6,  7,  8,  9, 10,\n",
              "            ...\n",
              "            23, 24, 25, 26, 27, 28, 29, 30, 31,  1],\n",
              "           dtype='int64', length=731)"
            ]
          },
          "metadata": {},
          "execution_count": 58
        }
      ],
      "source": [
        "ts.index.day"
      ]
    },
    {
      "cell_type": "markdown",
      "metadata": {
        "id": "QvB1hLYfQBTm"
      },
      "source": [
        "Another common operation is to change the resolution of a dataset by resampling in time. Pandas exposes this through the [resample](http://pandas.pydata.org/pandas-docs/stable/timeseries.html#resampling) function. The resample periods are specified using pandas [offset index](http://pandas.pydata.org/pandas-docs/stable/timeseries.html#offset-aliases) syntax.\n",
        "\n",
        "Below we resample the dataset by taking the mean over each month."
      ]
    },
    {
      "cell_type": "code",
      "execution_count": 59,
      "metadata": {
        "id": "q8Q8eaLGQBTm",
        "outputId": "2930ba42-7884-4752-8a26-e734b76b269c",
        "colab": {
          "base_uri": "https://localhost:8080/"
        }
      },
      "outputs": [
        {
          "output_type": "execute_result",
          "data": {
            "text/plain": [
              "2021-01-31    0.268746\n",
              "2021-02-28    0.698782\n",
              "2021-03-31    0.949778\n",
              "2021-04-30    0.959332\n",
              "2021-05-31    0.709200\n",
              "Freq: M, dtype: float64"
            ]
          },
          "metadata": {},
          "execution_count": 59
        }
      ],
      "source": [
        "ts.resample(\"M\").mean().head()"
      ]
    },
    {
      "cell_type": "code",
      "execution_count": 60,
      "metadata": {
        "id": "EPMcGh9uQBTm",
        "outputId": "e17cc7c1-e3ca-429d-9481-c73ae9a2e63a",
        "colab": {
          "base_uri": "https://localhost:8080/",
          "height": 295
        }
      },
      "outputs": [
        {
          "output_type": "execute_result",
          "data": {
            "text/plain": [
              "<matplotlib.axes._subplots.AxesSubplot at 0x7f503b4204d0>"
            ]
          },
          "metadata": {},
          "execution_count": 60
        },
        {
          "output_type": "display_data",
          "data": {
            "text/plain": [
              "<Figure size 432x288 with 1 Axes>"
            ],
            "image/png": "[encoded data removed]"
          },
          "metadata": {
            "needs_background": "light"
          }
        }
      ],
      "source": [
        "ts.resample(\"M\").mean().plot()"
      ]
    },
    {
      "cell_type": "markdown",
      "metadata": {
        "id": "oR7FPaNEQBTm"
      },
      "source": [
        "## Reading and Writing Files"
      ]
    },
    {
      "cell_type": "markdown",
      "metadata": {
        "id": "hz9Gk3K7QBTm"
      },
      "source": [
        "To read data into pandas, we can use for instance the [`pd.read_csv()`](https://pandas.pydata.org/pandas-docs/stable/generated/pandas.read_csv.html) function. This function is incredibly powerful and complex with a multitude of settings. You can use it to extract data from almost any text file."
      ]
    },
    {
      "cell_type": "markdown",
      "metadata": {
        "id": "lC9-kmCDQBTm"
      },
      "source": [
        "The `pd.read_csv()` function can take a path to a local file as an input or even a link to an online text file."
      ]
    },
    {
      "cell_type": "markdown",
      "metadata": {
        "id": "UX8Kdf-hQBTm"
      },
      "source": [
        "Let's import a slightly larger dataset about the power plant fleet in Europe"
      ]
    },
    {
      "cell_type": "code",
      "execution_count": 61,
      "metadata": {
        "id": "WlFgR4NNQBTm"
      },
      "outputs": [],
      "source": [
        "fn = \"https://raw.githubusercontent.com/PyPSA/powerplantmatching/master/powerplants.csv\""
      ]
    },
    {
      "cell_type": "code",
      "execution_count": 62,
      "metadata": {
        "id": "J7sKx4N9QBTm",
        "outputId": "4b6209a9-1482-427f-f78c-ab7372b7c16a",
        "colab": {
          "base_uri": "https://localhost:8080/",
          "height": 238
        }
      },
      "outputs": [
        {
          "output_type": "execute_result",
          "data": {
            "text/plain": [
              "         Name Fueltype      Technology    Set  Country  Capacity  Efficiency  \\\n",
              "id                                                                             \n",
              "0        Doel  Nuclear   Steam Turbine     PP  Belgium    2911.0         NaN   \n",
              "1     Sarrans    Hydro       Reservoir  Store   France     183.0         NaN   \n",
              "2   Pragneres    Hydro       Reservoir  Store   France     189.2         NaN   \n",
              "3       Revin    Hydro  Pumped Storage  Store   France     808.0         NaN   \n",
              "4      Rhinau    Hydro    Run-Of-River     PP   France     152.0         NaN   \n",
              "\n",
              "    DateIn  DateRetrofit  DateOut  \n",
              "id                                 \n",
              "0   1975.0           NaN   2022.0  \n",
              "1   1932.0           NaN      NaN  \n",
              "2   1953.0           NaN      NaN  \n",
              "3   1974.0           NaN      NaN  \n",
              "4   2016.0        2016.0      NaN  "
            ],
            "text/html": [
              "\n",
              "  <div id=\"df-a5f24124-189f-477f-916e-7eb927bd164c\">\n",
              "    <div class=\"colab-df-container\">\n",
              "      <div>\n",
              "<style scoped>\n",
              "    .dataframe tbody tr th:only-of-type {\n",
              "        vertical-align: middle;\n",
              "    }\n",
              "\n",
              "    .dataframe tbody tr th {\n",
              "        vertical-align: top;\n",
              "    }\n",
              "\n",
              "    .dataframe thead th {\n",
              "        text-align: right;\n",
              "    }\n",
              "</style>\n",
              "<table border=\"1\" class=\"dataframe\">\n",
              "  <thead>\n",
              "    <tr style=\"text-align: right;\">\n",
              "      <th></th>\n",
              "      <th>Name</th>\n",
              "      <th>Fueltype</th>\n",
              "      <th>Technology</th>\n",
              "      <th>Set</th>\n",
              "      <th>Country</th>\n",
              "      <th>Capacity</th>\n",
              "      <th>Efficiency</th>\n",
              "      <th>DateIn</th>\n",
              "      <th>DateRetrofit</th>\n",
              "      <th>DateOut</th>\n",
              "    </tr>\n",
              "    <tr>\n",
              "      <th>id</th>\n",
              "      <th></th>\n",
              "      <th></th>\n",
              "      <th></th>\n",
              "      <th></th>\n",
              "      <th></th>\n",
              "      <th></th>\n",
              "      <th></th>\n",
              "      <th></th>\n",
              "      <th></th>\n",
              "      <th></th>\n",
              "    </tr>\n",
              "  </thead>\n",
              "  <tbody>\n",
              "    <tr>\n",
              "      <th>0</th>\n",
              "      <td>Doel</td>\n",
              "      <td>Nuclear</td>\n",
              "      <td>Steam Turbine</td>\n",
              "      <td>PP</td>\n",
              "      <td>Belgium</td>\n",
              "      <td>2911.0</td>\n",
              "      <td>NaN</td>\n",
              "      <td>1975.0</td>\n",
              "      <td>NaN</td>\n",
              "      <td>2022.0</td>\n",
              "    </tr>\n",
              "    <tr>\n",
              "      <th>1</th>\n",
              "      <td>Sarrans</td>\n",
              "      <td>Hydro</td>\n",
              "      <td>Reservoir</td>\n",
              "      <td>Store</td>\n",
              "      <td>France</td>\n",
              "      <td>183.0</td>\n",
              "      <td>NaN</td>\n",
              "      <td>1932.0</td>\n",
              "      <td>NaN</td>\n",
              "      <td>NaN</td>\n",
              "    </tr>\n",
              "    <tr>\n",
              "      <th>2</th>\n",
              "      <td>Pragneres</td>\n",
              "      <td>Hydro</td>\n",
              "      <td>Reservoir</td>\n",
              "      <td>Store</td>\n",
              "      <td>France</td>\n",
              "      <td>189.2</td>\n",
              "      <td>NaN</td>\n",
              "      <td>1953.0</td>\n",
              "      <td>NaN</td>\n",
              "      <td>NaN</td>\n",
              "    </tr>\n",
              "    <tr>\n",
              "      <th>3</th>\n",
              "      <td>Revin</td>\n",
              "      <td>Hydro</td>\n",
              "      <td>Pumped Storage</td>\n",
              "      <td>Store</td>\n",
              "      <td>France</td>\n",
              "      <td>808.0</td>\n",
              "      <td>NaN</td>\n",
              "      <td>1974.0</td>\n",
              "      <td>NaN</td>\n",
              "      <td>NaN</td>\n",
              "    </tr>\n",
              "    <tr>\n",
              "      <th>4</th>\n",
              "      <td>Rhinau</td>\n",
              "      <td>Hydro</td>\n",
              "      <td>Run-Of-River</td>\n",
              "      <td>PP</td>\n",
              "      <td>France</td>\n",
              "      <td>152.0</td>\n",
              "      <td>NaN</td>\n",
              "      <td>2016.0</td>\n",
              "      <td>2016.0</td>\n",
              "      <td>NaN</td>\n",
              "    </tr>\n",
              "  </tbody>\n",
              "</table>\n",
              "</div>\n",
              "      <button class=\"colab-df-convert\" onclick=\"convertToInteractive('df-a5f24124-189f-477f-916e-7eb927bd164c')\"\n",
              "              title=\"Convert this dataframe to an interactive table.\"\n",
              "              style=\"display:none;\">\n",
              "        \n",
              "  <svg xmlns=\"http://www.w3.org/2000/svg\" height=\"24px\"viewBox=\"0 0 24 24\"\n",
              "       width=\"24px\">\n",
              "    <path d=\"M0 0h24v24H0V0z\" fill=\"none\"/>\n",
              "    <path d=\"M18.56 5.44l.94 2.06.94-2.06 2.06-.94-2.06-.94-.94-2.06-.94 2.06-2.06.94zm-11 1L8.5 8.5l.94-2.06 2.06-.94-2.06-.94L8.5 2.5l-.94 2.06-2.06.94zm10 10l.94 2.06.94-2.06 2.06-.94-2.06-.94-.94-2.06-.94 2.06-2.06.94z\"/><path d=\"M17.41 7.96l-1.37-1.37c-.4-.4-.92-.59-1.43-.59-.52 0-1.04.2-1.43.59L10.3 9.45l-7.72 7.72c-.78.78-.78 2.05 0 2.83L4 21.41c.39.39.9.59 1.41.59.51 0 1.02-.2 1.41-.59l7.78-7.78 2.81-2.81c.8-.78.8-2.07 0-2.86zM5.41 20L4 18.59l7.72-7.72 1.47 1.35L5.41 20z\"/>\n",
              "  </svg>\n",
              "      </button>\n",
              "      \n",
              "  <style>\n",
              "    .colab-df-container {\n",
              "      display:flex;\n",
              "      flex-wrap:wrap;\n",
              "      gap: 12px;\n",
              "    }\n",
              "\n",
              "    .colab-df-convert {\n",
              "      background-color: #E8F0FE;\n",
              "      border: none;\n",
              "      border-radius: 50%;\n",
              "      cursor: pointer;\n",
              "      display: none;\n",
              "      fill: #1967D2;\n",
              "      height: 32px;\n",
              "      padding: 0 0 0 0;\n",
              "      width: 32px;\n",
              "    }\n",
              "\n",
              "    .colab-df-convert:hover {\n",
              "      background-color: #E2EBFA;\n",
              "      box-shadow: 0px 1px 2px rgba(60, 64, 67, 0.3), 0px 1px 3px 1px rgba(60, 64, 67, 0.15);\n",
              "      fill: #174EA6;\n",
              "    }\n",
              "\n",
              "    [theme=dark] .colab-df-convert {\n",
              "      background-color: #3B4455;\n",
              "      fill: #D2E3FC;\n",
              "    }\n",
              "\n",
              "    [theme=dark] .colab-df-convert:hover {\n",
              "      background-color: #434B5C;\n",
              "      box-shadow: 0px 1px 3px 1px rgba(0, 0, 0, 0.15);\n",
              "      filter: drop-shadow(0px 1px 2px rgba(0, 0, 0, 0.3));\n",
              "      fill: #FFFFFF;\n",
              "    }\n",
              "  </style>\n",
              "\n",
              "      <script>\n",
              "        const buttonEl =\n",
              "          document.querySelector('#df-a5f24124-189f-477f-916e-7eb927bd164c button.colab-df-convert');\n",
              "        buttonEl.style.display =\n",
              "          google.colab.kernel.accessAllowed ? 'block' : 'none';\n",
              "\n",
              "        async function convertToInteractive(key) {\n",
              "          const element = document.querySelector('#df-a5f24124-189f-477f-916e-7eb927bd164c');\n",
              "          const dataTable =\n",
              "            await google.colab.kernel.invokeFunction('convertToInteractive',\n",
              "                                                     [key], {});\n",
              "          if (!dataTable) return;\n",
              "\n",
              "          const docLinkHtml = 'Like what you see? Visit the ' +\n",
              "            '<a target=\"_blank\" href=https://colab.research.google.com/notebooks/data_table.ipynb>data table notebook</a>'\n",
              "            + ' to learn more about interactive tables.';\n",
              "          element.innerHTML = '';\n",
              "          dataTable['output_type'] = 'display_data';\n",
              "          await google.colab.output.renderOutput(dataTable, element);\n",
              "          const docLink = document.createElement('div');\n",
              "          docLink.innerHTML = docLinkHtml;\n",
              "          element.appendChild(docLink);\n",
              "        }\n",
              "      </script>\n",
              "    </div>\n",
              "  </div>\n",
              "  "
            ]
          },
          "metadata": {},
          "execution_count": 62
        }
      ],
      "source": [
        "df = pd.read_csv(fn, index_col=0)\n",
        "df.iloc[:5,:10]"
      ]
    },
    {
      "cell_type": "code",
      "execution_count": 63,
      "metadata": {
        "id": "FGaTkfWHQBTm",
        "outputId": "551def6f-69c1-4b9e-eb23-8d6ae09598fb",
        "colab": {
          "base_uri": "https://localhost:8080/"
        }
      },
      "outputs": [
        {
          "output_type": "stream",
          "name": "stdout",
          "text": [
            "<class 'pandas.core.frame.DataFrame'>\n",
            "Int64Index: 5010 entries, 0 to 5076\n",
            "Data columns (total 18 columns):\n",
            " #   Column               Non-Null Count  Dtype  \n",
            "---  ------               --------------  -----  \n",
            " 0   Name                 5010 non-null   object \n",
            " 1   Fueltype             5010 non-null   object \n",
            " 2   Technology           3987 non-null   object \n",
            " 3   Set                  5010 non-null   object \n",
            " 4   Country              5010 non-null   object \n",
            " 5   Capacity             5010 non-null   float64\n",
            " 6   Efficiency           510 non-null    float64\n",
            " 7   DateIn               2976 non-null   float64\n",
            " 8   DateRetrofit         1832 non-null   float64\n",
            " 9   DateOut              154 non-null    float64\n",
            " 10  lat                  5010 non-null   float64\n",
            " 11  lon                  5010 non-null   float64\n",
            " 12  Duration             448 non-null    float64\n",
            " 13  Volume_Mm3           5010 non-null   float64\n",
            " 14  DamHeight_m          5010 non-null   float64\n",
            " 15  StorageCapacity_MWh  5010 non-null   float64\n",
            " 16  EIC                  5010 non-null   object \n",
            " 17  projectID            5010 non-null   object \n",
            "dtypes: float64(11), object(7)\n",
            "memory usage: 743.7+ KB\n"
          ]
        }
      ],
      "source": [
        "df.info()"
      ]
    },
    {
      "cell_type": "code",
      "execution_count": 64,
      "metadata": {
        "id": "9rKHz9LNQBTm",
        "outputId": "bf239916-c952-4a76-87f6-d75ed97aa037",
        "colab": {
          "base_uri": "https://localhost:8080/",
          "height": 344
        }
      },
      "outputs": [
        {
          "output_type": "execute_result",
          "data": {
            "text/plain": [
              "          Capacity  Efficiency       DateIn  DateRetrofit      DateOut  \\\n",
              "count  5010.000000  510.000000  2976.000000   1832.000000   154.000000   \n",
              "mean    151.363414    0.486821  1980.047715   1984.816048  2026.883117   \n",
              "std     412.728137    0.180187    24.986943     25.003845     8.234272   \n",
              "min       0.000000    0.187765  1899.000000   1899.000000  2020.000000   \n",
              "25%       4.600000    0.359237  1962.000000   1966.750000  2021.000000   \n",
              "50%      24.000000    0.389400  1982.000000   1991.000000  2024.000000   \n",
              "75%      92.000000    0.589875  2003.000000   2005.000000  2029.000000   \n",
              "max    5460.000000    0.917460  2022.000000   2020.000000  2051.000000   \n",
              "\n",
              "               lat          lon      Duration   Volume_Mm3  DamHeight_m  \\\n",
              "count  5010.000000  5010.000000    448.000000  5010.000000  5010.000000   \n",
              "mean     48.844509     8.511741   1202.280996    14.637022     8.233239   \n",
              "std       7.054305     8.648696   1610.022363   178.497746    59.251280   \n",
              "min      35.003800    -9.422700      0.007907     0.000000     0.000000   \n",
              "25%      43.450527     2.340625     33.280117     0.000000     0.000000   \n",
              "50%      47.653396     8.902054    636.146377     0.000000     0.000000   \n",
              "75%      51.641645    13.025138   1861.401642     0.000000     0.000000   \n",
              "max      70.409578    39.262400  16840.000000  9500.000000  1800.000000   \n",
              "\n",
              "       StorageCapacity_MWh  \n",
              "count         5.010000e+03  \n",
              "mean          1.807718e+03  \n",
              "std           4.897179e+04  \n",
              "min           0.000000e+00  \n",
              "25%           0.000000e+00  \n",
              "50%           0.000000e+00  \n",
              "75%           0.000000e+00  \n",
              "max           3.120000e+06  "
            ],
            "text/html": [
              "\n",
              "  <div id=\"df-49085936-840f-4fa0-bd1c-820314527a57\">\n",
              "    <div class=\"colab-df-container\">\n",
              "      <div>\n",
              "<style scoped>\n",
              "    .dataframe tbody tr th:only-of-type {\n",
              "        vertical-align: middle;\n",
              "    }\n",
              "\n",
              "    .dataframe tbody tr th {\n",
              "        vertical-align: top;\n",
              "    }\n",
              "\n",
              "    .dataframe thead th {\n",
              "        text-align: right;\n",
              "    }\n",
              "</style>\n",
              "<table border=\"1\" class=\"dataframe\">\n",
              "  <thead>\n",
              "    <tr style=\"text-align: right;\">\n",
              "      <th></th>\n",
              "      <th>Capacity</th>\n",
              "      <th>Efficiency</th>\n",
              "      <th>DateIn</th>\n",
              "      <th>DateRetrofit</th>\n",
              "      <th>DateOut</th>\n",
              "      <th>lat</th>\n",
              "      <th>lon</th>\n",
              "      <th>Duration</th>\n",
              "      <th>Volume_Mm3</th>\n",
              "      <th>DamHeight_m</th>\n",
              "      <th>StorageCapacity_MWh</th>\n",
              "    </tr>\n",
              "  </thead>\n",
              "  <tbody>\n",
              "    <tr>\n",
              "      <th>count</th>\n",
              "      <td>5010.000000</td>\n",
              "      <td>510.000000</td>\n",
              "      <td>2976.000000</td>\n",
              "      <td>1832.000000</td>\n",
              "      <td>154.000000</td>\n",
              "      <td>5010.000000</td>\n",
              "      <td>5010.000000</td>\n",
              "      <td>448.000000</td>\n",
              "      <td>5010.000000</td>\n",
              "      <td>5010.000000</td>\n",
              "      <td>5.010000e+03</td>\n",
              "    </tr>\n",
              "    <tr>\n",
              "      <th>mean</th>\n",
              "      <td>151.363414</td>\n",
              "      <td>0.486821</td>\n",
              "      <td>1980.047715</td>\n",
              "      <td>1984.816048</td>\n",
              "      <td>2026.883117</td>\n",
              "      <td>48.844509</td>\n",
              "      <td>8.511741</td>\n",
              "      <td>1202.280996</td>\n",
              "      <td>14.637022</td>\n",
              "      <td>8.233239</td>\n",
              "      <td>1.807718e+03</td>\n",
              "    </tr>\n",
              "    <tr>\n",
              "      <th>std</th>\n",
              "      <td>412.728137</td>\n",
              "      <td>0.180187</td>\n",
              "      <td>24.986943</td>\n",
              "      <td>25.003845</td>\n",
              "      <td>8.234272</td>\n",
              "      <td>7.054305</td>\n",
              "      <td>8.648696</td>\n",
              "      <td>1610.022363</td>\n",
              "      <td>178.497746</td>\n",
              "      <td>59.251280</td>\n",
              "      <td>4.897179e+04</td>\n",
              "    </tr>\n",
              "    <tr>\n",
              "      <th>min</th>\n",
              "      <td>0.000000</td>\n",
              "      <td>0.187765</td>\n",
              "      <td>1899.000000</td>\n",
              "      <td>1899.000000</td>\n",
              "      <td>2020.000000</td>\n",
              "      <td>35.003800</td>\n",
              "      <td>-9.422700</td>\n",
              "      <td>0.007907</td>\n",
              "      <td>0.000000</td>\n",
              "      <td>0.000000</td>\n",
              "      <td>0.000000e+00</td>\n",
              "    </tr>\n",
              "    <tr>\n",
              "      <th>25%</th>\n",
              "      <td>4.600000</td>\n",
              "      <td>0.359237</td>\n",
              "      <td>1962.000000</td>\n",
              "      <td>1966.750000</td>\n",
              "      <td>2021.000000</td>\n",
              "      <td>43.450527</td>\n",
              "      <td>2.340625</td>\n",
              "      <td>33.280117</td>\n",
              "      <td>0.000000</td>\n",
              "      <td>0.000000</td>\n",
              "      <td>0.000000e+00</td>\n",
              "    </tr>\n",
              "    <tr>\n",
              "      <th>50%</th>\n",
              "      <td>24.000000</td>\n",
              "      <td>0.389400</td>\n",
              "      <td>1982.000000</td>\n",
              "      <td>1991.000000</td>\n",
              "      <td>2024.000000</td>\n",
              "      <td>47.653396</td>\n",
              "      <td>8.902054</td>\n",
              "      <td>636.146377</td>\n",
              "      <td>0.000000</td>\n",
              "      <td>0.000000</td>\n",
              "      <td>0.000000e+00</td>\n",
              "    </tr>\n",
              "    <tr>\n",
              "      <th>75%</th>\n",
              "      <td>92.000000</td>\n",
              "      <td>0.589875</td>\n",
              "      <td>2003.000000</td>\n",
              "      <td>2005.000000</td>\n",
              "      <td>2029.000000</td>\n",
              "      <td>51.641645</td>\n",
              "      <td>13.025138</td>\n",
              "      <td>1861.401642</td>\n",
              "      <td>0.000000</td>\n",
              "      <td>0.000000</td>\n",
              "      <td>0.000000e+00</td>\n",
              "    </tr>\n",
              "    <tr>\n",
              "      <th>max</th>\n",
              "      <td>5460.000000</td>\n",
              "      <td>0.917460</td>\n",
              "      <td>2022.000000</td>\n",
              "      <td>2020.000000</td>\n",
              "      <td>2051.000000</td>\n",
              "      <td>70.409578</td>\n",
              "      <td>39.262400</td>\n",
              "      <td>16840.000000</td>\n",
              "      <td>9500.000000</td>\n",
              "      <td>1800.000000</td>\n",
              "      <td>3.120000e+06</td>\n",
              "    </tr>\n",
              "  </tbody>\n",
              "</table>\n",
              "</div>\n",
              "      <button class=\"colab-df-convert\" onclick=\"convertToInteractive('df-49085936-840f-4fa0-bd1c-820314527a57')\"\n",
              "              title=\"Convert this dataframe to an interactive table.\"\n",
              "              style=\"display:none;\">\n",
              "        \n",
              "  <svg xmlns=\"http://www.w3.org/2000/svg\" height=\"24px\"viewBox=\"0 0 24 24\"\n",
              "       width=\"24px\">\n",
              "    <path d=\"M0 0h24v24H0V0z\" fill=\"none\"/>\n",
              "    <path d=\"M18.56 5.44l.94 2.06.94-2.06 2.06-.94-2.06-.94-.94-2.06-.94 2.06-2.06.94zm-11 1L8.5 8.5l.94-2.06 2.06-.94-2.06-.94L8.5 2.5l-.94 2.06-2.06.94zm10 10l.94 2.06.94-2.06 2.06-.94-2.06-.94-.94-2.06-.94 2.06-2.06.94z\"/><path d=\"M17.41 7.96l-1.37-1.37c-.4-.4-.92-.59-1.43-.59-.52 0-1.04.2-1.43.59L10.3 9.45l-7.72 7.72c-.78.78-.78 2.05 0 2.83L4 21.41c.39.39.9.59 1.41.59.51 0 1.02-.2 1.41-.59l7.78-7.78 2.81-2.81c.8-.78.8-2.07 0-2.86zM5.41 20L4 18.59l7.72-7.72 1.47 1.35L5.41 20z\"/>\n",
              "  </svg>\n",
              "      </button>\n",
              "      \n",
              "  <style>\n",
              "    .colab-df-container {\n",
              "      display:flex;\n",
              "      flex-wrap:wrap;\n",
              "      gap: 12px;\n",
              "    }\n",
              "\n",
              "    .colab-df-convert {\n",
              "      background-color: #E8F0FE;\n",
              "      border: none;\n",
              "      border-radius: 50%;\n",
              "      cursor: pointer;\n",
              "      display: none;\n",
              "      fill: #1967D2;\n",
              "      height: 32px;\n",
              "      padding: 0 0 0 0;\n",
              "      width: 32px;\n",
              "    }\n",
              "\n",
              "    .colab-df-convert:hover {\n",
              "      background-color: #E2EBFA;\n",
              "      box-shadow: 0px 1px 2px rgba(60, 64, 67, 0.3), 0px 1px 3px 1px rgba(60, 64, 67, 0.15);\n",
              "      fill: #174EA6;\n",
              "    }\n",
              "\n",
              "    [theme=dark] .colab-df-convert {\n",
              "      background-color: #3B4455;\n",
              "      fill: #D2E3FC;\n",
              "    }\n",
              "\n",
              "    [theme=dark] .colab-df-convert:hover {\n",
              "      background-color: #434B5C;\n",
              "      box-shadow: 0px 1px 3px 1px rgba(0, 0, 0, 0.15);\n",
              "      filter: drop-shadow(0px 1px 2px rgba(0, 0, 0, 0.3));\n",
              "      fill: #FFFFFF;\n",
              "    }\n",
              "  </style>\n",
              "\n",
              "      <script>\n",
              "        const buttonEl =\n",
              "          document.querySelector('#df-49085936-840f-4fa0-bd1c-820314527a57 button.colab-df-convert');\n",
              "        buttonEl.style.display =\n",
              "          google.colab.kernel.accessAllowed ? 'block' : 'none';\n",
              "\n",
              "        async function convertToInteractive(key) {\n",
              "          const element = document.querySelector('#df-49085936-840f-4fa0-bd1c-820314527a57');\n",
              "          const dataTable =\n",
              "            await google.colab.kernel.invokeFunction('convertToInteractive',\n",
              "                                                     [key], {});\n",
              "          if (!dataTable) return;\n",
              "\n",
              "          const docLinkHtml = 'Like what you see? Visit the ' +\n",
              "            '<a target=\"_blank\" href=https://colab.research.google.com/notebooks/data_table.ipynb>data table notebook</a>'\n",
              "            + ' to learn more about interactive tables.';\n",
              "          element.innerHTML = '';\n",
              "          dataTable['output_type'] = 'display_data';\n",
              "          await google.colab.output.renderOutput(dataTable, element);\n",
              "          const docLink = document.createElement('div');\n",
              "          docLink.innerHTML = docLinkHtml;\n",
              "          element.appendChild(docLink);\n",
              "        }\n",
              "      </script>\n",
              "    </div>\n",
              "  </div>\n",
              "  "
            ]
          },
          "metadata": {},
          "execution_count": 64
        }
      ],
      "source": [
        "df.describe()"
      ]
    },
    {
      "cell_type": "code",
      "execution_count": 65,
      "metadata": {
        "id": "BeCSJdW6QBTm",
        "outputId": "4ba07915-e120-4f26-e6ba-48727a86ddf2",
        "colab": {
          "base_uri": "https://localhost:8080/"
        }
      },
      "outputs": [
        {
          "output_type": "execute_result",
          "data": {
            "text/plain": [
              "Country\n",
              "Albania                     NaN\n",
              "Austria                     NaN\n",
              "Belgium                     NaN\n",
              "Bosnia and Herzegovina      NaN\n",
              "Bulgaria                    NaN\n",
              "Croatia                     NaN\n",
              "Czech Republic              NaN\n",
              "Denmark                     NaN\n",
              "Estonia                     NaN\n",
              "Finland                     NaN\n",
              "France                      NaN\n",
              "Germany                     NaN\n",
              "Greece                      NaN\n",
              "Hungary                     NaN\n",
              "Ireland                     NaN\n",
              "Italy                     114.0\n",
              "Latvia                      NaN\n",
              "Lithuania                   NaN\n",
              "Luxembourg                  NaN\n",
              "Montenegro                  NaN\n",
              "Netherlands                 NaN\n",
              "Norway                      NaN\n",
              "Poland                      NaN\n",
              "Portugal                    NaN\n",
              "Romania                     NaN\n",
              "Serbia                      NaN\n",
              "Slovakia                    NaN\n",
              "Slovenia                    NaN\n",
              "Spain                       NaN\n",
              "Sweden                      NaN\n",
              "Switzerland                 NaN\n",
              "Ukraine                     NaN\n",
              "United Kingdom              NaN\n",
              "Name: Geothermal, dtype: float64"
            ]
          },
          "metadata": {},
          "execution_count": 65
        }
      ],
      "source": [
        "df.groupby([\"Fueltype\", \"Country\"]).Capacity.sum().unstack().loc[\"Geothermal\"]"
      ]
    },
    {
      "cell_type": "markdown",
      "metadata": {
        "id": "-vIOaDv0QBTm"
      },
      "source": [
        "Sometimes, we also want to store a DataFrame for later use. There are many different file formats tabular data can be stored in,  including HTML, JSON, Excel, Parquet, Feather, etc. Here, let's say we want to store the DataFrame as CSV (comma-separated values) file under the name \"powerplants.csv\"."
      ]
    },
    {
      "cell_type": "code",
      "execution_count": 66,
      "metadata": {
        "id": "3ykAKLKIQBTm"
      },
      "outputs": [],
      "source": [
        "df.to_csv(\"powerplants.csv\")"
      ]
    },
    {
      "cell_type": "markdown",
      "metadata": {
        "tags": [],
        "id": "wPGRFruFQBTm"
      },
      "source": [
        "## Groupby Functionality"
      ]
    },
    {
      "cell_type": "markdown",
      "metadata": {
        "id": "OwNeAmH6QBTm"
      },
      "source": [
        "Both `Series` and `DataFrame` objects have a `groupby` method. It accepts a variety of arguments, but the simplest way to think about it is that you pass another series, whose unique values are used to split the original object into different groups. `groupby` is an amazingly powerful but also complex function.\n",
        "\n",
        "Here's an example which retrieves the total generation capacity per country."
      ]
    },
    {
      "cell_type": "code",
      "execution_count": 67,
      "metadata": {
        "id": "WPLKBG4JQBTm",
        "outputId": "ccf3d3e2-b203-4759-f289-0af7e0c6f982",
        "colab": {
          "base_uri": "https://localhost:8080/"
        }
      },
      "outputs": [
        {
          "output_type": "execute_result",
          "data": {
            "text/plain": [
              "Country\n",
              "Albania                    1636.208275\n",
              "Austria                   17722.520000\n",
              "Belgium                   13666.055947\n",
              "Bosnia and Herzegovina     2127.500000\n",
              "Bulgaria                   9572.486363\n",
              "Name: Capacity, dtype: float64"
            ]
          },
          "metadata": {},
          "execution_count": 67
        }
      ],
      "source": [
        "grouped = df.groupby(\"Country\").Capacity.sum()\n",
        "grouped.head()"
      ]
    },
    {
      "cell_type": "markdown",
      "metadata": {
        "id": "YY-qODYKQBTm"
      },
      "source": [
        "Such **“chaining”** operations together is very common with pandas:"
      ]
    },
    {
      "cell_type": "markdown",
      "metadata": {
        "id": "6b7xhYtWQBTn"
      },
      "source": [
        "Let's break apart this operation a bit. The workflow with `groupby` can be divided into three general steps:\n",
        "\n",
        "1. **Split**: Partition the data into different groups based on some criterion.\n",
        "1. **Apply**: Do some caclulation within each group. Different types of steps might be\n",
        "   - *Aggregation*: Get the mean or max within the group.\n",
        "   - *Transformation*: Normalize all the values within a group\n",
        "   - *Filtration*: Eliminate some groups based on a criterion.\n",
        "1. **Combine**: Put the results back together into a single object.\n",
        "\n",
        "![split-apply-combine](https://miro.medium.com/max/1840/1*JbF6nhrQsn4f-TaSF6IR9g.png)\n"
      ]
    },
    {
      "cell_type": "code",
      "execution_count": 68,
      "metadata": {
        "id": "8ITlR0FrQBTn",
        "outputId": "72b55d61-0457-44eb-d343-54ebc332ef79",
        "colab": {
          "base_uri": "https://localhost:8080/"
        }
      },
      "outputs": [
        {
          "output_type": "execute_result",
          "data": {
            "text/plain": [
              "<pandas.core.groupby.generic.DataFrameGroupBy object at 0x7f503a907810>"
            ]
          },
          "metadata": {},
          "execution_count": 68
        }
      ],
      "source": [
        "gb = df.groupby('Country')\n",
        "gb"
      ]
    },
    {
      "cell_type": "markdown",
      "metadata": {
        "id": "hO2wL9PeQBTn"
      },
      "source": [
        "The length tells us how many groups were found:"
      ]
    },
    {
      "cell_type": "code",
      "execution_count": 69,
      "metadata": {
        "id": "2g2OUaq6QBTn",
        "outputId": "39b2ba8a-c43b-4f45-fe24-48eca3c6faae",
        "colab": {
          "base_uri": "https://localhost:8080/"
        }
      },
      "outputs": [
        {
          "output_type": "execute_result",
          "data": {
            "text/plain": [
              "33"
            ]
          },
          "metadata": {},
          "execution_count": 69
        }
      ],
      "source": [
        "len(gb)"
      ]
    },
    {
      "cell_type": "markdown",
      "metadata": {
        "id": "oSu-Cd7PQBTn"
      },
      "source": [
        "All of the groups are available as a dictionary via the `.groups` attribute:"
      ]
    },
    {
      "cell_type": "code",
      "execution_count": 70,
      "metadata": {
        "id": "RWCj6Q1oQBTn",
        "outputId": "131eafb3-168c-4343-cd9e-6b93270373eb",
        "colab": {
          "base_uri": "https://localhost:8080/"
        }
      },
      "outputs": [
        {
          "output_type": "execute_result",
          "data": {
            "text/plain": [
              "33"
            ]
          },
          "metadata": {},
          "execution_count": 70
        }
      ],
      "source": [
        "groups = gb.groups\n",
        "len(groups)"
      ]
    },
    {
      "cell_type": "code",
      "execution_count": 71,
      "metadata": {
        "id": "DlJ1jlKQQBTn",
        "outputId": "1ef7aaf4-56d0-43d1-b49d-a1af33745509",
        "colab": {
          "base_uri": "https://localhost:8080/"
        }
      },
      "outputs": [
        {
          "output_type": "execute_result",
          "data": {
            "text/plain": [
              "['Albania', 'Austria', 'Belgium', 'Bosnia and Herzegovina', 'Bulgaria']"
            ]
          },
          "metadata": {},
          "execution_count": 71
        }
      ],
      "source": [
        "list(groups.keys())[:5]"
      ]
    },
    {
      "cell_type": "markdown",
      "metadata": {
        "id": "1SskC9BgQBTn"
      },
      "source": [
        "Now that we know how to create a `GroupBy` object, let's learn how to do aggregation on it."
      ]
    },
    {
      "cell_type": "code",
      "execution_count": 72,
      "metadata": {
        "id": "myt1mxSyQBTn",
        "outputId": "10840c4c-4ae7-45aa-f7db-3adb2f0de55d",
        "colab": {
          "base_uri": "https://localhost:8080/"
        }
      },
      "outputs": [
        {
          "output_type": "execute_result",
          "data": {
            "text/plain": [
              "Country\n",
              "Germany           104246.894396\n",
              "France             98319.699420\n",
              "Spain              85980.832222\n",
              "Italy              79086.907019\n",
              "United Kingdom     69902.466414\n",
              "Name: Capacity, dtype: float64"
            ]
          },
          "metadata": {},
          "execution_count": 72
        }
      ],
      "source": [
        "gb.Capacity.sum().nlargest(5)"
      ]
    },
    {
      "cell_type": "code",
      "execution_count": 73,
      "metadata": {
        "id": "q_5iYITFQBTn",
        "outputId": "024f9954-b5cc-402e-ba66-3d6ab961e106",
        "colab": {
          "base_uri": "https://localhost:8080/"
        }
      },
      "outputs": [
        {
          "output_type": "execute_result",
          "data": {
            "text/plain": [
              "Country\n",
              "Albania                   1976.666667\n",
              "Austria                   1972.566176\n",
              "Belgium                   1987.031250\n",
              "Bosnia and Herzegovina    1979.333333\n",
              "Bulgaria                  1973.130435\n",
              "Name: DateIn, dtype: float64"
            ]
          },
          "metadata": {},
          "execution_count": 73
        }
      ],
      "source": [
        "gb[\"DateIn\"].mean().head()"
      ]
    },
    {
      "cell_type": "markdown",
      "metadata": {
        "id": "mfIwTjNjQBTn"
      },
      "source": [
        "Grouping is not only possible on a single columns, but also on multiple columns. For instance,\n",
        "we might want to group the capacities by country **and** fuel type. To achieve this, we pass a list of functions to the `groupby` functions."
      ]
    },
    {
      "cell_type": "code",
      "execution_count": 74,
      "metadata": {
        "id": "WCvQwIzOQBTn",
        "outputId": "808fa205-24d1-4be9-ed2a-4ef056b38547",
        "colab": {
          "base_uri": "https://localhost:8080/"
        }
      },
      "outputs": [
        {
          "output_type": "execute_result",
          "data": {
            "text/plain": [
              "Country         Fueltype   \n",
              "Albania         Hydro           1546.353732\n",
              "                Oil               89.854543\n",
              "Austria         Hard Coal        578.400000\n",
              "                Hydro          12726.420000\n",
              "                Natural Gas     4417.700000\n",
              "                                   ...     \n",
              "United Kingdom  Nuclear        11239.000000\n",
              "                Oil              100.000000\n",
              "                Other             55.000000\n",
              "                Waste            498.900000\n",
              "                Wind            3401.000000\n",
              "Name: Capacity, Length: 153, dtype: float64"
            ]
          },
          "metadata": {},
          "execution_count": 74
        }
      ],
      "source": [
        "capacities = df.groupby([\"Country\", \"Fueltype\"]).Capacity.sum()\n",
        "capacities"
      ]
    },
    {
      "cell_type": "markdown",
      "metadata": {
        "id": "orXmJcU6QBTn"
      },
      "source": [
        "By grouping by multiple attributes, our index becomes a `pd.MultiIndex` (a hierarchical index with multiple *levels*."
      ]
    },
    {
      "cell_type": "code",
      "execution_count": 75,
      "metadata": {
        "id": "KHnl6QTbQBTn",
        "outputId": "c2608784-41a3-4a42-eee9-6c6550e41a72",
        "colab": {
          "base_uri": "https://localhost:8080/"
        }
      },
      "outputs": [
        {
          "output_type": "execute_result",
          "data": {
            "text/plain": [
              "MultiIndex([('Albania',       'Hydro'),\n",
              "            ('Albania',         'Oil'),\n",
              "            ('Austria',   'Hard Coal'),\n",
              "            ('Austria',       'Hydro'),\n",
              "            ('Austria', 'Natural Gas')],\n",
              "           names=['Country', 'Fueltype'])"
            ]
          },
          "metadata": {},
          "execution_count": 75
        }
      ],
      "source": [
        "capacities.index[:5]"
      ]
    },
    {
      "cell_type": "code",
      "execution_count": 76,
      "metadata": {
        "id": "Dfw0kx8SQBTn",
        "outputId": "098953d7-8738-4c2d-de80-09ff170cc677",
        "colab": {
          "base_uri": "https://localhost:8080/"
        }
      },
      "outputs": [
        {
          "output_type": "execute_result",
          "data": {
            "text/plain": [
              "pandas.core.indexes.multi.MultiIndex"
            ]
          },
          "metadata": {},
          "execution_count": 76
        }
      ],
      "source": [
        "type(capacities.index)"
      ]
    },
    {
      "cell_type": "markdown",
      "metadata": {
        "id": "hnPn2EWvQBTn"
      },
      "source": [
        "We can use the `.unstack` function to reshape the multi-indexed `pd.Series` into a `pd.DataFrame` which has the second index level as columns. "
      ]
    },
    {
      "cell_type": "code",
      "execution_count": 77,
      "metadata": {
        "id": "qOn1x7u-QBTn",
        "outputId": "bd95314d-321d-4dde-f1fc-7f9c11e2609d",
        "colab": {
          "base_uri": "https://localhost:8080/",
          "height": 457
        }
      },
      "outputs": [
        {
          "output_type": "execute_result",
          "data": {
            "text/plain": [
              "Country             Spain        Sweden  Switzerland       Ukraine  \\\n",
              "Fueltype                                                             \n",
              "Bioenergy       20.000000    220.000000          NaN           NaN   \n",
              "Geothermal            NaN           NaN          NaN           NaN   \n",
              "Hard Coal     9492.767594      0.000000          NaN  23206.997071   \n",
              "Hydro        25762.867247  13958.718931      18292.0   4806.212023   \n",
              "Lignite       1267.946871           NaN          NaN           NaN   \n",
              "Natural Gas  23587.497259   1091.000000          NaN           NaN   \n",
              "Nuclear       7117.200000   8617.000000       3348.0  12443.698212   \n",
              "Oil           2703.935294   1435.000000          NaN           NaN   \n",
              "Other         1053.980957           NaN          NaN           NaN   \n",
              "Solar         3474.003000           NaN          NaN           NaN   \n",
              "Waste          388.054000           NaN          NaN           NaN   \n",
              "Wind         11112.580000    398.000000          NaN           NaN   \n",
              "\n",
              "Country      United Kingdom  \n",
              "Fueltype                     \n",
              "Bioenergy        187.300000  \n",
              "Geothermal              NaN  \n",
              "Hard Coal      12059.890974  \n",
              "Hydro           9645.700000  \n",
              "Lignite                 NaN  \n",
              "Natural Gas    32715.675440  \n",
              "Nuclear        11239.000000  \n",
              "Oil              100.000000  \n",
              "Other             55.000000  \n",
              "Solar                   NaN  \n",
              "Waste            498.900000  \n",
              "Wind            3401.000000  "
            ],
            "text/html": [
              "\n",
              "  <div id=\"df-c827b8e1-e4b2-4290-b138-56bd109f53a8\">\n",
              "    <div class=\"colab-df-container\">\n",
              "      <div>\n",
              "<style scoped>\n",
              "    .dataframe tbody tr th:only-of-type {\n",
              "        vertical-align: middle;\n",
              "    }\n",
              "\n",
              "    .dataframe tbody tr th {\n",
              "        vertical-align: top;\n",
              "    }\n",
              "\n",
              "    .dataframe thead th {\n",
              "        text-align: right;\n",
              "    }\n",
              "</style>\n",
              "<table border=\"1\" class=\"dataframe\">\n",
              "  <thead>\n",
              "    <tr style=\"text-align: right;\">\n",
              "      <th>Country</th>\n",
              "      <th>Spain</th>\n",
              "      <th>Sweden</th>\n",
              "      <th>Switzerland</th>\n",
              "      <th>Ukraine</th>\n",
              "      <th>United Kingdom</th>\n",
              "    </tr>\n",
              "    <tr>\n",
              "      <th>Fueltype</th>\n",
              "      <th></th>\n",
              "      <th></th>\n",
              "      <th></th>\n",
              "      <th></th>\n",
              "      <th></th>\n",
              "    </tr>\n",
              "  </thead>\n",
              "  <tbody>\n",
              "    <tr>\n",
              "      <th>Bioenergy</th>\n",
              "      <td>20.000000</td>\n",
              "      <td>220.000000</td>\n",
              "      <td>NaN</td>\n",
              "      <td>NaN</td>\n",
              "      <td>187.300000</td>\n",
              "    </tr>\n",
              "    <tr>\n",
              "      <th>Geothermal</th>\n",
              "      <td>NaN</td>\n",
              "      <td>NaN</td>\n",
              "      <td>NaN</td>\n",
              "      <td>NaN</td>\n",
              "      <td>NaN</td>\n",
              "    </tr>\n",
              "    <tr>\n",
              "      <th>Hard Coal</th>\n",
              "      <td>9492.767594</td>\n",
              "      <td>0.000000</td>\n",
              "      <td>NaN</td>\n",
              "      <td>23206.997071</td>\n",
              "      <td>12059.890974</td>\n",
              "    </tr>\n",
              "    <tr>\n",
              "      <th>Hydro</th>\n",
              "      <td>25762.867247</td>\n",
              "      <td>13958.718931</td>\n",
              "      <td>18292.0</td>\n",
              "      <td>4806.212023</td>\n",
              "      <td>9645.700000</td>\n",
              "    </tr>\n",
              "    <tr>\n",
              "      <th>Lignite</th>\n",
              "      <td>1267.946871</td>\n",
              "      <td>NaN</td>\n",
              "      <td>NaN</td>\n",
              "      <td>NaN</td>\n",
              "      <td>NaN</td>\n",
              "    </tr>\n",
              "    <tr>\n",
              "      <th>Natural Gas</th>\n",
              "      <td>23587.497259</td>\n",
              "      <td>1091.000000</td>\n",
              "      <td>NaN</td>\n",
              "      <td>NaN</td>\n",
              "      <td>32715.675440</td>\n",
              "    </tr>\n",
              "    <tr>\n",
              "      <th>Nuclear</th>\n",
              "      <td>7117.200000</td>\n",
              "      <td>8617.000000</td>\n",
              "      <td>3348.0</td>\n",
              "      <td>12443.698212</td>\n",
              "      <td>11239.000000</td>\n",
              "    </tr>\n",
              "    <tr>\n",
              "      <th>Oil</th>\n",
              "      <td>2703.935294</td>\n",
              "      <td>1435.000000</td>\n",
              "      <td>NaN</td>\n",
              "      <td>NaN</td>\n",
              "      <td>100.000000</td>\n",
              "    </tr>\n",
              "    <tr>\n",
              "      <th>Other</th>\n",
              "      <td>1053.980957</td>\n",
              "      <td>NaN</td>\n",
              "      <td>NaN</td>\n",
              "      <td>NaN</td>\n",
              "      <td>55.000000</td>\n",
              "    </tr>\n",
              "    <tr>\n",
              "      <th>Solar</th>\n",
              "      <td>3474.003000</td>\n",
              "      <td>NaN</td>\n",
              "      <td>NaN</td>\n",
              "      <td>NaN</td>\n",
              "      <td>NaN</td>\n",
              "    </tr>\n",
              "    <tr>\n",
              "      <th>Waste</th>\n",
              "      <td>388.054000</td>\n",
              "      <td>NaN</td>\n",
              "      <td>NaN</td>\n",
              "      <td>NaN</td>\n",
              "      <td>498.900000</td>\n",
              "    </tr>\n",
              "    <tr>\n",
              "      <th>Wind</th>\n",
              "      <td>11112.580000</td>\n",
              "      <td>398.000000</td>\n",
              "      <td>NaN</td>\n",
              "      <td>NaN</td>\n",
              "      <td>3401.000000</td>\n",
              "    </tr>\n",
              "  </tbody>\n",
              "</table>\n",
              "</div>\n",
              "      <button class=\"colab-df-convert\" onclick=\"convertToInteractive('df-c827b8e1-e4b2-4290-b138-56bd109f53a8')\"\n",
              "              title=\"Convert this dataframe to an interactive table.\"\n",
              "              style=\"display:none;\">\n",
              "        \n",
              "  <svg xmlns=\"http://www.w3.org/2000/svg\" height=\"24px\"viewBox=\"0 0 24 24\"\n",
              "       width=\"24px\">\n",
              "    <path d=\"M0 0h24v24H0V0z\" fill=\"none\"/>\n",
              "    <path d=\"M18.56 5.44l.94 2.06.94-2.06 2.06-.94-2.06-.94-.94-2.06-.94 2.06-2.06.94zm-11 1L8.5 8.5l.94-2.06 2.06-.94-2.06-.94L8.5 2.5l-.94 2.06-2.06.94zm10 10l.94 2.06.94-2.06 2.06-.94-2.06-.94-.94-2.06-.94 2.06-2.06.94z\"/><path d=\"M17.41 7.96l-1.37-1.37c-.4-.4-.92-.59-1.43-.59-.52 0-1.04.2-1.43.59L10.3 9.45l-7.72 7.72c-.78.78-.78 2.05 0 2.83L4 21.41c.39.39.9.59 1.41.59.51 0 1.02-.2 1.41-.59l7.78-7.78 2.81-2.81c.8-.78.8-2.07 0-2.86zM5.41 20L4 18.59l7.72-7.72 1.47 1.35L5.41 20z\"/>\n",
              "  </svg>\n",
              "      </button>\n",
              "      \n",
              "  <style>\n",
              "    .colab-df-container {\n",
              "      display:flex;\n",
              "      flex-wrap:wrap;\n",
              "      gap: 12px;\n",
              "    }\n",
              "\n",
              "    .colab-df-convert {\n",
              "      background-color: #E8F0FE;\n",
              "      border: none;\n",
              "      border-radius: 50%;\n",
              "      cursor: pointer;\n",
              "      display: none;\n",
              "      fill: #1967D2;\n",
              "      height: 32px;\n",
              "      padding: 0 0 0 0;\n",
              "      width: 32px;\n",
              "    }\n",
              "\n",
              "    .colab-df-convert:hover {\n",
              "      background-color: #E2EBFA;\n",
              "      box-shadow: 0px 1px 2px rgba(60, 64, 67, 0.3), 0px 1px 3px 1px rgba(60, 64, 67, 0.15);\n",
              "      fill: #174EA6;\n",
              "    }\n",
              "\n",
              "    [theme=dark] .colab-df-convert {\n",
              "      background-color: #3B4455;\n",
              "      fill: #D2E3FC;\n",
              "    }\n",
              "\n",
              "    [theme=dark] .colab-df-convert:hover {\n",
              "      background-color: #434B5C;\n",
              "      box-shadow: 0px 1px 3px 1px rgba(0, 0, 0, 0.15);\n",
              "      filter: drop-shadow(0px 1px 2px rgba(0, 0, 0, 0.3));\n",
              "      fill: #FFFFFF;\n",
              "    }\n",
              "  </style>\n",
              "\n",
              "      <script>\n",
              "        const buttonEl =\n",
              "          document.querySelector('#df-c827b8e1-e4b2-4290-b138-56bd109f53a8 button.colab-df-convert');\n",
              "        buttonEl.style.display =\n",
              "          google.colab.kernel.accessAllowed ? 'block' : 'none';\n",
              "\n",
              "        async function convertToInteractive(key) {\n",
              "          const element = document.querySelector('#df-c827b8e1-e4b2-4290-b138-56bd109f53a8');\n",
              "          const dataTable =\n",
              "            await google.colab.kernel.invokeFunction('convertToInteractive',\n",
              "                                                     [key], {});\n",
              "          if (!dataTable) return;\n",
              "\n",
              "          const docLinkHtml = 'Like what you see? Visit the ' +\n",
              "            '<a target=\"_blank\" href=https://colab.research.google.com/notebooks/data_table.ipynb>data table notebook</a>'\n",
              "            + ' to learn more about interactive tables.';\n",
              "          element.innerHTML = '';\n",
              "          dataTable['output_type'] = 'display_data';\n",
              "          await google.colab.output.renderOutput(dataTable, element);\n",
              "          const docLink = document.createElement('div');\n",
              "          docLink.innerHTML = docLinkHtml;\n",
              "          element.appendChild(docLink);\n",
              "        }\n",
              "      </script>\n",
              "    </div>\n",
              "  </div>\n",
              "  "
            ]
          },
          "metadata": {},
          "execution_count": 77
        }
      ],
      "source": [
        "capacities.unstack().tail().T"
      ]
    },
    {
      "cell_type": "markdown",
      "metadata": {
        "id": "uVSV9_8-QBTn"
      },
      "source": [
        "## Exercises"
      ]
    },
    {
      "cell_type": "markdown",
      "metadata": {
        "id": "PRXvGTygQBTn"
      },
      "source": [
        "### Power Plants Data"
      ]
    },
    {
      "cell_type": "markdown",
      "metadata": {
        "id": "GV8fCQ6AQBTn"
      },
      "source": [
        "Run the function `.describe()` on the DataFrame that includes the power plant database:"
      ]
    },
    {
      "cell_type": "code",
      "execution_count": 78,
      "metadata": {
        "id": "TRW_lEqMQBTn",
        "outputId": "b4b65a07-8fce-4a5e-ddfb-bd60b6a7fc3c",
        "colab": {
          "base_uri": "https://localhost:8080/",
          "height": 344
        }
      },
      "outputs": [
        {
          "output_type": "execute_result",
          "data": {
            "text/plain": [
              "          Capacity  Efficiency       DateIn  DateRetrofit      DateOut  \\\n",
              "count  5010.000000  510.000000  2976.000000   1832.000000   154.000000   \n",
              "mean    151.363414    0.486821  1980.047715   1984.816048  2026.883117   \n",
              "std     412.728137    0.180187    24.986943     25.003845     8.234272   \n",
              "min       0.000000    0.187765  1899.000000   1899.000000  2020.000000   \n",
              "25%       4.600000    0.359237  1962.000000   1966.750000  2021.000000   \n",
              "50%      24.000000    0.389400  1982.000000   1991.000000  2024.000000   \n",
              "75%      92.000000    0.589875  2003.000000   2005.000000  2029.000000   \n",
              "max    5460.000000    0.917460  2022.000000   2020.000000  2051.000000   \n",
              "\n",
              "               lat          lon      Duration   Volume_Mm3  DamHeight_m  \\\n",
              "count  5010.000000  5010.000000    448.000000  5010.000000  5010.000000   \n",
              "mean     48.844509     8.511741   1202.280996    14.637022     8.233239   \n",
              "std       7.054305     8.648696   1610.022363   178.497746    59.251280   \n",
              "min      35.003800    -9.422700      0.007907     0.000000     0.000000   \n",
              "25%      43.450527     2.340625     33.280117     0.000000     0.000000   \n",
              "50%      47.653396     8.902054    636.146377     0.000000     0.000000   \n",
              "75%      51.641645    13.025138   1861.401642     0.000000     0.000000   \n",
              "max      70.409578    39.262400  16840.000000  9500.000000  1800.000000   \n",
              "\n",
              "       StorageCapacity_MWh  \n",
              "count         5.010000e+03  \n",
              "mean          1.807718e+03  \n",
              "std           4.897179e+04  \n",
              "min           0.000000e+00  \n",
              "25%           0.000000e+00  \n",
              "50%           0.000000e+00  \n",
              "75%           0.000000e+00  \n",
              "max           3.120000e+06  "
            ],
            "text/html": [
              "\n",
              "  <div id=\"df-17dd1a4a-7b8f-45b5-8136-d556aa4cc79c\">\n",
              "    <div class=\"colab-df-container\">\n",
              "      <div>\n",
              "<style scoped>\n",
              "    .dataframe tbody tr th:only-of-type {\n",
              "        vertical-align: middle;\n",
              "    }\n",
              "\n",
              "    .dataframe tbody tr th {\n",
              "        vertical-align: top;\n",
              "    }\n",
              "\n",
              "    .dataframe thead th {\n",
              "        text-align: right;\n",
              "    }\n",
              "</style>\n",
              "<table border=\"1\" class=\"dataframe\">\n",
              "  <thead>\n",
              "    <tr style=\"text-align: right;\">\n",
              "      <th></th>\n",
              "      <th>Capacity</th>\n",
              "      <th>Efficiency</th>\n",
              "      <th>DateIn</th>\n",
              "      <th>DateRetrofit</th>\n",
              "      <th>DateOut</th>\n",
              "      <th>lat</th>\n",
              "      <th>lon</th>\n",
              "      <th>Duration</th>\n",
              "      <th>Volume_Mm3</th>\n",
              "      <th>DamHeight_m</th>\n",
              "      <th>StorageCapacity_MWh</th>\n",
              "    </tr>\n",
              "  </thead>\n",
              "  <tbody>\n",
              "    <tr>\n",
              "      <th>count</th>\n",
              "      <td>5010.000000</td>\n",
              "      <td>510.000000</td>\n",
              "      <td>2976.000000</td>\n",
              "      <td>1832.000000</td>\n",
              "      <td>154.000000</td>\n",
              "      <td>5010.000000</td>\n",
              "      <td>5010.000000</td>\n",
              "      <td>448.000000</td>\n",
              "      <td>5010.000000</td>\n",
              "      <td>5010.000000</td>\n",
              "      <td>5.010000e+03</td>\n",
              "    </tr>\n",
              "    <tr>\n",
              "      <th>mean</th>\n",
              "      <td>151.363414</td>\n",
              "      <td>0.486821</td>\n",
              "      <td>1980.047715</td>\n",
              "      <td>1984.816048</td>\n",
              "      <td>2026.883117</td>\n",
              "      <td>48.844509</td>\n",
              "      <td>8.511741</td>\n",
              "      <td>1202.280996</td>\n",
              "      <td>14.637022</td>\n",
              "      <td>8.233239</td>\n",
              "      <td>1.807718e+03</td>\n",
              "    </tr>\n",
              "    <tr>\n",
              "      <th>std</th>\n",
              "      <td>412.728137</td>\n",
              "      <td>0.180187</td>\n",
              "      <td>24.986943</td>\n",
              "      <td>25.003845</td>\n",
              "      <td>8.234272</td>\n",
              "      <td>7.054305</td>\n",
              "      <td>8.648696</td>\n",
              "      <td>1610.022363</td>\n",
              "      <td>178.497746</td>\n",
              "      <td>59.251280</td>\n",
              "      <td>4.897179e+04</td>\n",
              "    </tr>\n",
              "    <tr>\n",
              "      <th>min</th>\n",
              "      <td>0.000000</td>\n",
              "      <td>0.187765</td>\n",
              "      <td>1899.000000</td>\n",
              "      <td>1899.000000</td>\n",
              "      <td>2020.000000</td>\n",
              "      <td>35.003800</td>\n",
              "      <td>-9.422700</td>\n",
              "      <td>0.007907</td>\n",
              "      <td>0.000000</td>\n",
              "      <td>0.000000</td>\n",
              "      <td>0.000000e+00</td>\n",
              "    </tr>\n",
              "    <tr>\n",
              "      <th>25%</th>\n",
              "      <td>4.600000</td>\n",
              "      <td>0.359237</td>\n",
              "      <td>1962.000000</td>\n",
              "      <td>1966.750000</td>\n",
              "      <td>2021.000000</td>\n",
              "      <td>43.450527</td>\n",
              "      <td>2.340625</td>\n",
              "      <td>33.280117</td>\n",
              "      <td>0.000000</td>\n",
              "      <td>0.000000</td>\n",
              "      <td>0.000000e+00</td>\n",
              "    </tr>\n",
              "    <tr>\n",
              "      <th>50%</th>\n",
              "      <td>24.000000</td>\n",
              "      <td>0.389400</td>\n",
              "      <td>1982.000000</td>\n",
              "      <td>1991.000000</td>\n",
              "      <td>2024.000000</td>\n",
              "      <td>47.653396</td>\n",
              "      <td>8.902054</td>\n",
              "      <td>636.146377</td>\n",
              "      <td>0.000000</td>\n",
              "      <td>0.000000</td>\n",
              "      <td>0.000000e+00</td>\n",
              "    </tr>\n",
              "    <tr>\n",
              "      <th>75%</th>\n",
              "      <td>92.000000</td>\n",
              "      <td>0.589875</td>\n",
              "      <td>2003.000000</td>\n",
              "      <td>2005.000000</td>\n",
              "      <td>2029.000000</td>\n",
              "      <td>51.641645</td>\n",
              "      <td>13.025138</td>\n",
              "      <td>1861.401642</td>\n",
              "      <td>0.000000</td>\n",
              "      <td>0.000000</td>\n",
              "      <td>0.000000e+00</td>\n",
              "    </tr>\n",
              "    <tr>\n",
              "      <th>max</th>\n",
              "      <td>5460.000000</td>\n",
              "      <td>0.917460</td>\n",
              "      <td>2022.000000</td>\n",
              "      <td>2020.000000</td>\n",
              "      <td>2051.000000</td>\n",
              "      <td>70.409578</td>\n",
              "      <td>39.262400</td>\n",
              "      <td>16840.000000</td>\n",
              "      <td>9500.000000</td>\n",
              "      <td>1800.000000</td>\n",
              "      <td>3.120000e+06</td>\n",
              "    </tr>\n",
              "  </tbody>\n",
              "</table>\n",
              "</div>\n",
              "      <button class=\"colab-df-convert\" onclick=\"convertToInteractive('df-17dd1a4a-7b8f-45b5-8136-d556aa4cc79c')\"\n",
              "              title=\"Convert this dataframe to an interactive table.\"\n",
              "              style=\"display:none;\">\n",
              "        \n",
              "  <svg xmlns=\"http://www.w3.org/2000/svg\" height=\"24px\"viewBox=\"0 0 24 24\"\n",
              "       width=\"24px\">\n",
              "    <path d=\"M0 0h24v24H0V0z\" fill=\"none\"/>\n",
              "    <path d=\"M18.56 5.44l.94 2.06.94-2.06 2.06-.94-2.06-.94-.94-2.06-.94 2.06-2.06.94zm-11 1L8.5 8.5l.94-2.06 2.06-.94-2.06-.94L8.5 2.5l-.94 2.06-2.06.94zm10 10l.94 2.06.94-2.06 2.06-.94-2.06-.94-.94-2.06-.94 2.06-2.06.94z\"/><path d=\"M17.41 7.96l-1.37-1.37c-.4-.4-.92-.59-1.43-.59-.52 0-1.04.2-1.43.59L10.3 9.45l-7.72 7.72c-.78.78-.78 2.05 0 2.83L4 21.41c.39.39.9.59 1.41.59.51 0 1.02-.2 1.41-.59l7.78-7.78 2.81-2.81c.8-.78.8-2.07 0-2.86zM5.41 20L4 18.59l7.72-7.72 1.47 1.35L5.41 20z\"/>\n",
              "  </svg>\n",
              "      </button>\n",
              "      \n",
              "  <style>\n",
              "    .colab-df-container {\n",
              "      display:flex;\n",
              "      flex-wrap:wrap;\n",
              "      gap: 12px;\n",
              "    }\n",
              "\n",
              "    .colab-df-convert {\n",
              "      background-color: #E8F0FE;\n",
              "      border: none;\n",
              "      border-radius: 50%;\n",
              "      cursor: pointer;\n",
              "      display: none;\n",
              "      fill: #1967D2;\n",
              "      height: 32px;\n",
              "      padding: 0 0 0 0;\n",
              "      width: 32px;\n",
              "    }\n",
              "\n",
              "    .colab-df-convert:hover {\n",
              "      background-color: #E2EBFA;\n",
              "      box-shadow: 0px 1px 2px rgba(60, 64, 67, 0.3), 0px 1px 3px 1px rgba(60, 64, 67, 0.15);\n",
              "      fill: #174EA6;\n",
              "    }\n",
              "\n",
              "    [theme=dark] .colab-df-convert {\n",
              "      background-color: #3B4455;\n",
              "      fill: #D2E3FC;\n",
              "    }\n",
              "\n",
              "    [theme=dark] .colab-df-convert:hover {\n",
              "      background-color: #434B5C;\n",
              "      box-shadow: 0px 1px 3px 1px rgba(0, 0, 0, 0.15);\n",
              "      filter: drop-shadow(0px 1px 2px rgba(0, 0, 0, 0.3));\n",
              "      fill: #FFFFFF;\n",
              "    }\n",
              "  </style>\n",
              "\n",
              "      <script>\n",
              "        const buttonEl =\n",
              "          document.querySelector('#df-17dd1a4a-7b8f-45b5-8136-d556aa4cc79c button.colab-df-convert');\n",
              "        buttonEl.style.display =\n",
              "          google.colab.kernel.accessAllowed ? 'block' : 'none';\n",
              "\n",
              "        async function convertToInteractive(key) {\n",
              "          const element = document.querySelector('#df-17dd1a4a-7b8f-45b5-8136-d556aa4cc79c');\n",
              "          const dataTable =\n",
              "            await google.colab.kernel.invokeFunction('convertToInteractive',\n",
              "                                                     [key], {});\n",
              "          if (!dataTable) return;\n",
              "\n",
              "          const docLinkHtml = 'Like what you see? Visit the ' +\n",
              "            '<a target=\"_blank\" href=https://colab.research.google.com/notebooks/data_table.ipynb>data table notebook</a>'\n",
              "            + ' to learn more about interactive tables.';\n",
              "          element.innerHTML = '';\n",
              "          dataTable['output_type'] = 'display_data';\n",
              "          await google.colab.output.renderOutput(dataTable, element);\n",
              "          const docLink = document.createElement('div');\n",
              "          docLink.innerHTML = docLinkHtml;\n",
              "          element.appendChild(docLink);\n",
              "        }\n",
              "      </script>\n",
              "    </div>\n",
              "  </div>\n",
              "  "
            ]
          },
          "metadata": {},
          "execution_count": 78
        }
      ],
      "source": [
        "df.describe()"
      ]
    },
    {
      "cell_type": "markdown",
      "metadata": {
        "id": "ZBDOwV4-QBTo"
      },
      "source": [
        "Provide a list of unique fuel types included in the dataset"
      ]
    },
    {
      "cell_type": "code",
      "execution_count": 79,
      "metadata": {
        "id": "dRSSfJH_QBTo",
        "outputId": "0d5954d0-8383-4d0b-e184-691f93d70c41",
        "colab": {
          "base_uri": "https://localhost:8080/"
        }
      },
      "outputs": [
        {
          "output_type": "execute_result",
          "data": {
            "text/plain": [
              "array(['Nuclear', 'Hydro', 'Hard Coal', 'Oil', 'Natural Gas', 'Bioenergy',\n",
              "       'Lignite', 'Other', 'Wind', 'Solar', 'Waste', 'Geothermal'],\n",
              "      dtype=object)"
            ]
          },
          "metadata": {},
          "execution_count": 79
        }
      ],
      "source": [
        "df.Fueltype.unique()"
      ]
    },
    {
      "cell_type": "markdown",
      "metadata": {
        "id": "of4sS8mkQBTo"
      },
      "source": [
        "Provide a list of unique technologies included in the dataset"
      ]
    },
    {
      "cell_type": "code",
      "execution_count": 80,
      "metadata": {
        "id": "S8D4sxMxQBTo",
        "outputId": "ff03b34c-d7c9-4b8a-d49b-9ce0c802bbca",
        "colab": {
          "base_uri": "https://localhost:8080/"
        }
      },
      "outputs": [
        {
          "output_type": "execute_result",
          "data": {
            "text/plain": [
              "array(['Steam Turbine', 'Reservoir', 'Pumped Storage', 'Run-Of-River',\n",
              "       nan, 'CCGT', 'Marine', 'Offshore', 'Onshore', 'OCGT', 'Csp',\n",
              "       'Combustion Engine', 'CSP'], dtype=object)"
            ]
          },
          "metadata": {},
          "execution_count": 80
        }
      ],
      "source": [
        "df.Technology.unique()"
      ]
    },
    {
      "cell_type": "markdown",
      "metadata": {
        "id": "OU5XsE-ZQBTo"
      },
      "source": [
        "Filter the dataset by power plants with the fuel type \"Hard Coal\""
      ]
    },
    {
      "cell_type": "code",
      "execution_count": 81,
      "metadata": {
        "id": "ttPMIMGmQBTo",
        "outputId": "aa836b6e-4675-4acd-a27a-9743c202a2f4",
        "colab": {
          "base_uri": "https://localhost:8080/",
          "height": 918
        }
      },
      "outputs": [
        {
          "output_type": "execute_result",
          "data": {
            "text/plain": [
              "                   Name   Fueltype Technology Set         Country  \\\n",
              "id                                                                  \n",
              "49             Bastardo  Hard Coal        NaN  PP           Italy   \n",
              "51         Brindisi Sud  Hard Coal        NaN  PP           Italy   \n",
              "52               Fusina  Hard Coal       CCGT  PP           Italy   \n",
              "53           Monfalcone  Hard Coal        NaN  PP           Italy   \n",
              "54               Sulcis  Hard Coal        NaN  PP           Italy   \n",
              "...                 ...        ...        ...  ..             ...   \n",
              "2930       Vaertaverket  Hard Coal        NaN  PP          Sweden   \n",
              "2931          Vitkovice  Hard Coal        NaN  PP  Czech Republic   \n",
              "2932  Wilhelmshaven New  Hard Coal        NaN  PP         Germany   \n",
              "2933    Wolfsburg North  Hard Coal        NaN  PP         Germany   \n",
              "4707        Escatron Gr  Hard Coal        NaN  PP           Spain   \n",
              "\n",
              "         Capacity  Efficiency  DateIn  DateRetrofit  DateOut      lat  \\\n",
              "id                                                                      \n",
              "49     138.290543         NaN  1989.0           NaN   2025.0  42.8933   \n",
              "51    1825.435174         NaN  1991.0           NaN   2025.0  40.5639   \n",
              "52     899.810470         NaN  1964.0           NaN   2025.0  45.4314   \n",
              "53     309.770817         NaN  1965.0           NaN   2025.0  45.7967   \n",
              "54     543.942804         NaN  1986.0        2001.0   2025.0  39.1953   \n",
              "...           ...         ...     ...           ...      ...      ...   \n",
              "2930     0.000000         NaN  1990.0           NaN   2020.0  59.3526   \n",
              "2931     0.000000         NaN  1970.0           NaN   2020.0  49.8160   \n",
              "2932   732.939880         NaN  2015.0           NaN      NaN  53.5788   \n",
              "2933   129.071174         NaN  2000.0           NaN   2022.0  52.4317   \n",
              "4707    65.000000         NaN  1990.0           NaN      NaN  41.2961   \n",
              "\n",
              "          lon  Duration  Volume_Mm3  DamHeight_m  StorageCapacity_MWh  \\\n",
              "id                                                                      \n",
              "49    12.5397       NaN         0.0          0.0                  0.0   \n",
              "51    18.0322       NaN         0.0          0.0                  0.0   \n",
              "52    12.2458       NaN         0.0          0.0                  0.0   \n",
              "53    13.5456       NaN         0.0          0.0                  0.0   \n",
              "54     8.4000       NaN         0.0          0.0                  0.0   \n",
              "...       ...       ...         ...          ...                  ...   \n",
              "2930  18.1009       NaN         0.0          0.0                  0.0   \n",
              "2931  18.2733       NaN         0.0          0.0                  0.0   \n",
              "2932   8.1327       NaN         0.0          0.0                  0.0   \n",
              "2933  10.7870       NaN         0.0          0.0                  0.0   \n",
              "4707  -0.3376       NaN         0.0          0.0                  0.0   \n",
              "\n",
              "                       EIC                                          projectID  \n",
              "id                                                                             \n",
              "49    {'26WIMPI-S10BSTRJ'}  {'BEYONDCOAL': {'BEYOND-IT-10'}, 'ENTSOE': {'2...  \n",
              "51    {'26WIMPI-S16BSCRY'}  {'BEYONDCOAL': {'BEYOND-IT-2'}, 'ENTSOE': {'26...  \n",
              "52    {'26WIMPI-S05FTSNK'}  {'BEYONDCOAL': {'BEYOND-IT-24'}, 'ENTSOE': {'2...  \n",
              "53    {'26WIMPI-S06MTNFA'}  {'BEYONDCOAL': {'BEYOND-IT-13'}, 'ENTSOE': {'2...  \n",
              "54    {'26WIMPI-S20SCLC8'}  {'BEYONDCOAL': {'BEYOND-IT-20'}, 'ENTSOE': {'2...  \n",
              "...                    ...                                                ...  \n",
              "2930                 {nan}                   {'BEYONDCOAL': {'BEYOND-SE-11'}}  \n",
              "2931                 {nan}                   {'BEYONDCOAL': {'BEYOND-CZ-31'}}  \n",
              "2932                 {nan}                  {'BEYONDCOAL': {'BEYOND-DE-247'}}  \n",
              "2933                 {nan}                  {'BEYONDCOAL': {'BEYOND-DE-234'}}  \n",
              "4707                 {nan}                            {'GPD': {'WRI1006466'}}  \n",
              "\n",
              "[193 rows x 18 columns]"
            ],
            "text/html": [
              "\n",
              "  <div id=\"df-895c9e24-2bd5-46b1-89ad-4ce02a7e5420\">\n",
              "    <div class=\"colab-df-container\">\n",
              "      <div>\n",
              "<style scoped>\n",
              "    .dataframe tbody tr th:only-of-type {\n",
              "        vertical-align: middle;\n",
              "    }\n",
              "\n",
              "    .dataframe tbody tr th {\n",
              "        vertical-align: top;\n",
              "    }\n",
              "\n",
              "    .dataframe thead th {\n",
              "        text-align: right;\n",
              "    }\n",
              "</style>\n",
              "<table border=\"1\" class=\"dataframe\">\n",
              "  <thead>\n",
              "    <tr style=\"text-align: right;\">\n",
              "      <th></th>\n",
              "      <th>Name</th>\n",
              "      <th>Fueltype</th>\n",
              "      <th>Technology</th>\n",
              "      <th>Set</th>\n",
              "      <th>Country</th>\n",
              "      <th>Capacity</th>\n",
              "      <th>Efficiency</th>\n",
              "      <th>DateIn</th>\n",
              "      <th>DateRetrofit</th>\n",
              "      <th>DateOut</th>\n",
              "      <th>lat</th>\n",
              "      <th>lon</th>\n",
              "      <th>Duration</th>\n",
              "      <th>Volume_Mm3</th>\n",
              "      <th>DamHeight_m</th>\n",
              "      <th>StorageCapacity_MWh</th>\n",
              "      <th>EIC</th>\n",
              "      <th>projectID</th>\n",
              "    </tr>\n",
              "    <tr>\n",
              "      <th>id</th>\n",
              "      <th></th>\n",
              "      <th></th>\n",
              "      <th></th>\n",
              "      <th></th>\n",
              "      <th></th>\n",
              "      <th></th>\n",
              "      <th></th>\n",
              "      <th></th>\n",
              "      <th></th>\n",
              "      <th></th>\n",
              "      <th></th>\n",
              "      <th></th>\n",
              "      <th></th>\n",
              "      <th></th>\n",
              "      <th></th>\n",
              "      <th></th>\n",
              "      <th></th>\n",
              "      <th></th>\n",
              "    </tr>\n",
              "  </thead>\n",
              "  <tbody>\n",
              "    <tr>\n",
              "      <th>49</th>\n",
              "      <td>Bastardo</td>\n",
              "      <td>Hard Coal</td>\n",
              "      <td>NaN</td>\n",
              "      <td>PP</td>\n",
              "      <td>Italy</td>\n",
              "      <td>138.290543</td>\n",
              "      <td>NaN</td>\n",
              "      <td>1989.0</td>\n",
              "      <td>NaN</td>\n",
              "      <td>2025.0</td>\n",
              "      <td>42.8933</td>\n",
              "      <td>12.5397</td>\n",
              "      <td>NaN</td>\n",
              "      <td>0.0</td>\n",
              "      <td>0.0</td>\n",
              "      <td>0.0</td>\n",
              "      <td>{'26WIMPI-S10BSTRJ'}</td>\n",
              "      <td>{'BEYONDCOAL': {'BEYOND-IT-10'}, 'ENTSOE': {'2...</td>\n",
              "    </tr>\n",
              "    <tr>\n",
              "      <th>51</th>\n",
              "      <td>Brindisi Sud</td>\n",
              "      <td>Hard Coal</td>\n",
              "      <td>NaN</td>\n",
              "      <td>PP</td>\n",
              "      <td>Italy</td>\n",
              "      <td>1825.435174</td>\n",
              "      <td>NaN</td>\n",
              "      <td>1991.0</td>\n",
              "      <td>NaN</td>\n",
              "      <td>2025.0</td>\n",
              "      <td>40.5639</td>\n",
              "      <td>18.0322</td>\n",
              "      <td>NaN</td>\n",
              "      <td>0.0</td>\n",
              "      <td>0.0</td>\n",
              "      <td>0.0</td>\n",
              "      <td>{'26WIMPI-S16BSCRY'}</td>\n",
              "      <td>{'BEYONDCOAL': {'BEYOND-IT-2'}, 'ENTSOE': {'26...</td>\n",
              "    </tr>\n",
              "    <tr>\n",
              "      <th>52</th>\n",
              "      <td>Fusina</td>\n",
              "      <td>Hard Coal</td>\n",
              "      <td>CCGT</td>\n",
              "      <td>PP</td>\n",
              "      <td>Italy</td>\n",
              "      <td>899.810470</td>\n",
              "      <td>NaN</td>\n",
              "      <td>1964.0</td>\n",
              "      <td>NaN</td>\n",
              "      <td>2025.0</td>\n",
              "      <td>45.4314</td>\n",
              "      <td>12.2458</td>\n",
              "      <td>NaN</td>\n",
              "      <td>0.0</td>\n",
              "      <td>0.0</td>\n",
              "      <td>0.0</td>\n",
              "      <td>{'26WIMPI-S05FTSNK'}</td>\n",
              "      <td>{'BEYONDCOAL': {'BEYOND-IT-24'}, 'ENTSOE': {'2...</td>\n",
              "    </tr>\n",
              "    <tr>\n",
              "      <th>53</th>\n",
              "      <td>Monfalcone</td>\n",
              "      <td>Hard Coal</td>\n",
              "      <td>NaN</td>\n",
              "      <td>PP</td>\n",
              "      <td>Italy</td>\n",
              "      <td>309.770817</td>\n",
              "      <td>NaN</td>\n",
              "      <td>1965.0</td>\n",
              "      <td>NaN</td>\n",
              "      <td>2025.0</td>\n",
              "      <td>45.7967</td>\n",
              "      <td>13.5456</td>\n",
              "      <td>NaN</td>\n",
              "      <td>0.0</td>\n",
              "      <td>0.0</td>\n",
              "      <td>0.0</td>\n",
              "      <td>{'26WIMPI-S06MTNFA'}</td>\n",
              "      <td>{'BEYONDCOAL': {'BEYOND-IT-13'}, 'ENTSOE': {'2...</td>\n",
              "    </tr>\n",
              "    <tr>\n",
              "      <th>54</th>\n",
              "      <td>Sulcis</td>\n",
              "      <td>Hard Coal</td>\n",
              "      <td>NaN</td>\n",
              "      <td>PP</td>\n",
              "      <td>Italy</td>\n",
              "      <td>543.942804</td>\n",
              "      <td>NaN</td>\n",
              "      <td>1986.0</td>\n",
              "      <td>2001.0</td>\n",
              "      <td>2025.0</td>\n",
              "      <td>39.1953</td>\n",
              "      <td>8.4000</td>\n",
              "      <td>NaN</td>\n",
              "      <td>0.0</td>\n",
              "      <td>0.0</td>\n",
              "      <td>0.0</td>\n",
              "      <td>{'26WIMPI-S20SCLC8'}</td>\n",
              "      <td>{'BEYONDCOAL': {'BEYOND-IT-20'}, 'ENTSOE': {'2...</td>\n",
              "    </tr>\n",
              "    <tr>\n",
              "      <th>...</th>\n",
              "      <td>...</td>\n",
              "      <td>...</td>\n",
              "      <td>...</td>\n",
              "      <td>...</td>\n",
              "      <td>...</td>\n",
              "      <td>...</td>\n",
              "      <td>...</td>\n",
              "      <td>...</td>\n",
              "      <td>...</td>\n",
              "      <td>...</td>\n",
              "      <td>...</td>\n",
              "      <td>...</td>\n",
              "      <td>...</td>\n",
              "      <td>...</td>\n",
              "      <td>...</td>\n",
              "      <td>...</td>\n",
              "      <td>...</td>\n",
              "      <td>...</td>\n",
              "    </tr>\n",
              "    <tr>\n",
              "      <th>2930</th>\n",
              "      <td>Vaertaverket</td>\n",
              "      <td>Hard Coal</td>\n",
              "      <td>NaN</td>\n",
              "      <td>PP</td>\n",
              "      <td>Sweden</td>\n",
              "      <td>0.000000</td>\n",
              "      <td>NaN</td>\n",
              "      <td>1990.0</td>\n",
              "      <td>NaN</td>\n",
              "      <td>2020.0</td>\n",
              "      <td>59.3526</td>\n",
              "      <td>18.1009</td>\n",
              "      <td>NaN</td>\n",
              "      <td>0.0</td>\n",
              "      <td>0.0</td>\n",
              "      <td>0.0</td>\n",
              "      <td>{nan}</td>\n",
              "      <td>{'BEYONDCOAL': {'BEYOND-SE-11'}}</td>\n",
              "    </tr>\n",
              "    <tr>\n",
              "      <th>2931</th>\n",
              "      <td>Vitkovice</td>\n",
              "      <td>Hard Coal</td>\n",
              "      <td>NaN</td>\n",
              "      <td>PP</td>\n",
              "      <td>Czech Republic</td>\n",
              "      <td>0.000000</td>\n",
              "      <td>NaN</td>\n",
              "      <td>1970.0</td>\n",
              "      <td>NaN</td>\n",
              "      <td>2020.0</td>\n",
              "      <td>49.8160</td>\n",
              "      <td>18.2733</td>\n",
              "      <td>NaN</td>\n",
              "      <td>0.0</td>\n",
              "      <td>0.0</td>\n",
              "      <td>0.0</td>\n",
              "      <td>{nan}</td>\n",
              "      <td>{'BEYONDCOAL': {'BEYOND-CZ-31'}}</td>\n",
              "    </tr>\n",
              "    <tr>\n",
              "      <th>2932</th>\n",
              "      <td>Wilhelmshaven New</td>\n",
              "      <td>Hard Coal</td>\n",
              "      <td>NaN</td>\n",
              "      <td>PP</td>\n",
              "      <td>Germany</td>\n",
              "      <td>732.939880</td>\n",
              "      <td>NaN</td>\n",
              "      <td>2015.0</td>\n",
              "      <td>NaN</td>\n",
              "      <td>NaN</td>\n",
              "      <td>53.5788</td>\n",
              "      <td>8.1327</td>\n",
              "      <td>NaN</td>\n",
              "      <td>0.0</td>\n",
              "      <td>0.0</td>\n",
              "      <td>0.0</td>\n",
              "      <td>{nan}</td>\n",
              "      <td>{'BEYONDCOAL': {'BEYOND-DE-247'}}</td>\n",
              "    </tr>\n",
              "    <tr>\n",
              "      <th>2933</th>\n",
              "      <td>Wolfsburg North</td>\n",
              "      <td>Hard Coal</td>\n",
              "      <td>NaN</td>\n",
              "      <td>PP</td>\n",
              "      <td>Germany</td>\n",
              "      <td>129.071174</td>\n",
              "      <td>NaN</td>\n",
              "      <td>2000.0</td>\n",
              "      <td>NaN</td>\n",
              "      <td>2022.0</td>\n",
              "      <td>52.4317</td>\n",
              "      <td>10.7870</td>\n",
              "      <td>NaN</td>\n",
              "      <td>0.0</td>\n",
              "      <td>0.0</td>\n",
              "      <td>0.0</td>\n",
              "      <td>{nan}</td>\n",
              "      <td>{'BEYONDCOAL': {'BEYOND-DE-234'}}</td>\n",
              "    </tr>\n",
              "    <tr>\n",
              "      <th>4707</th>\n",
              "      <td>Escatron Gr</td>\n",
              "      <td>Hard Coal</td>\n",
              "      <td>NaN</td>\n",
              "      <td>PP</td>\n",
              "      <td>Spain</td>\n",
              "      <td>65.000000</td>\n",
              "      <td>NaN</td>\n",
              "      <td>1990.0</td>\n",
              "      <td>NaN</td>\n",
              "      <td>NaN</td>\n",
              "      <td>41.2961</td>\n",
              "      <td>-0.3376</td>\n",
              "      <td>NaN</td>\n",
              "      <td>0.0</td>\n",
              "      <td>0.0</td>\n",
              "      <td>0.0</td>\n",
              "      <td>{nan}</td>\n",
              "      <td>{'GPD': {'WRI1006466'}}</td>\n",
              "    </tr>\n",
              "  </tbody>\n",
              "</table>\n",
              "<p>193 rows × 18 columns</p>\n",
              "</div>\n",
              "      <button class=\"colab-df-convert\" onclick=\"convertToInteractive('df-895c9e24-2bd5-46b1-89ad-4ce02a7e5420')\"\n",
              "              title=\"Convert this dataframe to an interactive table.\"\n",
              "              style=\"display:none;\">\n",
              "        \n",
              "  <svg xmlns=\"http://www.w3.org/2000/svg\" height=\"24px\"viewBox=\"0 0 24 24\"\n",
              "       width=\"24px\">\n",
              "    <path d=\"M0 0h24v24H0V0z\" fill=\"none\"/>\n",
              "    <path d=\"M18.56 5.44l.94 2.06.94-2.06 2.06-.94-2.06-.94-.94-2.06-.94 2.06-2.06.94zm-11 1L8.5 8.5l.94-2.06 2.06-.94-2.06-.94L8.5 2.5l-.94 2.06-2.06.94zm10 10l.94 2.06.94-2.06 2.06-.94-2.06-.94-.94-2.06-.94 2.06-2.06.94z\"/><path d=\"M17.41 7.96l-1.37-1.37c-.4-.4-.92-.59-1.43-.59-.52 0-1.04.2-1.43.59L10.3 9.45l-7.72 7.72c-.78.78-.78 2.05 0 2.83L4 21.41c.39.39.9.59 1.41.59.51 0 1.02-.2 1.41-.59l7.78-7.78 2.81-2.81c.8-.78.8-2.07 0-2.86zM5.41 20L4 18.59l7.72-7.72 1.47 1.35L5.41 20z\"/>\n",
              "  </svg>\n",
              "      </button>\n",
              "      \n",
              "  <style>\n",
              "    .colab-df-container {\n",
              "      display:flex;\n",
              "      flex-wrap:wrap;\n",
              "      gap: 12px;\n",
              "    }\n",
              "\n",
              "    .colab-df-convert {\n",
              "      background-color: #E8F0FE;\n",
              "      border: none;\n",
              "      border-radius: 50%;\n",
              "      cursor: pointer;\n",
              "      display: none;\n",
              "      fill: #1967D2;\n",
              "      height: 32px;\n",
              "      padding: 0 0 0 0;\n",
              "      width: 32px;\n",
              "    }\n",
              "\n",
              "    .colab-df-convert:hover {\n",
              "      background-color: #E2EBFA;\n",
              "      box-shadow: 0px 1px 2px rgba(60, 64, 67, 0.3), 0px 1px 3px 1px rgba(60, 64, 67, 0.15);\n",
              "      fill: #174EA6;\n",
              "    }\n",
              "\n",
              "    [theme=dark] .colab-df-convert {\n",
              "      background-color: #3B4455;\n",
              "      fill: #D2E3FC;\n",
              "    }\n",
              "\n",
              "    [theme=dark] .colab-df-convert:hover {\n",
              "      background-color: #434B5C;\n",
              "      box-shadow: 0px 1px 3px 1px rgba(0, 0, 0, 0.15);\n",
              "      filter: drop-shadow(0px 1px 2px rgba(0, 0, 0, 0.3));\n",
              "      fill: #FFFFFF;\n",
              "    }\n",
              "  </style>\n",
              "\n",
              "      <script>\n",
              "        const buttonEl =\n",
              "          document.querySelector('#df-895c9e24-2bd5-46b1-89ad-4ce02a7e5420 button.colab-df-convert');\n",
              "        buttonEl.style.display =\n",
              "          google.colab.kernel.accessAllowed ? 'block' : 'none';\n",
              "\n",
              "        async function convertToInteractive(key) {\n",
              "          const element = document.querySelector('#df-895c9e24-2bd5-46b1-89ad-4ce02a7e5420');\n",
              "          const dataTable =\n",
              "            await google.colab.kernel.invokeFunction('convertToInteractive',\n",
              "                                                     [key], {});\n",
              "          if (!dataTable) return;\n",
              "\n",
              "          const docLinkHtml = 'Like what you see? Visit the ' +\n",
              "            '<a target=\"_blank\" href=https://colab.research.google.com/notebooks/data_table.ipynb>data table notebook</a>'\n",
              "            + ' to learn more about interactive tables.';\n",
              "          element.innerHTML = '';\n",
              "          dataTable['output_type'] = 'display_data';\n",
              "          await google.colab.output.renderOutput(dataTable, element);\n",
              "          const docLink = document.createElement('div');\n",
              "          docLink.innerHTML = docLinkHtml;\n",
              "          element.appendChild(docLink);\n",
              "        }\n",
              "      </script>\n",
              "    </div>\n",
              "  </div>\n",
              "  "
            ]
          },
          "metadata": {},
          "execution_count": 81
        }
      ],
      "source": [
        "coal = df.loc[df.Fueltype == \"Hard Coal\"]\n",
        "coal"
      ]
    },
    {
      "cell_type": "markdown",
      "metadata": {
        "id": "h6ZgdprXQBTo"
      },
      "source": [
        "Identify the 5 largest coal power plants. In which countries are they located? When were they built?"
      ]
    },
    {
      "cell_type": "code",
      "execution_count": 82,
      "metadata": {
        "id": "UhgJQ3pUQBTo",
        "outputId": "27a45924-ff7f-45c9-cea6-c46dbbce010a",
        "colab": {
          "base_uri": "https://localhost:8080/",
          "height": 510
        }
      },
      "outputs": [
        {
          "output_type": "execute_result",
          "data": {
            "text/plain": [
              "                          Name   Fueltype Technology Set  Country  \\\n",
              "id                                                                  \n",
              "307                  Kozienice  Hard Coal        NaN  PP   Poland   \n",
              "1396                 Zaporiska  Hard Coal       CCGT  PP  Ukraine   \n",
              "1397  Vuhlehirska Uglegorskaya  Hard Coal       CCGT  PP  Ukraine   \n",
              "1227                     Opole  Hard Coal        NaN  PP   Poland   \n",
              "1407            Krivorozhskaya  Hard Coal       CCGT  PP  Ukraine   \n",
              "\n",
              "         Capacity  Efficiency  DateIn  DateRetrofit  DateOut      lat  \\\n",
              "id                                                                      \n",
              "307   3682.216205         NaN  1972.0           NaN      NaN  51.6647   \n",
              "1396  3318.973044         NaN  1972.0           NaN      NaN  47.5089   \n",
              "1397  3318.973044         NaN  1972.0           NaN      NaN  48.4633   \n",
              "1227  3071.893939         NaN  1993.0           NaN      NaN  50.7518   \n",
              "1407  2599.862218         NaN  1965.0        1992.0      NaN  47.5432   \n",
              "\n",
              "           lon  Duration  Volume_Mm3  DamHeight_m  StorageCapacity_MWh  \\\n",
              "id                                                                       \n",
              "307   21.46670       NaN         0.0          0.0                  0.0   \n",
              "1396  34.62530       NaN         0.0          0.0                  0.0   \n",
              "1397  38.20328       NaN         0.0          0.0                  0.0   \n",
              "1227  17.88200       NaN         0.0          0.0                  0.0   \n",
              "1407  33.65830       NaN         0.0          0.0                  0.0   \n",
              "\n",
              "                                                    EIC  \\\n",
              "id                                                        \n",
              "307            {'19W000000000095U', '19W000000000104I'}   \n",
              "1396                {nan, nan, nan, nan, nan, nan, nan}   \n",
              "1397                {nan, nan, nan, nan, nan, nan, nan}   \n",
              "1227                               {'19W0000000001292'}   \n",
              "1407  {nan, nan, nan, nan, nan, nan, nan, nan, nan, ...   \n",
              "\n",
              "                                              projectID  \n",
              "id                                                       \n",
              "307   {'BEYONDCOAL': {'BEYOND-PL-96'}, 'ENTSOE': {'1...  \n",
              "1396      {'GEO': {'GEO-42988'}, 'GPD': {'WRI1005101'}}  \n",
              "1397      {'GEO': {'GEO-43001'}, 'GPD': {'WRI1005107'}}  \n",
              "1227  {'BEYONDCOAL': {'BEYOND-PL-16'}, 'ENTSOE': {'1...  \n",
              "1407      {'GEO': {'GEO-42989'}, 'GPD': {'WRI1005100'}}  "
            ],
            "text/html": [
              "\n",
              "  <div id=\"df-7e022b80-936c-4eed-ac8f-fe032aff61b2\">\n",
              "    <div class=\"colab-df-container\">\n",
              "      <div>\n",
              "<style scoped>\n",
              "    .dataframe tbody tr th:only-of-type {\n",
              "        vertical-align: middle;\n",
              "    }\n",
              "\n",
              "    .dataframe tbody tr th {\n",
              "        vertical-align: top;\n",
              "    }\n",
              "\n",
              "    .dataframe thead th {\n",
              "        text-align: right;\n",
              "    }\n",
              "</style>\n",
              "<table border=\"1\" class=\"dataframe\">\n",
              "  <thead>\n",
              "    <tr style=\"text-align: right;\">\n",
              "      <th></th>\n",
              "      <th>Name</th>\n",
              "      <th>Fueltype</th>\n",
              "      <th>Technology</th>\n",
              "      <th>Set</th>\n",
              "      <th>Country</th>\n",
              "      <th>Capacity</th>\n",
              "      <th>Efficiency</th>\n",
              "      <th>DateIn</th>\n",
              "      <th>DateRetrofit</th>\n",
              "      <th>DateOut</th>\n",
              "      <th>lat</th>\n",
              "      <th>lon</th>\n",
              "      <th>Duration</th>\n",
              "      <th>Volume_Mm3</th>\n",
              "      <th>DamHeight_m</th>\n",
              "      <th>StorageCapacity_MWh</th>\n",
              "      <th>EIC</th>\n",
              "      <th>projectID</th>\n",
              "    </tr>\n",
              "    <tr>\n",
              "      <th>id</th>\n",
              "      <th></th>\n",
              "      <th></th>\n",
              "      <th></th>\n",
              "      <th></th>\n",
              "      <th></th>\n",
              "      <th></th>\n",
              "      <th></th>\n",
              "      <th></th>\n",
              "      <th></th>\n",
              "      <th></th>\n",
              "      <th></th>\n",
              "      <th></th>\n",
              "      <th></th>\n",
              "      <th></th>\n",
              "      <th></th>\n",
              "      <th></th>\n",
              "      <th></th>\n",
              "      <th></th>\n",
              "    </tr>\n",
              "  </thead>\n",
              "  <tbody>\n",
              "    <tr>\n",
              "      <th>307</th>\n",
              "      <td>Kozienice</td>\n",
              "      <td>Hard Coal</td>\n",
              "      <td>NaN</td>\n",
              "      <td>PP</td>\n",
              "      <td>Poland</td>\n",
              "      <td>3682.216205</td>\n",
              "      <td>NaN</td>\n",
              "      <td>1972.0</td>\n",
              "      <td>NaN</td>\n",
              "      <td>NaN</td>\n",
              "      <td>51.6647</td>\n",
              "      <td>21.46670</td>\n",
              "      <td>NaN</td>\n",
              "      <td>0.0</td>\n",
              "      <td>0.0</td>\n",
              "      <td>0.0</td>\n",
              "      <td>{'19W000000000095U', '19W000000000104I'}</td>\n",
              "      <td>{'BEYONDCOAL': {'BEYOND-PL-96'}, 'ENTSOE': {'1...</td>\n",
              "    </tr>\n",
              "    <tr>\n",
              "      <th>1396</th>\n",
              "      <td>Zaporiska</td>\n",
              "      <td>Hard Coal</td>\n",
              "      <td>CCGT</td>\n",
              "      <td>PP</td>\n",
              "      <td>Ukraine</td>\n",
              "      <td>3318.973044</td>\n",
              "      <td>NaN</td>\n",
              "      <td>1972.0</td>\n",
              "      <td>NaN</td>\n",
              "      <td>NaN</td>\n",
              "      <td>47.5089</td>\n",
              "      <td>34.62530</td>\n",
              "      <td>NaN</td>\n",
              "      <td>0.0</td>\n",
              "      <td>0.0</td>\n",
              "      <td>0.0</td>\n",
              "      <td>{nan, nan, nan, nan, nan, nan, nan}</td>\n",
              "      <td>{'GEO': {'GEO-42988'}, 'GPD': {'WRI1005101'}}</td>\n",
              "    </tr>\n",
              "    <tr>\n",
              "      <th>1397</th>\n",
              "      <td>Vuhlehirska Uglegorskaya</td>\n",
              "      <td>Hard Coal</td>\n",
              "      <td>CCGT</td>\n",
              "      <td>PP</td>\n",
              "      <td>Ukraine</td>\n",
              "      <td>3318.973044</td>\n",
              "      <td>NaN</td>\n",
              "      <td>1972.0</td>\n",
              "      <td>NaN</td>\n",
              "      <td>NaN</td>\n",
              "      <td>48.4633</td>\n",
              "      <td>38.20328</td>\n",
              "      <td>NaN</td>\n",
              "      <td>0.0</td>\n",
              "      <td>0.0</td>\n",
              "      <td>0.0</td>\n",
              "      <td>{nan, nan, nan, nan, nan, nan, nan}</td>\n",
              "      <td>{'GEO': {'GEO-43001'}, 'GPD': {'WRI1005107'}}</td>\n",
              "    </tr>\n",
              "    <tr>\n",
              "      <th>1227</th>\n",
              "      <td>Opole</td>\n",
              "      <td>Hard Coal</td>\n",
              "      <td>NaN</td>\n",
              "      <td>PP</td>\n",
              "      <td>Poland</td>\n",
              "      <td>3071.893939</td>\n",
              "      <td>NaN</td>\n",
              "      <td>1993.0</td>\n",
              "      <td>NaN</td>\n",
              "      <td>NaN</td>\n",
              "      <td>50.7518</td>\n",
              "      <td>17.88200</td>\n",
              "      <td>NaN</td>\n",
              "      <td>0.0</td>\n",
              "      <td>0.0</td>\n",
              "      <td>0.0</td>\n",
              "      <td>{'19W0000000001292'}</td>\n",
              "      <td>{'BEYONDCOAL': {'BEYOND-PL-16'}, 'ENTSOE': {'1...</td>\n",
              "    </tr>\n",
              "    <tr>\n",
              "      <th>1407</th>\n",
              "      <td>Krivorozhskaya</td>\n",
              "      <td>Hard Coal</td>\n",
              "      <td>CCGT</td>\n",
              "      <td>PP</td>\n",
              "      <td>Ukraine</td>\n",
              "      <td>2599.862218</td>\n",
              "      <td>NaN</td>\n",
              "      <td>1965.0</td>\n",
              "      <td>1992.0</td>\n",
              "      <td>NaN</td>\n",
              "      <td>47.5432</td>\n",
              "      <td>33.65830</td>\n",
              "      <td>NaN</td>\n",
              "      <td>0.0</td>\n",
              "      <td>0.0</td>\n",
              "      <td>0.0</td>\n",
              "      <td>{nan, nan, nan, nan, nan, nan, nan, nan, nan, ...</td>\n",
              "      <td>{'GEO': {'GEO-42989'}, 'GPD': {'WRI1005100'}}</td>\n",
              "    </tr>\n",
              "  </tbody>\n",
              "</table>\n",
              "</div>\n",
              "      <button class=\"colab-df-convert\" onclick=\"convertToInteractive('df-7e022b80-936c-4eed-ac8f-fe032aff61b2')\"\n",
              "              title=\"Convert this dataframe to an interactive table.\"\n",
              "              style=\"display:none;\">\n",
              "        \n",
              "  <svg xmlns=\"http://www.w3.org/2000/svg\" height=\"24px\"viewBox=\"0 0 24 24\"\n",
              "       width=\"24px\">\n",
              "    <path d=\"M0 0h24v24H0V0z\" fill=\"none\"/>\n",
              "    <path d=\"M18.56 5.44l.94 2.06.94-2.06 2.06-.94-2.06-.94-.94-2.06-.94 2.06-2.06.94zm-11 1L8.5 8.5l.94-2.06 2.06-.94-2.06-.94L8.5 2.5l-.94 2.06-2.06.94zm10 10l.94 2.06.94-2.06 2.06-.94-2.06-.94-.94-2.06-.94 2.06-2.06.94z\"/><path d=\"M17.41 7.96l-1.37-1.37c-.4-.4-.92-.59-1.43-.59-.52 0-1.04.2-1.43.59L10.3 9.45l-7.72 7.72c-.78.78-.78 2.05 0 2.83L4 21.41c.39.39.9.59 1.41.59.51 0 1.02-.2 1.41-.59l7.78-7.78 2.81-2.81c.8-.78.8-2.07 0-2.86zM5.41 20L4 18.59l7.72-7.72 1.47 1.35L5.41 20z\"/>\n",
              "  </svg>\n",
              "      </button>\n",
              "      \n",
              "  <style>\n",
              "    .colab-df-container {\n",
              "      display:flex;\n",
              "      flex-wrap:wrap;\n",
              "      gap: 12px;\n",
              "    }\n",
              "\n",
              "    .colab-df-convert {\n",
              "      background-color: #E8F0FE;\n",
              "      border: none;\n",
              "      border-radius: 50%;\n",
              "      cursor: pointer;\n",
              "      display: none;\n",
              "      fill: #1967D2;\n",
              "      height: 32px;\n",
              "      padding: 0 0 0 0;\n",
              "      width: 32px;\n",
              "    }\n",
              "\n",
              "    .colab-df-convert:hover {\n",
              "      background-color: #E2EBFA;\n",
              "      box-shadow: 0px 1px 2px rgba(60, 64, 67, 0.3), 0px 1px 3px 1px rgba(60, 64, 67, 0.15);\n",
              "      fill: #174EA6;\n",
              "    }\n",
              "\n",
              "    [theme=dark] .colab-df-convert {\n",
              "      background-color: #3B4455;\n",
              "      fill: #D2E3FC;\n",
              "    }\n",
              "\n",
              "    [theme=dark] .colab-df-convert:hover {\n",
              "      background-color: #434B5C;\n",
              "      box-shadow: 0px 1px 3px 1px rgba(0, 0, 0, 0.15);\n",
              "      filter: drop-shadow(0px 1px 2px rgba(0, 0, 0, 0.3));\n",
              "      fill: #FFFFFF;\n",
              "    }\n",
              "  </style>\n",
              "\n",
              "      <script>\n",
              "        const buttonEl =\n",
              "          document.querySelector('#df-7e022b80-936c-4eed-ac8f-fe032aff61b2 button.colab-df-convert');\n",
              "        buttonEl.style.display =\n",
              "          google.colab.kernel.accessAllowed ? 'block' : 'none';\n",
              "\n",
              "        async function convertToInteractive(key) {\n",
              "          const element = document.querySelector('#df-7e022b80-936c-4eed-ac8f-fe032aff61b2');\n",
              "          const dataTable =\n",
              "            await google.colab.kernel.invokeFunction('convertToInteractive',\n",
              "                                                     [key], {});\n",
              "          if (!dataTable) return;\n",
              "\n",
              "          const docLinkHtml = 'Like what you see? Visit the ' +\n",
              "            '<a target=\"_blank\" href=https://colab.research.google.com/notebooks/data_table.ipynb>data table notebook</a>'\n",
              "            + ' to learn more about interactive tables.';\n",
              "          element.innerHTML = '';\n",
              "          dataTable['output_type'] = 'display_data';\n",
              "          await google.colab.output.renderOutput(dataTable, element);\n",
              "          const docLink = document.createElement('div');\n",
              "          docLink.innerHTML = docLinkHtml;\n",
              "          element.appendChild(docLink);\n",
              "        }\n",
              "      </script>\n",
              "    </div>\n",
              "  </div>\n",
              "  "
            ]
          },
          "metadata": {},
          "execution_count": 82
        }
      ],
      "source": [
        "coal.loc[coal.Capacity.nlargest(5).index]"
      ]
    },
    {
      "cell_type": "markdown",
      "metadata": {
        "id": "EfCKpxRZQBTo"
      },
      "source": [
        "Identify the power plant with the longest \"Name\"."
      ]
    },
    {
      "cell_type": "code",
      "execution_count": 83,
      "metadata": {
        "id": "z6XIyZjsQBTo",
        "outputId": "edcca17e-31e7-40f0-d219-2af9ed9ef431",
        "colab": {
          "base_uri": "https://localhost:8080/"
        }
      },
      "outputs": [
        {
          "output_type": "execute_result",
          "data": {
            "text/plain": [
              "Name                   Kesznyeten Hernadviz Hungary Kesznyeten Hernad...\n",
              "Fueltype                                                           Hydro\n",
              "Technology                                                  Run-Of-River\n",
              "Set                                                                   PP\n",
              "Country                                                          Hungary\n",
              "Capacity                                                             4.4\n",
              "Efficiency                                                           NaN\n",
              "DateIn                                                            1945.0\n",
              "DateRetrofit                                                      1992.0\n",
              "DateOut                                                              NaN\n",
              "lat                                                            47.995972\n",
              "lon                                                            21.033037\n",
              "Duration                                                             NaN\n",
              "Volume_Mm3                                                           0.0\n",
              "DamHeight_m                                                         14.0\n",
              "StorageCapacity_MWh                                                  0.0\n",
              "EIC                                                                {nan}\n",
              "projectID                   {'JRC': {'JRC-H2138'}, 'GEO': {'GEO-42677'}}\n",
              "Name: 1719, dtype: object"
            ]
          },
          "metadata": {},
          "execution_count": 83
        }
      ],
      "source": [
        "i = df.Name.map(lambda x: len(x)).argmax()\n",
        "df.iloc[i]"
      ]
    },
    {
      "cell_type": "markdown",
      "metadata": {
        "id": "dmXWx7alQBTo"
      },
      "source": [
        "Identify the 10 northernmost powerplants. What type of power plants are they?"
      ]
    },
    {
      "cell_type": "code",
      "execution_count": 84,
      "metadata": {
        "id": "OT4o-UPAQBTo",
        "outputId": "8cb83654-fc20-4571-e9ea-3fe710dbdac2",
        "colab": {
          "base_uri": "https://localhost:8080/",
          "height": 684
        }
      },
      "outputs": [
        {
          "output_type": "execute_result",
          "data": {
            "text/plain": [
              "               Name Fueltype Technology    Set Country  Capacity  Efficiency  \\\n",
              "id                                                                             \n",
              "968        Adamselv    Hydro  Reservoir  Store  Norway      50.4         NaN   \n",
              "1988    Nedre Porsa    Hydro  Reservoir  Store  Norway      12.8         NaN   \n",
              "1965  Kvaenangsbotn    Hydro  Reservoir  Store  Norway      55.0         NaN   \n",
              "216        Alta Krv    Hydro  Reservoir  Store  Norway     165.0         NaN   \n",
              "1928       Smavatna    Hydro  Reservoir  Store  Norway      18.8         NaN   \n",
              "2277    Guolasjohka    Hydro  Reservoir  Store  Norway      80.0         NaN   \n",
              "2005      Melkefoss    Hydro  Reservoir  Store  Norway      22.0         NaN   \n",
              "1936       Skogfoss    Hydro  Reservoir  Store  Norway      48.0         NaN   \n",
              "1939        Skibotn    Hydro  Reservoir  Store  Norway      70.0         NaN   \n",
              "969       Bardufoss    Hydro  Reservoir  Store  Norway      43.7         NaN   \n",
              "\n",
              "      DateIn  DateRetrofit  DateOut        lat        lon     Duration  \\\n",
              "id                                                                       \n",
              "968   1973.0        2007.0      NaN  70.409578  26.701878  3348.800000   \n",
              "1988  1959.0        1959.0      NaN  70.401409  23.627292  1876.875000   \n",
              "1965  1965.0        1965.0      NaN  69.720002  22.057216   323.658182   \n",
              "216   1987.0        1987.0      NaN  69.717916  23.795677   389.700000   \n",
              "1928  1970.0        1970.0      NaN  69.684261  22.154025  1577.872340   \n",
              "2277  1971.0        1971.0      NaN  69.456759  20.909812  2811.457500   \n",
              "2005  1978.0        1978.0      NaN  69.399382  29.787300          NaN   \n",
              "1936  1964.0        1964.0      NaN  69.372953  29.694029  2795.833333   \n",
              "1939  1979.0        1979.0      NaN  69.312883  20.342060  2186.080000   \n",
              "969   1953.0        1982.0      NaN  69.043788  18.589681          NaN   \n",
              "\n",
              "      Volume_Mm3  DamHeight_m  StorageCapacity_MWh                   EIC  \\\n",
              "id                                                                         \n",
              "968          0.0          0.0                  0.0                 {nan}   \n",
              "1988         0.0          0.0                  0.0                 {nan}   \n",
              "1965         0.0          0.0                  0.0                 {nan}   \n",
              "216          0.0          0.0                  0.0  {'50WP00000000006N'}   \n",
              "1928         0.0          0.0                  0.0                 {nan}   \n",
              "2277         0.0          0.0                  0.0                 {nan}   \n",
              "2005         0.0          0.0                  0.0                 {nan}   \n",
              "1936         0.0          0.0                  0.0                 {nan}   \n",
              "1939         0.0          0.0                  0.0                 {nan}   \n",
              "969          0.0          0.0                  0.0                 {nan}   \n",
              "\n",
              "                                              projectID  \n",
              "id                                                       \n",
              "968   {'OPSD': {'OEU-3106', 'OEU-3105'}, 'JRC': {'JR...  \n",
              "1988        {'OPSD': {'OEU-4052'}, 'JRC': {'JRC-N297'}}  \n",
              "1965        {'OPSD': {'OEU-3856'}, 'JRC': {'JRC-N226'}}  \n",
              "216   {'ENTSOE': {'50WP00000000006N'}, 'OPSD': {'OEU...  \n",
              "1928        {'OPSD': {'OEU-4353'}, 'JRC': {'JRC-N392'}}  \n",
              "2277        {'OPSD': {'OEU-3532'}, 'JRC': {'JRC-N123'}}  \n",
              "2005        {'OPSD': {'OEU-3972'}, 'JRC': {'JRC-N267'}}  \n",
              "1936        {'OPSD': {'OEU-4320'}, 'JRC': {'JRC-N383'}}  \n",
              "1939        {'OPSD': {'OEU-4301'}, 'JRC': {'JRC-N375'}}  \n",
              "969   {'OPSD': {'OEU-3139', 'OEU-3237'}, 'JRC': {'JR...  "
            ],
            "text/html": [
              "\n",
              "  <div id=\"df-71903e63-9117-45e8-a9e3-d903f52e6fca\">\n",
              "    <div class=\"colab-df-container\">\n",
              "      <div>\n",
              "<style scoped>\n",
              "    .dataframe tbody tr th:only-of-type {\n",
              "        vertical-align: middle;\n",
              "    }\n",
              "\n",
              "    .dataframe tbody tr th {\n",
              "        vertical-align: top;\n",
              "    }\n",
              "\n",
              "    .dataframe thead th {\n",
              "        text-align: right;\n",
              "    }\n",
              "</style>\n",
              "<table border=\"1\" class=\"dataframe\">\n",
              "  <thead>\n",
              "    <tr style=\"text-align: right;\">\n",
              "      <th></th>\n",
              "      <th>Name</th>\n",
              "      <th>Fueltype</th>\n",
              "      <th>Technology</th>\n",
              "      <th>Set</th>\n",
              "      <th>Country</th>\n",
              "      <th>Capacity</th>\n",
              "      <th>Efficiency</th>\n",
              "      <th>DateIn</th>\n",
              "      <th>DateRetrofit</th>\n",
              "      <th>DateOut</th>\n",
              "      <th>lat</th>\n",
              "      <th>lon</th>\n",
              "      <th>Duration</th>\n",
              "      <th>Volume_Mm3</th>\n",
              "      <th>DamHeight_m</th>\n",
              "      <th>StorageCapacity_MWh</th>\n",
              "      <th>EIC</th>\n",
              "      <th>projectID</th>\n",
              "    </tr>\n",
              "    <tr>\n",
              "      <th>id</th>\n",
              "      <th></th>\n",
              "      <th></th>\n",
              "      <th></th>\n",
              "      <th></th>\n",
              "      <th></th>\n",
              "      <th></th>\n",
              "      <th></th>\n",
              "      <th></th>\n",
              "      <th></th>\n",
              "      <th></th>\n",
              "      <th></th>\n",
              "      <th></th>\n",
              "      <th></th>\n",
              "      <th></th>\n",
              "      <th></th>\n",
              "      <th></th>\n",
              "      <th></th>\n",
              "      <th></th>\n",
              "    </tr>\n",
              "  </thead>\n",
              "  <tbody>\n",
              "    <tr>\n",
              "      <th>968</th>\n",
              "      <td>Adamselv</td>\n",
              "      <td>Hydro</td>\n",
              "      <td>Reservoir</td>\n",
              "      <td>Store</td>\n",
              "      <td>Norway</td>\n",
              "      <td>50.4</td>\n",
              "      <td>NaN</td>\n",
              "      <td>1973.0</td>\n",
              "      <td>2007.0</td>\n",
              "      <td>NaN</td>\n",
              "      <td>70.409578</td>\n",
              "      <td>26.701878</td>\n",
              "      <td>3348.800000</td>\n",
              "      <td>0.0</td>\n",
              "      <td>0.0</td>\n",
              "      <td>0.0</td>\n",
              "      <td>{nan}</td>\n",
              "      <td>{'OPSD': {'OEU-3106', 'OEU-3105'}, 'JRC': {'JR...</td>\n",
              "    </tr>\n",
              "    <tr>\n",
              "      <th>1988</th>\n",
              "      <td>Nedre Porsa</td>\n",
              "      <td>Hydro</td>\n",
              "      <td>Reservoir</td>\n",
              "      <td>Store</td>\n",
              "      <td>Norway</td>\n",
              "      <td>12.8</td>\n",
              "      <td>NaN</td>\n",
              "      <td>1959.0</td>\n",
              "      <td>1959.0</td>\n",
              "      <td>NaN</td>\n",
              "      <td>70.401409</td>\n",
              "      <td>23.627292</td>\n",
              "      <td>1876.875000</td>\n",
              "      <td>0.0</td>\n",
              "      <td>0.0</td>\n",
              "      <td>0.0</td>\n",
              "      <td>{nan}</td>\n",
              "      <td>{'OPSD': {'OEU-4052'}, 'JRC': {'JRC-N297'}}</td>\n",
              "    </tr>\n",
              "    <tr>\n",
              "      <th>1965</th>\n",
              "      <td>Kvaenangsbotn</td>\n",
              "      <td>Hydro</td>\n",
              "      <td>Reservoir</td>\n",
              "      <td>Store</td>\n",
              "      <td>Norway</td>\n",
              "      <td>55.0</td>\n",
              "      <td>NaN</td>\n",
              "      <td>1965.0</td>\n",
              "      <td>1965.0</td>\n",
              "      <td>NaN</td>\n",
              "      <td>69.720002</td>\n",
              "      <td>22.057216</td>\n",
              "      <td>323.658182</td>\n",
              "      <td>0.0</td>\n",
              "      <td>0.0</td>\n",
              "      <td>0.0</td>\n",
              "      <td>{nan}</td>\n",
              "      <td>{'OPSD': {'OEU-3856'}, 'JRC': {'JRC-N226'}}</td>\n",
              "    </tr>\n",
              "    <tr>\n",
              "      <th>216</th>\n",
              "      <td>Alta Krv</td>\n",
              "      <td>Hydro</td>\n",
              "      <td>Reservoir</td>\n",
              "      <td>Store</td>\n",
              "      <td>Norway</td>\n",
              "      <td>165.0</td>\n",
              "      <td>NaN</td>\n",
              "      <td>1987.0</td>\n",
              "      <td>1987.0</td>\n",
              "      <td>NaN</td>\n",
              "      <td>69.717916</td>\n",
              "      <td>23.795677</td>\n",
              "      <td>389.700000</td>\n",
              "      <td>0.0</td>\n",
              "      <td>0.0</td>\n",
              "      <td>0.0</td>\n",
              "      <td>{'50WP00000000006N'}</td>\n",
              "      <td>{'ENTSOE': {'50WP00000000006N'}, 'OPSD': {'OEU...</td>\n",
              "    </tr>\n",
              "    <tr>\n",
              "      <th>1928</th>\n",
              "      <td>Smavatna</td>\n",
              "      <td>Hydro</td>\n",
              "      <td>Reservoir</td>\n",
              "      <td>Store</td>\n",
              "      <td>Norway</td>\n",
              "      <td>18.8</td>\n",
              "      <td>NaN</td>\n",
              "      <td>1970.0</td>\n",
              "      <td>1970.0</td>\n",
              "      <td>NaN</td>\n",
              "      <td>69.684261</td>\n",
              "      <td>22.154025</td>\n",
              "      <td>1577.872340</td>\n",
              "      <td>0.0</td>\n",
              "      <td>0.0</td>\n",
              "      <td>0.0</td>\n",
              "      <td>{nan}</td>\n",
              "      <td>{'OPSD': {'OEU-4353'}, 'JRC': {'JRC-N392'}}</td>\n",
              "    </tr>\n",
              "    <tr>\n",
              "      <th>2277</th>\n",
              "      <td>Guolasjohka</td>\n",
              "      <td>Hydro</td>\n",
              "      <td>Reservoir</td>\n",
              "      <td>Store</td>\n",
              "      <td>Norway</td>\n",
              "      <td>80.0</td>\n",
              "      <td>NaN</td>\n",
              "      <td>1971.0</td>\n",
              "      <td>1971.0</td>\n",
              "      <td>NaN</td>\n",
              "      <td>69.456759</td>\n",
              "      <td>20.909812</td>\n",
              "      <td>2811.457500</td>\n",
              "      <td>0.0</td>\n",
              "      <td>0.0</td>\n",
              "      <td>0.0</td>\n",
              "      <td>{nan}</td>\n",
              "      <td>{'OPSD': {'OEU-3532'}, 'JRC': {'JRC-N123'}}</td>\n",
              "    </tr>\n",
              "    <tr>\n",
              "      <th>2005</th>\n",
              "      <td>Melkefoss</td>\n",
              "      <td>Hydro</td>\n",
              "      <td>Reservoir</td>\n",
              "      <td>Store</td>\n",
              "      <td>Norway</td>\n",
              "      <td>22.0</td>\n",
              "      <td>NaN</td>\n",
              "      <td>1978.0</td>\n",
              "      <td>1978.0</td>\n",
              "      <td>NaN</td>\n",
              "      <td>69.399382</td>\n",
              "      <td>29.787300</td>\n",
              "      <td>NaN</td>\n",
              "      <td>0.0</td>\n",
              "      <td>0.0</td>\n",
              "      <td>0.0</td>\n",
              "      <td>{nan}</td>\n",
              "      <td>{'OPSD': {'OEU-3972'}, 'JRC': {'JRC-N267'}}</td>\n",
              "    </tr>\n",
              "    <tr>\n",
              "      <th>1936</th>\n",
              "      <td>Skogfoss</td>\n",
              "      <td>Hydro</td>\n",
              "      <td>Reservoir</td>\n",
              "      <td>Store</td>\n",
              "      <td>Norway</td>\n",
              "      <td>48.0</td>\n",
              "      <td>NaN</td>\n",
              "      <td>1964.0</td>\n",
              "      <td>1964.0</td>\n",
              "      <td>NaN</td>\n",
              "      <td>69.372953</td>\n",
              "      <td>29.694029</td>\n",
              "      <td>2795.833333</td>\n",
              "      <td>0.0</td>\n",
              "      <td>0.0</td>\n",
              "      <td>0.0</td>\n",
              "      <td>{nan}</td>\n",
              "      <td>{'OPSD': {'OEU-4320'}, 'JRC': {'JRC-N383'}}</td>\n",
              "    </tr>\n",
              "    <tr>\n",
              "      <th>1939</th>\n",
              "      <td>Skibotn</td>\n",
              "      <td>Hydro</td>\n",
              "      <td>Reservoir</td>\n",
              "      <td>Store</td>\n",
              "      <td>Norway</td>\n",
              "      <td>70.0</td>\n",
              "      <td>NaN</td>\n",
              "      <td>1979.0</td>\n",
              "      <td>1979.0</td>\n",
              "      <td>NaN</td>\n",
              "      <td>69.312883</td>\n",
              "      <td>20.342060</td>\n",
              "      <td>2186.080000</td>\n",
              "      <td>0.0</td>\n",
              "      <td>0.0</td>\n",
              "      <td>0.0</td>\n",
              "      <td>{nan}</td>\n",
              "      <td>{'OPSD': {'OEU-4301'}, 'JRC': {'JRC-N375'}}</td>\n",
              "    </tr>\n",
              "    <tr>\n",
              "      <th>969</th>\n",
              "      <td>Bardufoss</td>\n",
              "      <td>Hydro</td>\n",
              "      <td>Reservoir</td>\n",
              "      <td>Store</td>\n",
              "      <td>Norway</td>\n",
              "      <td>43.7</td>\n",
              "      <td>NaN</td>\n",
              "      <td>1953.0</td>\n",
              "      <td>1982.0</td>\n",
              "      <td>NaN</td>\n",
              "      <td>69.043788</td>\n",
              "      <td>18.589681</td>\n",
              "      <td>NaN</td>\n",
              "      <td>0.0</td>\n",
              "      <td>0.0</td>\n",
              "      <td>0.0</td>\n",
              "      <td>{nan}</td>\n",
              "      <td>{'OPSD': {'OEU-3139', 'OEU-3237'}, 'JRC': {'JR...</td>\n",
              "    </tr>\n",
              "  </tbody>\n",
              "</table>\n",
              "</div>\n",
              "      <button class=\"colab-df-convert\" onclick=\"convertToInteractive('df-71903e63-9117-45e8-a9e3-d903f52e6fca')\"\n",
              "              title=\"Convert this dataframe to an interactive table.\"\n",
              "              style=\"display:none;\">\n",
              "        \n",
              "  <svg xmlns=\"http://www.w3.org/2000/svg\" height=\"24px\"viewBox=\"0 0 24 24\"\n",
              "       width=\"24px\">\n",
              "    <path d=\"M0 0h24v24H0V0z\" fill=\"none\"/>\n",
              "    <path d=\"M18.56 5.44l.94 2.06.94-2.06 2.06-.94-2.06-.94-.94-2.06-.94 2.06-2.06.94zm-11 1L8.5 8.5l.94-2.06 2.06-.94-2.06-.94L8.5 2.5l-.94 2.06-2.06.94zm10 10l.94 2.06.94-2.06 2.06-.94-2.06-.94-.94-2.06-.94 2.06-2.06.94z\"/><path d=\"M17.41 7.96l-1.37-1.37c-.4-.4-.92-.59-1.43-.59-.52 0-1.04.2-1.43.59L10.3 9.45l-7.72 7.72c-.78.78-.78 2.05 0 2.83L4 21.41c.39.39.9.59 1.41.59.51 0 1.02-.2 1.41-.59l7.78-7.78 2.81-2.81c.8-.78.8-2.07 0-2.86zM5.41 20L4 18.59l7.72-7.72 1.47 1.35L5.41 20z\"/>\n",
              "  </svg>\n",
              "      </button>\n",
              "      \n",
              "  <style>\n",
              "    .colab-df-container {\n",
              "      display:flex;\n",
              "      flex-wrap:wrap;\n",
              "      gap: 12px;\n",
              "    }\n",
              "\n",
              "    .colab-df-convert {\n",
              "      background-color: #E8F0FE;\n",
              "      border: none;\n",
              "      border-radius: 50%;\n",
              "      cursor: pointer;\n",
              "      display: none;\n",
              "      fill: #1967D2;\n",
              "      height: 32px;\n",
              "      padding: 0 0 0 0;\n",
              "      width: 32px;\n",
              "    }\n",
              "\n",
              "    .colab-df-convert:hover {\n",
              "      background-color: #E2EBFA;\n",
              "      box-shadow: 0px 1px 2px rgba(60, 64, 67, 0.3), 0px 1px 3px 1px rgba(60, 64, 67, 0.15);\n",
              "      fill: #174EA6;\n",
              "    }\n",
              "\n",
              "    [theme=dark] .colab-df-convert {\n",
              "      background-color: #3B4455;\n",
              "      fill: #D2E3FC;\n",
              "    }\n",
              "\n",
              "    [theme=dark] .colab-df-convert:hover {\n",
              "      background-color: #434B5C;\n",
              "      box-shadow: 0px 1px 3px 1px rgba(0, 0, 0, 0.15);\n",
              "      filter: drop-shadow(0px 1px 2px rgba(0, 0, 0, 0.3));\n",
              "      fill: #FFFFFF;\n",
              "    }\n",
              "  </style>\n",
              "\n",
              "      <script>\n",
              "        const buttonEl =\n",
              "          document.querySelector('#df-71903e63-9117-45e8-a9e3-d903f52e6fca button.colab-df-convert');\n",
              "        buttonEl.style.display =\n",
              "          google.colab.kernel.accessAllowed ? 'block' : 'none';\n",
              "\n",
              "        async function convertToInteractive(key) {\n",
              "          const element = document.querySelector('#df-71903e63-9117-45e8-a9e3-d903f52e6fca');\n",
              "          const dataTable =\n",
              "            await google.colab.kernel.invokeFunction('convertToInteractive',\n",
              "                                                     [key], {});\n",
              "          if (!dataTable) return;\n",
              "\n",
              "          const docLinkHtml = 'Like what you see? Visit the ' +\n",
              "            '<a target=\"_blank\" href=https://colab.research.google.com/notebooks/data_table.ipynb>data table notebook</a>'\n",
              "            + ' to learn more about interactive tables.';\n",
              "          element.innerHTML = '';\n",
              "          dataTable['output_type'] = 'display_data';\n",
              "          await google.colab.output.renderOutput(dataTable, element);\n",
              "          const docLink = document.createElement('div');\n",
              "          docLink.innerHTML = docLinkHtml;\n",
              "          element.appendChild(docLink);\n",
              "        }\n",
              "      </script>\n",
              "    </div>\n",
              "  </div>\n",
              "  "
            ]
          },
          "metadata": {},
          "execution_count": 84
        }
      ],
      "source": [
        "index = df.lat.nlargest(10).index\n",
        "df.loc[index]"
      ]
    },
    {
      "cell_type": "markdown",
      "metadata": {
        "id": "I8CLJBD7QBTo"
      },
      "source": [
        "What is the average \"DateIn\" of each \"Fueltype\"? Which type of power plants is the oldest on average?"
      ]
    },
    {
      "cell_type": "code",
      "execution_count": 85,
      "metadata": {
        "id": "_8Tugt_yQBTo",
        "outputId": "80c0d58f-42d7-4bd3-e2e1-382e480a9d89",
        "colab": {
          "base_uri": "https://localhost:8080/"
        }
      },
      "outputs": [
        {
          "output_type": "execute_result",
          "data": {
            "text/plain": [
              "Fueltype\n",
              "Hydro          1970.613256\n",
              "Hard Coal      1976.884211\n",
              "Lignite        1978.326087\n",
              "Geothermal     1981.000000\n",
              "Nuclear        1983.730159\n",
              "Oil            1986.622951\n",
              "Natural Gas    1996.582938\n",
              "Waste          1996.951807\n",
              "Bioenergy      2000.538462\n",
              "Other          2000.680851\n",
              "Wind           2006.238532\n",
              "Solar          2010.750000\n",
              "Name: DateIn, dtype: float64"
            ]
          },
          "metadata": {},
          "execution_count": 85
        }
      ],
      "source": [
        "df.groupby(\"Fueltype\").DateIn.mean().sort_values()"
      ]
    },
    {
      "cell_type": "markdown",
      "metadata": {
        "id": "DQdv1vsfQBTo"
      },
      "source": [
        "Plot a histogram of power plant capacities with bins of length 100 MW between 0 and 4000 MW. What do you observe?"
      ]
    },
    {
      "cell_type": "code",
      "execution_count": 86,
      "metadata": {
        "id": "_JBj2zfXQBTo",
        "outputId": "9ea6e8bd-1d35-4aeb-e892-d77eec1cb6c1",
        "colab": {
          "base_uri": "https://localhost:8080/",
          "height": 283
        }
      },
      "outputs": [
        {
          "output_type": "execute_result",
          "data": {
            "text/plain": [
              "<matplotlib.axes._subplots.AxesSubplot at 0x7f503b4207d0>"
            ]
          },
          "metadata": {},
          "execution_count": 86
        },
        {
          "output_type": "display_data",
          "data": {
            "text/plain": [
              "<Figure size 432x288 with 1 Axes>"
            ],
            "image/png": "[encoded data removed]"
          },
          "metadata": {
            "needs_background": "light"
          }
        }
      ],
      "source": [
        "df.Capacity.plot.hist(bins=np.arange(0,4001,100))"
      ]
    },
    {
      "cell_type": "markdown",
      "metadata": {
        "id": "hUgADCheQBTo"
      },
      "source": [
        "How many power plants of each fuel type are there in each country? Display the results in a DataFrame with countries as index and fuel type as columns. Fill missing values with the value zero. Convert all values to integers.\n",
        "\n",
        "> Browse Google or the pandas documentation to find the right aggregation function to count values."
      ]
    },
    {
      "cell_type": "code",
      "execution_count": 87,
      "metadata": {
        "id": "JaoemVb0QBTo",
        "outputId": "5cda6ac0-a3f4-4db9-9e7a-f9fb548c358f",
        "colab": {
          "base_uri": "https://localhost:8080/",
          "height": 1000
        }
      },
      "outputs": [
        {
          "output_type": "execute_result",
          "data": {
            "text/plain": [
              "Fueltype                Bioenergy  Geothermal  Hard Coal  Hydro  Lignite  \\\n",
              "Country                                                                    \n",
              "Albania                         0           0          0      9        0   \n",
              "Austria                         0           0          2    165        0   \n",
              "Belgium                         2           0          1     13        0   \n",
              "Bosnia and Herzegovina          0           0          0     15        0   \n",
              "Bulgaria                        0           0          2     30        8   \n",
              "Croatia                         0           0          1     21        0   \n",
              "Czech Republic                  0           0          9     14       24   \n",
              "Denmark                         3           0          7      0        0   \n",
              "Estonia                         0           0          0      0        0   \n",
              "Finland                        39           0          9    104        3   \n",
              "France                          0           0          4    150        0   \n",
              "Germany                        41           0         53    706       29   \n",
              "Greece                          0           0          0     20        6   \n",
              "Hungary                         0           0          1      4        1   \n",
              "Ireland                         0           0          1      6        2   \n",
              "Italy                           2           1         11    286        0   \n",
              "Latvia                          0           0          0      3        0   \n",
              "Lithuania                       0           0          0      2        0   \n",
              "Luxembourg                      0           0          0      2        0   \n",
              "Montenegro                      0           0          0      4        1   \n",
              "Netherlands                     0           0          6      0        0   \n",
              "Norway                          0           0          0    377        0   \n",
              "Poland                          0           0         39     18        4   \n",
              "Portugal                        0           0          2     40        0   \n",
              "Romania                         0           0          3    119        5   \n",
              "Serbia                          0           0          0     12        6   \n",
              "Slovakia                        0           0          2     30        3   \n",
              "Slovenia                        0           0          1     27        2   \n",
              "Spain                           1           0         16    357        3   \n",
              "Sweden                          2           0          1    145        0   \n",
              "Switzerland                     0           0          0    463        0   \n",
              "Ukraine                         0           0         13      8        0   \n",
              "United Kingdom                  7           0          9    100        0   \n",
              "\n",
              "Fueltype                Natural Gas  Nuclear  Oil  Other  Solar  Waste  Wind  \n",
              "Country                                                                       \n",
              "Albania                           0        0    1      0      0      0     0  \n",
              "Austria                          10        0    0      0      0      0     1  \n",
              "Belgium                          17        2    9      0      0      8     8  \n",
              "Bosnia and Herzegovina            0        0    0      0      0      0     0  \n",
              "Bulgaria                          0        1    0      0      0      0     0  \n",
              "Croatia                           0        0    0      0      0      0     0  \n",
              "Czech Republic                    1        2    0      0      0      0     0  \n",
              "Denmark                           3        0    1      2      0      0     3  \n",
              "Estonia                           0        0    1      0      0      0     4  \n",
              "Finland                          16        2   17      2      0      0    11  \n",
              "France                           11       19    7      2      0      0     0  \n",
              "Germany                         175        7   29     26      0     63    11  \n",
              "Greece                            9        0    3      0      0      1     0  \n",
              "Hungary                           0        1    0      0      3      0     0  \n",
              "Ireland                           7        0    4      0      0      0     1  \n",
              "Italy                            80        0    2      1     11      0     1  \n",
              "Latvia                            0        0    0      0      0      0     0  \n",
              "Lithuania                         0        0    0      0      0      0     0  \n",
              "Luxembourg                        0        0    0      0      0      0     0  \n",
              "Montenegro                        0        0    0      0      0      0     0  \n",
              "Netherlands                      29        1    1      3      0      0     6  \n",
              "Norway                            0        0    0      0      0      0     0  \n",
              "Poland                            2        0    1      0      0      0     3  \n",
              "Portugal                          4        0    0      0      0      0     0  \n",
              "Romania                           0        1    0      0      0      0     0  \n",
              "Serbia                            0        0    0      0      0      0     0  \n",
              "Slovakia                          2        2    0      0      0      0     0  \n",
              "Slovenia                          2        1    0      0      0      0     0  \n",
              "Spain                            53        5   14     15    189     15   291  \n",
              "Sweden                            4        3    3      0      0      0     3  \n",
              "Switzerland                       0        4    0      0      0      0     0  \n",
              "Ukraine                           0        4    0      0      0      0     0  \n",
              "United Kingdom                   63        8    1      1      0     13    29  "
            ],
            "text/html": [
              "\n",
              "  <div id=\"df-603aa8f3-a67f-4292-9c3c-90480653096f\">\n",
              "    <div class=\"colab-df-container\">\n",
              "      <div>\n",
              "<style scoped>\n",
              "    .dataframe tbody tr th:only-of-type {\n",
              "        vertical-align: middle;\n",
              "    }\n",
              "\n",
              "    .dataframe tbody tr th {\n",
              "        vertical-align: top;\n",
              "    }\n",
              "\n",
              "    .dataframe thead th {\n",
              "        text-align: right;\n",
              "    }\n",
              "</style>\n",
              "<table border=\"1\" class=\"dataframe\">\n",
              "  <thead>\n",
              "    <tr style=\"text-align: right;\">\n",
              "      <th>Fueltype</th>\n",
              "      <th>Bioenergy</th>\n",
              "      <th>Geothermal</th>\n",
              "      <th>Hard Coal</th>\n",
              "      <th>Hydro</th>\n",
              "      <th>Lignite</th>\n",
              "      <th>Natural Gas</th>\n",
              "      <th>Nuclear</th>\n",
              "      <th>Oil</th>\n",
              "      <th>Other</th>\n",
              "      <th>Solar</th>\n",
              "      <th>Waste</th>\n",
              "      <th>Wind</th>\n",
              "    </tr>\n",
              "    <tr>\n",
              "      <th>Country</th>\n",
              "      <th></th>\n",
              "      <th></th>\n",
              "      <th></th>\n",
              "      <th></th>\n",
              "      <th></th>\n",
              "      <th></th>\n",
              "      <th></th>\n",
              "      <th></th>\n",
              "      <th></th>\n",
              "      <th></th>\n",
              "      <th></th>\n",
              "      <th></th>\n",
              "    </tr>\n",
              "  </thead>\n",
              "  <tbody>\n",
              "    <tr>\n",
              "      <th>Albania</th>\n",
              "      <td>0</td>\n",
              "      <td>0</td>\n",
              "      <td>0</td>\n",
              "      <td>9</td>\n",
              "      <td>0</td>\n",
              "      <td>0</td>\n",
              "      <td>0</td>\n",
              "      <td>1</td>\n",
              "      <td>0</td>\n",
              "      <td>0</td>\n",
              "      <td>0</td>\n",
              "      <td>0</td>\n",
              "    </tr>\n",
              "    <tr>\n",
              "      <th>Austria</th>\n",
              "      <td>0</td>\n",
              "      <td>0</td>\n",
              "      <td>2</td>\n",
              "      <td>165</td>\n",
              "      <td>0</td>\n",
              "      <td>10</td>\n",
              "      <td>0</td>\n",
              "      <td>0</td>\n",
              "      <td>0</td>\n",
              "      <td>0</td>\n",
              "      <td>0</td>\n",
              "      <td>1</td>\n",
              "    </tr>\n",
              "    <tr>\n",
              "      <th>Belgium</th>\n",
              "      <td>2</td>\n",
              "      <td>0</td>\n",
              "      <td>1</td>\n",
              "      <td>13</td>\n",
              "      <td>0</td>\n",
              "      <td>17</td>\n",
              "      <td>2</td>\n",
              "      <td>9</td>\n",
              "      <td>0</td>\n",
              "      <td>0</td>\n",
              "      <td>8</td>\n",
              "      <td>8</td>\n",
              "    </tr>\n",
              "    <tr>\n",
              "      <th>Bosnia and Herzegovina</th>\n",
              "      <td>0</td>\n",
              "      <td>0</td>\n",
              "      <td>0</td>\n",
              "      <td>15</td>\n",
              "      <td>0</td>\n",
              "      <td>0</td>\n",
              "      <td>0</td>\n",
              "      <td>0</td>\n",
              "      <td>0</td>\n",
              "      <td>0</td>\n",
              "      <td>0</td>\n",
              "      <td>0</td>\n",
              "    </tr>\n",
              "    <tr>\n",
              "      <th>Bulgaria</th>\n",
              "      <td>0</td>\n",
              "      <td>0</td>\n",
              "      <td>2</td>\n",
              "      <td>30</td>\n",
              "      <td>8</td>\n",
              "      <td>0</td>\n",
              "      <td>1</td>\n",
              "      <td>0</td>\n",
              "      <td>0</td>\n",
              "      <td>0</td>\n",
              "      <td>0</td>\n",
              "      <td>0</td>\n",
              "    </tr>\n",
              "    <tr>\n",
              "      <th>Croatia</th>\n",
              "      <td>0</td>\n",
              "      <td>0</td>\n",
              "      <td>1</td>\n",
              "      <td>21</td>\n",
              "      <td>0</td>\n",
              "      <td>0</td>\n",
              "      <td>0</td>\n",
              "      <td>0</td>\n",
              "      <td>0</td>\n",
              "      <td>0</td>\n",
              "      <td>0</td>\n",
              "      <td>0</td>\n",
              "    </tr>\n",
              "    <tr>\n",
              "      <th>Czech Republic</th>\n",
              "      <td>0</td>\n",
              "      <td>0</td>\n",
              "      <td>9</td>\n",
              "      <td>14</td>\n",
              "      <td>24</td>\n",
              "      <td>1</td>\n",
              "      <td>2</td>\n",
              "      <td>0</td>\n",
              "      <td>0</td>\n",
              "      <td>0</td>\n",
              "      <td>0</td>\n",
              "      <td>0</td>\n",
              "    </tr>\n",
              "    <tr>\n",
              "      <th>Denmark</th>\n",
              "      <td>3</td>\n",
              "      <td>0</td>\n",
              "      <td>7</td>\n",
              "      <td>0</td>\n",
              "      <td>0</td>\n",
              "      <td>3</td>\n",
              "      <td>0</td>\n",
              "      <td>1</td>\n",
              "      <td>2</td>\n",
              "      <td>0</td>\n",
              "      <td>0</td>\n",
              "      <td>3</td>\n",
              "    </tr>\n",
              "    <tr>\n",
              "      <th>Estonia</th>\n",
              "      <td>0</td>\n",
              "      <td>0</td>\n",
              "      <td>0</td>\n",
              "      <td>0</td>\n",
              "      <td>0</td>\n",
              "      <td>0</td>\n",
              "      <td>0</td>\n",
              "      <td>1</td>\n",
              "      <td>0</td>\n",
              "      <td>0</td>\n",
              "      <td>0</td>\n",
              "      <td>4</td>\n",
              "    </tr>\n",
              "    <tr>\n",
              "      <th>Finland</th>\n",
              "      <td>39</td>\n",
              "      <td>0</td>\n",
              "      <td>9</td>\n",
              "      <td>104</td>\n",
              "      <td>3</td>\n",
              "      <td>16</td>\n",
              "      <td>2</td>\n",
              "      <td>17</td>\n",
              "      <td>2</td>\n",
              "      <td>0</td>\n",
              "      <td>0</td>\n",
              "      <td>11</td>\n",
              "    </tr>\n",
              "    <tr>\n",
              "      <th>France</th>\n",
              "      <td>0</td>\n",
              "      <td>0</td>\n",
              "      <td>4</td>\n",
              "      <td>150</td>\n",
              "      <td>0</td>\n",
              "      <td>11</td>\n",
              "      <td>19</td>\n",
              "      <td>7</td>\n",
              "      <td>2</td>\n",
              "      <td>0</td>\n",
              "      <td>0</td>\n",
              "      <td>0</td>\n",
              "    </tr>\n",
              "    <tr>\n",
              "      <th>Germany</th>\n",
              "      <td>41</td>\n",
              "      <td>0</td>\n",
              "      <td>53</td>\n",
              "      <td>706</td>\n",
              "      <td>29</td>\n",
              "      <td>175</td>\n",
              "      <td>7</td>\n",
              "      <td>29</td>\n",
              "      <td>26</td>\n",
              "      <td>0</td>\n",
              "      <td>63</td>\n",
              "      <td>11</td>\n",
              "    </tr>\n",
              "    <tr>\n",
              "      <th>Greece</th>\n",
              "      <td>0</td>\n",
              "      <td>0</td>\n",
              "      <td>0</td>\n",
              "      <td>20</td>\n",
              "      <td>6</td>\n",
              "      <td>9</td>\n",
              "      <td>0</td>\n",
              "      <td>3</td>\n",
              "      <td>0</td>\n",
              "      <td>0</td>\n",
              "      <td>1</td>\n",
              "      <td>0</td>\n",
              "    </tr>\n",
              "    <tr>\n",
              "      <th>Hungary</th>\n",
              "      <td>0</td>\n",
              "      <td>0</td>\n",
              "      <td>1</td>\n",
              "      <td>4</td>\n",
              "      <td>1</td>\n",
              "      <td>0</td>\n",
              "      <td>1</td>\n",
              "      <td>0</td>\n",
              "      <td>0</td>\n",
              "      <td>3</td>\n",
              "      <td>0</td>\n",
              "      <td>0</td>\n",
              "    </tr>\n",
              "    <tr>\n",
              "      <th>Ireland</th>\n",
              "      <td>0</td>\n",
              "      <td>0</td>\n",
              "      <td>1</td>\n",
              "      <td>6</td>\n",
              "      <td>2</td>\n",
              "      <td>7</td>\n",
              "      <td>0</td>\n",
              "      <td>4</td>\n",
              "      <td>0</td>\n",
              "      <td>0</td>\n",
              "      <td>0</td>\n",
              "      <td>1</td>\n",
              "    </tr>\n",
              "    <tr>\n",
              "      <th>Italy</th>\n",
              "      <td>2</td>\n",
              "      <td>1</td>\n",
              "      <td>11</td>\n",
              "      <td>286</td>\n",
              "      <td>0</td>\n",
              "      <td>80</td>\n",
              "      <td>0</td>\n",
              "      <td>2</td>\n",
              "      <td>1</td>\n",
              "      <td>11</td>\n",
              "      <td>0</td>\n",
              "      <td>1</td>\n",
              "    </tr>\n",
              "    <tr>\n",
              "      <th>Latvia</th>\n",
              "      <td>0</td>\n",
              "      <td>0</td>\n",
              "      <td>0</td>\n",
              "      <td>3</td>\n",
              "      <td>0</td>\n",
              "      <td>0</td>\n",
              "      <td>0</td>\n",
              "      <td>0</td>\n",
              "      <td>0</td>\n",
              "      <td>0</td>\n",
              "      <td>0</td>\n",
              "      <td>0</td>\n",
              "    </tr>\n",
              "    <tr>\n",
              "      <th>Lithuania</th>\n",
              "      <td>0</td>\n",
              "      <td>0</td>\n",
              "      <td>0</td>\n",
              "      <td>2</td>\n",
              "      <td>0</td>\n",
              "      <td>0</td>\n",
              "      <td>0</td>\n",
              "      <td>0</td>\n",
              "      <td>0</td>\n",
              "      <td>0</td>\n",
              "      <td>0</td>\n",
              "      <td>0</td>\n",
              "    </tr>\n",
              "    <tr>\n",
              "      <th>Luxembourg</th>\n",
              "      <td>0</td>\n",
              "      <td>0</td>\n",
              "      <td>0</td>\n",
              "      <td>2</td>\n",
              "      <td>0</td>\n",
              "      <td>0</td>\n",
              "      <td>0</td>\n",
              "      <td>0</td>\n",
              "      <td>0</td>\n",
              "      <td>0</td>\n",
              "      <td>0</td>\n",
              "      <td>0</td>\n",
              "    </tr>\n",
              "    <tr>\n",
              "      <th>Montenegro</th>\n",
              "      <td>0</td>\n",
              "      <td>0</td>\n",
              "      <td>0</td>\n",
              "      <td>4</td>\n",
              "      <td>1</td>\n",
              "      <td>0</td>\n",
              "      <td>0</td>\n",
              "      <td>0</td>\n",
              "      <td>0</td>\n",
              "      <td>0</td>\n",
              "      <td>0</td>\n",
              "      <td>0</td>\n",
              "    </tr>\n",
              "    <tr>\n",
              "      <th>Netherlands</th>\n",
              "      <td>0</td>\n",
              "      <td>0</td>\n",
              "      <td>6</td>\n",
              "      <td>0</td>\n",
              "      <td>0</td>\n",
              "      <td>29</td>\n",
              "      <td>1</td>\n",
              "      <td>1</td>\n",
              "      <td>3</td>\n",
              "      <td>0</td>\n",
              "      <td>0</td>\n",
              "      <td>6</td>\n",
              "    </tr>\n",
              "    <tr>\n",
              "      <th>Norway</th>\n",
              "      <td>0</td>\n",
              "      <td>0</td>\n",
              "      <td>0</td>\n",
              "      <td>377</td>\n",
              "      <td>0</td>\n",
              "      <td>0</td>\n",
              "      <td>0</td>\n",
              "      <td>0</td>\n",
              "      <td>0</td>\n",
              "      <td>0</td>\n",
              "      <td>0</td>\n",
              "      <td>0</td>\n",
              "    </tr>\n",
              "    <tr>\n",
              "      <th>Poland</th>\n",
              "      <td>0</td>\n",
              "      <td>0</td>\n",
              "      <td>39</td>\n",
              "      <td>18</td>\n",
              "      <td>4</td>\n",
              "      <td>2</td>\n",
              "      <td>0</td>\n",
              "      <td>1</td>\n",
              "      <td>0</td>\n",
              "      <td>0</td>\n",
              "      <td>0</td>\n",
              "      <td>3</td>\n",
              "    </tr>\n",
              "    <tr>\n",
              "      <th>Portugal</th>\n",
              "      <td>0</td>\n",
              "      <td>0</td>\n",
              "      <td>2</td>\n",
              "      <td>40</td>\n",
              "      <td>0</td>\n",
              "      <td>4</td>\n",
              "      <td>0</td>\n",
              "      <td>0</td>\n",
              "      <td>0</td>\n",
              "      <td>0</td>\n",
              "      <td>0</td>\n",
              "      <td>0</td>\n",
              "    </tr>\n",
              "    <tr>\n",
              "      <th>Romania</th>\n",
              "      <td>0</td>\n",
              "      <td>0</td>\n",
              "      <td>3</td>\n",
              "      <td>119</td>\n",
              "      <td>5</td>\n",
              "      <td>0</td>\n",
              "      <td>1</td>\n",
              "      <td>0</td>\n",
              "      <td>0</td>\n",
              "      <td>0</td>\n",
              "      <td>0</td>\n",
              "      <td>0</td>\n",
              "    </tr>\n",
              "    <tr>\n",
              "      <th>Serbia</th>\n",
              "      <td>0</td>\n",
              "      <td>0</td>\n",
              "      <td>0</td>\n",
              "      <td>12</td>\n",
              "      <td>6</td>\n",
              "      <td>0</td>\n",
              "      <td>0</td>\n",
              "      <td>0</td>\n",
              "      <td>0</td>\n",
              "      <td>0</td>\n",
              "      <td>0</td>\n",
              "      <td>0</td>\n",
              "    </tr>\n",
              "    <tr>\n",
              "      <th>Slovakia</th>\n",
              "      <td>0</td>\n",
              "      <td>0</td>\n",
              "      <td>2</td>\n",
              "      <td>30</td>\n",
              "      <td>3</td>\n",
              "      <td>2</td>\n",
              "      <td>2</td>\n",
              "      <td>0</td>\n",
              "      <td>0</td>\n",
              "      <td>0</td>\n",
              "      <td>0</td>\n",
              "      <td>0</td>\n",
              "    </tr>\n",
              "    <tr>\n",
              "      <th>Slovenia</th>\n",
              "      <td>0</td>\n",
              "      <td>0</td>\n",
              "      <td>1</td>\n",
              "      <td>27</td>\n",
              "      <td>2</td>\n",
              "      <td>2</td>\n",
              "      <td>1</td>\n",
              "      <td>0</td>\n",
              "      <td>0</td>\n",
              "      <td>0</td>\n",
              "      <td>0</td>\n",
              "      <td>0</td>\n",
              "    </tr>\n",
              "    <tr>\n",
              "      <th>Spain</th>\n",
              "      <td>1</td>\n",
              "      <td>0</td>\n",
              "      <td>16</td>\n",
              "      <td>357</td>\n",
              "      <td>3</td>\n",
              "      <td>53</td>\n",
              "      <td>5</td>\n",
              "      <td>14</td>\n",
              "      <td>15</td>\n",
              "      <td>189</td>\n",
              "      <td>15</td>\n",
              "      <td>291</td>\n",
              "    </tr>\n",
              "    <tr>\n",
              "      <th>Sweden</th>\n",
              "      <td>2</td>\n",
              "      <td>0</td>\n",
              "      <td>1</td>\n",
              "      <td>145</td>\n",
              "      <td>0</td>\n",
              "      <td>4</td>\n",
              "      <td>3</td>\n",
              "      <td>3</td>\n",
              "      <td>0</td>\n",
              "      <td>0</td>\n",
              "      <td>0</td>\n",
              "      <td>3</td>\n",
              "    </tr>\n",
              "    <tr>\n",
              "      <th>Switzerland</th>\n",
              "      <td>0</td>\n",
              "      <td>0</td>\n",
              "      <td>0</td>\n",
              "      <td>463</td>\n",
              "      <td>0</td>\n",
              "      <td>0</td>\n",
              "      <td>4</td>\n",
              "      <td>0</td>\n",
              "      <td>0</td>\n",
              "      <td>0</td>\n",
              "      <td>0</td>\n",
              "      <td>0</td>\n",
              "    </tr>\n",
              "    <tr>\n",
              "      <th>Ukraine</th>\n",
              "      <td>0</td>\n",
              "      <td>0</td>\n",
              "      <td>13</td>\n",
              "      <td>8</td>\n",
              "      <td>0</td>\n",
              "      <td>0</td>\n",
              "      <td>4</td>\n",
              "      <td>0</td>\n",
              "      <td>0</td>\n",
              "      <td>0</td>\n",
              "      <td>0</td>\n",
              "      <td>0</td>\n",
              "    </tr>\n",
              "    <tr>\n",
              "      <th>United Kingdom</th>\n",
              "      <td>7</td>\n",
              "      <td>0</td>\n",
              "      <td>9</td>\n",
              "      <td>100</td>\n",
              "      <td>0</td>\n",
              "      <td>63</td>\n",
              "      <td>8</td>\n",
              "      <td>1</td>\n",
              "      <td>1</td>\n",
              "      <td>0</td>\n",
              "      <td>13</td>\n",
              "      <td>29</td>\n",
              "    </tr>\n",
              "  </tbody>\n",
              "</table>\n",
              "</div>\n",
              "      <button class=\"colab-df-convert\" onclick=\"convertToInteractive('df-603aa8f3-a67f-4292-9c3c-90480653096f')\"\n",
              "              title=\"Convert this dataframe to an interactive table.\"\n",
              "              style=\"display:none;\">\n",
              "        \n",
              "  <svg xmlns=\"http://www.w3.org/2000/svg\" height=\"24px\"viewBox=\"0 0 24 24\"\n",
              "       width=\"24px\">\n",
              "    <path d=\"M0 0h24v24H0V0z\" fill=\"none\"/>\n",
              "    <path d=\"M18.56 5.44l.94 2.06.94-2.06 2.06-.94-2.06-.94-.94-2.06-.94 2.06-2.06.94zm-11 1L8.5 8.5l.94-2.06 2.06-.94-2.06-.94L8.5 2.5l-.94 2.06-2.06.94zm10 10l.94 2.06.94-2.06 2.06-.94-2.06-.94-.94-2.06-.94 2.06-2.06.94z\"/><path d=\"M17.41 7.96l-1.37-1.37c-.4-.4-.92-.59-1.43-.59-.52 0-1.04.2-1.43.59L10.3 9.45l-7.72 7.72c-.78.78-.78 2.05 0 2.83L4 21.41c.39.39.9.59 1.41.59.51 0 1.02-.2 1.41-.59l7.78-7.78 2.81-2.81c.8-.78.8-2.07 0-2.86zM5.41 20L4 18.59l7.72-7.72 1.47 1.35L5.41 20z\"/>\n",
              "  </svg>\n",
              "      </button>\n",
              "      \n",
              "  <style>\n",
              "    .colab-df-container {\n",
              "      display:flex;\n",
              "      flex-wrap:wrap;\n",
              "      gap: 12px;\n",
              "    }\n",
              "\n",
              "    .colab-df-convert {\n",
              "      background-color: #E8F0FE;\n",
              "      border: none;\n",
              "      border-radius: 50%;\n",
              "      cursor: pointer;\n",
              "      display: none;\n",
              "      fill: #1967D2;\n",
              "      height: 32px;\n",
              "      padding: 0 0 0 0;\n",
              "      width: 32px;\n",
              "    }\n",
              "\n",
              "    .colab-df-convert:hover {\n",
              "      background-color: #E2EBFA;\n",
              "      box-shadow: 0px 1px 2px rgba(60, 64, 67, 0.3), 0px 1px 3px 1px rgba(60, 64, 67, 0.15);\n",
              "      fill: #174EA6;\n",
              "    }\n",
              "\n",
              "    [theme=dark] .colab-df-convert {\n",
              "      background-color: #3B4455;\n",
              "      fill: #D2E3FC;\n",
              "    }\n",
              "\n",
              "    [theme=dark] .colab-df-convert:hover {\n",
              "      background-color: #434B5C;\n",
              "      box-shadow: 0px 1px 3px 1px rgba(0, 0, 0, 0.15);\n",
              "      filter: drop-shadow(0px 1px 2px rgba(0, 0, 0, 0.3));\n",
              "      fill: #FFFFFF;\n",
              "    }\n",
              "  </style>\n",
              "\n",
              "      <script>\n",
              "        const buttonEl =\n",
              "          document.querySelector('#df-603aa8f3-a67f-4292-9c3c-90480653096f button.colab-df-convert');\n",
              "        buttonEl.style.display =\n",
              "          google.colab.kernel.accessAllowed ? 'block' : 'none';\n",
              "\n",
              "        async function convertToInteractive(key) {\n",
              "          const element = document.querySelector('#df-603aa8f3-a67f-4292-9c3c-90480653096f');\n",
              "          const dataTable =\n",
              "            await google.colab.kernel.invokeFunction('convertToInteractive',\n",
              "                                                     [key], {});\n",
              "          if (!dataTable) return;\n",
              "\n",
              "          const docLinkHtml = 'Like what you see? Visit the ' +\n",
              "            '<a target=\"_blank\" href=https://colab.research.google.com/notebooks/data_table.ipynb>data table notebook</a>'\n",
              "            + ' to learn more about interactive tables.';\n",
              "          element.innerHTML = '';\n",
              "          dataTable['output_type'] = 'display_data';\n",
              "          await google.colab.output.renderOutput(dataTable, element);\n",
              "          const docLink = document.createElement('div');\n",
              "          docLink.innerHTML = docLinkHtml;\n",
              "          element.appendChild(docLink);\n",
              "        }\n",
              "      </script>\n",
              "    </div>\n",
              "  </div>\n",
              "  "
            ]
          },
          "metadata": {},
          "execution_count": 87
        }
      ],
      "source": [
        "df.groupby([\"Country\", \"Fueltype\"]).size().unstack().fillna(0.).astype(int)"
      ]
    },
    {
      "cell_type": "markdown",
      "metadata": {
        "id": "HPi8W-cOQBTo"
      },
      "source": [
        "### Time Series Analysis"
      ]
    },
    {
      "cell_type": "markdown",
      "metadata": {
        "id": "keLDTihsQBTp"
      },
      "source": [
        "Read in the time series from the second lecture into a pandas DataFrame.\n",
        "\n",
        "The file is available at https://raw.githubusercontent.com/fneum/data-science-for-esm/main/data-science-for-esm/time-series-lecture-2.csv. and includes hourly time series for Germany in 2015 for:\n",
        "    \n",
        "1. electricity demand from [OPSD](https://open-power-system-data.org/) in GW\n",
        "2. onshore wind capacity factors from [renewables.ninja](https://www.renewables.ninja/) in per-unit of installed capacity\n",
        "3. offshore wind capacity factors from [renewables.ninja](https://www.renewables.ninja/) in per-unit of installed capacity\n",
        "4. solar PV capacity factors from [renewables.ninja](https://www.renewables.ninja/) in per-unit of installed capacity\n",
        "5. electricity day-ahead spot market prices in €/MWh from EPEX Spot zone DE/AT/LU retrieved via [SMARD platform](https://www.smard.de/home)\n",
        "\n",
        "Use the function `pd.read_csv` with the keyword arguments `index_col=` and `parse_dates=` to ensure the\n",
        "time stamps are treated as `pd.DatetimeIndex`."
      ]
    },
    {
      "cell_type": "code",
      "execution_count": 88,
      "metadata": {
        "id": "vmRqZ8nvQBTp"
      },
      "outputs": [],
      "source": [
        "# your code here"
      ]
    },
    {
      "cell_type": "markdown",
      "metadata": {
        "id": "ULI_bI2QQBTp"
      },
      "source": [
        "The start of the dataframe should look like this:"
      ]
    },
    {
      "cell_type": "markdown",
      "metadata": {
        "id": "SodOTzAzQBTp"
      },
      "source": [
        "|                     |   load |   onwind |   offwind |   solar |   prices |\n",
        "|:--------------------|-------:|---------:|----------:|--------:|---------:|\n",
        "| 2015-01-01 00:00:00 | 41.151 |   0.1566 |    0.703  |       0 |      nan |\n",
        "| 2015-01-01 01:00:00 | 40.135 |   0.1659 |    0.6875 |       0 |      nan |\n",
        "| 2015-01-01 02:00:00 | 39.106 |   0.1746 |    0.6535 |       0 |      nan |\n",
        "| 2015-01-01 03:00:00 | 38.765 |   0.1745 |    0.6803 |       0 |      nan |\n",
        "| 2015-01-01 04:00:00 | 38.941 |   0.1826 |    0.7272 |       0 |      nan |"
      ]
    },
    {
      "cell_type": "markdown",
      "metadata": {
        "id": "Mz7f2QQSQBTp"
      },
      "source": [
        "And it should pass the following test:"
      ]
    },
    {
      "cell_type": "code",
      "execution_count": 89,
      "metadata": {
        "id": "spAJjUQrQBTp",
        "outputId": "495d2961-3193-4406-8b3d-24da6bf62852",
        "colab": {
          "base_uri": "https://localhost:8080/",
          "height": 169
        }
      },
      "outputs": [
        {
          "output_type": "error",
          "ename": "AssertionError",
          "evalue": "ignored",
          "traceback": [
            "\u001b[0;31m---------------------------------------------------------------------------\u001b[0m",
            "\u001b[0;31mAssertionError\u001b[0m                            Traceback (most recent call last)",
            "\u001b[0;32m<ipython-input-89-6e6cd811c144>\u001b[0m in \u001b[0;36m<module>\u001b[0;34m\u001b[0m\n\u001b[0;32m----> 1\u001b[0;31m \u001b[0;32massert\u001b[0m \u001b[0mtype\u001b[0m\u001b[0;34m(\u001b[0m\u001b[0mdf\u001b[0m\u001b[0;34m.\u001b[0m\u001b[0mindex\u001b[0m\u001b[0;34m)\u001b[0m \u001b[0;34m==\u001b[0m \u001b[0mpd\u001b[0m\u001b[0;34m.\u001b[0m\u001b[0mDatetimeIndex\u001b[0m\u001b[0;34m\u001b[0m\u001b[0;34m\u001b[0m\u001b[0m\n\u001b[0m",
            "\u001b[0;31mAssertionError\u001b[0m: "
          ]
        }
      ],
      "source": [
        "assert type(df.index) == pd.DatetimeIndex"
      ]
    },
    {
      "cell_type": "markdown",
      "metadata": {
        "id": "TitNnvvQQBTp"
      },
      "source": [
        "For each column:\n",
        "- What are the average, minimum and maximum values?\n",
        "- Find the time stamps where data on prices is missing.\n",
        "- Fill up the missing data with the prices observed one week ahead.\n",
        "- Plot the time series for the full year.\n",
        "- Plot the time series for the month May.\n",
        "- Resample the time series to daily, weeky, and monthly frequencies and plot the resulting time series in one graph.\n",
        "- Sort the values in descending order and plot the duration curve. *Hint: Run `.reset_index(drop=True)` to drop the index after sorting.*\n",
        "- Plot a histogram of the time series values.\n",
        "- Perform a Fourier transformation of the time series. What are the dominant frequencies? *Hint: Below you can find an example how Fourier transformation can be down with `numpy`.*\n",
        "- Calculate the Pearson correlation coefficients between all time series. *Hint: There is a function for that. Google for \"pandas dataframe correlation\".*"
      ]
    },
    {
      "cell_type": "code",
      "execution_count": 90,
      "metadata": {
        "tags": [],
        "id": "GABd-b5CQBTp",
        "outputId": "dd5b5e8b-7a96-4683-f7fc-78217ac71726",
        "colab": {
          "base_uri": "https://localhost:8080/",
          "height": 294
        }
      },
      "outputs": [
        {
          "output_type": "error",
          "ename": "AttributeError",
          "evalue": "ignored",
          "traceback": [
            "\u001b[0;31m---------------------------------------------------------------------------\u001b[0m",
            "\u001b[0;31mAttributeError\u001b[0m                            Traceback (most recent call last)",
            "\u001b[0;32m<ipython-input-90-4af2c1da75cc>\u001b[0m in \u001b[0;36m<module>\u001b[0;34m\u001b[0m\n\u001b[0;32m----> 1\u001b[0;31m \u001b[0mabs\u001b[0m\u001b[0;34m(\u001b[0m\u001b[0mpd\u001b[0m\u001b[0;34m.\u001b[0m\u001b[0mSeries\u001b[0m\u001b[0;34m(\u001b[0m\u001b[0mnp\u001b[0m\u001b[0;34m.\u001b[0m\u001b[0mfft\u001b[0m\u001b[0;34m.\u001b[0m\u001b[0mrfft\u001b[0m\u001b[0;34m(\u001b[0m\u001b[0mdf\u001b[0m\u001b[0;34m.\u001b[0m\u001b[0msolar\u001b[0m \u001b[0;34m-\u001b[0m \u001b[0mdf\u001b[0m\u001b[0;34m.\u001b[0m\u001b[0msolar\u001b[0m\u001b[0;34m.\u001b[0m\u001b[0mmean\u001b[0m\u001b[0;34m(\u001b[0m\u001b[0;34m)\u001b[0m\u001b[0;34m)\u001b[0m\u001b[0;34m,\u001b[0m \u001b[0mindex\u001b[0m\u001b[0;34m=\u001b[0m\u001b[0mnp\u001b[0m\u001b[0;34m.\u001b[0m\u001b[0mfft\u001b[0m\u001b[0;34m.\u001b[0m\u001b[0mrfftfreq\u001b[0m\u001b[0;34m(\u001b[0m\u001b[0mlen\u001b[0m\u001b[0;34m(\u001b[0m\u001b[0mdf\u001b[0m\u001b[0;34m.\u001b[0m\u001b[0msolar\u001b[0m\u001b[0;34m)\u001b[0m\u001b[0;34m,\u001b[0m \u001b[0md\u001b[0m\u001b[0;34m=\u001b[0m\u001b[0;36m1.\u001b[0m\u001b[0;34m/\u001b[0m\u001b[0;36m8760\u001b[0m\u001b[0;34m)\u001b[0m\u001b[0;34m)\u001b[0m\u001b[0;34m**\u001b[0m\u001b[0;36m2\u001b[0m\u001b[0;34m)\u001b[0m\u001b[0;34m\u001b[0m\u001b[0;34m\u001b[0m\u001b[0m\n\u001b[0m",
            "\u001b[0;32m/usr/local/lib/python3.7/dist-packages/pandas/core/generic.py\u001b[0m in \u001b[0;36m__getattr__\u001b[0;34m(self, name)\u001b[0m\n\u001b[1;32m   5485\u001b[0m         ):\n\u001b[1;32m   5486\u001b[0m             \u001b[0;32mreturn\u001b[0m \u001b[0mself\u001b[0m\u001b[0;34m[\u001b[0m\u001b[0mname\u001b[0m\u001b[0;34m]\u001b[0m\u001b[0;34m\u001b[0m\u001b[0;34m\u001b[0m\u001b[0m\n\u001b[0;32m-> 5487\u001b[0;31m         \u001b[0;32mreturn\u001b[0m \u001b[0mobject\u001b[0m\u001b[0;34m.\u001b[0m\u001b[0m__getattribute__\u001b[0m\u001b[0;34m(\u001b[0m\u001b[0mself\u001b[0m\u001b[0;34m,\u001b[0m \u001b[0mname\u001b[0m\u001b[0;34m)\u001b[0m\u001b[0;34m\u001b[0m\u001b[0;34m\u001b[0m\u001b[0m\n\u001b[0m\u001b[1;32m   5488\u001b[0m \u001b[0;34m\u001b[0m\u001b[0m\n\u001b[1;32m   5489\u001b[0m     \u001b[0;32mdef\u001b[0m \u001b[0m__setattr__\u001b[0m\u001b[0;34m(\u001b[0m\u001b[0mself\u001b[0m\u001b[0;34m,\u001b[0m \u001b[0mname\u001b[0m\u001b[0;34m:\u001b[0m \u001b[0mstr\u001b[0m\u001b[0;34m,\u001b[0m \u001b[0mvalue\u001b[0m\u001b[0;34m)\u001b[0m \u001b[0;34m->\u001b[0m \u001b[0;32mNone\u001b[0m\u001b[0;34m:\u001b[0m\u001b[0;34m\u001b[0m\u001b[0;34m\u001b[0m\u001b[0m\n",
            "\u001b[0;31mAttributeError\u001b[0m: 'DataFrame' object has no attribute 'solar'"
          ]
        }
      ],
      "source": [
        "abs(pd.Series(np.fft.rfft(df.solar - df.solar.mean()), index=np.fft.rfftfreq(len(df.solar), d=1./8760))**2)"
      ]
    },
    {
      "cell_type": "code",
      "execution_count": null,
      "metadata": {
        "id": "7xYVM6b7QBTp"
      },
      "outputs": [],
      "source": [
        "# your code here"
      ]
    }
  ],
  "metadata": {
    "kernelspec": {
      "display_name": "Python 3 (ipykernel)",
      "language": "python",
      "name": "python3"
    },
    "language_info": {
      "codemirror_mode": {
        "name": "ipython",
        "version": 3
      },
      "file_extension": ".py",
      "mimetype": "text/x-python",
      "name": "python",
      "nbconvert_exporter": "python",
      "pygments_lexer": "ipython3",
      "version": "3.9.13"
    },
    "vscode": {
      "interpreter": {
        "hash": "3dbeba6011cecc2c49b5c018fffe2544bd8d2e61881820091494f4a582a08f2d"
      }
    },
    "colab": {
      "provenance": []
    }
  },
  "nbformat": 4,
  "nbformat_minor": 0
}